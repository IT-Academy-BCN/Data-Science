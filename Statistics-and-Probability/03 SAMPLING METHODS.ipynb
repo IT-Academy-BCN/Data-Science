{
 "cells": [
  {
   "attachments": {
    "IT%20Logo.png": {
     "image/png": "[encoded data removed]"
    }
   },
   "cell_type": "markdown",
   "metadata": {},
   "source": [
    "![IT%20Logo.png](attachment:IT%20Logo.png)"
   ]
  },
  {
   "cell_type": "markdown",
   "metadata": {},
   "source": [
    "<div class=\"alert alert-block alert-info\"><font size=\"5\"><center><b><u>Statistical Foundations for Data Scientist</u></b></center></font>\n",
    "\n",
    "\\begin{align*}Alex\\:Kumenius\\end{align*}\n",
    "\\begin{align*}Business\\hspace{2mm}Intelligence\\hspace{2mm}and\\hspace{2mm}Data\\hspace{2mm}Scientist\\hspace{2mm}Project\\hspace{2mm}Integrator\\end{align*}\n",
    "$%$       \n",
    "\\begin{align*}Date : October\\hspace{2mm}21st\\hspace{2mm}2020\\end{align*}</div>"
   ]
  },
  {
   "cell_type": "markdown",
   "metadata": {},
   "source": [
    "# <span style=color:darkblue><u>SAMPLING METHODS</u> - Random Variables</span>"
   ]
  },
  {
   "cell_type": "markdown",
   "metadata": {},
   "source": [
    "We call a <span style=color:blue>variable or process</span> with a **numerical outcome** a <span style=color:blue><b><u>Random Variable</u></b></span>, and we represent this <span style=color:blue><b><u>Random Variable</u></b></span> with a capital letter such as $X$, $Y$, or $Z$. The possible **outcomes** of $X$ are labeled with a corresponding <span style=color:blue>lower case letter $x$ and subscripts</span>.\n",
    "\n",
    "<span style=color:red>The amount of money a single student will spend on her statistics books is a random variable, and we represent it by $X$</span>."
   ]
  },
  {
   "cell_type": "markdown",
   "metadata": {},
   "source": [
    "When we computed the <span style=color:blue>average outcome</span> of $X$, we call this average the <span style=color:blue><b>expected value of $X$</b></span>, denoted by <span style=color:blue><b>$E(X)$</b></span>. The <span style=color:blue><i>expected value of a random variable</i></span> is computed by <b>adding</b> each outcome <span style=color:blue><b>weighted - ponderado</b></span> by its <span style=color:blue>probability</span>."
   ]
  },
  {
   "cell_type": "markdown",
   "metadata": {},
   "source": [
    "<div class=\"alert alert-warning alert-warning\"><b><u>Expected Value of a Discrete Random Variable</u></b>   \n",
    "\n",
    "If $X$ takes outcomes $x_1$, ..., $x_k$ with probabilities $P(X\\:=\\:x_1)$, ..., $P(X\\:=\\:x_k)$, the <b>expected value</b> of $X$ is the sum of each outcome multiplied by its corresponding probability:\n",
    "\n",
    "\n",
    "\n",
    "\\begin{align*}E(X)\\hspace{2mm}=\\hspace{2mm}x_1\\hspace{2mm}*\\hspace{2mm}P(X\\hspace{2mm}=\\hspace{2mm}x_1)\\hspace{2mm}+\\hspace{2mm}...\\hspace{2mm}+\\hspace{2mm}x_k\\hspace{2mm}*\\hspace{2mm}P(X\\hspace{2mm}=\\hspace{2mm}x_k)\\end{align*}   \n",
    "\n",
    "$%$   \n",
    "The $Greek$ letter $\\mu$ may be used in place of the notation $E(X)$.</div>"
   ]
  },
  {
   "cell_type": "markdown",
   "metadata": {},
   "source": [
    "## <span style=color:darkgreen>SAMPLING WITHOUT REPLACEMENT</span>"
   ]
  },
  {
   "cell_type": "markdown",
   "metadata": {},
   "source": [
    "<div class=\"alert alert-warning alert-warning\">When a <b>sampling unit</b> is drawn from a <b>finite population</b> and is <b><u>NOT</u> returned to that population</b>, after its characteristic(s) have been recorded, before the next unit is drawn, the <b>sampling</b> is said to be <b><u>“without replacement”</u></b>.</div>"
   ]
  },
  {
   "cell_type": "markdown",
   "metadata": {},
   "source": [
    "## <span style=color:darkgreen>SAMPLING WITH REPLACEMENT</span>"
   ]
  },
  {
   "cell_type": "markdown",
   "metadata": {},
   "source": [
    "<div class=\"alert alert-warning alert-warning\">When a <b>sampling unit</b> is drawn from a <b>finite population</b> and is <b>returned to that population</b>, after its characteristic(s) have been recorded, before the next unit is drawn, the <b>sampling</b> is said to be <b><u>“with replacement”</u></b>.</div>"
   ]
  },
  {
   "cell_type": "markdown",
   "metadata": {},
   "source": [
    "# <span style=color:darkblue>SAMPLING FROM A SMALL POPULATION</span>"
   ]
  },
  {
   "cell_type": "markdown",
   "metadata": {},
   "source": [
    "If we <span style=color:blue>sample</span> from a <span style=color:blue>small population <b><u>WITHOUT replacement</u></b></span>, we no longer have <span style=color:blue>independence</span>, <i>a case is included in a sample, <b>if does not provide useful information</b> about which other cases are included,</i> between our <b>observations</b>.\n",
    "\n",
    "* the <span style=color:blue>probability of <b>not being picked</b></span> for a <i>second draw</i> is condition on the event that it was <b>not picked</b> for the <i>first draw</i>.   \n",
    "\n",
    "However, that's not the case if we <span style=color:blue>sample from a small population <b><u>WITH replacement</u></b></span>:$\\:$ We repeatedly sample the entire <b>population</b> without regard to which <b>observation</b> we already selected."
   ]
  },
  {
   "cell_type": "markdown",
   "metadata": {},
   "source": [
    "<div class=\"alert alert-warning alert-warning\">When the <span style=color:blue>sample size</span> is only a <b><u>small fraction</u></b> of the <span style=color:blue><b>population (under 10%)</b></span>, observations are <b>nearly independent</b> even when <b><u>sampling without replacement</u></b></div>."
   ]
  },
  {
   "cell_type": "markdown",
   "metadata": {},
   "source": [
    "# <SPAN style=color:darkblue>RANDOM SAMPLING METHODS</SPAN>"
   ]
  },
  {
   "cell_type": "markdown",
   "metadata": {},
   "source": [
    "Statistical methods are based on the notion of <span style=color:blue><b>implied randomness</b></span>. If <span style=color:blue><b>observational data</b></span> are not collected in a <span style=color:blue>random</span> framework from a <span style=color:blue><b>population</b></span>, these statistical methods – the <span style=color:blue><b><u><i>estimates and errors</i></u></b></span> associated with the estimates – <span style=color:red><u>**are not reliable**</u></span>."
   ]
  },
  {
   "cell_type": "markdown",
   "metadata": {},
   "source": [
    "Sampling takes on <span style=color:blue>two forms in statistics</span>:\n",
    "\n",
    "- <span style=color:blue><b><u>Probability sampling</u></b></span> uses random sampling techniques to create a sample.\n",
    "- <span style=color:blue><b><u>Non-probability sampling</u></b></span> techniques use non-random processes like researcher judgment or convenience sampling."
   ]
  },
  {
   "cell_type": "markdown",
   "metadata": {},
   "source": [
    "## <SPAN style=color:darkgreen>PROBABILITY SAMPLING</SPAN>"
   ]
  },
  {
   "cell_type": "markdown",
   "metadata": {},
   "source": [
    "<span style=color:blue><b>Probability sampling</b></span> is based on the fact that <span style=color:blue>every member of a population has a known and equal chance of being selected</span>.  <span style=color:blue><b>Probability sampling</b></span> gives us the best chance to create a sample that is <span style=color:blue><b>truly representative of the population</b></span>."
   ]
  },
  {
   "cell_type": "markdown",
   "metadata": {},
   "source": [
    "we consider four <span style=color:blue><b><i>random sampling techniques</i></b></span> :\n",
    "\n",
    "1. <span style=color:blue>Simple,</span>\n",
    "2. <span style=color:blue>Stratified,</span>\n",
    "3. <span style=color:blue>Cluster,</span>\n",
    "4. <span style=color:blue>Multistage sampling</span>."
   ]
  },
  {
   "cell_type": "markdown",
   "metadata": {},
   "source": [
    "### <SPAN style=color:darkred>Simple Random Sampling</SPAN>"
   ]
  },
  {
   "cell_type": "markdown",
   "metadata": {},
   "source": [
    "<div class=\"alert alert-warning alert-warning\">In general, a <span style=color:blue>sample</span> is referred to a <span style=color:blue>Simple Random Sampling</span>  if each <b>case</b> in the population has an <b>equal chance</b> of being <b>included in the final sample</b> and knowing that a <b>case</b> is included in a sample, <b>if does not provide useful information</b> about which other <b>cases</b> are included.</div>"
   ]
  },
  {
   "attachments": {
    "SimpleRandomSampling.gif": {
     "image/gif": "[encoded data removed]"
    }
   },
   "cell_type": "markdown",
   "metadata": {},
   "source": [
    "![SimpleRandomSampling.gif](attachment:SimpleRandomSampling.gif)"
   ]
  },
  {
   "cell_type": "markdown",
   "metadata": {},
   "source": [
    "<span style=color:blue>Simple Random Sampling</span> is probably the most intuitive form of <span style=color:blue>random sampling</span>."
   ]
  },
  {
   "cell_type": "code",
   "execution_count": null,
   "metadata": {
    "ExecuteTime": {
     "end_time": "2020-10-26T17:07:42.506947Z",
     "start_time": "2020-10-26T17:07:42.502952Z"
    }
   },
   "outputs": [],
   "source": [
    "import random"
   ]
  },
  {
   "cell_type": "code",
   "execution_count": null,
   "metadata": {
    "ExecuteTime": {
     "end_time": "2020-10-26T17:07:42.533876Z",
     "start_time": "2020-10-26T17:07:42.517911Z"
    }
   },
   "outputs": [],
   "source": [
    "population = [2,5,7,8,9]\n",
    "k = 2\n",
    "random.sample(population, k)"
   ]
  },
  {
   "cell_type": "code",
   "execution_count": null,
   "metadata": {
    "ExecuteTime": {
     "end_time": "2020-10-26T17:07:42.551820Z",
     "start_time": "2020-10-26T17:07:42.542846Z"
    }
   },
   "outputs": [],
   "source": [
    "type(population)"
   ]
  },
  {
   "cell_type": "markdown",
   "metadata": {},
   "source": [
    "- Members of the list <span style=color:red><b>need not be</b> hashable or unique</span>, and it allows duplicate entries. \n",
    "- <b>k</b> must be less than the size of the list.   \n",
    "- The <span style=color:blue>population</span> can be any sequence or set from which you want to select a <b>k</b> length numbers.    \n",
    "The sequence can be string, List.   \n",
    "$%$   \n",
    "<center><span style=color:blue><b><em>If the list contains repeats, then each occurrence is a possible selection in the sample</em></b></span>.</center>"
   ]
  },
  {
   "cell_type": "code",
   "execution_count": null,
   "metadata": {
    "ExecuteTime": {
     "end_time": "2020-10-26T17:07:42.614652Z",
     "start_time": "2020-10-26T17:07:42.608668Z"
    }
   },
   "outputs": [],
   "source": [
    "population=[2,5,2,8,2]\n",
    "k = 3\n",
    "random.sample(population, k)"
   ]
  },
  {
   "cell_type": "code",
   "execution_count": null,
   "metadata": {
    "ExecuteTime": {
     "end_time": "2020-10-26T17:07:42.647568Z",
     "start_time": "2020-10-26T17:07:42.625623Z"
    }
   },
   "outputs": [],
   "source": [
    "population=[2,5,2,8,2]\n",
    "k=3\n",
    "np.random.choice(population, k, replace=False)"
   ]
  },
  {
   "cell_type": "markdown",
   "metadata": {},
   "source": [
    "<span style=color:red><b><u>EXERCISE - 4.4</u></b></span> \n",
    "\n",
    "Lets consider the salaries of the<span style=color:blue> Major League Baseball (MLB) players</span> dataset, where each player is a member of one of the league’s **30 teams**. To take a <span style=color:blue>simple random sample</span> of **120 baseball players** and their salaries from the 2010 season, we could write the names of that season’s **828 players** onto slips of paper, drop the slips into a bucket, shake the bucket around until we are sure the names are all mixed up, then draw out slips until we have the sample of **120 players**."
   ]
  },
  {
   "cell_type": "code",
   "execution_count": null,
   "metadata": {
    "ExecuteTime": {
     "end_time": "2020-10-30T08:55:51.047105Z",
     "start_time": "2020-10-30T08:55:47.147491Z"
    }
   },
   "outputs": [],
   "source": [
    "import os\n",
    "import pandas as pd\n",
    "import numpy as np\n",
    "import seaborn as sns\n",
    "import warnings\n",
    "import matplotlib.pyplot as plt\n",
    "import timeit\n",
    "import random\n",
    "\n",
    "warnings.filterwarnings(\"ignore\")"
   ]
  },
  {
   "cell_type": "code",
   "execution_count": null,
   "metadata": {
    "ExecuteTime": {
     "end_time": "2020-10-26T17:07:45.932116Z",
     "start_time": "2020-10-26T17:07:45.854321Z"
    }
   },
   "outputs": [],
   "source": [
    "# load dataset\n",
    "MLB = pd.read_csv('D:\\\\Documents\\\\EureCat\\\\Formacion\\\\Eurecat 2019\\\\BTS\\\\Datasets\\\\MLB.txt', encoding='utf-8', sep='\\t')"
   ]
  },
  {
   "cell_type": "code",
   "execution_count": null,
   "metadata": {
    "ExecuteTime": {
     "end_time": "2020-10-26T17:07:45.966020Z",
     "start_time": "2020-10-26T17:07:45.940093Z"
    },
    "scrolled": true
   },
   "outputs": [],
   "source": [
    "MLB.head()"
   ]
  },
  {
   "cell_type": "code",
   "execution_count": null,
   "metadata": {
    "ExecuteTime": {
     "end_time": "2020-10-26T17:07:45.980983Z",
     "start_time": "2020-10-26T17:07:45.973003Z"
    }
   },
   "outputs": [],
   "source": [
    "# ckeck dataset shape or dimension\n",
    "MLB.shape"
   ]
  },
  {
   "cell_type": "code",
   "execution_count": null,
   "metadata": {
    "ExecuteTime": {
     "end_time": "2020-10-26T17:07:46.000929Z",
     "start_time": "2020-10-26T17:07:45.983974Z"
    }
   },
   "outputs": [],
   "source": [
    "# show summary of Dataframe structure\n",
    "MLB.info()"
   ]
  },
  {
   "cell_type": "code",
   "execution_count": null,
   "metadata": {
    "ExecuteTime": {
     "end_time": "2020-10-26T17:07:46.010910Z",
     "start_time": "2020-10-26T17:07:46.003920Z"
    }
   },
   "outputs": [],
   "source": [
    "# show variable names\n",
    "MLB.columns"
   ]
  },
  {
   "cell_type": "code",
   "execution_count": null,
   "metadata": {
    "ExecuteTime": {
     "end_time": "2020-10-26T17:07:46.051793Z",
     "start_time": "2020-10-26T17:07:46.013894Z"
    }
   },
   "outputs": [],
   "source": [
    "# Detailed dataset summary statistics - Numeric variables (default)\n",
    "MLB.describe().round(2)"
   ]
  },
  {
   "cell_type": "code",
   "execution_count": null,
   "metadata": {
    "ExecuteTime": {
     "end_time": "2020-10-26T17:07:46.062763Z",
     "start_time": "2020-10-26T17:07:46.054785Z"
    }
   },
   "outputs": [],
   "source": [
    "MLB['salary'].mean().round(2), MLB['salary'].std().round(2)"
   ]
  },
  {
   "cell_type": "code",
   "execution_count": null,
   "metadata": {
    "ExecuteTime": {
     "end_time": "2020-10-26T17:07:46.087696Z",
     "start_time": "2020-10-26T17:07:46.068747Z"
    }
   },
   "outputs": [],
   "source": [
    "# Find Maximun value of a column/variable and return the\n",
    "# corresponding row values (case or observation):\n",
    "\n",
    "MLB[MLB['salary'] == MLB['salary'].max()]"
   ]
  },
  {
   "cell_type": "code",
   "execution_count": null,
   "metadata": {
    "ExecuteTime": {
     "end_time": "2020-10-26T17:07:46.119610Z",
     "start_time": "2020-10-26T17:07:46.090688Z"
    }
   },
   "outputs": [],
   "source": [
    "MLB[MLB['salary'] == MLB['salary'].min()].head()"
   ]
  },
  {
   "cell_type": "code",
   "execution_count": null,
   "metadata": {
    "ExecuteTime": {
     "end_time": "2020-10-26T17:07:46.141553Z",
     "start_time": "2020-10-26T17:07:46.123600Z"
    }
   },
   "outputs": [],
   "source": [
    "# Counting histogram\n",
    "MLB.salary.value_counts().sort_index().head()"
   ]
  },
  {
   "cell_type": "code",
   "execution_count": null,
   "metadata": {
    "ExecuteTime": {
     "end_time": "2020-10-26T17:07:46.590861Z",
     "start_time": "2020-10-26T17:07:46.146539Z"
    }
   },
   "outputs": [],
   "source": [
    "# Plotting players POPULATION Salary\n",
    "\n",
    "MLB.hist(['salary'], bins=20)\n",
    "plt.title('POPULATION - Major League Baseball players’ salaries')\n",
    "plt.ylabel('Frequency')\n",
    "plt.xlabel('POPULATION - Salary (millions of dollars)')"
   ]
  },
  {
   "cell_type": "code",
   "execution_count": null,
   "metadata": {
    "ExecuteTime": {
     "end_time": "2020-10-26T17:07:46.619783Z",
     "start_time": "2020-10-26T17:07:46.594850Z"
    }
   },
   "outputs": [],
   "source": [
    "# Interpretar el histograma con los Resumenes estadísticos - Summary Statistics\n",
    "MLB.describe().round(2)"
   ]
  },
  {
   "cell_type": "code",
   "execution_count": null,
   "metadata": {
    "ExecuteTime": {
     "end_time": "2020-10-26T17:07:47.022710Z",
     "start_time": "2020-10-26T17:07:46.623772Z"
    }
   },
   "outputs": [],
   "source": [
    "sns.set(style=\"whitegrid\")\n",
    "ax = sns.boxplot(x=MLB[\"salary\"], color='lightblue', fliersize=5,  orient='v', linewidth=1 , width=0.3)\n",
    "ax = sns.stripplot(x=MLB[\"salary\"], orient='v', color='darkblue', alpha=0.1)\n",
    "plt.title('POPULATION - Major League Baseball players’ salaries')\n",
    "plt.xlabel('POPULATION - Salary (millions of dollars)')"
   ]
  },
  {
   "cell_type": "markdown",
   "metadata": {},
   "source": [
    "#### <span style=color:gray>Creating MLB Simple Random Sample</span>"
   ]
  },
  {
   "cell_type": "markdown",
   "metadata": {},
   "source": [
    "<span style=color:darkred><b>Collect a simple random subset of MLB of 120 cases or observations.</b></span>"
   ]
  },
  {
   "cell_type": "code",
   "execution_count": null,
   "metadata": {
    "ExecuteTime": {
     "end_time": "2020-10-26T17:07:47.040658Z",
     "start_time": "2020-10-26T17:07:47.025697Z"
    }
   },
   "outputs": [],
   "source": [
    "# Plotting Random Sample Population\n",
    "random.seed( 6 )\n",
    "\n",
    "k = 120\n",
    "dbSample = MLB.sample(k)\n",
    "dbSample.shape"
   ]
  },
  {
   "cell_type": "code",
   "execution_count": null,
   "metadata": {
    "ExecuteTime": {
     "end_time": "2020-10-26T17:07:47.062598Z",
     "start_time": "2020-10-26T17:07:47.046641Z"
    }
   },
   "outputs": [],
   "source": [
    "dbSample.head()"
   ]
  },
  {
   "cell_type": "code",
   "execution_count": null,
   "metadata": {
    "ExecuteTime": {
     "end_time": "2020-10-26T17:07:47.099500Z",
     "start_time": "2020-10-26T17:07:47.065591Z"
    }
   },
   "outputs": [],
   "source": [
    "dbSample.describe().round(3)"
   ]
  },
  {
   "cell_type": "code",
   "execution_count": null,
   "metadata": {
    "ExecuteTime": {
     "end_time": "2020-10-26T17:07:47.110469Z",
     "start_time": "2020-10-26T17:07:47.102493Z"
    }
   },
   "outputs": [],
   "source": [
    "dbSample['salary'].mean().round(3)"
   ]
  },
  {
   "cell_type": "code",
   "execution_count": null,
   "metadata": {
    "ExecuteTime": {
     "end_time": "2020-10-26T17:07:47.551429Z",
     "start_time": "2020-10-26T17:07:47.113462Z"
    }
   },
   "outputs": [],
   "source": [
    "dbSample.hist(['salary'], bins=20)\n",
    "plt.title('SAMPLE - MLB players’ salaries - Random Sample k=120')\n",
    "plt.ylabel('Frequency')\n",
    "plt.xlabel('SAMPLE - Salary (millions of dollars)')"
   ]
  },
  {
   "cell_type": "code",
   "execution_count": null,
   "metadata": {
    "ExecuteTime": {
     "end_time": "2020-10-26T17:09:00.306524Z",
     "start_time": "2020-10-26T17:08:59.481015Z"
    }
   },
   "outputs": [],
   "source": [
    "#fig = plt.figure(figsize=(14,4))\n",
    "\n",
    "ax1 = fig.add_subplot(2, 1, 1)\n",
    "\n",
    "# Plot\n",
    "ax1 = MLB.hist(['salary'], bins=20)\n",
    "plt.title('POPULATION - Major League Baseball players’ salaries')\n",
    "plt.ylabel('Frequency')\n",
    "plt.xlabel('POPULATION - Salary (millions of dollars)')\n",
    "\n",
    "ax2 = fig.add_subplot(2, 1, 2)\n",
    "\n",
    "# Plot\n",
    "ax2 = dbSample.hist(['salary'], bins=20)\n",
    "plt.title('SAMPLE - MLB players’ salaries - Random Sample k=120')\n",
    "plt.ylabel('Frequency')\n",
    "plt.xlabel('SAMPLE - Salary (millions of dollars)')"
   ]
  },
  {
   "cell_type": "code",
   "execution_count": null,
   "metadata": {
    "ExecuteTime": {
     "end_time": "2020-10-26T17:09:06.149345Z",
     "start_time": "2020-10-26T17:09:05.889041Z"
    }
   },
   "outputs": [],
   "source": [
    "sns.set(style=\"whitegrid\")\n",
    "ax = sns.boxplot(x=dbSample[\"salary\"], color='lightblue', fliersize=5,  orient='v', linewidth=1 , width=0.3)\n",
    "ax = sns.stripplot(x=dbSample[\"salary\"], orient='v', color='darkblue', alpha=0.1)\n",
    "plt.title('SAMPLE - Major League Baseball players’ salaries')\n",
    "plt.xlabel('Salary (millions of dollars)')"
   ]
  },
  {
   "cell_type": "code",
   "execution_count": null,
   "metadata": {
    "ExecuteTime": {
     "end_time": "2020-10-26T17:09:06.790528Z",
     "start_time": "2020-10-26T17:09:06.153335Z"
    }
   },
   "outputs": [],
   "source": [
    "fig = plt.figure(figsize=(12,4))\n",
    "\n",
    "ax1 = fig.add_subplot(1, 2, 1)\n",
    "\n",
    "# Plot\n",
    "sns.set(style=\"whitegrid\")\n",
    "ax1 = sns.boxplot(x=MLB[\"salary\"], color='lightblue', fliersize=5,  orient='v', linewidth=1 , width=0.3, notch=True)\n",
    "ax1 = sns.stripplot(x=MLB[\"salary\"], orient='v', color='darkblue', alpha=0.2)\n",
    "plt.title('POPULATION - Major League Baseball players’ salaries')\n",
    "plt.xlabel('POPULATION - Salary (millions of dollars)')\n",
    "\n",
    "ax2 = fig.add_subplot(1, 2, 2)\n",
    "\n",
    "# Plot\n",
    "sns.set(style=\"whitegrid\")\n",
    "ax2 = sns.boxplot(x=dbSample[\"salary\"], color='lightblue', fliersize=5,  orient='v', linewidth=1 , width=0.3, notch=True)\n",
    "ax2 = sns.stripplot(x=dbSample[\"salary\"], orient='v', color='darkblue', alpha=0.2)\n",
    "plt.title('SAMPLE - Major League Baseball players’ salaries')\n",
    "plt.xlabel('SAMPLE - Salary (millions of dollars) - Rand Samp k=120')"
   ]
  },
  {
   "cell_type": "code",
   "execution_count": null,
   "metadata": {
    "ExecuteTime": {
     "end_time": "2020-10-26T17:09:06.812979Z",
     "start_time": "2020-10-26T17:09:06.795516Z"
    }
   },
   "outputs": [],
   "source": [
    "dbSample.head()"
   ]
  },
  {
   "cell_type": "markdown",
   "metadata": {},
   "source": [
    "### <span style=color:darkred>Stratified Random Sampling</span>"
   ]
  },
  {
   "cell_type": "markdown",
   "metadata": {},
   "source": [
    "<div class=\"alert alert-warning alert-warning\"><span style=color:blue><b><u>Stratified Random Sampling</u></b></span> is a divide-and-conquer sampling strategy. The population is divided into groups called <span style=color:blue>strata</span>. The <span style=color:blue>strata</span> are chosen so that similar cases are grouped together, then a second sampling method, usually <span style=color:blue>simple random sampling</span>, is employed within each <span style=color:blue><b>stratum</b></span>.</div>"
   ]
  },
  {
   "attachments": {
    "StratifiedRandomSampling.gif": {
     "image/gif": "[encoded data removed]"
    }
   },
   "cell_type": "markdown",
   "metadata": {},
   "source": [
    "![StratifiedRandomSampling.gif](attachment:StratifiedRandomSampling.gif)"
   ]
  },
  {
   "cell_type": "markdown",
   "metadata": {},
   "source": [
    "<span style=color:blue>Stratified sampling</span> is especially useful when the cases in each stratum are very similar with respect to the outcome of interest. Analyzing data from a <span style=color:blue>Stratified Sample</span> is a more complex task than analyzing data from a <span style=color:blue>Simple Random Sample</span>."
   ]
  },
  {
   "cell_type": "code",
   "execution_count": null,
   "metadata": {
    "ExecuteTime": {
     "end_time": "2020-10-26T17:09:06.844403Z",
     "start_time": "2020-10-26T17:09:06.816969Z"
    }
   },
   "outputs": [],
   "source": [
    "MLB.head()"
   ]
  },
  {
   "cell_type": "code",
   "execution_count": null,
   "metadata": {
    "ExecuteTime": {
     "end_time": "2020-10-26T17:09:07.060835Z",
     "start_time": "2020-10-26T17:09:06.849391Z"
    }
   },
   "outputs": [],
   "source": [
    "# Importing \n",
    "from sklearn.model_selection import train_test_split"
   ]
  },
  {
   "cell_type": "markdown",
   "metadata": {},
   "source": [
    "<span style=color:red><b><u>EXERCISE - 4.5</u></b></span> \n",
    "\n",
    "<span style=color:darkred><b><u>How would we create a Stratified sampling from the MLB dataset?</u></b></span>"
   ]
  },
  {
   "cell_type": "code",
   "execution_count": null,
   "metadata": {
    "ExecuteTime": {
     "end_time": "2020-10-26T17:09:07.115691Z",
     "start_time": "2020-10-26T17:09:07.063828Z"
    },
    "scrolled": true
   },
   "outputs": [],
   "source": [
    "# How does build a Stratified Sampling strategy\n",
    "\n",
    "MLBStratified = MLB.groupby('position', group_keys = True).apply(pd.DataFrame.sample, frac=.145)\n",
    "MLBStratified.head()"
   ]
  },
  {
   "cell_type": "code",
   "execution_count": null,
   "metadata": {
    "ExecuteTime": {
     "end_time": "2020-10-26T17:09:07.126659Z",
     "start_time": "2020-10-26T17:09:07.118682Z"
    }
   },
   "outputs": [],
   "source": [
    "type(MLBStratified)"
   ]
  },
  {
   "cell_type": "code",
   "execution_count": null,
   "metadata": {
    "ExecuteTime": {
     "end_time": "2020-10-26T17:09:07.156580Z",
     "start_time": "2020-10-26T17:09:07.130649Z"
    }
   },
   "outputs": [],
   "source": [
    "MLBStratified.describe().round()"
   ]
  },
  {
   "cell_type": "code",
   "execution_count": null,
   "metadata": {
    "ExecuteTime": {
     "end_time": "2020-10-26T17:09:07.167549Z",
     "start_time": "2020-10-26T17:09:07.159571Z"
    }
   },
   "outputs": [],
   "source": [
    "MLBStratified.position.unique()"
   ]
  },
  {
   "cell_type": "code",
   "execution_count": null,
   "metadata": {
    "ExecuteTime": {
     "end_time": "2020-10-26T17:09:07.176526Z",
     "start_time": "2020-10-26T17:09:07.170542Z"
    }
   },
   "outputs": [],
   "source": [
    "MLBStratified.shape"
   ]
  },
  {
   "cell_type": "code",
   "execution_count": null,
   "metadata": {
    "ExecuteTime": {
     "end_time": "2020-10-26T17:09:07.186500Z",
     "start_time": "2020-10-26T17:09:07.179518Z"
    }
   },
   "outputs": [],
   "source": [
    "MLBStratified.salary.mean().round(2)"
   ]
  },
  {
   "cell_type": "code",
   "execution_count": null,
   "metadata": {
    "ExecuteTime": {
     "end_time": "2020-10-26T17:09:07.224398Z",
     "start_time": "2020-10-26T17:09:07.189492Z"
    }
   },
   "outputs": [],
   "source": [
    "# Extract group stratified MLB set all Third Baseman hold in position variable\n",
    "\n",
    "MLB3Baseman = MLBStratified[MLBStratified['position'] == 'Third Baseman']\n",
    "MLB3Baseman"
   ]
  },
  {
   "cell_type": "code",
   "execution_count": null,
   "metadata": {
    "ExecuteTime": {
     "end_time": "2020-10-26T17:09:07.236366Z",
     "start_time": "2020-10-26T17:09:07.227390Z"
    }
   },
   "outputs": [],
   "source": [
    "MLB3Baseman.salary.mean().round(2), MLB3Baseman.salary.std().round(2)"
   ]
  },
  {
   "cell_type": "code",
   "execution_count": null,
   "metadata": {
    "ExecuteTime": {
     "end_time": "2020-10-26T17:09:07.260303Z",
     "start_time": "2020-10-26T17:09:07.239358Z"
    }
   },
   "outputs": [],
   "source": [
    "MLBStratified.info()"
   ]
  },
  {
   "cell_type": "code",
   "execution_count": null,
   "metadata": {
    "ExecuteTime": {
     "end_time": "2020-10-26T17:10:07.601920Z",
     "start_time": "2020-10-26T17:10:07.521136Z"
    }
   },
   "outputs": [],
   "source": [
    "MLB.pivot_table(index='team', columns='position').round(2)"
   ]
  },
  {
   "cell_type": "markdown",
   "metadata": {},
   "source": [
    "<span style=color:red><b><u>EXERCISE - 4.6</u></b></span> \n",
    "\n",
    "<span style=color:darkred><b><u>Creating Stratified Ramdom Samples (train - test) on MLB dataset</u></b></span>"
   ]
  },
  {
   "cell_type": "code",
   "execution_count": null,
   "metadata": {
    "ExecuteTime": {
     "end_time": "2020-10-26T17:09:07.388476Z",
     "start_time": "2020-10-26T17:09:07.376510Z"
    }
   },
   "outputs": [],
   "source": [
    "# Creating Stratified Ramdom Samples (train - test) on MLB dataset\n",
    "\n",
    "df_train, df_test = train_test_split(MLB, test_size=120, stratify = MLB['position'])"
   ]
  },
  {
   "cell_type": "code",
   "execution_count": null,
   "metadata": {
    "ExecuteTime": {
     "end_time": "2020-10-26T17:09:07.400457Z",
     "start_time": "2020-10-26T17:09:07.392467Z"
    }
   },
   "outputs": [],
   "source": [
    "df_test.shape, df_train.shape"
   ]
  },
  {
   "cell_type": "code",
   "execution_count": null,
   "metadata": {
    "ExecuteTime": {
     "end_time": "2020-10-26T17:09:07.435352Z",
     "start_time": "2020-10-26T17:09:07.410420Z"
    }
   },
   "outputs": [],
   "source": [
    "df_test.head()"
   ]
  },
  {
   "cell_type": "code",
   "execution_count": null,
   "metadata": {
    "ExecuteTime": {
     "end_time": "2020-10-26T17:09:07.463276Z",
     "start_time": "2020-10-26T17:09:07.439341Z"
    }
   },
   "outputs": [],
   "source": [
    "df_test.describe().round(2)"
   ]
  },
  {
   "cell_type": "markdown",
   "metadata": {},
   "source": [
    "<span style=color:green><em><b>Why would it be good for cases within each stratum to be very similar?</b></em></span>\n",
    "\n",
    "We might get a more <span style=color:blue>stable estimate for the subpopulation</span> in a <span style=color:blue>stratum</span> if the <span style=color:blue>cases are very similar</span>. These improved estimates for each subpopulation will help us build a <span style=color:blue>reliable estimate for the full population</span>."
   ]
  },
  {
   "cell_type": "code",
   "execution_count": null,
   "metadata": {
    "ExecuteTime": {
     "end_time": "2020-10-26T17:09:07.475244Z",
     "start_time": "2020-10-26T17:09:07.468269Z"
    }
   },
   "outputs": [],
   "source": [
    "df_test.columns"
   ]
  },
  {
   "cell_type": "code",
   "execution_count": null,
   "metadata": {
    "ExecuteTime": {
     "end_time": "2020-10-26T17:09:07.547032Z",
     "start_time": "2020-10-26T17:09:07.478237Z"
    }
   },
   "outputs": [],
   "source": [
    "# group by teams\n",
    "dbGS= MLB.groupby('team').apply(pd.DataFrame.sample, frac=0.145)\n",
    "dbGS.head(8)"
   ]
  },
  {
   "cell_type": "code",
   "execution_count": null,
   "metadata": {
    "ExecuteTime": {
     "end_time": "2020-10-26T17:09:07.556123Z",
     "start_time": "2020-10-26T17:09:07.550023Z"
    }
   },
   "outputs": [],
   "source": [
    "dbGS.shape"
   ]
  },
  {
   "cell_type": "markdown",
   "metadata": {},
   "source": [
    "### <span style=color:darkred>Cluster Random Sampling</span>"
   ]
  },
  {
   "cell_type": "markdown",
   "metadata": {},
   "source": [
    "<div class=\"alert alert-warning alert-warning\">In a <span style=color:blue><b><u>Cluster Random Sample</u></b></span>, we break up the population into many groups, called <span style=color:blue>clusters</span>. Then we <b>sample</b> a fixed number of <span style=color:blue>clusters</span> and include all <b>observations</b> from each of those <span style=color:blue>clusters</span> in the <b>sample</b>.</div>"
   ]
  },
  {
   "attachments": {
    "ClusterRandomSampling.gif": {
     "image/gif": "[encoded data removed]"
    }
   },
   "cell_type": "markdown",
   "metadata": {},
   "source": [
    "![ClusterRandomSampling.gif](attachment:ClusterRandomSampling.gif)"
   ]
  },
  {
   "cell_type": "markdown",
   "metadata": {},
   "source": [
    "<span style=color:blue>cluster</span> or <span style=color:blue>multistage sampling</span> can be more economical than the alternative sampling techniques. Also, unlike <span style=color:blue>stratified sampling</span>, these approaches are most helpful\n",
    "when there is a lot of <span style=color:blue>case-to-case variability</span> within a <span style=color:blue>cluster</span> but the clusters themselves don’t look very different from one another."
   ]
  },
  {
   "cell_type": "markdown",
   "metadata": {},
   "source": [
    "For example, if neighborhoods represented clusters, then cluster or multistage sampling work best when the neighborhoods are very diverse.   \n",
    "$%$   \n",
    "<center><span style=color:red><em>A downside of these methods is that more advanced analysis techniques are typically required</em></span>.</center>"
   ]
  },
  {
   "cell_type": "markdown",
   "metadata": {},
   "source": [
    "<span style=color:darkred><b><u>EXAMPLE</u></b></span> \n",
    "\n",
    "Suppose we are interested in estimating the malaria rate in a densely tropical portion of rural Indonesia. We learn that there are 30 villages in that part of the Indonesian jungle, each more or less similar to the next. Our goal is to test 150 individuals for malaria. \n",
    "\n",
    "***What sampling method should be employed?***"
   ]
  },
  {
   "cell_type": "markdown",
   "metadata": {},
   "source": [
    "<span style=color:darkGREEN><b><u>SOLUTION</u></b></span> \n",
    "\n",
    "\n",
    "1. <span style=color:blue>simple random sample</span> would likely draw individuals from all 30 villages, which could make data collection extremely expensive.   \n",
    "$%$\n",
    "2. <span style=color:blue>Stratified sampling</span> would be a challenge since it is unclear how we would build strata of similar individuals.   \n",
    "$%$\n",
    "3. However, <span style=color:blue>cluster sampling</span> or <span style=color:blue>multistage sampling</span> seem like very good ideas. If we decided to use multistage sampling, we might randomly select half of the villages, then randomly select 10 people from each. This would probably reduce our data collection costs substantially in comparison to a simple random sample, and this approach would still give us reliable information."
   ]
  },
  {
   "cell_type": "markdown",
   "metadata": {},
   "source": [
    "### <span style=color:darkred>Multistage Random Sampling</span>"
   ]
  },
  {
   "cell_type": "markdown",
   "metadata": {},
   "source": [
    "<div class=\"alert alert-warning alert-warning\">A <span style=color:blue><b><u>Multistage Random Sample</u></b></span> is like a <span style=color:blue>cluster sample</span>, but rather than keeping all <b>observations</b> in each <span style=color:blue>cluster</span>, we collect a <span style=color:blue>random sample</span> <b><u>within each</u></b> selected <span style=color:blue>cluster</span>.</div>"
   ]
  },
  {
   "attachments": {
    "MultistageRandomSampling.gif": {
     "image/gif": "[encoded data removed]"
    }
   },
   "cell_type": "markdown",
   "metadata": {},
   "source": [
    "![MultistageRandomSampling.gif](attachment:MultistageRandomSampling.gif)"
   ]
  },
  {
   "cell_type": "markdown",
   "metadata": {},
   "source": [
    "#### <span style=color:gray>Sample a Fraction of Each Group</span>"
   ]
  },
  {
   "cell_type": "markdown",
   "metadata": {},
   "source": [
    "You can use [GroupBy.apply](https://pandas.pydata.org/pandas-docs/stable/reference/api/pandas.core.groupby.GroupBy.apply.html) with [sample](https://pandas.pydata.org/pandas-docs/stable/reference/api/pandas.DataFrame.sample.html). You do not need to use a lambda; apply accepts keyword arguments:"
   ]
  },
  {
   "cell_type": "code",
   "execution_count": null,
   "metadata": {
    "ExecuteTime": {
     "end_time": "2020-10-26T17:09:08.199422Z",
     "start_time": "2020-10-26T17:09:08.192439Z"
    }
   },
   "outputs": [],
   "source": [
    "MLB.shape"
   ]
  },
  {
   "cell_type": "code",
   "execution_count": null,
   "metadata": {
    "ExecuteTime": {
     "end_time": "2020-10-26T17:09:08.261254Z",
     "start_time": "2020-10-26T17:09:08.207403Z"
    },
    "scrolled": true
   },
   "outputs": [],
   "source": [
    "MLB.groupby('team').apply(pd.DataFrame.sample, frac=.145).head(10)"
   ]
  },
  {
   "cell_type": "markdown",
   "metadata": {},
   "source": [
    "If the MultiIndex is not required, you may specify <span style=color:red>group_keys = <span style=color:green>False</span></span> to <span style=color:blue>groupby</span>:"
   ]
  },
  {
   "cell_type": "code",
   "execution_count": null,
   "metadata": {
    "ExecuteTime": {
     "end_time": "2020-10-26T17:09:08.378471Z",
     "start_time": "2020-10-26T17:09:08.330600Z"
    }
   },
   "outputs": [],
   "source": [
    "MLB.groupby('team', group_keys=False).apply(pd.DataFrame.sample, frac=.145).head(12)"
   ]
  },
  {
   "cell_type": "markdown",
   "metadata": {},
   "source": [
    "#### <span style=color:gray>Sample N rows from each group</span>"
   ]
  },
  {
   "cell_type": "markdown",
   "metadata": {},
   "source": [
    "<span style=color:blue>apply</span> is slow. If your use case is to sample a fixed number of rows, you can shuffle the DataFrame beforehand, then use <span style=color:blue>GroupBy.head</span>."
   ]
  },
  {
   "cell_type": "code",
   "execution_count": null,
   "metadata": {
    "ExecuteTime": {
     "end_time": "2020-10-26T17:09:08.547020Z",
     "start_time": "2020-10-26T17:09:08.525079Z"
    },
    "scrolled": true
   },
   "outputs": [],
   "source": [
    "random.seed(10)\n",
    "MLB_Shuffle=MLB.sample(frac=.01).groupby('team')\n",
    "MLB_Shuffle.head()"
   ]
  },
  {
   "cell_type": "code",
   "execution_count": null,
   "metadata": {
    "ExecuteTime": {
     "end_time": "2020-10-26T17:09:08.556994Z",
     "start_time": "2020-10-26T17:09:08.551010Z"
    }
   },
   "outputs": [],
   "source": [
    "len(MLB)*0.01"
   ]
  },
  {
   "cell_type": "code",
   "execution_count": null,
   "metadata": {
    "ExecuteTime": {
     "end_time": "2020-10-26T17:09:08.569960Z",
     "start_time": "2020-10-26T17:09:08.559986Z"
    }
   },
   "outputs": [],
   "source": [
    "MLB_Shuffle.size()"
   ]
  },
  {
   "cell_type": "code",
   "execution_count": null,
   "metadata": {
    "ExecuteTime": {
     "end_time": "2020-10-26T17:09:08.636781Z",
     "start_time": "2020-10-26T17:09:08.572952Z"
    }
   },
   "outputs": [],
   "source": [
    "MLB_apply = MLB.groupby('team').apply(pd.DataFrame.sample, n=5)  \n",
    "MLB_apply.head(10)"
   ]
  },
  {
   "cell_type": "code",
   "execution_count": null,
   "metadata": {
    "ExecuteTime": {
     "end_time": "2020-10-26T17:09:08.693629Z",
     "start_time": "2020-10-26T17:09:08.640771Z"
    }
   },
   "outputs": [],
   "source": [
    "MLB_apply1=MLB.groupby('team', group_keys=False).apply(pd.DataFrame.sample, n=4)  \n",
    "MLB_apply1.head()"
   ]
  },
  {
   "cell_type": "markdown",
   "metadata": {},
   "source": [
    "---"
   ]
  },
  {
   "cell_type": "markdown",
   "metadata": {},
   "source": [
    "# <span style=color:darkblue><b>Transforming Data to Log</b></span>"
   ]
  },
  {
   "cell_type": "markdown",
   "metadata": {},
   "source": [
    "When data are very <span style=color:blue>strongly skewed</span>, we sometimes <span style=color:blue><b><u>transform</u></b> them so they are easier to model.   \n",
    "\n",
    "Most of the data are collected into <b>one bin</b> in the histogram and the data are so <span style=color:blue>strongly skewed</span> that many details in the data are <b>obscured</b>."
   ]
  },
  {
   "cell_type": "markdown",
   "metadata": {},
   "source": [
    "<div class=\"alert alert-warning alert-warning\">There are some <span style=color:blue><b><u>standard transformations</u></b></span> that are often applied when much of the <span style=color:blue>data cluster near zero</span> (<i>relative to the larger values in the dataset</i>) and <span style=color:blue>all observations are positive</span>. A <span style=color:blue><b>transformation</b></span> is a <b>rescaling</b> of the data using a function.</div>"
   ]
  },
  {
   "cell_type": "markdown",
   "metadata": {},
   "source": [
    "Transformed data are sometimes easier to work with when applying statistical models\n",
    "because the transformed data are much less skewed and outliers are usually less extreme."
   ]
  },
  {
   "cell_type": "code",
   "execution_count": null,
   "metadata": {
    "ExecuteTime": {
     "end_time": "2020-10-30T08:55:59.333578Z",
     "start_time": "2020-10-30T08:55:59.246814Z"
    }
   },
   "outputs": [],
   "source": [
    "# Open the choosen file\n",
    "county = pd.read_csv('D:\\\\Documents\\\\EureCat\\\\Formacion\\\\Eurecat 2019\\\\BTS\\\\Datasets\\\\county.txt', sep='\\t', encoding='utf-8')"
   ]
  },
  {
   "cell_type": "code",
   "execution_count": null,
   "metadata": {
    "ExecuteTime": {
     "end_time": "2020-10-30T08:56:03.115872Z",
     "start_time": "2020-10-30T08:56:02.842549Z"
    }
   },
   "outputs": [],
   "source": [
    "# Create data\n",
    "x = county.fed_spend\n",
    "y = county.poverty\n",
    "colors = 'Blue'\n",
    "area = np.pi*5\n",
    "\n",
    "plt.axis([0, 100, 0, 40])\n",
    "\n",
    "# Plot\n",
    "plt.scatter(x, y, s=area, c=colors, alpha=0.4, edgecolors='black')\n",
    "\n",
    "plt.title('Federal Spending vs Poverty by County')\n",
    "plt.ylabel('Poverty Rate (Percent)')\n",
    "plt.xlabel('Federal Spending per Capita')\n",
    "plt.show()"
   ]
  },
  {
   "cell_type": "code",
   "execution_count": null,
   "metadata": {
    "ExecuteTime": {
     "end_time": "2020-10-26T17:09:10.924440Z",
     "start_time": "2020-10-26T17:09:09.551843Z"
    }
   },
   "outputs": [],
   "source": [
    "fig = plt.figure(figsize=(15,4))\n",
    "\n",
    "ax1 = fig.add_subplot(1, 2, 1)\n",
    "\n",
    "# Create data\n",
    "x = county.fed_spend\n",
    "y = county.poverty\n",
    "colors = 'Blue'\n",
    "area = np.pi*5\n",
    "\n",
    "plt.axis([0, 100, 0, 60])\n",
    "\n",
    "# Plot\n",
    "ax1.scatter(x, y, s=area, c=colors, alpha=0.4, edgecolors='black')\n",
    "\n",
    "plt.title('Federal Spending vs Poverty by County')\n",
    "plt.ylabel('Federal Spending per Capita')\n",
    "plt.xlabel('Poverty Rate (Percent)')\n",
    "\n",
    "ax2 = fig.add_subplot(1, 2, 2)\n",
    "\n",
    "plt.axis([0, 5, 0, 5])\n",
    "\n",
    "# Transforming data into log\n",
    "x = np.array(np.log(county.fed_spend))\n",
    "y = np.array(np.log(county.poverty)) \n",
    "colors = 'Blue'\n",
    "area = np.pi*5\n",
    "\n",
    "# Plot\n",
    "plt.scatter(x, y, s=area, c=colors, alpha=0.4, edgecolors='black')\n",
    "\n",
    "plt.title('$log_{e}$ Federal Spending vs Poverty by County')\n",
    "plt.ylabel('$log_{e}$ (Federal Spending per Capita)')\n",
    "plt.xlabel('$log_{e}$(Poverty Rate)')"
   ]
  },
  {
   "cell_type": "markdown",
   "metadata": {},
   "source": [
    "Transformations can also be applied to one or both variables in a scatterplot.    \n",
    "\n",
    "We can see a positive association between the variables and that many observations are clustered near zero. However, we’ll find that the data in their current state cannot be modeled very well. \n",
    "\n",
    "Common goals in transforming data are to see the data structure differently, reduce skew, assist in modeling, or straighten a nonlinear relationship in a scatterplot."
   ]
  },
  {
   "cell_type": "markdown",
   "metadata": {},
   "source": [
    "The <span style=color:blue>scatterplot</span> where both the <b>fed_spending</b> and <b>poverty</b> variables have been transformed using a log (base e) transformation.\n",
    "\n",
    "While there is a positive association in each plot, the transformed data show a steadier\n",
    "trend, which is easier to model than the untransformed data.   "
   ]
  },
  {
   "cell_type": "markdown",
   "metadata": {},
   "source": [
    "<span style=color:red><b><u>EXERCISE - 4.7</u></b></span> \n",
    "\n",
    "<span style=color:darkred><b><u>Transform 'Salary's Histogram' from MLB dataset to</u> $log_{e}$</b></span>"
   ]
  },
  {
   "cell_type": "code",
   "execution_count": null,
   "metadata": {
    "ExecuteTime": {
     "end_time": "2020-10-26T17:09:11.621890Z",
     "start_time": "2020-10-26T17:09:10.927431Z"
    }
   },
   "outputs": [],
   "source": [
    "fig = plt.figure(figsize=(10,5))\n",
    "\n",
    "ax1 = fig.add_subplot(1, 2, 1)\n",
    "\n",
    "ax1.hist(MLB['salary'], bins=9)\n",
    "#ax1.hist(MLB['salary'])\n",
    "\n",
    "plt.title('MLB Salary')\n",
    "plt.ylabel('Frequency')\n",
    "plt.xlabel('Salary (Millions of Dollars)')\n",
    "\n",
    "ax2 = fig.add_subplot(1, 2, 2)\n",
    "\n",
    "ax2.hist(np.array(np.log(MLB['salary'])), bins=9)\n",
    "\n",
    "plt.title('$log_{e}$ MLB Salary')\n",
    "plt.xlabel('$log_{e}$(Salary (Millions of Dollars))')"
   ]
  },
  {
   "cell_type": "markdown",
   "metadata": {},
   "source": [
    "---"
   ]
  }
 ],
 "metadata": {
  "kernelspec": {
   "display_name": "Python 3",
   "language": "python",
   "name": "python3"
  },
  "language_info": {
   "codemirror_mode": {
    "name": "ipython",
    "version": 3
   },
   "file_extension": ".py",
   "mimetype": "text/x-python",
   "name": "python",
   "nbconvert_exporter": "python",
   "pygments_lexer": "ipython3",
   "version": "3.7.0"
  },
  "toc": {
   "base_numbering": 1,
   "nav_menu": {},
   "number_sections": true,
   "sideBar": true,
   "skip_h1_title": false,
   "title_cell": "Table of Contents",
   "title_sidebar": "Contents",
   "toc_cell": false,
   "toc_position": {
    "height": "calc(100% - 180px)",
    "left": "10px",
    "top": "150px",
    "width": "337px"
   },
   "toc_section_display": true,
   "toc_window_display": false
  },
  "varInspector": {
   "cols": {
    "lenName": 16,
    "lenType": 16,
    "lenVar": 40
   },
   "kernels_config": {
    "python": {
     "delete_cmd_postfix": "",
     "delete_cmd_prefix": "del ",
     "library": "var_list.py",
     "varRefreshCmd": "print(var_dic_list())"
    },
    "r": {
     "delete_cmd_postfix": ") ",
     "delete_cmd_prefix": "rm(",
     "library": "var_list.r",
     "varRefreshCmd": "cat(var_dic_list()) "
    }
   },
   "types_to_exclude": [
    "module",
    "function",
    "builtin_function_or_method",
    "instance",
    "_Feature"
   ],
   "window_display": false
  }
 },
 "nbformat": 4,
 "nbformat_minor": 2
}
