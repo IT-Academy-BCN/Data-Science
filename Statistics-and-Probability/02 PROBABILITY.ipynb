{
 "cells": [
  {
   "attachments": {
    "IT%20Logo.png": {
     "image/png": "[encoded data removed]"
    }
   },
   "cell_type": "markdown",
   "metadata": {},
   "source": [
    "![IT%20Logo.png](attachment:IT%20Logo.png)"
   ]
  },
  {
   "cell_type": "markdown",
   "metadata": {},
   "source": [
    "<div class=\"alert alert-block alert-info\"><font size=\"5\"><center><b><u>Statistical Foundations for Data Scientist</u></b></center></font>\n",
    "\n",
    "\\begin{align*}Alex\\:Kumenius\\end{align*}\n",
    "\\begin{align*}Business\\hspace{2mm}Intelligence\\hspace{2mm}and\\hspace{2mm}Data\\hspace{2mm}Scientist\\hspace{2mm}Project\\hspace{2mm}Integrator\\end{align*}\n",
    "$%$       \n",
    "\\begin{align*}Date : October\\hspace{2mm}2020\\end{align*}</div>"
   ]
  },
  {
   "cell_type": "markdown",
   "metadata": {},
   "source": [
    "# <span style=color:darkblue> PROBABILITY </span>"
   ]
  },
  {
   "cell_type": "markdown",
   "metadata": {},
   "source": [
    "We use <span style=color:blue><b><u>Probability</u></b></span> to build tools to <span style=color:blue>describe and understand</span> apparent <span style=color:blue><b>randomness</b></span>. We often frame <span style=color:blue>probability</span> in terms of a <b>random process</b> giving rise to an <b>outcome</b>."
   ]
  },
  {
   "cell_type": "markdown",
   "metadata": {},
   "source": [
    "<div class=\"alert alert-warning alert-warning\"><b><u>Probability</u></b>   \n",
    "\n",
    "The <b><u>Probability</u></b> of an <em>outcome</em> is the <b><u>proportion</u> of times</b> the outcome would <b>occur</b> if we observed the <b>random process</b> an infinite number of times.   \n",
    "$%$   \n",
    "<b>Probability</b> is defined as a <b><em>proportion</em></b>, and it always takes <b>values</b> between <b>0 and 1 (inclusively)</b>. It may also be displayed as a <b>percentage</b> between <b>0% and 100%</b>.\n",
    "</div>"
   ]
  },
  {
   "cell_type": "markdown",
   "metadata": {},
   "source": [
    "<b><u>Examples</u></b> :\n",
    "\n",
    "<b><i>Rolling a die</i></b> or a <b><i>flipping a coin</i></b> is a <span style=color:blue><b>random process</b></span> and each give rise to an <span style=color:blue><b>outcome</b></span>.\n",
    "\n",
    "            Roll a die --> 1,2,3,4,5, or 6\n",
    "                Flip a Coin --> H or T"
   ]
  },
  {
   "cell_type": "markdown",
   "metadata": {},
   "source": [
    "<span style=color:blue>Probability</span> can be illustrated by rolling a die many times. Let<span style=color:blue>$\\hspace{2mm}$$\\hat p_n$</span> be the <span style=color:blue><b>proportion</b></span> of outcomes that are $1$ after the first $n$ rolls.   \n",
    "As the number of rolls increases, <span style=color:blue>$\\hspace{2mm}$$\\hat p_n$</span> will <span style=color:blue>converge</span> to the <span style=color:blue>probability</span> of rolling a $1$,$\\:$  $p$ = $1/6$. The tendency of <span style=color:blue>$\\hspace{2mm}$$\\hat p_n$</span> to stabilize around <span style=color:blue><b>$p$</b></span> is described by the <span style=color:blue><b><u>Law of Large Numbers</u></b></span>."
   ]
  },
  {
   "cell_type": "markdown",
   "metadata": {
    "ExecuteTime": {
     "start_time": "2019-09-05T11:31:41.447Z"
    }
   },
   "source": [
    "Above we write \"<span style=color:blue><b>$p$</b></span> as the <span style=color:blue>probability</span> of rolling a $1$\". But we can also write this <span style=color:blue>probability</span> as :\n",
    "\n",
    "<span style=color:blue>\\begin{align*}P(rolling\\hspace{2mm}a\\hspace{2mm}1)\\hspace{5mm}or\\hspace{5mm}P(1)\\end{align*}</span>"
   ]
  },
  {
   "cell_type": "markdown",
   "metadata": {},
   "source": [
    "## <span style=color:darkred>LAW OF LARGE NUMBERS</span>"
   ]
  },
  {
   "cell_type": "markdown",
   "metadata": {},
   "source": [
    "<div class=\"alert alert-warning alert-warning\">As more observations are collected, the proportion <span style=color:blue>$\\hat p_n$</span> of occurrences with a particular outcome converges to the probability <span style=color:blue><b>$p$</b></span> of that outcome.</div>"
   ]
  },
  {
   "cell_type": "code",
   "execution_count": 4,
   "metadata": {
    "ExecuteTime": {
     "end_time": "2020-12-11T11:45:04.658347Z",
     "start_time": "2020-12-11T11:44:54.950321Z"
    }
   },
   "outputs": [
    {
     "name": "stdout",
     "output_type": "stream",
     "text": [
      "How many times would you like to roll the dice? 1000\n",
      "Calculation of probability: \n",
      "\t1: 16.00\n",
      "\t2: 16.60\n",
      "\t3: 16.50\n",
      "\t4: 16.30\n",
      "\t5: 18.30\n",
      "\t6: 16.30\n"
     ]
    }
   ],
   "source": [
    "import random\n",
    "import operator\n",
    "\n",
    "random.seed(1)\n",
    "\n",
    "ROLLED = {i: 0 for i in range(1, 7)}\n",
    "ITERATIONS = int(input('How many times would you like to roll the dice? '))\n",
    "\n",
    "def probability():\n",
    "    print(\"Calculation of probability: \")\n",
    "    for key, count in ROLLED.items():\n",
    "        print(\"\\t{}: {:.2f}\".format(key, count*100./ITERATIONS*1.))\n",
    "\n",
    "for _ in range(ITERATIONS):\n",
    "    ROLLED[random.randint(1, 6)] += 1\n",
    "\n",
    "probability()"
   ]
  },
  {
   "cell_type": "markdown",
   "metadata": {},
   "source": [
    "To find the <span style=color:blue><b>most rolled</b></span>, and <span style=color:blue><b>least rolled</b></span> of the die, you can use a custom operator on <span style=color:blue><u><b>ROLLED</b></u></span> dictionary:"
   ]
  },
  {
   "cell_type": "code",
   "execution_count": 10,
   "metadata": {
    "ExecuteTime": {
     "end_time": "2020-10-14T18:16:28.002964Z",
     "start_time": "2020-10-14T18:16:27.996980Z"
    }
   },
   "outputs": [
    {
     "data": {
      "text/plain": [
       "(4, 16851)"
      ]
     },
     "execution_count": 10,
     "metadata": {},
     "output_type": "execute_result"
    }
   ],
   "source": [
    "# Most rolled \n",
    "max(ROLLED.items(), key=operator.itemgetter(1))"
   ]
  },
  {
   "cell_type": "code",
   "execution_count": 11,
   "metadata": {
    "ExecuteTime": {
     "end_time": "2020-10-14T18:16:41.865795Z",
     "start_time": "2020-10-14T18:16:41.858813Z"
    }
   },
   "outputs": [
    {
     "data": {
      "text/plain": [
       "(3, 16520)"
      ]
     },
     "execution_count": 11,
     "metadata": {},
     "output_type": "execute_result"
    }
   ],
   "source": [
    "# least rolled\n",
    "min(ROLLED.items(), key=operator.itemgetter(1))"
   ]
  },
  {
   "cell_type": "markdown",
   "metadata": {},
   "source": [
    "Let's plot the <span style=color:blue><b><u>Law of Large Numbers</u></b></span> showing this <span style=color:blue>convergence</span> for <b>$n$</b> die rolls."
   ]
  },
  {
   "cell_type": "code",
   "execution_count": 2,
   "metadata": {
    "ExecuteTime": {
     "end_time": "2021-03-11T15:29:59.187412Z",
     "start_time": "2021-03-11T15:29:58.942068Z"
    },
    "scrolled": true
   },
   "outputs": [
    {
     "data": {
      "image/png": "[encoded data removed]",
      "text/plain": [
       "<Figure size 720x360 with 1 Axes>"
      ]
     },
     "metadata": {},
     "output_type": "display_data"
    }
   ],
   "source": [
    "import numpy as np\n",
    "from matplotlib import pyplot as plt\n",
    "from pylab import rcParams\n",
    "\n",
    "rolls = np.random.randint(1, 7, 10)\n",
    "data = []\n",
    "for i in range(rolls.size):\n",
    "    data.append(rolls[:i + 1].mean())\n",
    "rcParams['figure.figsize'] = 10, 5\n",
    "plt.gca().yaxis.grid(True)\n",
    "plt.xlabel(\"Die Rolls\")\n",
    "plt.ylabel(\"Mean\")\n",
    "\n",
    "plt.plot(data)\n",
    "plt.show()"
   ]
  },
  {
   "cell_type": "markdown",
   "metadata": {},
   "source": [
    "## <span style=color:darkred>DISJOINT or MUTUALLY EXCLUSIVE OUTCOMES</span>"
   ]
  },
  {
   "cell_type": "markdown",
   "metadata": {},
   "source": [
    "<div class=\"alert alert-warning alert-warning\">Two <b><u>outcomes</u></b> are called <b>disjoint</b> or  if they <u>cannot both happen</u>.\n",
    "\n",
    "The terms <b><u>disjoint</u></b> and <b><u>mutually exclusive</u></b> are <b><em>equivalent</em></b> and <b><em>interchangeable</em></b>.</div>"
   ]
  },
  {
   "cell_type": "markdown",
   "metadata": {},
   "source": [
    "For instance, if we roll a die, the outcomes <b>$1$ and $2$</b> are <span style=color:blue>disjoint</span> since they <b>cannot</b> both occur.   \n",
    "On the other hand, the outcomes <b>$1$</b> and <em>“rolling an <b>odd</b> number”</em> are <span style=color:blue><b>not</b> disjoint</span> since both occur if the outcome of the roll is a <b>$1$</b>."
   ]
  },
  {
   "cell_type": "markdown",
   "metadata": {},
   "source": [
    "Calculating the <span style=color:blue>probability of disjoint outcomes</span> is easy.   \n",
    "\n",
    "When rolling a die, the outcomes <b>$1$ and $2$</b> are <span style=color:blue>disjoint</span>, and we <u>compute</u> the <span style=color:blue>probability</span> that one of these outcomes will occur by <span style=color:blue><b>adding</b></span> their <span style=color:blue><b><u>separate probabilities</u></b></span>:"
   ]
  },
  {
   "cell_type": "markdown",
   "metadata": {},
   "source": [
    "$$P(1\\:or\\:2) = P(1) + P(2) = 1/6 + 1/6 = 1/3$$"
   ]
  },
  {
   "cell_type": "markdown",
   "metadata": {
    "solution2": "shown",
    "solution2_first": true
   },
   "source": [
    "<span style=color:red><b><u>EXERCISE - 2.1</u></b></span> \n",
    "\n",
    "What about the <span style=color:blue>probability</span> of rolling a **1, 2, 3, 4, 5, or 6**? "
   ]
  },
  {
   "cell_type": "markdown",
   "metadata": {
    "solution2": "shown"
   },
   "source": [
    "<span style=color:green><b><u>SOLUTION - 2.1</u></b></span> \n",
    "\n",
    "\n",
    "Here again, all of the outcomes are <span style=color:blue>disjoint</span> so we <span style=color:blue><b>add</b></span> the <span style=color:blue>probabilities</span>:\n",
    "\n",
    "\\begin{align*}P(1\\hspace{2mm}or\\hspace{2mm}2\\hspace{2mm}or\\hspace{2mm}3\\hspace{2mm}or\\hspace{2mm}4\\hspace{2mm}or\\hspace{2mm}5\\hspace{2mm}or\\hspace{2mm}6)\\end{align*}\n",
    "$%$   \n",
    "\\begin{align*}= P(1) + P(2) + P(3) + P(4) + P(5) + P(6)\\end{align*}\n",
    "$%$   \n",
    "\\begin{align*}= 1/6 + 1/6 + 1/6 + 1/6 + 1/6 + 1/6 = 1.\\end{align*}"
   ]
  },
  {
   "cell_type": "markdown",
   "metadata": {},
   "source": [
    "### <span style=color:darkgreen>Addition Rule</span>"
   ]
  },
  {
   "cell_type": "markdown",
   "metadata": {},
   "source": [
    "The <span style=color:blue>Addition Rule</span> <b>guarantees the accuracy</b> of this approach when the <b>outcomes</b> are <span style=color:blue>disjoint</span>."
   ]
  },
  {
   "cell_type": "markdown",
   "metadata": {},
   "source": [
    "<div class=\"alert alert-warning alert-warning\">If $A_1$ and $A_2$ represent two <span style=color:blue>disjoint outcomes</span>, then the <span style=color:blue>probability</span> that one of them occurs is given by :   \n",
    "\n",
    "\\begin{align*}P(A_1\\hspace{2mm}or\\hspace{2mm}A_2)\\hspace{2mm}=\\hspace{2mm}P(A_1)\\hspace{2mm}+\\hspace{2mm}P(A_2)\\end{align*}   \n",
    "$%$\n",
    "If there are many <span style=color:blue>disjoint</span> outcomes $A_1$, ..., $A_k$, then the <span style=color:blue>probability</span> that one of these <span style=color:blue>outcomes</span> will occur is :   \n",
    "$%$\n",
    "\\begin{align*}P(A_1)\\hspace{2mm}+\\hspace{2mm}P(A_2)\\hspace{2mm}+\\hspace{2mm} · · ·\\hspace{2mm} +\\hspace{2mm}P(A_k)\\end{align*}</div>"
   ]
  },
  {
   "cell_type": "markdown",
   "metadata": {},
   "source": [
    "Statisticians rarely work with individual outcomes and instead consider <span style=color:blue>sets</span> or <span style=color:blue>collections of outcomes</span>.   \n",
    "\n",
    "Let $A$ represent the event where a die roll results in <b>$1$ or $2$</b> and $B$ represent the event that the die roll is a <b>$4$ or a $6$</b>.    \n",
    "We write $A$ as the <span style=color:blue>set of outcomes</span> {1, 2}$\\hspace{2mm}$ and$\\hspace{2mm}$ $B$ = {4, 6}. \n",
    "\n",
    "These <span style=color:blue>sets</span> are commonly called <span style=color:blue>events</span>. Because $A$ and $B$ have <span style=color:blue><b><em>no elements in common</em></b></span>, they are <span style=color:blue>disjoint events</span>."
   ]
  },
  {
   "cell_type": "markdown",
   "metadata": {},
   "source": [
    "The <span style=color:blue><b><u>Addition Rule</u></b></span> applies to both <span style=color:blue>disjoint outcomes</span> and <span style=color:blue>disjoint events</span>. The <span style=color:blue><b>probability</b></span> that one of the <span style=color:blue><b>disjoint events</b></span> $A$ or $B$ occurs is the sum of the <span style=color:blue>separate probabilities</span>:"
   ]
  },
  {
   "cell_type": "markdown",
   "metadata": {},
   "source": [
    "\\begin{align*} P(A)\\hspace{2mm}=\\hspace{2mm}P(1\\hspace{2mm}or\\hspace{2mm}2)\\hspace{2mm}=\\hspace{2mm}P(1)\\hspace{2mm}+\\hspace{2mm}P(2)\\hspace{2mm}=\\hspace{2mm}\\frac{1}{6} + \\frac{1}{6}\\hspace{2mm}=\\hspace{2mm}\\frac{2}{6}\\hspace{2mm}=\\hspace{2mm}\\frac{1}{3} \\end{align*}"
   ]
  },
  {
   "cell_type": "markdown",
   "metadata": {},
   "source": [
    "\\begin{align*} P(B)\\hspace{2mm}=\\hspace{2mm}P(4\\hspace{2mm}or\\hspace{2mm}6)\\hspace{2mm}=\\hspace{2mm}P(4)\\hspace{2mm}+\\hspace{2mm}P(6)\\hspace{2mm}=\\hspace{2mm}\\frac{1}{6} + \\frac{1}{6}\\hspace{2mm}=\\hspace{2mm}\\frac{2}{6}\\hspace{2mm}=\\hspace{2mm}\\frac{1}{3} \\end{align*}"
   ]
  },
  {
   "cell_type": "markdown",
   "metadata": {},
   "source": [
    "\\begin{align*} P(A\\hspace{2mm}or\\hspace{2mm}B)\\hspace{2mm}=\\hspace{2mm}P(A)\\hspace{2mm}+\\hspace{2mm}P(B)\\hspace{2mm}=\\hspace{2mm}\\frac{1}{3} + \\frac{1}{3}\\hspace{2mm}=\\hspace{2mm}\\frac{2}{3} \\end{align*}"
   ]
  },
  {
   "cell_type": "markdown",
   "metadata": {},
   "source": [
    "### <span style=color:darkgreen>Probabilities when Events are NOT Disjoint</span>"
   ]
  },
  {
   "cell_type": "markdown",
   "metadata": {},
   "source": [
    "Let’s consider calculations for two <span style=color:blue>events</span> that are <span style=color:blue>**not** disjoint</span> in the context of a regular deck of $52$ cards."
   ]
  },
  {
   "attachments": {
    "52%20DECK%20CARDS.gif": {
     "image/gif": "[encoded data removed]"
    }
   },
   "cell_type": "markdown",
   "metadata": {},
   "source": [
    "![52%20DECK%20CARDS.gif](attachment:52%20DECK%20CARDS.gif)"
   ]
  },
  {
   "cell_type": "markdown",
   "metadata": {
    "solution2": "shown",
    "solution2_first": true
   },
   "source": [
    "<span style=color:red><b><u>EXERCISE - 2.2</u></b></span> \n",
    "\n",
    "What is the <span style=color:blue>probability</span> that a randomly selected card is a <span style=color:blue>\n",
    "diamond</span>?"
   ]
  },
  {
   "cell_type": "markdown",
   "metadata": {
    "solution2": "shown"
   },
   "source": [
    "<span style=color:green><b><u>SOLUTION - 2.2</u></b></span> \n",
    "\n",
    "\\begin{align*} P(Diamonds) = \\frac{13}{52}  = 0.250. \\end{align*}"
   ]
  },
  {
   "cell_type": "markdown",
   "metadata": {
    "ExecuteTime": {
     "end_time": "2019-09-06T16:19:30.495437Z",
     "start_time": "2019-09-06T16:19:30.489453Z"
    },
    "solution2": "shown",
    "solution2_first": true
   },
   "source": [
    "<span style=color:red><b><u>EXERCISE - 2.3</u></b></span> \n",
    "\n",
    "What is the <span style=color:blue>probability</span> that a randomly selected card is a <span style=color:blue>face card</span> ?"
   ]
  },
  {
   "cell_type": "markdown",
   "metadata": {
    "solution2": "shown"
   },
   "source": [
    "<span style=color:green><b><u>SOLUTION - 2.3</u></b></span> \n",
    "\n",
    "\\begin{align*} P(Face\\:Card) = \\frac{12}{52} = \\frac{3}{13} = 0.231. \\end{align*}"
   ]
  },
  {
   "cell_type": "markdown",
   "metadata": {},
   "source": [
    "<span style=color:blue><b><u>Venn diagrams</u></b></span> is a diagram that depict all possible <span style=color:blue>logical</span> relations between a finite collection of different <span style=color:blue>sets</span>. \n",
    "\n",
    "<span style=color:blue><b><u>Venn diagrams</u></b></span> are useful when outcomes can be categorized as ***“in”*** or ***“out”*** for two or *three variables, attributes, or random processes*."
   ]
  },
  {
   "cell_type": "code",
   "execution_count": 7,
   "metadata": {
    "ExecuteTime": {
     "end_time": "2020-10-19T16:21:14.454529Z",
     "start_time": "2020-10-19T16:21:04.823488Z"
    }
   },
   "outputs": [
    {
     "name": "stdout",
     "output_type": "stream",
     "text": [
      "Collecting pip\n",
      "  Downloading https://files.pythonhosted.org/packages/cb/28/91f26bd088ce8e22169032100d4260614fc3da435025ff389ef1d396a433/pip-20.2.4-py2.py3-none-any.whl (1.5MB)\n",
      "Installing collected packages: pip\n",
      "  Found existing installation: pip 19.2\n",
      "    Uninstalling pip-19.2:\n",
      "      Successfully uninstalled pip-19.2\n",
      "Successfully installed pip-20.2.4\n"
     ]
    }
   ],
   "source": [
    "db.to_excel()"
   ]
  },
  {
   "cell_type": "code",
   "execution_count": 1,
   "metadata": {
    "ExecuteTime": {
     "end_time": "2020-10-19T16:12:51.424025Z",
     "start_time": "2020-10-19T16:12:50.820121Z"
    }
   },
   "outputs": [],
   "source": [
    "# Library\n",
    "import matplotlib.pyplot as plt\n",
    "#!pip3 install matplotlib_venn\n",
    "from matplotlib_venn import venn2\n",
    "%matplotlib inline"
   ]
  },
  {
   "cell_type": "code",
   "execution_count": 4,
   "metadata": {
    "ExecuteTime": {
     "end_time": "2020-10-19T16:15:51.062188Z",
     "start_time": "2020-10-19T16:15:50.904610Z"
    }
   },
   "outputs": [
    {
     "data": {
      "image/png": "[encoded data removed]",
      "text/plain": [
       "<Figure size 432x288 with 1 Axes>"
      ]
     },
     "metadata": {},
     "output_type": "display_data"
    }
   ],
   "source": [
    "# First way to call the 2 group Venn diagram:\n",
    "venn2(subsets = (10, 9, 3), set_labels = ('Diamond 0.250', 'Face cards 0.231'), alpha=.4)\n",
    "plt.show()"
   ]
  },
  {
   "cell_type": "markdown",
   "metadata": {},
   "source": [
    "<center><span style=color:red><em>There are also <b>30 cards</b> that are neither <u>diamonds</u> not <u>face cards</u></em></span></center>."
   ]
  },
  {
   "cell_type": "markdown",
   "metadata": {},
   "source": [
    "The <span style=color:blue><b><u>Venn diagrams</u></b></span> uses a circle to represent <span style=color:blue>diamonds</span> and another to represent <span style=color:blue>face cards</span>. \n",
    "\n",
    "If a card is both a <span style=color:blue>diamond</span> and a <span style=color:blue>face card</span>, it falls into the <span style=color:blue><u>intersection</u></span> of the circles. If it is a <span style=color:blue>diamond</span> but not a <span style=color:blue>face card</span>, it will be in part of the left circle that is not in the right circle (and so on).   \n",
    "\n",
    "The total number of cards that are <span style=color:blue>diamonds</span> is given by the total number of cards in the <span style=color:blue>diamonds</span> circle: $10$ + $3$ = $13$. The <span style=color:blue>probabilities</span> are also shown (e.g. $10/52$ = $0.1923$)."
   ]
  },
  {
   "attachments": {
    "Venn%20Diagram.gif": {
     "image/gif": "[encoded data removed]"
    }
   },
   "cell_type": "markdown",
   "metadata": {},
   "source": [
    "![Venn%20Diagram.gif](attachment:Venn%20Diagram.gif)"
   ]
  },
  {
   "cell_type": "markdown",
   "metadata": {
    "solution2": "shown",
    "solution2_first": true
   },
   "source": [
    "<span style=color:red><b><u>EXERCISE - 2.4</u></b></span> \n",
    "\n",
    "<b>How do we compute $P$($A$ or $B$) ?</b> \n",
    "\n",
    "Let $A$ represent the event that a <em>randomly selected card</em> is a <span style=color:blue>diamond</span> and $B$ represent the event that it is a <span style=color:blue>face card</span>.   \n",
    "\n",
    "Events $A$ and $B$ are <span style=color:blue>not disjoint</span> – the cards $J(D)$,$\\:$ $Q(D)$,$\\:$ and$\\:$ $K(D)$ fall into both <span style=color:blue><em>categories</em></span> – so we <b>cannot</b> use the <span style=color:blue><b><u>Addition Rule</u></b></span> for <span style=color:blue>disjoint events</span>. "
   ]
  },
  {
   "cell_type": "markdown",
   "metadata": {
    "solution2": "shown"
   },
   "source": [
    "<span style=color:green><b><u>SOLUTION - 2.4 (Part I)</u></b></span> \n",
    "\n",
    "We start by <b>adding</b> the probabilities of the two events:\n",
    "\n",
    "\\begin{align*} P(A) + P(B) = P(D) + P(face card) = \\frac{13}{52} + \\frac{12}{52} \\end{align*}   \n",
    "$%$   \n",
    "<center><span style=color:red><em>However, the <u>three cards</u> that are in both events were counted <u>twice</u>, once in each probability</em></span></center>.   \n",
    "\n",
    "<u>We must <span style=color:red>correct</span> this <span style=color:blue>double counting</span></u>:"
   ]
  },
  {
   "cell_type": "markdown",
   "metadata": {},
   "source": [
    "### <span style=color:darkgreen>General Addition Rule</span>"
   ]
  },
  {
   "cell_type": "markdown",
   "metadata": {},
   "source": [
    "<div class=\"alert alert-warning alert-warning\">If $A$ and $B$ are any two <b>events</b>, <b><em>disjoint or not</em></b>, then the <b>probability</b> that at least one of them will occur is :   \n",
    "\n",
    "\\begin{align*}P(A\\hspace{4mm}or\\hspace{4mm}B)\\hspace{2mm}=\\hspace{2mm}P(A)\\hspace{2mm}+\\hspace{2mm}P(B)\\hspace{2mm}-\\hspace{2mm}P(A\\hspace{2mm}and\\hspace{2mm}B)\\end{align*}    \n",
    "$%$   \n",
    "where $P$($A$ and $B$) is the probability that both <b>events</b> occur.</div>"
   ]
  },
  {
   "cell_type": "markdown",
   "metadata": {
    "solution2": "shown",
    "solution2_first": true
   },
   "source": [
    "<span style=color:green><b><u>SOLUTION - 2.4 (Part II)</u></b></span> "
   ]
  },
  {
   "cell_type": "markdown",
   "metadata": {
    "solution2": "shown"
   },
   "source": [
    "\\begin{align*}P(A\\hspace{2mm}or\\hspace{2mm}B)\\hspace{2mm}=\\hspace{2mm}P(D\\hspace{2mm}or\\hspace{2mm}face\\hspace{1mm}card)\\end{align*}   \n",
    "\n",
    "\\begin{align*}\\hspace{2mm}=\\hspace{2mm}P(D)\\hspace{2mm}+\\hspace{2mm}P(face\\hspace{1mm}card)\\hspace{2mm}−\\hspace{2mm}P(D\\hspace{2mm}and\\hspace{2mm}face\\hspace{1mm}card)\\end{align*}   \n",
    "\n",
    "\\begin{align*} = \\frac{13}{52} + \\frac{12}{52} − \\frac{3}{52} \\end{align*}   \n",
    "\n",
    "\\begin{align*} = \\frac{22}{52} = \\frac{11}{26} = 0.423 \\end{align*}"
   ]
  },
  {
   "cell_type": "markdown",
   "metadata": {},
   "source": [
    "<div class=\"alert alert-danger\"><em>When we write <span style=color:darkred><b><em>“or”</em></b></span> in statistics, we mean <span style=color:darkred><b><em>“and/or”</em></b></span> unless we <u>explicitly</u> state otherwise. Thus, $A$ <span style=color:darkred><em>or</em></span> $B$ occurs means $A, B$ or both $A$ <span style=color:darkred><em>and</em></span> $B$ occur</em>.</div> "
   ]
  },
  {
   "cell_type": "markdown",
   "metadata": {},
   "source": [
    "### <span style=color:darkgreen>Probability Distributions</span>"
   ]
  },
  {
   "cell_type": "markdown",
   "metadata": {},
   "source": [
    "A <span style=color:blue><b><u>Probability Distribution</u></b></span> is a table of all <span style=color:blue><b>disjoint outcomes</b></span> and their associated <span style=color:blue>probabilities</span>."
   ]
  },
  {
   "cell_type": "markdown",
   "metadata": {},
   "source": [
    "<div class=\"alert alert-warning alert-warning\">A <b><u>Probability Distribution</u></b></span> is a list of the <b>possible outcomes</b> with corresponding <span style=color:darkred>probabilities</span> that <span style=color:darkred><u>satisfies three rules</u></span>:   \n",
    "\n",
    "$%$          \n",
    "1. The <b><em>outcomes listed</em></b> must be <b>disjoint</b>.\n",
    "2. Each <b>probability</b> must be <b>between 0 and 1</b>.\n",
    "3. The <b>probabilities must total 1</b>.</div>"
   ]
  },
  {
   "cell_type": "markdown",
   "metadata": {},
   "source": [
    "We have talked about the importance of plotting data to provide a quick summaries. So, we can also summarized in a bar plot <span style=color:blue><b><u>Probability Distributions</u></b></span>."
   ]
  },
  {
   "cell_type": "code",
   "execution_count": 26,
   "metadata": {
    "ExecuteTime": {
     "end_time": "2020-10-14T18:46:10.877218Z",
     "start_time": "2020-10-14T18:46:08.696249Z"
    },
    "scrolled": true
   },
   "outputs": [
    {
     "data": {
      "image/png": "[encoded data removed]",
      "text/plain": [
       "<Figure size 720x360 with 1 Axes>"
      ]
     },
     "metadata": {},
     "output_type": "display_data"
    }
   ],
   "source": [
    "import seaborn\n",
    "from scipy.stats import binom\n",
    "import matplotlib.pyplot as plt\n",
    "import warnings\n",
    "# warnings.filterwarnings(\"ignore\", message=\"Numerical issues were encountered \")\n",
    "warnings.filterwarnings(\"ignore\")\n",
    "                        \n",
    "# binomial discrete random variable set\n",
    "data = binom.rvs(n=17,p=0.7,loc=0,size=1010)\n",
    "\n",
    "#univariate distribution of observations\n",
    "ax = seaborn.distplot(data,\n",
    "            kde=False,                                # kde = True, adds Kernel Density Estimation curve\n",
    "            color='darkblue',\n",
    "            hist_kws={\"linewidth\": 22,'alpha':0.77})\n",
    "ax.set(xlabel='Binomial',ylabel='Frequency')\n",
    "plt.show()"
   ]
  },
  {
   "cell_type": "markdown",
   "metadata": {},
   "source": [
    "If the outcomes are <span style=color:blue>numerical</span> and <span style=color:blue>discrete</span>, it is usually convenient to make a bar plot. The <b>heights</b> represent the <span style=color:blue>probabilities of outcomes</span>."
   ]
  },
  {
   "cell_type": "markdown",
   "metadata": {},
   "source": [
    "### <span style=color:darkgreen>Complement of an Event</span>"
   ]
  },
  {
   "cell_type": "markdown",
   "metadata": {},
   "source": [
    "A <span style=color:blue><b>set</b></span> of all possible outcomes is called the <span style=color:blue><b>Sample Space$\\hspace{1mm}(S)$</b></span> for rolling a die. Rolling a die produces a value in the <span style=color:blue>set {1, 2, 3, 4, 5, 6}</span>.   \n",
    "\n",
    "We often use the <span style=color:blue><b><u>Sample Space</u></b></span> to examine the scenario where an <span style=color:blue><u>event does not occur</u></span>."
   ]
  },
  {
   "cell_type": "markdown",
   "metadata": {},
   "source": [
    "The <span style=color:blue><b><u>Complement</u></b></span>, represents all outcomes in our <span style=color:blue>sample space</span> that are <b>not</b> in <span style=color:blue><b>$A$</b></span>. The complement is denoted by <span style=color:blue><b>$A^{c}$</b></span>."
   ]
  },
  {
   "cell_type": "markdown",
   "metadata": {},
   "source": [
    "<div class=\"alert alert-warning alert-warning\">A <b>complement</b> of an <b>event</b> $A$ is constructed to have two very important properties:    \n",
    "\n",
    "1. every possible outcome <b>not</b> in $A$ is in $A^{c}$, and\n",
    "2. $A$ and $A^{c}$ are <b>disjoint</b>.</div>"
   ]
  },
  {
   "cell_type": "markdown",
   "metadata": {},
   "source": [
    "<span style=color:blue><b><u>Property (1) implies</u></b></span> :   \n",
    "\n",
    "\\begin{align*} P(A\\hspace{3mm} or\\hspace{3mm} A^{c}) = 1\\end{align*} \n",
    "\n",
    "If the outcome is <b>not</b> in <b>$A$</b>, it must be represented in $A^{c}$."
   ]
  },
  {
   "cell_type": "markdown",
   "metadata": {},
   "source": [
    "We use the <span style=color:blue><b><u>Addition Rule</u></b></span> for <span style=color:blue>disjoint events</span> to apply <span style=color:blue><b><u>Property (2)</u></b> :   \n",
    "\n",
    "\\begin{align*} P(A\\hspace{3mm} or\\hspace{3mm} A^{c}) = P(A) + P(A^{c})\\end{align*} \n",
    "\n",
    "Combining <b><u>properties 1 and 2</u></b> yields a very useful relationship between the probability of an event and its complement."
   ]
  },
  {
   "cell_type": "markdown",
   "metadata": {},
   "source": [
    "<div class=\"alert alert-warning alert-warning\"><b><u>Complement</u></b>   \n",
    "\n",
    "The complement of event $A$ is denoted $A^{c}$, and $A^{c}$ represents all outcomes <b>not</b> in $A$. $A$ and $A^{c}$ are mathematically related:   \n",
    "$%$\n",
    "$$P(A) + P(A^{c}) = 1,$$   \n",
    "\n",
    "\n",
    "i.e. $$P(A) = 1 − P(A^{c})$$</div>"
   ]
  },
  {
   "cell_type": "markdown",
   "metadata": {},
   "source": [
    "### <span style=color:darkgreen>Multiplication Rule for Independent Processes</span>"
   ]
  },
  {
   "cell_type": "markdown",
   "metadata": {},
   "source": [
    "Just as variables and observations / cases can be <span style=color:blue><b><u>Independent</u></b></span>, random processes can be <span style=color:blue>Independent</span>, too. Two processes are <span style=color:blue>Independent</span> if knowing the outcome of one provides <span style=color:blue><em>no useful information</em></span> about the outcome of the other.<span style=color:blue><b></b></span>"
   ]
  },
  {
   "cell_type": "markdown",
   "metadata": {},
   "source": [
    "<i>For instance, flipping a coin and rolling a die are two independent processes – knowing the coin was heads does not help determine the outcome of a die roll. On the other hand, <b>stock prices usually move up or down together</b>, so they are <b>not independent</b></i>."
   ]
  },
  {
   "cell_type": "markdown",
   "metadata": {},
   "source": [
    "<div class=\"alert alert-warning alert-warning\"><b><u>Multiplication Rule for Independent Processes</u></b>   \n",
    "\n",
    "If $A$ and $B$ represent events from <b><em>two different</em></b> and <b><em>independent</em></b> processes, then the probability that both $A$ and $B$ occur can be calculated as the <b>product</b> of their <b><u>separate probabilities</u></b>:   \n",
    "\n",
    "$%$\n",
    "\\begin{align*} P(A\\hspace{3mm} or\\hspace{3mm} B) = P(A)\\hspace{3mm}x\\hspace{3mm}P(B)\\end{align*}   \n",
    "   \n",
    "$%$\n",
    "Similarly, if there are $k$ events $A_1$, ..., $A_k$ from $k$ independent processes, then the probability they all occur is :   \n",
    "$%$\n",
    "\\begin{align*} P(A_1)\\hspace{3mm}x\\hspace{3mm}P(A_2)\\hspace{3mm}x\\hspace{1mm}...\\hspace{1mm}x\\hspace{3mm}P(A_k) \\end{align*}\n",
    "</div>"
   ]
  },
  {
   "cell_type": "markdown",
   "metadata": {},
   "source": [
    "<span style=color:blue><b><u>Rolling two dice</u></b></span>. \n",
    "\n",
    "We want to determine the <span style=color:blue>probability that both will be 1</span>.   \n",
    "\n",
    "Suppose one of the dice is <span style=color:red>red</span> and the other <span style=color:blue>blue</span>. If the outcome of the <span style=color:red>red die</span> is a $1$, it provides no information about the outcome of the <span style=color:blue>blue die</span>. We first calculated the probability of both cases: \n",
    "\n",
    "* $1/6$ of the time the <span style=color:red>red die</span> is a $1$, and\n",
    "* $1/6$ of those times the <span style=color:blue>blue die</span> will also be $1$. \n",
    "\n",
    "Because the rolls are <span style=color:blue>independent</span>, the probabilities of the corresponding outcomes can be <span style=color:blue>multiplied</span> to get the final answer:   \n",
    "\n",
    "\\begin{align*}(\\frac{1}{6})\\hspace{2mm}x\\hspace{2mm}(\\frac{1}{6})\\hspace{2mm}=\\hspace{2mm}\\frac{1}{36} = 0.028\\end{align*}. \n",
    "\n",
    "This can be <span style=color:blue><i>generalized</i></span> to many <span style=color:blue><u>independent processes</u>.</span>"
   ]
  },
  {
   "cell_type": "markdown",
   "metadata": {},
   "source": [
    "## <span style=color:darkred>CONDITIONAL PROBABILITY</span>"
   ]
  },
  {
   "cell_type": "markdown",
   "metadata": {},
   "source": [
    "We call a <span style=color:blue><b><u>Conditional Probability</u></b></span> because we computed the <span style=color:blue>probability</span> under a <span style=color:blue>condition</span>: \n",
    "\n",
    "e.g.: Computing the <span style=color:blue>probability</span> a <i>teen attended college</i> based on the <span style=color:blue>condition</span> that at <i>least one parent has a college degree</i>.\n",
    "\n",
    "The general formula for <span style=color:blue><b><u>Conditional Probability</u></b></span> :"
   ]
  },
  {
   "cell_type": "markdown",
   "metadata": {},
   "source": [
    "<div class=\"alert alert-warning alert-warning\">\n",
    "<b><u>Conditional Probability</u></b>\n",
    "\n",
    "The <b>Conditional Probability</b> of the outcome of interest $A$ <b>given</b> a condition $B$ is computed as the following:   \n",
    "\n",
    "\\begin{align*}P(A|B) =\n",
    "\\frac{P(A\\hspace{2mm}and\\hspace{2mm}B)}{P(B)}\\end{align*}\n",
    "\n",
    "* <b>Condition</b> is denoted with a vertical bar <b>“|”</b>, read as <b>given</b>.\n",
    "</div>"
   ]
  },
  {
   "cell_type": "markdown",
   "metadata": {},
   "source": [
    "<span style=color:purple><b><u>CASE STUDY 2.CS</u></b></span>\n",
    "\n",
    "<i>Compute the <span style=color:blue>probability</span> a <span style=color:blue><i>$teen$</i></span> attended college based on the <span style=color:blue>condition</span> that at <i>least one <span style=color:blue><i>$parent$</i></span> has a college degree</i>.\n",
    "\n",
    "$%$   \n",
    "The <span style=color:blue>$family\\:college$ dataset</span> contains a <span style=color:blue>sample</span> of <b><i>792 cases</i></b> with <b>two variables</b>, <span style=color:blue>$teen$</span> and <span style=color:blue>$parents$</span>   "
   ]
  },
  {
   "cell_type": "code",
   "execution_count": 27,
   "metadata": {
    "ExecuteTime": {
     "end_time": "2020-10-14T18:50:41.294491Z",
     "start_time": "2020-10-14T18:50:41.287510Z"
    }
   },
   "outputs": [],
   "source": [
    "import os\n",
    "import pandas as pd\n",
    "import numpy as np\n",
    "import matplotlib.pyplot as plt\n",
    "import timeit\n",
    "import random\n",
    "import warnings\n",
    "warnings.filterwarnings(\"ignore\")"
   ]
  },
  {
   "cell_type": "code",
   "execution_count": 28,
   "metadata": {
    "ExecuteTime": {
     "end_time": "2020-10-14T18:50:51.457869Z",
     "start_time": "2020-10-14T18:50:51.393833Z"
    }
   },
   "outputs": [],
   "source": [
    "# loading family_college dataset\n",
    "family_college = pd.read_csv('D:\\\\Documents\\\\EureCat\\\\Formacion\\\\Eurecat 2019\\\\BTS\\\\Datasets\\\\family_college.csv', \n",
    "                             encoding='utf-8', sep=',', index_col=0)"
   ]
  },
  {
   "cell_type": "code",
   "execution_count": 29,
   "metadata": {
    "ExecuteTime": {
     "end_time": "2020-10-14T18:50:55.396528Z",
     "start_time": "2020-10-14T18:50:55.390544Z"
    }
   },
   "outputs": [
    {
     "data": {
      "text/plain": [
       "(792, 2)"
      ]
     },
     "execution_count": 29,
     "metadata": {},
     "output_type": "execute_result"
    }
   ],
   "source": [
    "# Check dataset dimension/shape\n",
    "family_college.shape"
   ]
  },
  {
   "cell_type": "code",
   "execution_count": 30,
   "metadata": {
    "ExecuteTime": {
     "end_time": "2020-10-14T18:51:05.267998Z",
     "start_time": "2020-10-14T18:51:05.246057Z"
    }
   },
   "outputs": [
    {
     "data": {
      "text/plain": [
       "teen       object\n",
       "parents    object\n",
       "dtype: object"
      ]
     },
     "execution_count": 30,
     "metadata": {},
     "output_type": "execute_result"
    }
   ],
   "source": [
    "# Varaible's data types\n",
    "family_college.dtypes"
   ]
  },
  {
   "cell_type": "markdown",
   "metadata": {},
   "source": [
    "- The <span style=color:blue>$teen$</span> variable is either <span style=color:blue>$college$</span> or <span style=color:blue><b>$not$</b></span>, where the <span style=color:blue>$college$</span> label means the <span style=color:blue>teen</span> went to college <i>immediately</i> after high school. \n",
    "\n",
    "- The <span style=color:blue>$parents$</span> variable takes the value <span style=color:blue>$degree$</span> if at least one <span style=color:blue>$parent$</span> of the teenager <b><u>completed</u></b> a college degree."
   ]
  },
  {
   "cell_type": "code",
   "execution_count": 33,
   "metadata": {
    "ExecuteTime": {
     "end_time": "2020-10-14T18:52:56.369792Z",
     "start_time": "2020-10-14T18:52:56.355830Z"
    }
   },
   "outputs": [
    {
     "data": {
      "text/html": [
       "<div>\n",
       "<style scoped>\n",
       "    .dataframe tbody tr th:only-of-type {\n",
       "        vertical-align: middle;\n",
       "    }\n",
       "\n",
       "    .dataframe tbody tr th {\n",
       "        vertical-align: top;\n",
       "    }\n",
       "\n",
       "    .dataframe thead th {\n",
       "        text-align: right;\n",
       "    }\n",
       "</style>\n",
       "<table border=\"1\" class=\"dataframe\">\n",
       "  <thead>\n",
       "    <tr style=\"text-align: right;\">\n",
       "      <th></th>\n",
       "      <th>teen</th>\n",
       "      <th>parents</th>\n",
       "    </tr>\n",
       "  </thead>\n",
       "  <tbody>\n",
       "    <tr>\n",
       "      <th>1</th>\n",
       "      <td>college</td>\n",
       "      <td>degree</td>\n",
       "    </tr>\n",
       "    <tr>\n",
       "      <th>2</th>\n",
       "      <td>college</td>\n",
       "      <td>degree</td>\n",
       "    </tr>\n",
       "    <tr>\n",
       "      <th>3</th>\n",
       "      <td>college</td>\n",
       "      <td>degree</td>\n",
       "    </tr>\n",
       "    <tr>\n",
       "      <th>4</th>\n",
       "      <td>college</td>\n",
       "      <td>degree</td>\n",
       "    </tr>\n",
       "    <tr>\n",
       "      <th>5</th>\n",
       "      <td>college</td>\n",
       "      <td>degree</td>\n",
       "    </tr>\n",
       "  </tbody>\n",
       "</table>\n",
       "</div>"
      ],
      "text/plain": [
       "      teen parents\n",
       "1  college  degree\n",
       "2  college  degree\n",
       "3  college  degree\n",
       "4  college  degree\n",
       "5  college  degree"
      ]
     },
     "execution_count": 33,
     "metadata": {},
     "output_type": "execute_result"
    }
   ],
   "source": [
    "family_college.head()"
   ]
  },
  {
   "cell_type": "code",
   "execution_count": 35,
   "metadata": {
    "ExecuteTime": {
     "end_time": "2020-10-14T18:53:44.299675Z",
     "start_time": "2020-10-14T18:53:44.286722Z"
    }
   },
   "outputs": [
    {
     "data": {
      "text/plain": [
       "array(['college', 'not'], dtype=object)"
      ]
     },
     "execution_count": 35,
     "metadata": {},
     "output_type": "execute_result"
    }
   ],
   "source": [
    "family_college.teen.unique()"
   ]
  },
  {
   "cell_type": "markdown",
   "metadata": {},
   "source": [
    "#### <span style=color:blue>Contingency Table</span>"
   ]
  },
  {
   "cell_type": "markdown",
   "metadata": {},
   "source": [
    "In statistics, a <span style=color:blue><b>contingency table</b></span> is a type of <span style=color:blue>table in a matrix format</span> that displays the <span style=color:blue><b><u>frequency distribution</u></b></span> of the variables.  \n",
    "   \n",
    "They provide a basic picture of the <span style=color:blue><b>interrelation</b></span> between <span style=color:blue>two variables</span> and can help find interactions between them.\n",
    "\n",
    "They are heavily used in survey research, business intelligence, engineering, and scientific research."
   ]
  },
  {
   "cell_type": "code",
   "execution_count": 40,
   "metadata": {
    "ExecuteTime": {
     "end_time": "2020-10-14T18:59:14.726248Z",
     "start_time": "2020-10-14T18:59:14.642956Z"
    }
   },
   "outputs": [
    {
     "data": {
      "text/html": [
       "<div>\n",
       "<style scoped>\n",
       "    .dataframe tbody tr th:only-of-type {\n",
       "        vertical-align: middle;\n",
       "    }\n",
       "\n",
       "    .dataframe tbody tr th {\n",
       "        vertical-align: top;\n",
       "    }\n",
       "\n",
       "    .dataframe thead th {\n",
       "        text-align: right;\n",
       "    }\n",
       "</style>\n",
       "<table border=\"1\" class=\"dataframe\">\n",
       "  <thead>\n",
       "    <tr style=\"text-align: right;\">\n",
       "      <th>parents</th>\n",
       "      <th>degree</th>\n",
       "      <th>not</th>\n",
       "      <th>Total</th>\n",
       "    </tr>\n",
       "    <tr>\n",
       "      <th>teen</th>\n",
       "      <th></th>\n",
       "      <th></th>\n",
       "      <th></th>\n",
       "    </tr>\n",
       "  </thead>\n",
       "  <tbody>\n",
       "    <tr>\n",
       "      <th>college</th>\n",
       "      <td>231</td>\n",
       "      <td>214</td>\n",
       "      <td>445</td>\n",
       "    </tr>\n",
       "    <tr>\n",
       "      <th>not</th>\n",
       "      <td>49</td>\n",
       "      <td>298</td>\n",
       "      <td>347</td>\n",
       "    </tr>\n",
       "    <tr>\n",
       "      <th>Total</th>\n",
       "      <td>280</td>\n",
       "      <td>512</td>\n",
       "      <td>792</td>\n",
       "    </tr>\n",
       "  </tbody>\n",
       "</table>\n",
       "</div>"
      ],
      "text/plain": [
       "parents  degree  not  Total\n",
       "teen                       \n",
       "college     231  214    445\n",
       "not          49  298    347\n",
       "Total       280  512    792"
      ]
     },
     "execution_count": 40,
     "metadata": {},
     "output_type": "execute_result"
    }
   ],
   "source": [
    "# Compute a simple cross-tabulation of two (or more) factors.\n",
    "\n",
    "pd.crosstab(family_college.teen, family_college.parents, margins=True, margins_name=\"Total\")"
   ]
  },
  {
   "cell_type": "markdown",
   "metadata": {},
   "source": [
    "We considered only those <span style=color:blue><b>cases</b></span> that met the <span style=color:blue><b>condition</b></span>,  <span style=color:blue>$parents$ degree</span>, and then we computed the **ratio** of those <span style=color:blue><b>cases</b></span> that <span style=color:blue><b>satisfied</b></span> our <span style=color:blue><b>outcome of interest</b></span>, the <span style=color:blue>$teenager$</span> attended college."
   ]
  },
  {
   "cell_type": "markdown",
   "metadata": {
    "ExecuteTime": {
     "end_time": "2019-09-06T16:19:30.495437Z",
     "start_time": "2019-09-06T16:19:30.489453Z"
    },
    "solution2": "shown",
    "solution2_first": true
   },
   "source": [
    "<span style=color:red><b><u>EXERCISE - 2.5</u></b></span> \n",
    "\n",
    "<em>If at least one <span style=color:blue>$parent$</span> of a <span style=color:blue>$teenager$</span> completed a college <span style=color:blue>$degree$</span>, what is the chance the <span style=color:blue>$teenager$</span> attended college right after high school?</em>"
   ]
  },
  {
   "cell_type": "markdown",
   "metadata": {
    "ExecuteTime": {
     "end_time": "2019-09-06T16:19:30.495437Z",
     "start_time": "2019-09-06T16:19:30.489453Z"
    },
    "solution2": "shown"
   },
   "source": [
    "<span style=color:green><b><u>SOLUTION - 2.5</u></b></span> \n",
    "\n",
    "Of the total <b>280</b> cases in this dataset where <span style=color:blue>$parents$</span> takes value <span style=color:blue>$degree$</span>, <b>231</b> represent cases where the <span style=color:blue>$teen$</span> variable takes value <span style=color:blue>$college$</span>:\n",
    "\n",
    "\\begin{align*}P(teen\\hspace{2mm}college\\hspace{2mm}given\\hspace{2mm}parents\\hspace{2mm}degree)\\hspace{2mm}=\\hspace{2mm}\\frac{231}{280}\\hspace{2mm}=\\hspace{2mm}0.825\\end{align*}"
   ]
  },
  {
   "cell_type": "code",
   "execution_count": 41,
   "metadata": {
    "ExecuteTime": {
     "end_time": "2020-10-14T18:59:42.943198Z",
     "start_time": "2020-10-14T18:59:42.843467Z"
    }
   },
   "outputs": [
    {
     "data": {
      "text/html": [
       "<div>\n",
       "<style scoped>\n",
       "    .dataframe tbody tr th:only-of-type {\n",
       "        vertical-align: middle;\n",
       "    }\n",
       "\n",
       "    .dataframe tbody tr th {\n",
       "        vertical-align: top;\n",
       "    }\n",
       "\n",
       "    .dataframe thead th {\n",
       "        text-align: right;\n",
       "    }\n",
       "</style>\n",
       "<table border=\"1\" class=\"dataframe\">\n",
       "  <thead>\n",
       "    <tr style=\"text-align: right;\">\n",
       "      <th>parents</th>\n",
       "      <th>degree</th>\n",
       "      <th>not</th>\n",
       "      <th>Total</th>\n",
       "    </tr>\n",
       "    <tr>\n",
       "      <th>teen</th>\n",
       "      <th></th>\n",
       "      <th></th>\n",
       "      <th></th>\n",
       "    </tr>\n",
       "  </thead>\n",
       "  <tbody>\n",
       "    <tr>\n",
       "      <th>college</th>\n",
       "      <td>0.825</td>\n",
       "      <td>0.418</td>\n",
       "      <td>0.562</td>\n",
       "    </tr>\n",
       "    <tr>\n",
       "      <th>not</th>\n",
       "      <td>0.175</td>\n",
       "      <td>0.582</td>\n",
       "      <td>0.438</td>\n",
       "    </tr>\n",
       "  </tbody>\n",
       "</table>\n",
       "</div>"
      ],
      "text/plain": [
       "parents  degree    not  Total\n",
       "teen                         \n",
       "college   0.825  0.418  0.562\n",
       "not       0.175  0.582  0.438"
      ]
     },
     "execution_count": 41,
     "metadata": {},
     "output_type": "execute_result"
    }
   ],
   "source": [
    "# Compute COLUMN PROPORTIONS - Percentage, a simple cross-tabulation of two (or more) factors.\n",
    "\n",
    "pd.crosstab(family_college.teen, family_college.parents, margins=True, margins_name=\"Total\", \n",
    "            normalize='columns').round(3)"
   ]
  },
  {
   "cell_type": "markdown",
   "metadata": {
    "ExecuteTime": {
     "end_time": "2019-09-06T16:19:30.495437Z",
     "start_time": "2019-09-06T16:19:30.489453Z"
    },
    "solution2": "shown",
    "solution2_first": true
   },
   "source": [
    "<span style=color:red><b><u>EXERCISE - 2.6</u></b></span> \n",
    "\n",
    "<em>A teenager is randomly selected from the <span style=color:blue><b>sample</b></span> and she <span style=color:blue><b>did not attend</b></span> college right after high school. \n",
    "    \n",
    "What is the probability that at least one of her <span style=color:blue>$parents$</span> has a college <span style=color:blue>$degree$</span> ?</em>"
   ]
  },
  {
   "cell_type": "markdown",
   "metadata": {
    "ExecuteTime": {
     "end_time": "2019-09-06T16:19:30.495437Z",
     "start_time": "2019-09-06T16:19:30.489453Z"
    },
    "solution2": "shown"
   },
   "source": [
    "<span style=color:green><b><u>SOLUTION - 2.6</u></b></span> \n",
    "\n",
    "If the <span style=color:blue>$teenager$</span> did <b>not attend</b>, then she is one of the <b>347</b> teens in the second row. Of these <b>347</b> teens, <b>49</b> had at least one <span style=color:blue>$parent$</span> who got a college <span style=color:blue>$degree$</span> :\n",
    "\n",
    "\\begin{align*}P(parents\\hspace{2mm}degree\\hspace{2mm}given\\hspace{2mm}teen\\hspace{2mm}not)\\hspace{2mm}=\\hspace{2mm}\\frac{49}{347}\\hspace{2mm}=\\hspace{2mm}0.141\\end{align*}"
   ]
  },
  {
   "cell_type": "code",
   "execution_count": 42,
   "metadata": {
    "ExecuteTime": {
     "end_time": "2020-10-14T19:00:04.923934Z",
     "start_time": "2020-10-14T19:00:04.821206Z"
    }
   },
   "outputs": [
    {
     "data": {
      "text/html": [
       "<div>\n",
       "<style scoped>\n",
       "    .dataframe tbody tr th:only-of-type {\n",
       "        vertical-align: middle;\n",
       "    }\n",
       "\n",
       "    .dataframe tbody tr th {\n",
       "        vertical-align: top;\n",
       "    }\n",
       "\n",
       "    .dataframe thead th {\n",
       "        text-align: right;\n",
       "    }\n",
       "</style>\n",
       "<table border=\"1\" class=\"dataframe\">\n",
       "  <thead>\n",
       "    <tr style=\"text-align: right;\">\n",
       "      <th>parents</th>\n",
       "      <th>degree</th>\n",
       "      <th>not</th>\n",
       "    </tr>\n",
       "    <tr>\n",
       "      <th>teen</th>\n",
       "      <th></th>\n",
       "      <th></th>\n",
       "    </tr>\n",
       "  </thead>\n",
       "  <tbody>\n",
       "    <tr>\n",
       "      <th>college</th>\n",
       "      <td>0.519</td>\n",
       "      <td>0.481</td>\n",
       "    </tr>\n",
       "    <tr>\n",
       "      <th>not</th>\n",
       "      <td>0.141</td>\n",
       "      <td>0.859</td>\n",
       "    </tr>\n",
       "    <tr>\n",
       "      <th>Total</th>\n",
       "      <td>0.354</td>\n",
       "      <td>0.646</td>\n",
       "    </tr>\n",
       "  </tbody>\n",
       "</table>\n",
       "</div>"
      ],
      "text/plain": [
       "parents  degree    not\n",
       "teen                  \n",
       "college   0.519  0.481\n",
       "not       0.141  0.859\n",
       "Total     0.354  0.646"
      ]
     },
     "execution_count": 42,
     "metadata": {},
     "output_type": "execute_result"
    }
   ],
   "source": [
    "# Compute ROW PROPORTIONS - Percentage, a simple cross-tabulation of two (or more) factors.\n",
    "\n",
    "pd.crosstab(family_college.teen, family_college.parents, margins=True, margins_name=\"Total\", \n",
    "            normalize='index').round(3)"
   ]
  },
  {
   "cell_type": "markdown",
   "metadata": {},
   "source": [
    "### <span style=color:darkgreen>Marginal and Joint Probabilities</span>"
   ]
  },
  {
   "cell_type": "markdown",
   "metadata": {},
   "source": [
    "In any <span style=color:blue>Contingency Table</span> summary, the <b>totals</b> represent <span style=color:blue><b><u>Marginal Probabilities</u></b></span> for the <b>sample</b>, which are the <span style=color:blue>probabilities</span> based on a <span style=color:blue>single variable</span> -- $P(A)$ without regard to <b>any</b> other variables. Consequently a <span style=color:blue>probability</span> of outcomes for <b>two or more variables or processes</b> -- $P(A,B)$ is called a <span style=color:blue><b><u>Joint Probability</u></b></span>."
   ]
  },
  {
   "cell_type": "markdown",
   "metadata": {},
   "source": [
    "<div class=\"alert alert-warning alert-warning\"><b><u>Marginal and Joint Probabilities</u></b>   \n",
    "\n",
    "If a <b>probability</b> is based on a <i>single variable</i>, it is a <em><u><b>Marginal Probability</b></u></em>.    \n",
    "$%$   \n",
    "The <b>probability</b> of outcomes for <i>two or more variables or processes</i> is called a <em><u><b>Joint Probability</b></u></em>.</div>"
   ]
  },
  {
   "cell_type": "markdown",
   "metadata": {},
   "source": [
    "We use <span style=color:blue><b><u>Table Proportions / Contingency Table</u></b></span> to summarize <span style=color:blue>Joint Probabilities</span> for the sample. These <span style=color:blue>proportions</span> are computed by <span style=color:blue>dividing each count</span> in the table by the <span style=color:blue><b>table’s total</b></span>, to obtain the <span style=color:blue>proportions</span>."
   ]
  },
  {
   "cell_type": "code",
   "execution_count": 43,
   "metadata": {
    "ExecuteTime": {
     "end_time": "2020-10-14T19:00:37.471761Z",
     "start_time": "2020-10-14T19:00:37.363052Z"
    }
   },
   "outputs": [
    {
     "data": {
      "text/html": [
       "<div>\n",
       "<style scoped>\n",
       "    .dataframe tbody tr th:only-of-type {\n",
       "        vertical-align: middle;\n",
       "    }\n",
       "\n",
       "    .dataframe tbody tr th {\n",
       "        vertical-align: top;\n",
       "    }\n",
       "\n",
       "    .dataframe thead th {\n",
       "        text-align: right;\n",
       "    }\n",
       "</style>\n",
       "<table border=\"1\" class=\"dataframe\">\n",
       "  <thead>\n",
       "    <tr style=\"text-align: right;\">\n",
       "      <th>parents</th>\n",
       "      <th>degree</th>\n",
       "      <th>not</th>\n",
       "      <th>Total</th>\n",
       "    </tr>\n",
       "    <tr>\n",
       "      <th>teen</th>\n",
       "      <th></th>\n",
       "      <th></th>\n",
       "      <th></th>\n",
       "    </tr>\n",
       "  </thead>\n",
       "  <tbody>\n",
       "    <tr>\n",
       "      <th>college</th>\n",
       "      <td>0.292</td>\n",
       "      <td>0.270</td>\n",
       "      <td>0.562</td>\n",
       "    </tr>\n",
       "    <tr>\n",
       "      <th>not</th>\n",
       "      <td>0.062</td>\n",
       "      <td>0.376</td>\n",
       "      <td>0.438</td>\n",
       "    </tr>\n",
       "    <tr>\n",
       "      <th>Total</th>\n",
       "      <td>0.354</td>\n",
       "      <td>0.646</td>\n",
       "      <td>1.000</td>\n",
       "    </tr>\n",
       "  </tbody>\n",
       "</table>\n",
       "</div>"
      ],
      "text/plain": [
       "parents  degree    not  Total\n",
       "teen                         \n",
       "college   0.292  0.270  0.562\n",
       "not       0.062  0.376  0.438\n",
       "Total     0.354  0.646  1.000"
      ]
     },
     "execution_count": 43,
     "metadata": {},
     "output_type": "execute_result"
    }
   ],
   "source": [
    "# Compute OVERALL PROPORTIONS - Percentage, a simple cross-tabulation of two (or more) factors.\n",
    "\n",
    "pd.crosstab(family_college.teen, family_college.parents, margins=True, margins_name=\"Total\", \n",
    "            normalize=True).round(3)"
   ]
  },
  {
   "cell_type": "markdown",
   "metadata": {},
   "source": [
    "### <span style=color:darkgreen>General Multiplication Rule might not be Independent</span>"
   ]
  },
  {
   "cell_type": "markdown",
   "metadata": {},
   "source": [
    "<span style=color:blue><b><u>General Multiplication Rule</u></b></span> for events or processes that might <span style=color:red><b><i>not be independent</i></b></span>."
   ]
  },
  {
   "cell_type": "markdown",
   "metadata": {},
   "source": [
    "<div class=\"alert alert-warning alert-warning\">If $A$ and $B$ represent <b><em>two outcomes or events</em></b>, then:   \n",
    "\n",
    "\\begin{align*}P(A\\hspace{2mm}and\\hspace{2mm}B) =\n",
    "P(A|B)\\hspace{3mm}x\\hspace{3mm}P(B)\\end{align*}\n",
    "\n",
    "* The vertical bar <b>“|”</b> is read as <b>given</b>.\n",
    "* It is useful to think of $A$ as the outcome of interest and $B$ as the condition.\n",
    "</div>"
   ]
  },
  {
   "cell_type": "markdown",
   "metadata": {},
   "source": [
    "This <span style=color:blue><b><u>General Multiplication Rule</u></b></span> is simply a **rearrangement** of the definition for <span style=color:blue><b><u>Conditional Probability</u></b></span> equation."
   ]
  },
  {
   "cell_type": "markdown",
   "metadata": {},
   "source": [
    "### <span style=color:darkgreen>Sum of Conditional Probabilities</span>"
   ]
  },
  {
   "cell_type": "markdown",
   "metadata": {},
   "source": [
    "<div class=\"alert alert-warning alert-warning\">Let $A_1$, ..., $A_k$ represent all the <b><em>disjoint outcomes</em></b> for a variable or process. Then if $B$ is an event, possibly for another variable or process, we have:\n",
    "\n",
    "\\begin{align*}P(A_1|B)\\hspace{2mm}+\\hspace{2mm}...+\\hspace{2mm}P(A_k|B) =\n",
    "1\\end{align*}   \n",
    "  $%$   \n",
    "The rule for <b><u>complements</u></b> also holds when an event and its complement are conditioned on the same information:   \n",
    "$%$   \n",
    "\\begin{align*}P(A|B) = 1 - P(A^{c}|B)\\end{align*}\n",
    "\n",
    "* The vertical bar <b>“|”</b> is read as <b>given</b>.\n",
    "</div> "
   ]
  },
  {
   "cell_type": "markdown",
   "metadata": {},
   "source": [
    "### <span style=color:darkgreen>Independence considerations in conditional probability</span>"
   ]
  },
  {
   "cell_type": "markdown",
   "metadata": {},
   "source": [
    "If two <span style=color:blue>events</span> are <span style=color:blue>independent</span>, then knowing the outcome of one <span style=color:blue>should provide no information</span> about the other.   \n",
    "\n",
    "We can show this is <span style=color:blue>mathematically true</span> using <span style=color:blue><b><u>conditional probabilities</u></b></span>."
   ]
  },
  {
   "cell_type": "markdown",
   "metadata": {
    "ExecuteTime": {
     "end_time": "2019-09-06T16:19:30.495437Z",
     "start_time": "2019-09-06T16:19:30.489453Z"
    },
    "solution2": "hidden",
    "solution2_first": true
   },
   "source": [
    "<span style=color:red><b><u>EXERCISE - 2.7</u></b></span> \n",
    "\n",
    "<em>Let $X$ and $Y$ represent the <span style=color:blue>outcomes</span> of rolling two dice. \n",
    "    \n",
    "1. What is the <span style=color:blue>probability</span> that the first die, $X$, is 1?\n",
    "2. What is the <span style=color:blue>probability</span> that both X and $Y$ are 1?\n",
    "3. Use the formula for <span style=color:blue>conditional probability</span> to compute $P(Y = 1 | X = 1)$.\n",
    "4. What is $P(Y = 1)$? Is this different from the answer from part (3)? Explain.</em>"
   ]
  },
  {
   "cell_type": "markdown",
   "metadata": {
    "ExecuteTime": {
     "end_time": "2019-09-06T16:19:30.495437Z",
     "start_time": "2019-09-06T16:19:30.489453Z"
    },
    "solution2": "hidden"
   },
   "source": [
    "<span style=color:green><b><u>SOLUTION - 2.7:</u></b></span> \n",
    "\n",
    "Brief solutions: \n",
    "1. 1/6, \n",
    "2. 1/36,\n",
    "3. $\\frac{P(Y=1\\hspace{2mm}and\\hspace{2mm}X= 1)}{P(X=1)}\\hspace{2mm}=\\hspace{2mm}\\frac{1/36}{1/6}\\hspace{2mm}=\\hspace{2mm}\\frac{1}{6}$. \n",
    "4. The probability is the same as in part (3) : $P(Y = 1)\\hspace{1mm}=\\hspace{1mm}1/6$. The probability that $Y = 1$ was **unchanged** by knowledge about $X$, which makes sense as $X$ and $Y$ are <b>independent</b>."
   ]
  },
  {
   "cell_type": "markdown",
   "metadata": {},
   "source": [
    "We can show that the <span style=color:blue>conditioning information</span> has **no influence** by using the <span style=color:blue><b><u>Multiplication Rule</u></b></span> for ***independence processes*** : \n",
    "\n",
    "\\begin{align*}\n",
    "P(Y = 1 | X = 1) =\n",
    "\\frac{P(Y = 1\\hspace{2mm}and\\hspace{2mm} X = 1)}{P(X = 1)}\\end{align*}\n",
    "\n",
    "\\begin{align*}\n",
    "= \\frac{P(Y = 1)\\hspace{2mm}x\\hspace{2mm}P(X = 1)}{P(X = 1)}\n",
    "\\end{align*}\n",
    "\n",
    "\\begin{align*}\n",
    "= P(Y = 1)\\end{align*}"
   ]
  },
  {
   "cell_type": "markdown",
   "metadata": {},
   "source": [
    "---"
   ]
  },
  {
   "attachments": {
    "IT%20Logo.png": {
     "image/png": "[encoded data removed]"
    }
   },
   "cell_type": "markdown",
   "metadata": {},
   "source": [
    "![IT%20Logo.png](attachment:IT%20Logo.png)"
   ]
  }
 ],
 "metadata": {
  "kernelspec": {
   "display_name": "Python 3",
   "language": "python",
   "name": "python3"
  },
  "language_info": {
   "codemirror_mode": {
    "name": "ipython",
    "version": 3
   },
   "file_extension": ".py",
   "mimetype": "text/x-python",
   "name": "python",
   "nbconvert_exporter": "python",
   "pygments_lexer": "ipython3",
   "version": "3.7.0"
  },
  "toc": {
   "base_numbering": 1,
   "nav_menu": {},
   "number_sections": true,
   "sideBar": true,
   "skip_h1_title": false,
   "title_cell": "Table of Contents",
   "title_sidebar": "Contents",
   "toc_cell": false,
   "toc_position": {
    "height": "calc(100% - 180px)",
    "left": "10px",
    "top": "150px",
    "width": "338.438px"
   },
   "toc_section_display": true,
   "toc_window_display": false
  },
  "varInspector": {
   "cols": {
    "lenName": 16,
    "lenType": 16,
    "lenVar": 40
   },
   "kernels_config": {
    "python": {
     "delete_cmd_postfix": "",
     "delete_cmd_prefix": "del ",
     "library": "var_list.py",
     "varRefreshCmd": "print(var_dic_list())"
    },
    "r": {
     "delete_cmd_postfix": ") ",
     "delete_cmd_prefix": "rm(",
     "library": "var_list.r",
     "varRefreshCmd": "cat(var_dic_list()) "
    }
   },
   "types_to_exclude": [
    "module",
    "function",
    "builtin_function_or_method",
    "instance",
    "_Feature"
   ],
   "window_display": false
  }
 },
 "nbformat": 4,
 "nbformat_minor": 2
}
