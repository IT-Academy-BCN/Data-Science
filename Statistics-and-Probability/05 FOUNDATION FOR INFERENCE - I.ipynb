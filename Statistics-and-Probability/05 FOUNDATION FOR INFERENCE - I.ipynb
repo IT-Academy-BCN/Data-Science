{
 "cells": [
  {
   "attachments": {
    "Logo_Eurecat%20Academy.gif": {
     "image/gif": "[encoded data removed]"
    }
   },
   "cell_type": "markdown",
   "metadata": {},
   "source": [
    "![Logo_Eurecat%20Academy.gif](attachment:Logo_Eurecat%20Academy.gif)"
   ]
  },
  {
   "cell_type": "markdown",
   "metadata": {},
   "source": [
    "<div class=\"alert alert-block alert-info\">\\begin{align*}Alex\\:Kumenius - Business\\hspace{2mm}Intelligence\\hspace{2mm}Data\\hspace{2mm}Scientist\\end{align*}\n",
    "<br/><br/>\n",
    "\\begin{align*}Date : November\\hspace{2mm}09^{th}\\hspace{2mm}2020\\end{align*}</div>"
   ]
  },
  {
   "cell_type": "markdown",
   "metadata": {},
   "source": [
    "# <span style=color:darkblue>FOUNDATION FOR INFERENCE</span>"
   ]
  },
  {
   "cell_type": "markdown",
   "metadata": {},
   "source": [
    "<div class=\"alert alert-warning alert-warning\"><b><u>Statistical Inference</u></b>   \n",
    "<br/><br/>\n",
    "<b><u>Statistical inference</u></b> is concerned primarily with understanding the <i><u>quality of parameter estimates</u></i>.   \n",
    "<br/><br/>\n",
    "For example, a <span style=color:blue>classic inferential</span> question is :   \n",
    "<br/><br/>\n",
    "<span style=color:blue><i>“How sure are we that the estimated mean, $\\bar{x}$, is near the true population mean, $\\mu$ ?”</i></span>   \n",
    "<br/><br/>\n",
    "While the equations and details change depending on the setting, the foundations for inference are the same throughout all of statistics.\n",
    "</div>"
   ]
  },
  {
   "cell_type": "markdown",
   "metadata": {},
   "source": [
    "<span style=color:darkblue><b><u>Youth Risk Behavior Surveillance System (YRBSS) Dataset</u></b></span>"
   ]
  },
  {
   "cell_type": "code",
   "execution_count": null,
   "metadata": {
    "ExecuteTime": {
     "end_time": "2020-11-09T17:15:02.573199Z",
     "start_time": "2020-11-09T17:15:00.966503Z"
    }
   },
   "outputs": [],
   "source": [
    "import os\n",
    "import pandas as pd\n",
    "import matplotlib.pyplot as plt\n",
    "import matplotlib\n",
    "import seaborn as sns"
   ]
  },
  {
   "cell_type": "code",
   "execution_count": null,
   "metadata": {
    "ExecuteTime": {
     "end_time": "2020-11-09T17:15:05.443573Z",
     "start_time": "2020-11-09T17:15:05.350822Z"
    }
   },
   "outputs": [],
   "source": [
    "data = 'D:\\Documents\\EureCat\\Formacion\\Eurecat 2019\\BTS\\Datasets\\yrbss.csv'\n",
    "yrbss = pd.read_csv(data, index_col=0, usecols=[0,1,2,3,6,7,8,10,12])"
   ]
  },
  {
   "cell_type": "code",
   "execution_count": null,
   "metadata": {
    "ExecuteTime": {
     "end_time": "2020-11-09T17:15:09.153999Z",
     "start_time": "2020-11-09T17:15:09.147015Z"
    }
   },
   "outputs": [],
   "source": [
    "yrbss.shape"
   ]
  },
  {
   "cell_type": "code",
   "execution_count": null,
   "metadata": {
    "ExecuteTime": {
     "end_time": "2020-11-09T17:15:16.123168Z",
     "start_time": "2020-11-09T17:15:16.100191Z"
    }
   },
   "outputs": [],
   "source": [
    "yrbss.head()"
   ]
  },
  {
   "cell_type": "code",
   "execution_count": null,
   "metadata": {
    "ExecuteTime": {
     "end_time": "2020-11-09T17:16:16.168155Z",
     "start_time": "2020-11-09T17:16:16.115296Z"
    },
    "scrolled": true
   },
   "outputs": [],
   "source": [
    "yrbss.describe().round(3)"
   ]
  },
  {
   "cell_type": "markdown",
   "metadata": {},
   "source": [
    "## <span style=color:darkred>Extra Content No related to the lecture - Missing Values NaN Percentage - 03/11/2020</span>"
   ]
  },
  {
   "cell_type": "code",
   "execution_count": null,
   "metadata": {
    "ExecuteTime": {
     "end_time": "2020-11-09T17:17:22.041505Z",
     "start_time": "2020-11-09T17:17:22.016570Z"
    }
   },
   "outputs": [],
   "source": [
    "yrbss.isnull().sum()"
   ]
  },
  {
   "cell_type": "code",
   "execution_count": null,
   "metadata": {
    "ExecuteTime": {
     "end_time": "2020-11-09T17:17:36.846744Z",
     "start_time": "2020-11-09T17:17:36.825827Z"
    }
   },
   "outputs": [],
   "source": [
    "round((yrbss.isnull().sum())*100 / len(yrbss), 2)"
   ]
  },
  {
   "cell_type": "code",
   "execution_count": null,
   "metadata": {
    "ExecuteTime": {
     "end_time": "2020-11-09T17:18:37.252723Z",
     "start_time": "2020-11-09T17:18:37.229785Z"
    }
   },
   "outputs": [],
   "source": [
    "# Select NaN values per Variable\n",
    "percent_missing = round(yrbss.isnull().sum() * 100 / len(yrbss),2)\n",
    "\n",
    "# Create a New Dataframe object to store Missing Values Normalize \n",
    "missing_value_df = pd.DataFrame({'column_name': yrbss.columns,\n",
    "                                 'percent_missing': percent_missing })\n",
    "missing_value_df"
   ]
  },
  {
   "cell_type": "code",
   "execution_count": null,
   "metadata": {
    "ExecuteTime": {
     "end_time": "2020-11-09T17:21:03.618319Z",
     "start_time": "2020-11-09T17:21:03.603360Z"
    }
   },
   "outputs": [],
   "source": [
    "# If we want the missing percentages sorted, follow the above with:\n",
    "\n",
    "missing_value_df.sort_values('percent_missing', inplace=True, ascending = False)\n",
    "missing_value_df"
   ]
  },
  {
   "cell_type": "code",
   "execution_count": null,
   "metadata": {
    "ExecuteTime": {
     "end_time": "2020-11-09T17:22:41.026317Z",
     "start_time": "2020-11-09T17:22:41.004374Z"
    }
   },
   "outputs": [],
   "source": [
    "((yrbss.isnull() | yrbss.isna()).sum() * 100 / yrbss.index.size).round(2)"
   ]
  },
  {
   "cell_type": "markdown",
   "metadata": {},
   "source": [
    "## <span style=color:darkgreen>VARIABILITY IN ESTIMATES</span> "
   ]
  },
  {
   "cell_type": "markdown",
   "metadata": {},
   "source": [
    "### <span style=color:darkred>Point Estimate</span>"
   ]
  },
  {
   "cell_type": "markdown",
   "metadata": {},
   "source": [
    "We want to estimate the <span style=color:blue><b>population mean ( $\\mu$ )</b></span> based on the <span style=color:blue><b>sample</b></span>.   \n",
    "\n",
    "The most intuitive way to go about doing this is to simply take the <span style=color:blue><b>sample mean</b></span>."
   ]
  },
  {
   "cell_type": "markdown",
   "metadata": {},
   "source": [
    "For instance to <span style=color:blue>estimate the average</span> height of all YRBSS students, take the average height for the <span style=color:blue><b>sample.</b></span>"
   ]
  },
  {
   "cell_type": "markdown",
   "metadata": {},
   "source": [
    "\\begin{align*}\\bar{x}_{height}\\hspace{2mm}=\\hspace{2mm}\\frac{1.50 + 1.78 + · · · + 1.70}{100}\\hspace{2mm}= 1.697\\end{align*}"
   ]
  },
  {
   "cell_type": "markdown",
   "metadata": {},
   "source": [
    "or we could used the python's <span style=color:blue>describe() method</span> :"
   ]
  },
  {
   "cell_type": "code",
   "execution_count": null,
   "metadata": {
    "ExecuteTime": {
     "end_time": "2020-11-09T17:25:04.317600Z",
     "start_time": "2020-11-09T17:25:04.302639Z"
    }
   },
   "outputs": [],
   "source": [
    "data_s = 'D:\\Documents\\EureCat\\Formacion\\Eurecat 2019\\BTS\\Datasets\\yrbss_samp.csv'\n",
    "yrbss_s = pd.read_csv(data_s, index_col=0, usecols=[0,1,2,3,6,7,8,10,12])"
   ]
  },
  {
   "cell_type": "code",
   "execution_count": null,
   "metadata": {
    "ExecuteTime": {
     "end_time": "2020-11-09T17:25:23.687313Z",
     "start_time": "2020-11-09T17:25:23.635648Z"
    }
   },
   "outputs": [],
   "source": [
    "yrbss_s.describe().round(3)"
   ]
  },
  {
   "cell_type": "code",
   "execution_count": null,
   "metadata": {
    "ExecuteTime": {
     "end_time": "2020-11-09T17:26:54.667316Z",
     "start_time": "2020-11-09T17:26:54.625427Z"
    }
   },
   "outputs": [],
   "source": [
    "yrbss.describe().round(3)"
   ]
  },
  {
   "cell_type": "markdown",
   "metadata": {},
   "source": [
    "The <span style=color:blue>sample mean</span> <b>$\\bar{x}_{height}\\hspace{2mm}=\\hspace{2mm} 1.697$</b> meters is called a <span style=color:blue><b>point estimate</b></span> of the <span style=color:blue>population mean</span>: if we can only choose one value to estimate the <span style=color:blue>population mean</span>, this is our best guess."
   ]
  },
  {
   "cell_type": "markdown",
   "metadata": {},
   "source": [
    "Suppose we take a <b>NEW</b> <span style=color:blue>sample</span> of <b>100 people</b> and recompute the <span style=color:blue>mean</span>;   \n",
    "\n",
    "We will not get the <i><b>exact same answer</b></i> that we got using the <b>yrbss_samp</b> dataset. The reason is that <span style=color:blue><u>estimates</u></span> generally vary from one sample to another, and this <span style=color:blue><u><b>sampling variation</b></u></span> suggests our estimate may be <span style=color:blue><b>close</b></span>, but it <span style=color:red><i><b>will not be exactly equal</b> to the parameter</i></span>."
   ]
  },
  {
   "cell_type": "markdown",
   "metadata": {},
   "source": [
    "We can also estimate the <span style=color:blue>average</span> <b>weight</b> of $YRBSS$ respondents by examining the <span style=color:blue>sample mean</span> of <b>weight (in kg)</b>, and <span style=color:blue>average</span> <b>number of days physically active in a week</b> :"
   ]
  },
  {
   "cell_type": "markdown",
   "metadata": {},
   "source": [
    "\\begin{align*}\\bar{x}_{weight} = \\frac{52.6 + 74.8 + · · · + 55.8}{100} = 68.89\\:Kg\\hspace{2mm}or\\hspace{2mm}151.6\\hspace{2mm}pounds\\end{align*}"
   ]
  },
  {
   "cell_type": "markdown",
   "metadata": {},
   "source": [
    "\\begin{align*}\\bar{x}_{active} = \\frac{0 + 7+· · · + 1}{100} = 3.75\\end{align*}"
   ]
  },
  {
   "cell_type": "code",
   "execution_count": null,
   "metadata": {
    "ExecuteTime": {
     "end_time": "2020-11-09T17:35:09.024285Z",
     "start_time": "2020-11-09T17:35:08.277191Z"
    }
   },
   "outputs": [],
   "source": [
    "fig = plt.figure(figsize=(10,8))\n",
    "\n",
    "ax1 = fig.add_subplot(2, 2, 1)\n",
    "\n",
    "### Figures and Subplots\n",
    "# fig = plt.figure()\n",
    "\n",
    "ax1.hist(yrbss_s['height'], bins=15)\n",
    "plt.title('YRBSS - Heights')\n",
    "plt.ylabel('Frequency')\n",
    "plt.xlabel('Heights')\n",
    "\n",
    "ax2 = fig.add_subplot(2, 2, 2)\n",
    "\n",
    "ax2.hist(yrbss_s['weight'], bins=15)\n",
    "plt.title('YRBSS - Heights')\n",
    "plt.xlabel('Weights')\n",
    "\n",
    "ax3 = fig.add_subplot(2, 2, 3)\n",
    "\n",
    "ax3.hist(yrbss_s['physically_active_7d'], bins=7)\n",
    "plt.xlabel('YRBSS - Physically Active (7 days)')\n",
    "plt.ylabel('Frequency')\n",
    "\n",
    "ax4 = fig.add_subplot(2, 2, 4)\n",
    "\n",
    "ax4.hist(yrbss_s['strength_training_7d'], bins=7)\n",
    "plt.xlabel('YRBSS - Strength Training - (7 days)')\n",
    "\n",
    "plt.show()"
   ]
  },
  {
   "cell_type": "markdown",
   "metadata": {},
   "source": [
    "What about generating <span style=color:blue>point estimates</span> of other <span style=color:blue><b>population parameters</b></span>, such as\n",
    "the <span style=color:blue><i>population median</i></span> or <span style=color:blue><i>population standard deviation</i></span>? Once again we might <span style=color:blue><b>estimate parameters</b></span> based on <span style=color:blue><b>sample statistics</b></span>. \n",
    "    \n",
    "For example, the <span style=color:blue>population standard deviation</span> of <span style=color:blue><u>YRBSS - Physically Active</u></span> using the <span style=color:blue>sample standard deviation</span>, <b>2.56 days</b>."
   ]
  },
  {
   "cell_type": "code",
   "execution_count": null,
   "metadata": {
    "ExecuteTime": {
     "end_time": "2020-11-09T17:37:20.612030Z",
     "start_time": "2020-11-09T17:37:20.604051Z"
    }
   },
   "outputs": [],
   "source": [
    "# Standard deviations from estimate parameter 'physically_active_7d' and sample statistic \n",
    "yrbss['physically_active_7d'].std().round(3), yrbss_s['physically_active_7d'].std().round(3)"
   ]
  },
  {
   "cell_type": "code",
   "execution_count": null,
   "metadata": {
    "ExecuteTime": {
     "end_time": "2020-11-09T17:38:04.730239Z",
     "start_time": "2020-11-09T17:38:04.722263Z"
    }
   },
   "outputs": [],
   "source": [
    "yrbss_s.columns"
   ]
  },
  {
   "cell_type": "markdown",
   "metadata": {},
   "source": [
    "<span style=color:red><b><u>EXERCISE - 6.1</u></b></span>\n",
    "\n",
    "Suppose we want to estimate the <b><i>difference in days active</i></b> for <span style=color:blue>man and woman</span>.  If $\\bar{x}_{men}$ = 4.3 and $\\bar{x}_{women}$ = 3.2, then what would be a good <span style=color:blue>point estimate</span> for the <span style=color:blue><b><u>population - $\\mu$</u></b></span> difference?"
   ]
  },
  {
   "cell_type": "code",
   "execution_count": null,
   "metadata": {
    "ExecuteTime": {
     "end_time": "2020-11-09T17:40:22.621723Z",
     "start_time": "2020-11-09T17:40:22.608797Z"
    }
   },
   "outputs": [],
   "source": [
    "# isolate two variable of interest 'gender' and 'physically_active_7d'\n",
    "df1 = yrbss_s.iloc[ : , [1,6]]\n",
    "df1.head()"
   ]
  },
  {
   "cell_type": "code",
   "execution_count": null,
   "metadata": {
    "ExecuteTime": {
     "end_time": "2020-11-09T17:41:08.375753Z",
     "start_time": "2020-11-09T17:41:08.358798Z"
    },
    "scrolled": true
   },
   "outputs": [],
   "source": [
    "df2 = df1.groupby(by=['gender'],axis=0).mean().round(1)\n",
    "df2"
   ]
  },
  {
   "cell_type": "markdown",
   "metadata": {},
   "source": [
    "<span style=color:green><b><u>SOLUTION - 6.1</u></b></span>\n",
    "\n",
    "We could take the difference of the two <span style=color:blue>sample means</span>: <b>4.3 - 3.2 = 1.1</b>. Men are physically active about <b>1.1 days per week</b> more than women on average in YRBSS."
   ]
  },
  {
   "cell_type": "code",
   "execution_count": null,
   "metadata": {
    "ExecuteTime": {
     "end_time": "2020-11-09T17:42:50.583371Z",
     "start_time": "2020-11-09T17:42:50.563420Z"
    }
   },
   "outputs": [],
   "source": [
    "# Add a Diff's row level, with the resulting value of substract male vs female mean\n",
    "df2.loc['Diff'] = df2.loc['male'] - df2.loc['female']\n",
    "df2"
   ]
  },
  {
   "cell_type": "markdown",
   "metadata": {},
   "source": [
    "<span style=color:red><b><u>EXERCISE - 6.2</u></b></span>\n",
    "\n",
    "If you had to provide a <span style=color:blue>point estimate</span> of the <span style=color:blue><b><u>population - $\\mu$</u></b></span> $IQR$ for the heights of participants, how might you make such an estimate using a <span style=color:blue>sample</span> ?"
   ]
  },
  {
   "cell_type": "markdown",
   "metadata": {},
   "source": [
    "<span style=color:green><b><u>SOLUTION - 6.2</u></b></span>\n",
    "\n",
    "To obtain a <span style=color:blue>point estimate</span> of the <span style=color:blue>height</span> for the <b>full set of $YRBSS$ students</b> ( <span style=color:blue>population $\\sigma$ )</span>, we could take the <span style=color:blue><b><u>IQR of the sample</u></b></span>."
   ]
  },
  {
   "cell_type": "code",
   "execution_count": null,
   "metadata": {
    "ExecuteTime": {
     "end_time": "2020-11-09T17:44:16.156585Z",
     "start_time": "2020-11-09T17:44:16.148618Z"
    }
   },
   "outputs": [],
   "source": [
    "# checking the median and mean from \"physically_active_7d\"\n",
    "np.median(df2[\"physically_active_7d\"].values), np.mean(df2[\"physically_active_7d\"].values).round(3) "
   ]
  },
  {
   "cell_type": "code",
   "execution_count": null,
   "metadata": {
    "ExecuteTime": {
     "end_time": "2020-11-09T17:44:35.965344Z",
     "start_time": "2020-11-09T17:44:35.942407Z"
    }
   },
   "outputs": [],
   "source": [
    "df2.describe().round(3)"
   ]
  },
  {
   "cell_type": "code",
   "execution_count": null,
   "metadata": {
    "ExecuteTime": {
     "end_time": "2020-11-09T17:45:32.056374Z",
     "start_time": "2020-11-09T17:45:32.048395Z"
    }
   },
   "outputs": [],
   "source": [
    "# isolating the sample statistics of interest into diff variables\n",
    "\n",
    "Q1, Median, Q3 = df2.physically_active_7d.quantile([0.25,0.5,0.75])\n",
    "round(Q1, ndigits=2), Median, round(Q3, ndigits=2)"
   ]
  },
  {
   "cell_type": "code",
   "execution_count": null,
   "metadata": {
    "ExecuteTime": {
     "end_time": "2020-11-09T17:45:50.472209Z",
     "start_time": "2020-11-09T17:45:50.466225Z"
    }
   },
   "outputs": [],
   "source": [
    "IRQ = Q3 - Q1\n",
    "round(IRQ, ndigits=2)"
   ]
  },
  {
   "cell_type": "markdown",
   "metadata": {},
   "source": [
    "<div class=\"alert alert-warning alert-warning\"><b><u>Running Mean</u></b>   \n",
    "<br/><br/>\n",
    "<b>Point estimates</b> are <span style=color:red><b>not exact</b></span>, but they get better as more data become available. \n",
    "<br/><br/>\n",
    "A <b><u>Running Mean</u></b> is a sequence of <b>means</b>, where each <b>mean</b> uses one more observation in its calculation than the <b>mean</b> directly before it in the sequence.\n",
    "</div>"
   ]
  },
  {
   "cell_type": "markdown",
   "metadata": {},
   "source": [
    "For example, \n",
    "\n",
    "The second <b><i>mean</i></b> in the sequence is the <b><i>average</i></b> of the first two observations and the third in the sequence is the <b><i>average</i></b> of the first three. The <span style=color:blue>running mean</span> for the $active$ variable in the <b><i>yrbss_samp</i></b> approaches the <b><u>true</u></b> <span style=color:blue>population average</span>, <b>3.90 days</b>, as more data become available."
   ]
  },
  {
   "cell_type": "code",
   "execution_count": null,
   "metadata": {
    "ExecuteTime": {
     "end_time": "2020-11-09T17:46:42.512315Z",
     "start_time": "2020-11-09T17:46:42.504337Z"
    }
   },
   "outputs": [],
   "source": [
    "yrbss.physically_active_7d.mean().round(2)"
   ]
  },
  {
   "cell_type": "code",
   "execution_count": null,
   "metadata": {
    "ExecuteTime": {
     "end_time": "2020-11-09T17:47:15.591955Z",
     "start_time": "2020-11-09T17:47:15.318188Z"
    }
   },
   "outputs": [],
   "source": [
    "import numpy as np\n",
    "from matplotlib import pyplot as plt\n",
    "from pylab import rcParams\n",
    "\n",
    "var = (yrbss_s.physically_active_7d)\n",
    "data = []\n",
    "for i in range(var.size):\n",
    "    data.append(var[:i + 1].mean())\n",
    "    \n",
    "rcParams['figure.figsize'] = 10, 5 # matplotlib parameters\n",
    "plt.gca().yaxis.grid(True)\n",
    "plt.xlabel(\"Sample Size\")\n",
    "plt.ylabel(\"Running mean of days physically active per week\")\n",
    "\n",
    "plt.plot(data)\n",
    "plt.show()"
   ]
  },
  {
   "cell_type": "markdown",
   "metadata": {},
   "source": [
    "<span style=color:blue><b>Sample point estimates</b></span> only approximate the <span style=color:blue>population parameter</span>, and they vary from one <span style=color:blue><b>sample</b></span> to another."
   ]
  },
  {
   "cell_type": "markdown",
   "metadata": {},
   "source": [
    "If we take another <span style=color:blue>simple random sample</span> of the $YRBSS$ students dataset, we will find that the <span style=color:blue>sample mean</span> for the $number\\:of\\:days\\:active$ will be a little different. \n",
    "\n",
    "It will be useful to <span style=color:blue>quantify how <b>variable an estimate</b> is from one <b>sample</b> to another</span>. \n",
    "\n",
    "- If the <span style=color:blue>variability is <b><u>small</u></b></span>, <i>(in other words, the <span style=color:blue>sample mean</span> <span style=color:red><b>doesn’t</b></span> change much from one <span style=color:blue>sample</span> to another)</i>, then that <b>estimate</b> is probably <span style=color:blue><b><u>very accurate</u></b></span>.   \n",
    "$%$   \n",
    "- However, If it <span style=color:blue>varies <b><u>widely</u></b></span> from one <span style=color:blue>sample</span> to another, then we <span style=color:red><b>will not expect</b></span> our <b>estimate</b> to be <span style=color:blue><b><u>very good</u></b></span>."
   ]
  },
  {
   "cell_type": "markdown",
   "metadata": {},
   "source": [
    "## <span style=color:darkgreen>STANDARD ERROR of the MEAN</span> "
   ]
  },
  {
   "cell_type": "markdown",
   "metadata": {},
   "source": [
    "### <span style=color:darkred>Sampling Distribution</span> "
   ]
  },
  {
   "cell_type": "markdown",
   "metadata": {},
   "source": [
    "<div class=\"alert alert-warning alert-warning\"><b><u>Sampling Distribution</u></b>   \n",
    "<br/><br/>\n",
    "The <b><u>Sampling Distribution</u></b> represents the <b>distribution</b> of the <b><i><u>point estimates</u></i></b> based on <b>samples</b> of a fixed size from a certain <b>population</b>.   \n",
    "<br/><br/>\n",
    "It is useful to think of a particular <b>point estimate</b> as being drawn from such a distribution.   \n",
    "<br/><br/>\n",
    "Understanding the concept of a <b><u>Sampling Distribution</u></b> is central to understanding <b><u>statistical inference</u></b>.\n",
    "</div>"
   ]
  },
  {
   "cell_type": "code",
   "execution_count": null,
   "metadata": {
    "ExecuteTime": {
     "end_time": "2020-11-09T17:49:13.223036Z",
     "start_time": "2020-11-09T17:49:13.203091Z"
    }
   },
   "outputs": [],
   "source": [
    "yrbss_s.physically_active_7d.describe().round(2)"
   ]
  },
  {
   "cell_type": "code",
   "execution_count": null,
   "metadata": {
    "ExecuteTime": {
     "end_time": "2020-11-09T17:49:51.095881Z",
     "start_time": "2020-11-09T17:49:51.088900Z"
    }
   },
   "outputs": [],
   "source": [
    "data1 = pd.DataFrame(data[1:])\n",
    "data1.shape"
   ]
  },
  {
   "cell_type": "code",
   "execution_count": null,
   "metadata": {
    "ExecuteTime": {
     "end_time": "2020-11-09T17:49:56.703701Z",
     "start_time": "2020-11-09T17:49:56.697720Z"
    },
    "scrolled": true
   },
   "outputs": [],
   "source": [
    "data1.columns"
   ]
  },
  {
   "cell_type": "code",
   "execution_count": null,
   "metadata": {
    "ExecuteTime": {
     "end_time": "2020-11-09T17:52:17.970773Z",
     "start_time": "2020-11-09T17:52:17.964791Z"
    }
   },
   "outputs": [],
   "source": [
    "data1.rename(columns={0:'Physical'}, inplace=True)"
   ]
  },
  {
   "cell_type": "code",
   "execution_count": null,
   "metadata": {
    "ExecuteTime": {
     "end_time": "2020-11-09T17:52:21.026126Z",
     "start_time": "2020-11-09T17:52:21.009170Z"
    },
    "scrolled": true
   },
   "outputs": [],
   "source": [
    "data1.head().round(3)"
   ]
  },
  {
   "cell_type": "code",
   "execution_count": null,
   "metadata": {
    "ExecuteTime": {
     "end_time": "2020-11-09T17:53:33.809600Z",
     "start_time": "2020-11-09T17:53:33.031159Z"
    }
   },
   "outputs": [],
   "source": [
    "fig = plt.figure(figsize=(15,5))\n",
    "matplotlib.rc('axes',grid = True)\n",
    "\n",
    "ax1 = fig.add_subplot(1, 2, 1)\n",
    "\n",
    "ax1.hist(data1['Physical'], bins=7)\n",
    "plt.title('yrbss_s - Sampling Dsitribution', fontsize = 18, pad=10.0)\n",
    "plt.ylabel('Frequency')\n",
    "plt.xlabel('Physical')\n",
    "\n",
    "ax2 = fig.add_subplot(1, 2, 2)\n",
    "\n",
    "#ax2.np.log(data1).plot.hist(bins=7)\n",
    "ax2.hist(np.log(data1['Physical']), bins=7)\n",
    "plt.title('yrbss_s $log_e$ - Sampling Dsitribution', fontsize = 18, pad=10.0)\n",
    "plt.xlabel('Physical $log_e$')\n",
    "\n",
    "plt.show()"
   ]
  },
  {
   "cell_type": "markdown",
   "metadata": {},
   "source": [
    "The <span style=color:blue>Sampling Distribution</span> shown above is <span style=color:blue><b>Unimodal</b></span> and approximately <span style=color:blue><b>Symmetric</b></span>. It is also centered exactly at the true population mean: $\\mu$ = $3.90$. Intuitively, this makes sense. The <span style=color:blue><b>sample means</b></span> should tend to <b><u>“fall around”</u></b> the <span style=color:blue><b>population mean</b></span>."
   ]
  },
  {
   "cell_type": "code",
   "execution_count": null,
   "metadata": {
    "ExecuteTime": {
     "end_time": "2020-11-08T18:39:38.249392Z",
     "start_time": "2020-11-08T18:39:38.229462Z"
    }
   },
   "outputs": [],
   "source": [
    "data1.describe().round(2)"
   ]
  },
  {
   "cell_type": "markdown",
   "metadata": {},
   "source": [
    "### <span style=color:darkred>Verify our Distribution is Fairly Normal with a Probability Plot</span>  "
   ]
  },
  {
   "cell_type": "markdown",
   "metadata": {},
   "source": [
    "The distribution of <span style=color:blue>physically_active_7d</span> of YRBSS is well approximated\n",
    "by the normal model. We are interested in proceeding under the <span style=color:blue>assumption</span> that the data are <span style=color:blue><b>normally distributed</b></span>, but <span style=color:blue><u>first we must check to see if this is reasonable</u></span>."
   ]
  },
  {
   "cell_type": "markdown",
   "metadata": {},
   "source": [
    "There are two visual methods for checking the assumption of normality, which can be implemented and interpreted quickly :   \n",
    "\n",
    "1. The first is a <span style=color:blue>simple histogram</span> with the <span style=color:blue>best fitting normal curve</span> overlaid on the plot, The <span style=color:blue>sample mean $\\bar x$</span> and <span style=color:blue>standard deviation $s$</span> are used as the <b>parameters</b> of the <span style=color:blue>best fitting normal curve</span>. The <i>closer this curve fits the histogram</i>, the <i>more reasonable the normal model assumption</i>.   \n",
    "$\\thinspace$\n",
    "2. Another more common method is examining a <span style=color:blue><b>Normal Probability Plot</b></span>. The <span style=color:blue><b><u>closer</u></b></span> the points are to a <span style=color:blue><b>*perfect straight line*</b></span>, the <span style=color:blue>more <b>confident</b></span> we can be that the data follow the <span style=color:blue><u>normal model</u></span>."
   ]
  },
  {
   "cell_type": "code",
   "execution_count": null,
   "metadata": {
    "ExecuteTime": {
     "end_time": "2020-11-09T17:57:27.697768Z",
     "start_time": "2020-11-09T17:57:27.130764Z"
    }
   },
   "outputs": [],
   "source": [
    "import scipy.stats as stats\n",
    "\n",
    "fig = plt.figure(figsize=(15,5))\n",
    "\n",
    "ax5 = fig.add_subplot(1, 2, 1)\n",
    "\n",
    "ax5.hist(data1['Physical'], bins=7)\n",
    "plt.title('yrbss_s - Sampling Dsitribution', fontsize = 18, pad=10.0)\n",
    "plt.ylabel('Frequency')\n",
    "plt.xlabel('Physical')\n",
    "\n",
    "# NORMAL PROBABILITY PLOT - Qqx\n",
    "# ------------------------------\n",
    "ax6 = fig.add_subplot(1, 2, 2)\n",
    "\n",
    "mu = data1.mean()\n",
    "sigma = data1.std()\n",
    "nsample = len(data1)\n",
    "\n",
    "Qqx = stats.norm.rvs(loc=mu, scale=sigma, size=nsample)\n",
    "res = stats.probplot(Qqx, plot=plt)\n",
    "plt.title('yrbss_s - Probability QQ Plot', fontsize = 18, pad=10.0)\n"
   ]
  },
  {
   "cell_type": "code",
   "execution_count": null,
   "metadata": {
    "ExecuteTime": {
     "end_time": "2020-11-09T17:58:35.545372Z",
     "start_time": "2020-11-09T17:58:35.520436Z"
    }
   },
   "outputs": [],
   "source": [
    "data1.describe().round(2)"
   ]
  },
  {
   "cell_type": "markdown",
   "metadata": {},
   "source": [
    "The <span style=color:blue>blue dots</span> are the <b>values</b> from <b>data1</b>.\n",
    "\n",
    "<span style=color:blue><b><i>So what is the red line ?</i></b></span>\n",
    "\n",
    "Well, that's our perfect <span style=color:blue><b>perfect</b> normal distribution</span> that takes our <span style=color:blue><b>median</b></span> of <span style=color:blue><b>data1</b></span> values, <b>3.97</b>, and its <span style=color:blue><b>standard deviation</b></span> of <b>0.29</b>, and plots that, as a perfect <span style=color:blue>normal distribution</span>.   \n",
    "\n",
    "Let's add the approximate <span style=color:red><b>red-line ordered values</b></span> for each <span style=color:blue>standard deviation</span> to our table <b>data1</b>."
   ]
  },
  {
   "cell_type": "code",
   "execution_count": null,
   "metadata": {
    "ExecuteTime": {
     "end_time": "2020-11-09T18:03:26.080140Z",
     "start_time": "2020-11-09T18:03:26.074157Z"
    }
   },
   "outputs": [],
   "source": [
    "data1['Qqx'] = Qqx"
   ]
  },
  {
   "cell_type": "code",
   "execution_count": null,
   "metadata": {
    "ExecuteTime": {
     "end_time": "2020-11-09T18:03:29.968361Z",
     "start_time": "2020-11-09T18:03:29.952404Z"
    }
   },
   "outputs": [],
   "source": [
    "data1.head().round(2)"
   ]
  },
  {
   "cell_type": "code",
   "execution_count": null,
   "metadata": {
    "ExecuteTime": {
     "end_time": "2020-11-09T18:04:02.198223Z",
     "start_time": "2020-11-09T18:04:01.601692Z"
    }
   },
   "outputs": [],
   "source": [
    "import scipy.stats as stats\n",
    "fig = plt.figure(figsize=(15,5))\n",
    "\n",
    "ax5 = fig.add_subplot(1, 2, 1)\n",
    "\n",
    "ax5.hist(data1['Physical'], bins=7)\n",
    "plt.title('yrbss_s - Sampling Dsitribution', fontsize = 18, pad=10.0)\n",
    "plt.ylabel('Frequency')\n",
    "plt.xlabel('Physical')\n",
    "\n",
    "ax7 = fig.add_subplot(1, 2, 2)\n",
    "\n",
    "ax7.hist(data1['Qqx'], bins=7)\n",
    "plt.title('yrbss_s - Normal Probability - Qqx', fontsize = 18, pad=10.0)\n",
    "plt.ylabel('Frequency')\n",
    "plt.xlabel('Qqx', fontsize=12 ,labelpad=10.0)"
   ]
  },
  {
   "cell_type": "code",
   "execution_count": null,
   "metadata": {
    "ExecuteTime": {
     "end_time": "2020-11-04T10:26:07.057931Z",
     "start_time": "2020-11-04T10:26:07.030003Z"
    }
   },
   "outputs": [],
   "source": [
    "data1.describe().round(3)"
   ]
  },
  {
   "cell_type": "markdown",
   "metadata": {},
   "source": [
    "### <span style=color:darkred>Standard Error (SE) of an estimate</span> "
   ]
  },
  {
   "cell_type": "markdown",
   "metadata": {},
   "source": [
    "<div class=\"alert alert-warning alert-warning\"><b><u>Standard Error (SE) of an estimate\n",
    "</u></b>   \n",
    "<br/><br/>\n",
    "The <b>standard deviation</b> associated with an <i>estimate</i> is called the <b><u>standard error</u></b>. It describes the <b>typical error</b> or <b>uncertainty</b> associated with the estimate.\n",
    "</div>"
   ]
  },
  {
   "cell_type": "markdown",
   "metadata": {},
   "source": [
    "When considering the case of the <span style=color:blue><b>point estimate $\\bar{x}$</b></span>, there is one problem : \n",
    "\n",
    "there is <span style=color:red>no obvious</span> way to estimate its <span style=color:blue><b><u>standard error (SE)</u></b></span> from a single <span style=color:blue><b><u>sample</u></b></span>. However, statistical theory provides a helpful tool to address this issue."
   ]
  },
  {
   "cell_type": "markdown",
   "metadata": {},
   "source": [
    "<div class=\"alert alert-warning alert-warning\"><b><u>Computing SE for the sample mean</u></b>   \n",
    "<br/><br/>\n",
    "Given $n$ <b>independent observations</b> from a <b><u>population</u></b> with <b>standard deviation</b> $\\sigma$, the <b>standard error</b> of the <b>sample mean</b> is equal to :   \n",
    "<br/><br/>\n",
    "\\begin{align*}SE\\hspace{1mm}=\\hspace{1mm}\\frac{\\sigma}{\\sqrt{n}}\\end{align*}   \n",
    "<br/><br/>\n",
    "<i>A reliable method to <b><u>ensure</u> sample observations are <u>independent</u></b> is to conduct a <b>simple random sample</b> consisting of <b>less</b> than $10$% of the <b>population.</b></i>\n",
    "</div>"
   ]
  },
  {
   "cell_type": "code",
   "execution_count": null,
   "metadata": {
    "ExecuteTime": {
     "end_time": "2020-11-09T18:08:32.671978Z",
     "start_time": "2020-11-09T18:08:32.611137Z"
    }
   },
   "outputs": [],
   "source": [
    "# Summary Statistics of th Population\n",
    "yrbss.describe().round(3)"
   ]
  },
  {
   "cell_type": "code",
   "execution_count": null,
   "metadata": {
    "ExecuteTime": {
     "end_time": "2020-11-09T18:08:43.505381Z",
     "start_time": "2020-11-09T18:08:43.455511Z"
    }
   },
   "outputs": [],
   "source": [
    "yrbss_s.describe().round(3)"
   ]
  },
  {
   "cell_type": "markdown",
   "metadata": {},
   "source": [
    "We can see that the <span style=color:blue><u>sample mean</u></span> has some <span style=color:blue>variability</span> around the <span style=color:blue><b><u>population mean</u></b></span>, which can be quantified using the <span style=color:blue>standard deviation</span> of this distribution of <span style=color:blue>sample means</span>: $\\sigma_{x}$ = $0.26$.\n",
    "\n",
    "The <span style=color:blue>standard deviation</span> of the <span style=color:blue>sample mean</span> tells us <b><i>how far</i></b> the typical point estimate is away from the actual <span style=color:blue><b><u>population mean</u></b></span>, $3.90$ days.   \n",
    "\n",
    "It also describes the <span style=color:blue><b><u>typical error of the point estimate</u></b></span>, so we call this <span style=color:blue>standard deviation</span> the <span style=color:blue><b><u>standard error (SE)</u></b></span> of the estimate."
   ]
  },
  {
   "cell_type": "markdown",
   "metadata": {},
   "source": [
    "In the <span style=color:blue>sample</span> of $100$ students, the <span style=color:blue>standard error (SE)</span> of the <span style=color:blue>sample mean</span> is equal to the <span style=color:blue><b><u>Population</u></b> Standard Deviation</span> <b>divided</b> by the <span style=color:blue>square root of the <b><u>sample size</u></b></span>:\n",
    "\n",
    "\n",
    "\\begin{align*}SE_\\bar{x}\\hspace{1mm}=\\hspace{1mm}\\sigma_\\bar{x}\\hspace{1mm}=\\hspace{1mm}\\frac{\\sigma_{x}}{\\sqrt{n}}\\hspace{1mm} =\\hspace{1mm}\\frac{2.6}{\\sqrt{100}}\\hspace{1mm}=\\hspace{1mm}0.26\\end{align*}   \n",
    "$%$\n",
    "where <span style=color:blue>$\\sigma_{x}$</span> is the <span style=color:blue>standard deviation</span> of the <span style=color:blue>individual <u>observations</u></span>. "
   ]
  },
  {
   "cell_type": "markdown",
   "metadata": {},
   "source": [
    "<div class=\"alert alert-warning alert-danger\">There is one subtle issue in <b>$SE$</b> Equation : \n",
    "<br/><br/>\n",
    "The <b>Population Standard Deviation</b> is typically <b>UNKNOWN</b>. We can use the <b>point estimate</b> of the <b>Standard Deviation</b> from the <b><u>sample</u></b>.   \n",
    "<br/><br/>\n",
    "This <b>estimate</b> tends to be sufficiently good when the <b>sample size</b> is at <b>least 30</b> and the <b>Population Distribution</b> is <b><u>not strongly skewed</u></b>. Thus, we often just use the <b>Sample Standard Deviation</b> <span style=color:blue><b>$s$</b></span> instead of <span style=color:blue><b>$\\sigma$</b></span>.   \n",
    "<br/><br/>\n",
    "If the <b>skew condition</b> is <b>not met</b>, a larger <b>sample</b> is needed to <b>compensate</b> for the <u><b>extra skew</b></u>.\n",
    "<br/><br/>\n",
    "When the <b>sample size</b> is <b><u>smaller than 30</u></b>, we will need to use a method to account for <span style=color:blue>extra uncertainty</span> in the <b>standard error - $SE$</b>.   \n",
    "</div>"
   ]
  },
  {
   "cell_type": "markdown",
   "metadata": {},
   "source": [
    "<span style=color:red><b><u>EXERCISE - 6.3</u></b></span>\n",
    "\n",
    "1. Would you rather use a <span style=color:blue>small sample</span> or a <span style=color:blue>large sample</span> when estimating a <span style=color:blue>parameter</span>? Why?   \n",
    "$%$   \n",
    "2. Using your reasoning from (1), would you expect a <span style=color:blue>point estimate</span> based on a <span style=color:blue>small sample</span> to have <span style=color:blue>smaller</span> or <span style=color:blue>larger standard error</span> than a <span style=color:blue>point estimate</span> based on a <span style=color:blue>larger sample</span>?"
   ]
  },
  {
   "cell_type": "markdown",
   "metadata": {},
   "source": [
    "<span style=color:green><b><u>SOLUTION - 6.3</u></b></span>\n",
    "\n",
    "1. Consider two random samples: one of size 10 and one of size 1000. Individual observations in the small sample are highly influential on the estimate while in larger samples these individual observations would more often average each other out. The larger sample would tend to provide a more accurate estimate.   \n",
    "$%$   \n",
    "2. If we think an estimate is better, we probably mean it typically has less error. Based on (1),\n",
    "   our intuition suggests that a larger sample size corresponds to a smaller standard error."
   ]
  },
  {
   "cell_type": "markdown",
   "metadata": {},
   "source": [
    "### <span style=color:darkred>Basic Properties of Point Estimates</span> "
   ]
  },
  {
   "cell_type": "markdown",
   "metadata": {},
   "source": [
    "<div class=\"alert alert-success\">We achieved three goals in this section.   \n",
    "<br/><br/>\n",
    "1. We determined that <span style=color:blue>point estimates</span> from a <span style=color:blue>sample</span> may be used to <span style=color:blue>estimate population parameters</span>.   \n",
    "<br/><br/>\n",
    "2. We also determined that these <span style=color:blue><b>point estimates are not exact</b></span>: they vary from one sample to another.   \n",
    "<br/><br/>\n",
    "3. Lastly, we quantified the <span style=color:blue>uncertainty of the sample mean</span> using what we call the <span style=color:blue><b>standard error $(\\:SE\\:)$ equation</b></span>. While we could also quantify the <span style=color:blue><b>standard error $(\\:SE\\:)$</b></span> for other estimates – such as the <span style=color:blue>median, standard deviation</span>, or any other number of statistics.</div>"
   ]
  },
  {
   "cell_type": "markdown",
   "metadata": {},
   "source": [
    "## <span style=color:green>CONFIDENCE INTERVALS</span> "
   ]
  },
  {
   "cell_type": "markdown",
   "metadata": {},
   "source": [
    "A <span style=color:blue>point estimate</span> provides a <b>single plausible value</b> for a <span style=color:blue>parameter</span>. However, a <span style=color:blue>point estimate</span> is <b><u>rarely perfect</u></b>; usually there is some <b>error</b> in the <b>estimate</b>. Instead of supplying just a <span style=color:blue>point estimate</span> of a <span style=color:blue>parameter</span>, a next <i>logical step would be to provide a plausible</i> <span style=color:blue><b>range of values</b></span> for the <span style=color:blue>parameter</span>."
   ]
  },
  {
   "cell_type": "markdown",
   "metadata": {},
   "source": [
    "### <span style=color:darkred>Capturing the Population Parameter</span> "
   ]
  },
  {
   "cell_type": "markdown",
   "metadata": {},
   "source": [
    "A plausible <span style=color:blue>range of values</span> for the <span style=color:blue>population parameter</span> is called a <span style=color:blue><b><u>Confidence Interval</u></b></span>.   \n",
    "\n",
    "If we report a <span style=color:blue>point estimate</span>, we probably will <b>not hit the exact</b> <span style=color:blue>population parameter</span>.   \n",
    "\n",
    "On the other hand, if we report a <span style=color:blue>range of plausible values</span> – a <span style=color:blue><b><u>Confidence Interval</u></b></span> – we have a good shot at capturing the <span style=color:blue><b>parameter</b></span>.\n",
    "\n",
    "Summarizing, we use a wider <span style=color:blue><b><u>Confidence Interval</u></b></span> if we want to be more certain that we capture the <span style=color:blue><b>parameter</b></span>."
   ]
  },
  {
   "cell_type": "markdown",
   "metadata": {},
   "source": [
    "### <span style=color:darkred>An approximate 95% Confidence Interval</span> "
   ]
  },
  {
   "cell_type": "markdown",
   "metadata": {},
   "source": [
    "Our <span style=color:blue>point estimate</span> is the most plausible value of the <b>parameter</b>, so it makes sense to build the <span style=color:blue><b><u>Confidence Interval</u></b></span> around the <span style=color:blue>point estimate</span>.   \n",
    "\n",
    "The <span style=color:blue><b>Standard Error</b></span>, which is a <i><u>measure of the uncertainty associated with the</u></i> <span style=color:blue>point estimate</span>, <span style=color:blue>provides a guide</span> for how large we should make the confidence interval.   \n",
    "\n",
    "The <span style=color:blue><b>Standard Error</b></span> represents the <span style=color:blue>Standard Deviation</span> associated with the estimate, and roughly <b>95%</b> of the time the <span style=color:blue>estimate</span> will be within <span style=color:blue><b>2 standard errors</b></span> of the <b>parameter</b>.   \n",
    "\n",
    "If the <span style=color:blue>interval</span> spreads out <span style=color:blue><b>2 standard errors</b></span> from the <span style=color:blue>point estimate</span>, we can be roughly <span style=color:blue>95% confident</span> that we have captured the <b><u>true</u> parameter</b>:"
   ]
  },
  {
   "cell_type": "markdown",
   "metadata": {},
   "source": [
    "\\begin{align*}point\\hspace{2mm}estimate\\hspace{2mm}±\\hspace{2mm}2\\hspace{2mm}x\\hspace{2mm}SE\\end{align*}"
   ]
  },
  {
   "cell_type": "markdown",
   "metadata": {},
   "source": [
    "<span style=color:red><b><u>EXERCICE 7.1</u></b></span>   \n",
    "\n",
    "- The <span style=color:blue>sample mean of days active per week</span> from <b>yrbss_samp</b> is <b>3.75 days</b>.   \n",
    "\n",
    "- The <span style=color:blue>standard error</span>, as estimated using the <span style=color:blue>sample standard deviation</span>, is $SE$ = $\\hspace{1mm}\\frac{2.6}{\\sqrt{100}}$ = 0.26 days.    \n",
    "\n",
    "<i>(The <span style=color:blue>population STD</span> is <span style=color:red>unknown in most of the applications</span>, so we use the <span style=color:blue>sample STD</span>.)</i>   \n",
    "$%$   \n",
    "Calculate an <span style=color:blue> approximate <b>95%</b> confidence interval</span> for the <span style=color:blue>average days active per week for all YRBSS students</span>."
   ]
  },
  {
   "cell_type": "markdown",
   "metadata": {},
   "source": [
    "<span style=color:green><b><u>SOLUTION 7.1</u></b></span>   \n",
    "$%$   \n",
    "<center>$3.75\\hspace{2mm}±\\hspace{2mm}$2$\\hspace{2mm}x\\hspace{2mm}0.26 = (3.23, 4.27)$</center>   \n",
    "$%$   \n",
    "\n",
    "Based on these data, we are about <b><i>95% confident that the average days active per week</i></b> for all YRBSS students was larger than <b>3.23</b> but less than <b>4.27 days</b>. Our interval extends out <span style=color:blue><b>2 standard errors</b></span> from the <span style=color:blue>point estimate, $\\bar{x}_{active}$</span>."
   ]
  },
  {
   "cell_type": "markdown",
   "metadata": {},
   "source": [
    "### <span style=color:darkred>Sampling Distribution for the Mean</span>"
   ]
  },
  {
   "cell_type": "markdown",
   "metadata": {},
   "source": [
    "<div class=\"alert alert-warning alert-warning\"><b><u>Central Limit Theorem, informal description</u></b>   \n",
    "<br/><br/>\n",
    "If a <b>sample</b> consists of <b><i>at least 30 independent observations</i></b> and the data are <b><i>not strongly skewed</i></b>, then the <b>distribution</b> of the <b>sample mean</b> is well approximated by a <u>normal model</u>.\n",
    "</div>"
   ]
  },
  {
   "cell_type": "markdown",
   "metadata": {},
   "source": [
    "The choice of using <span style=color:blue>2 standard errors</span> was based on our general guideline that roughly <b>95%</b> of the time, observations are within <span style=color:blue>two standard deviations</span> of the <span style=color:blue><b>mean</b></span>. Under the <b>normal model</b>, we can make this <b>more accurate</b> by using <b>1.96</b> in place of <b>2</b>.   \n",
    "$%$   \n",
    "\\begin{align*}point\\hspace{2mm}estimate\\hspace{2mm}±\\hspace{2mm}1.96\\hspace{2mm}x\\hspace{2mm}SE\\end{align*}   \n",
    "$%$   \n",
    "If a <span style=color:blue>point estimate</span>, such as <span style=color:blue>$\\bar{x}$</span>, is associated with a <b>normal model</b> and <span style=color:blue>standard error $(\\:SE\\:)$</span>, then we use this <span style=color:blue><b><u>more precise</u> 95% confidence interval</b></span>."
   ]
  },
  {
   "cell_type": "markdown",
   "metadata": {},
   "source": [
    "<div class=\"alert alert-warning alert-warning\">\n",
    "\n",
    "In a <b>Normal Distribution</b>, there is a <b>standard range of values</b> that generally fall within a certain number of <b>standard deviations</b> from the <b>mean</b>:</div>   \n",
    "\n",
    "| % of total x values | range in distribution | z-scores from mean |\n",
    "| ------------------------ | --------------------- | ------------------ |\n",
    "| 68                       | $$μ±σ$$               |         ±1         |\n",
    "| 95                       | $$μ±1.96σ$$           |       ±1.96        |\n",
    "| 99                       | $$μ±2.58σ$$           |       ±2.58        |\n",
    "   "
   ]
  },
  {
   "cell_type": "markdown",
   "metadata": {},
   "source": [
    "### <span style=color:darkred>Changing the Confidence Level</span>"
   ]
  },
  {
   "cell_type": "markdown",
   "metadata": {},
   "source": [
    "Suppose we want to consider <span style=color:blue>confidence intervals</span> where the confidence level is higher than 95%; perhaps we would like a confidence level of 99%.   "
   ]
  },
  {
   "cell_type": "markdown",
   "metadata": {},
   "source": [
    "To create a 99% confidence level, we must also widen our 95% interval. On the other hand, if we want an interval with lower confidence, such as 90%, we could make our original 95% interval slightly slimmer.   \n",
    "$%$   \n",
    "\\begin{align*}point\\hspace{2mm}estimate\\hspace{2mm}±\\hspace{2mm}1.96\\hspace{2mm}x\\hspace{2mm}SE\\end{align*}"
   ]
  },
  {
   "cell_type": "markdown",
   "metadata": {},
   "source": [
    "There are three components to this interval: \n",
    "\n",
    "1. the <span style=color:blue>point estimate</span>, \n",
    "2. <span style=color:blue><b>“1.96”</b></span>, and \n",
    "3. the <span style=color:blue>standard error $(\\:SE\\:)$</span>. \n",
    "\n",
    "The choice of <span style=color:blue>1.96 x $SE$</span> was based on capturing <b>95%</b> of the data since the estimate\n",
    "is within <span style=color:blue>1.96 standard deviations</span> of the <b>parameter</b> about <b>95%</b> of the time.   \n",
    "\n",
    "This approach – using the <span style=color:blue><b>Z-scores from the mean</b></span> in the normal model to compute <span style=color:blue>confidence levels</span> – is appropriate when <span style=color:blue>$\\bar{x}$</span> is associated with a <span style=color:blue>Normal Distribution</span> with <span style=color:blue>mean</span> and <span style=color:blue>standard deviation $SE_\\bar{x}$</span>. \n",
    "\n",
    "Thus, the formula for a <b>99%</b> <span style=color:blue>Confidence Interval</span> is :   \n",
    "$%$   \n",
    "\\begin{align*}point\\hspace{2mm}estimate\\hspace{2mm}±\\hspace{2mm}2.58\\hspace{2mm}x\\hspace{2mm}SE\\end{align*}"
   ]
  },
  {
   "cell_type": "markdown",
   "metadata": {},
   "source": [
    "The <span style=color:blue>Normal approximation is <u>crucial</u> to the precision of these <i>Confidence Intervals</i></span>."
   ]
  },
  {
   "cell_type": "markdown",
   "metadata": {},
   "source": [
    "<div class=\"alert alert-warning alert-warning\"><b><u>Conditions for $\\bar{x}$ being nearly normal and $SE$ being accurate</u></b>   \n",
    "<br/><br/>\n",
    "Important conditions to help ensure the sampling distribution of $\\bar{x}$ is nearly normal\n",
    "and the estimate of $SE$ sufficiently accurate: \n",
    "<br/><br/>\n",
    "- The <b>sample observations</b> are <b>independent</b>.   \n",
    "<br/><br/>\n",
    "- The <b>sample size</b> is <b>large</b>: $\\:n\\:$ $\\geq\\:$ 30 is a good rule of thumb.   \n",
    "<br/><br/>\n",
    "- The <b>population distribution</b> is <b>not strongly skewed</b>. This condition can be difficult to evaluate, so just use your best judgement.   \n",
    "<br/><br/>\n",
    "Additionally, the <b>larger</b> the <b>sample size</b>, the more tolerant we can be with the <b>sample’s skew</b>.</div>"
   ]
  },
  {
   "cell_type": "markdown",
   "metadata": {},
   "source": [
    "<div class=\"alert alert-warning alert-warning\"><b><u>How to verify sample observations are independent</u></b>\n",
    "<br/><br/>\n",
    "If the observations are from a <b>simple random sample</b> and consist of <u>fewer than</u> <b>10%</b> of the <b>population</b>, then they are <b><u>independent</u></b>.   \n",
    "<br/><br/>\n",
    "<b>Observations/cases</b> in an experiment are considered <b>independent</b> if they undergo <b>random assignment</b>.</div>"
   ]
  },
  {
   "cell_type": "markdown",
   "metadata": {},
   "source": [
    "<div class=\"alert alert-warning alert-warning\"><b><u>Checking for strong skew usually means checking for obvious outliers</u></b>\n",
    "<br/><br/>\n",
    "When there are <b><u>prominent outliers present</u></b>, the <b>sample</b> should contain <b>at least 100 observations</b>, and in some cases, much more.</div>   "
   ]
  },
  {
   "cell_type": "markdown",
   "metadata": {},
   "source": [
    "<div class=\"alert alert-warning alert-warning\"><b><u>Confidence interval for any confidence level</u></b>\n",
    "<br/><br/>\n",
    "If the <b>point estimate</b> follows the <b>normal model</b> with <b>standard error $SE$</b>, then a <b>confidence interval</b> for the <b>population parameter</b> is :   \n",
    "<br/><br/>\n",
    "\\begin{align*}point\\hspace{2mm}estimate\\hspace{2mm}±\\hspace{2mm}z^{*}SE\\end{align*}   \n",
    "<br/><br/>\n",
    "where $z^{*}$ corresponds to the <b>confidence level</b> selected.\n",
    "</div>   "
   ]
  },
  {
   "cell_type": "markdown",
   "metadata": {},
   "source": [
    "<div class=\"alert alert-warning alert-warning\"><b><u>Margin of error</u></b>\n",
    "<br/><br/>\n",
    "In a confidence interval, <b>$z^{*}\\:x\\:SE$</b> is called the <b>margin of error</b>   \n",
    "</div>   "
   ]
  },
  {
   "cell_type": "markdown",
   "metadata": {},
   "source": [
    "### <span style=color:darkred>Interpreting Confidence Intervals</span>"
   ]
  },
  {
   "cell_type": "markdown",
   "metadata": {},
   "source": [
    "1. The <span style=color:blue><b>confidence level</b></span> only <u>quantifies</u> how plausible it is that the <b>parameter</b> is in the <b>interval</b>.   \n",
    "<br/><br/>   \n",
    "2. <span style=color:blue><b>confidence intervals</b></span> only try to <span style=color:blue><b><i>capture population parameter</i></b></span>.   \n",
    "<br/><br/>   \n",
    "3. A <span style=color:blue><b>confidence interval</b></span> says <span style=color:red><b>nothing</b></span> about the confidence of <span style=color:red><i>capturing <u>individual</u> observations</i></span>, a <i>proportion of the observations</i>, or about <i>capturing point estimates</i>. \n",
    "<br/><br/>\n",
    "<span style=color:blue><b>Confidence intervals</b></span> only attempt to <span style=color:blue><b><i>capture population parameters</i></b></span>."
   ]
  },
  {
   "cell_type": "markdown",
   "metadata": {},
   "source": [
    "## <span style=color:darkgreen>HYPOTHESIS TESTING</span>"
   ]
  },
  {
   "cell_type": "markdown",
   "metadata": {},
   "source": [
    "<div class=\"alert alert-warning alert-warning\"><b><u>Null and Alternative Hypotheses</u></b>\n",
    "<br/><br/>\n",
    "- The <b><u>Null Hypothesis $\\:(\\:H_0\\:)$</u></b> often represents either a <b><u>skeptical perspective</u></b> or a <b><u>claim to be tested</u></b>, there is no association.   \n",
    "<br/><br/>\n",
    "- The <b><u>Alternative Hypothesis $\\:(\\:H_A\\:)$</u></b> represents an <b><i>alternative claim under consideration</i></b> and is often represented by a range of possible parameter values.   \n",
    "<br/><br/>\n",
    "The skeptic will <b>NOT REJECT</b> the <b>null hypothesis ($H_0$)</b>, unless the evidence in favor of the <b>alternative hypothesis ($H_A$)</b> is so <b>strong</b> that he <b>rejects $H_0$</b> in favor of <b>$H_A$</b>.   \n",
    "</div>   "
   ]
  },
  {
   "cell_type": "markdown",
   "metadata": {},
   "source": [
    "- <span style=color:blue><b>Hypothesis Testing</b></span>: even if we <span style=color:red><b>fail to reject</b></span> the <span style=color:blue>null hypothesis ($H_0$)</span>, we typically <span style=color:red><b>do not accept</b></span> the <span style=color:blue>null hypothesis ($H_0$)</span> as <span style=color:blue><b><u>true</u></b>.   \n",
    "$%$   \n",
    "- Failing to find <span style=color:blue><b>strong evidence</b></span> for the <span style=color:blue>alternative hypothesis ($H_A$)</span> is <span style=color:red><b>not equivalent</b></span> to accepting the <span style=color:blue>null hypothesis</span>."
   ]
  },
  {
   "cell_type": "markdown",
   "metadata": {},
   "source": [
    "### <span style=color:darkred>Testing Hypotheses using Confidence Intervals</span>"
   ]
  },
  {
   "cell_type": "code",
   "execution_count": null,
   "metadata": {
    "ExecuteTime": {
     "end_time": "2020-11-09T18:46:14.111064Z",
     "start_time": "2020-11-09T18:46:14.052222Z"
    }
   },
   "outputs": [],
   "source": [
    "yrbss.describe().round(3)"
   ]
  },
  {
   "cell_type": "markdown",
   "metadata": {},
   "source": [
    "Students from the <b>2011 YRBSS</b> lifted weights <span style=color:blue><b>2.95 days per week on average</b></span>. We want to determine if the <span style=color:blue>yrbss_samp</span> dataset provides <span style=color:blue><b><u>strong evidence</u></b></span> that <b>YRBSS students selected in 2013</b> are lifting more or less than the <b>2011 YRBSS students</b>, versus the other possibility that there has been <span style=color:red><b>no change</b></span>.   \n",
    "$%$   \n",
    "We <span style=color:blue>simplify these three options</span> into <span style=color:blue><b><u>two competing hypotheses</u></b></span>:   \n",
    "\n",
    "- <span style=color:blue>$\\:H_0\\:$</span>: The <i>average days per week</i> that <b>YRBSS students</b> lifted weights was the <b><u>same</u></b> for <b>2011</b> and <b>2013</b>.\n",
    "- <span style=color:blue>$\\:H_A\\:$</span>: The <i>average days per week</i> that <b>YRBSS students</b> lifted weights was <b><u>different</u></b> for <b>2013</b> than in <b>2011</b>.   \n",
    "\n",
    "These <span style=color:blue>hypotheses</span> can be described in <b>mathematical notation</b> using <span style=color:blue>$\\mu_{13}$</span> as the <span style=color:blue><i>average days of weight lifting for <b>2013</b></i></span>:   \n",
    "$%$   \n",
    "    <center>- <span style=color:blue>$H_0$ : $\\mu_{13}\\:$ = 2.95</span></center>\n",
    "    <center>- <span style=color:blue>$H_A$ : $\\mu_{13}$ $\\neq$ 2.95</span></center>   \n",
    "$%$   \n",
    "where <b>2.95</b> is the <span style=color:blue>average number of days per week</span> that students from the 2011 YRBSS <b>lifted weights</b>.\n",
    "\n",
    "We call <b>2.95</b> the <span style=color:blue><b>null value</b></span> since it represents the value of the parameter if the <span style=color:blue>null hypothesis</span> is <b>true</b>."
   ]
  },
  {
   "cell_type": "code",
   "execution_count": null,
   "metadata": {
    "ExecuteTime": {
     "end_time": "2020-11-09T18:51:09.494779Z",
     "start_time": "2020-11-09T18:51:09.445562Z"
    }
   },
   "outputs": [],
   "source": [
    "yrbss_s.describe().round(2)"
   ]
  },
  {
   "cell_type": "markdown",
   "metadata": {},
   "source": [
    "We will use the <span style=color:blue>yrbss_samp</span> dataset to evaluate the <span style=color:blue><b>Hypothesis Test</b></span>. \n",
    "\n",
    "We start by comparing the <b>2013 point estimate</b> of the <span style=color:blue>number of days per week that students lifted weights</span> : $\\:\\bar{x}_{13}$ = 2.78 days.   \n",
    "$%$   \n",
    "This estimate suggests that students from the <b>2013 YRBSS</b> were <span style=color:blue>lifting weights</span> <b>less than</b> students in the <b>2011 YRBSS</b>.   \n",
    "\n",
    "However, We have to evaluate whether this provides <span style=color:blue><b>strong evidence</b></span> that there <b>has been a change</b>, we must consider the <span style=color:blue>uncertainty associated</span> with <span style=color:blue>$\\bar{x}_{13}$</span>."
   ]
  },
  {
   "cell_type": "markdown",
   "metadata": {},
   "source": [
    "We learned that there is <b>fluctuation</b> from one <span style=color:blue>sample</span> to another, and it is unlikely that the <span style=color:blue><b>sample mean</b></span> will be exactly <b>equal</b> to the <span style=color:blue>parameter</span>;   \n",
    "\n",
    "The difference between <span style=color:blue>$\\bar{x}_{13}$</span> and <b>2.95</b> could be due to <span style=color:blue>sampling variation</span>, the <b>variability</b> associated with the <span style=color:blue>point estimate</span> when we take a <span style=color:blue>random sample</span>."
   ]
  },
  {
   "cell_type": "markdown",
   "metadata": {},
   "source": [
    "<span style=color:darkblue><b><u>EXAMPLE 7.1</u></b></span>\n",
    "\n",
    "In the sample of <b><i>100 students</i></b> from the 2013 YRBSS survey, the <b><i>average number of days per week</i></b> that students <b><i>lifted weights</i></b> was <b>2.78 days</b> with a <span style=color:blue>standard deviation</span> of <b>2.58 days</b>. \n",
    "\n",
    "Compute a <span style=color:blue><b>95% confidence interval</b></span> for the average for all students from the <b>2013 YRBSS</b> survey. (<i>You can assume the conditions for the normal model are met</i>).   \n",
    "\n",
    "The general formula for the <span style=color:blue><b>confidence interval</b></span> based on the normal distribution is :   \n",
    "\n",
    "\\begin{align*}\\bar{x}\\hspace{2mm}±\\hspace{2mm}z^{*}SE_{\\bar{x}}\\hspace{2mm}=\\hspace{2mm}2.78\\:±\\:1.96\\:x\\:SE_{\\bar{x}} \\end{align*}   \n",
    "\n",
    "We are given <span style=color:blue><b>$\\:\\bar{x}_{13}$</b></span> = <b>2.78</b>, we use <span style=color:blue><b>$\\:z^*$</b></span> = <b>1.96</b> for a<b> 95% confidence level</b>, and we can compute the <span style=color:blue>standard error</span> using the <span style=color:blue>standard deviation</span> divided by the square root of the <span style=color:blue>sample size</span> :   \n",
    "\n",
    "\\begin{align*}SE_{\\bar{x}}\\hspace{2mm}=\\hspace{2mm}\\frac{s_{13}}{\\sqrt{n}}\\hspace{2mm}=\\hspace{2mm}\\frac{2.56}{\\sqrt{100}}\\hspace{2mm}=\\hspace{2mm}0.256\\end{align*}    \n",
    "$%$   \n",
    "\\begin{align*}\\bar{x}\\hspace{2mm}±\\hspace{2mm}z^{*}SE_{\\bar{x}}\\hspace{2mm}=\\hspace{2mm}2.78\\:±\\:1.96\\:x\\:0.256\\:=\\:(2.27,\\:3.29)\\end{align*}   \n",
    "$%$   \n",
    "Entering the <span style=color:blue><b>sample mean, $\\:z^*$</b></span>, and the <span style=color:blue><b>standard error</b></span> into the confidence interval formula results in <b>(2.27, 3.29)</b>. \n",
    "\n",
    "We are <b>95% confident</b> that the average number of days per week that all students from the <b>2013 YRBSS</b> lifted weights was between <b>2.27</b> and <b>3.29 days</b>.   \n",
    "$%$   \n",
    "    <center>- <span style=color:blue>$H_0$ : $\\mu_{13}\\:$ = 2.95</span></center>   \n",
    "$%$   \n",
    "Because the average of all students from the <b>2011 YRBSS</b> survey is <b>2.95</b>, which <span style=color:blue><i>falls within the range of plausible values from the confidence interval</i></span>, <span style=color:red><b>we fail to reject - <u>do not reject</u></b></span> the <span style=color:blue><b>null hypothesis, $H_0$</b></span>."
   ]
  },
  {
   "cell_type": "markdown",
   "metadata": {},
   "source": [
    "### <span style=color:darkred>Decision Errors</span>"
   ]
  },
  {
   "cell_type": "markdown",
   "metadata": {},
   "source": [
    "<div class=\"alert alert-warning alert-warning\">\n",
    "<b><u>Hypothesis tests</u></b> are <b>not perfect</b>, since we can make a wrong decision in statistical hypothesis tests based on the data. In statistical hypothesis tests, we have the tools necessary <i><u>to quantify</u></i> <b>how often</b> we make such <b><u>errors</u></b>.   \n",
    "<br/><br/>\n",
    "There are <u>two competing hypotheses</u>:$\\:$  the <b>null $H_0$</b> and the <b>alternative $H_A$</b>. In a <b>hypothesis test</b>, we make a statement about which one might be <b>true</b>, but we might choose <b><u>incorrectly</u></b>. There are four possible scenarios, which are summarized :</div>   \n",
    "   \n",
    "|  Truth                       | Do Not Reject $H_0$   | Reject $H_0$, in favor of $H_A$ |\n",
    "| ---------------------------- | --------------------- | ------------------ |\n",
    "| $H_0$ $true$                 | <center>Ok</center>   | <center>Type 1 Error</center>       |\n",
    "| $H_A$ $true$                 | <center>Type 2 Error</center>           | <center>Ok</center>|\n"
   ]
  },
  {
   "cell_type": "markdown",
   "metadata": {},
   "source": [
    "<div class=\"alert alert-warning alert-warning\">   \n",
    "- A <b><u>Type 1 Error ( False-Positive )</u></b> is <b>rejecting</b> the <b>null hypothesis</b> when $H_0$ is actually <b>TRUE</b>.   \n",
    "<br/><br/>\n",
    "- A <b><u>Type 2 Error ( False-Negative )</u></b> is <b>failing to reject - do not reject</b> the <b>null hypothesis</b> when the <b>Alternative $H_A$</b>is actually <b>TRUE</b>.\n",
    "</div>"
   ]
  },
  {
   "cell_type": "markdown",
   "metadata": {},
   "source": [
    "<span style=color:blue><b>Hypothesis testing</b></span> is built around rejecting or failing to reject the <span style=color:blue>null hypothesis $H_0$</span>.   \n",
    "\n",
    "That is, we <span style=color:red><b>do not reject</b></span> $H_0$ unless we have <b>strong evidence</b>.   \n",
    "   \n",
    "<span style=color:blue><i>But what precisely does <u><b>strong evidence</b></u> mean?</i></span>   \n",
    "\n",
    "As a general rule of thumb, for those cases where the <span style=color:blue>null hypothesis</span> is actually <b>true</b>, we do not want to <span style=color:red>incorrectly</span> <span style=color:blue>reject $H_0$</span> more than <b>5%</b> of the time. \n",
    "\n",
    "This corresponds to a <span style=color:blue><b><u>Significance Level</u></b></span> of <b>0.05</b>. We often write the <span style=color:blue>significance level using $\\alpha$</span> (the Greek letter $alpha$):   \n",
    "$%$   \n",
    "<center>$\\alpha$ = 0.05.</center>   "
   ]
  },
  {
   "cell_type": "markdown",
   "metadata": {},
   "source": [
    "If we use a <span style=color:blue>95% confidence interval</span> to evaluate a <span style=color:blue>hypothesis test</span> where the <span style=color:blue>null hypothesis</span> is <span style=color:blue><b>true</b></span>, we will make an <span style=color:red><b>error</b></span> whenever the <span style=color:blue>point estimate</span> is at least <b>1.96 standard errors</b> away from the <span style=color:blue>population parameter</span>. $\\:$This <b>error</b> happens about <b>5% of the time</b> (<b>2.5%</b> in each tail).   \n",
    "\n",
    "Similarly, using a <span style=color:blue>99% confidence interval</span> to evaluate a hypothesis is equivalent\n",
    "to a <span style=color:blue>significance level of $\\alpha$ = <b>0.01</b></span>.   \n",
    "\n",
    "Summarizing, <span style=color:blue><b><u>Significance Level</u></b></span> is the <span style=color:blue>maximun probability</span> of committing a <span style=color:blue><b><u>Type I Error</u></b></span>.\n"
   ]
  },
  {
   "cell_type": "markdown",
   "metadata": {},
   "source": [
    "### <span style=color:darkred>p-Value</span>"
   ]
  },
  {
   "cell_type": "markdown",
   "metadata": {},
   "source": [
    "<div class=\"alert alert-warning alert-warning\"><b><u>p-Value</u></b>   \n",
    "<br/><br/>\n",
    "The <span style=color:blue><b><u>p-value</u></b></span> is a way of quantifying the <b>strength of the evidence against</b> the <span style=color:blue>null hypothesis $H_0$</span> and in <b>favor</b> of the <span style=color:blue>alternative hypothesis $H_A$</span>. Formally the <span style=color:blue><b><u>p-value</u></b></span> is a <span style=color:blue>conditional probability</span>.   \n",
    "<br/><br/>\n",
    "The <b>p-value</b> is the <b>probability</b> of observing data at least as <b>favorable</b> to the <b>alternative hypothesis $H_{A}$</b> as our current dataset, if the null hypothesis is true   </div>"
   ]
  },
  {
   "cell_type": "markdown",
   "metadata": {},
   "source": [
    "#### <span style=color:gray><u>What is a good P-Value?</u></span>"
   ]
  },
  {
   "cell_type": "markdown",
   "metadata": {},
   "source": [
    "<div class=\"alert alert-warning alert-warning\"><b><u>What is a good p-Value ?</u></b>   \n",
    "<br/><br/>\n",
    "- A <span style=color:blue><b><u>small p-value$\\:$ ≤$\\:$ 0.05</u></b></span> indicates <b>strong evidence against</b> the <span style=color:blue>null hypothesis $H_0$</span>, so you <u>reject</u> the <span style=color:blue>null hypothesis $H_0$</span>.   \n",
    "<br/><br/>\n",
    "- A <span style=color:blue><b><u>large p-value$\\:$ >$\\:$ 0.05</u></b></span> indicates <b>weak evidence against</b> the <span style=color:blue>null hypothesis $H_0$</span>, so you <u>fail to reject</u> the <span style=color:blue>null hypothesis $H_0$</span>.</div>"
   ]
  },
  {
   "cell_type": "markdown",
   "metadata": {},
   "source": [
    "#### <span style=color:gray>What is p-value?</span>"
   ]
  },
  {
   "cell_type": "markdown",
   "metadata": {},
   "source": [
    "To understand this question, we will pick up the <span style=color:blue>Normal Distribution</span>:"
   ]
  },
  {
   "attachments": {
    "pvalue_NormalDistribution_small_1.gif": {
     "image/gif": "[encoded data removed]"
    }
   },
   "cell_type": "markdown",
   "metadata": {},
   "source": [
    "![pvalue_NormalDistribution_small_1.gif](attachment:pvalue_NormalDistribution_small_1.gif)"
   ]
  },
  {
   "cell_type": "markdown",
   "metadata": {},
   "source": [
    "Now, let’s say we pick any <span style=color:blue>random value</span> from this distribution. The probability that we will pick values close to the mean is highest as it has the highest peak (due to high occurrence values in that region). We can clearly see that if we move away from the peak, the occurrence of the values decreases rapidly and so does the corresponding probability, towards a very small value close to zero.\n",
    "\n",
    "So why are we looking at a <span style=color:blue>Normal Distribution</span> ? Well, with respect to the normal distribution we discussed above, consider the way we define the p-value."
   ]
  },
  {
   "attachments": {
    "pvalue_NormalDistribution_small.gif": {
     "image/gif": "[encoded data removed]"
    }
   },
   "cell_type": "markdown",
   "metadata": {},
   "source": [
    "![pvalue_NormalDistribution_small.gif](attachment:pvalue_NormalDistribution_small.gif)"
   ]
  },
  {
   "cell_type": "markdown",
   "metadata": {},
   "source": [
    "<span style=color:blue>p-value</span> is the <span style=color:blue>cumulative probability</span> ( <i>area under the curve</i> ) of the <i>values to the right of the</i> <span style=color:red><b>red point</b></span> in the figure above.\n",
    "\n",
    "or \n",
    "\n",
    "<span style=color:blue><b>p-value</b></span> corresponding to the <span style=color:red><b>red point</b></span> tells us about the <span style=color:blue><b>‘<u>total probability</u>’</b></span> of getting any value to the right hand side of the <span style=color:red><b>red point</b></span>, when the values are picked randomly from the population distribution."
   ]
  },
  {
   "cell_type": "markdown",
   "metadata": {},
   "source": [
    "<span style=color:blue><b>P-value</b></span> <span style=color:red><b>does not hold</b> any value by itself</span>. A <span style=color:blue>large <b>p-value</b> <u>implies</u></span> that sample scores are <span style=color:blue>more aligned or similar to the <b>population score</b></span>.   \n",
    "\n",
    "Now, you might have come across the thumb rule of comparing the p-value with the alpha value to draw conclusions. So let’s look into the alpha value."
   ]
  },
  {
   "cell_type": "markdown",
   "metadata": {},
   "source": [
    "#### <span style=color:gray>Statistical Significance of the p-value : <u>p-value $\\:<\\:$ Alpha value</u></span>"
   ]
  },
  {
   "cell_type": "markdown",
   "metadata": {},
   "source": [
    "Recall that the <span style=color:blue><b>alpha value</b></span>, is also known as the <span style=color:blue><b>significance level</b></span>. This is a value that we know to be 0.05 or 5%.\n",
    "\n",
    "We also know that <span style=color:blue><b>p-value</b></span> being <b>less than</b> <span style=color:blue><b>alpha</b></span> means that the results obtained are <span style=color:blue><b>statistically significant</b></span>. \n",
    "\n",
    "But what is the <span style=color:blue><b>alpha value</b></span>?\n",
    "\n",
    "So, let’s spend a moment to look at what the alpha value signifies."
   ]
  },
  {
   "attachments": {
    "pvalue_alpha_sampleDistr_small.gif": {
     "image/gif": "[encoded data removed]"
    }
   },
   "cell_type": "markdown",
   "metadata": {},
   "source": [
    "![pvalue_alpha_sampleDistr_small.gif](attachment:pvalue_alpha_sampleDistr_small.gif)"
   ]
  },
  {
   "cell_type": "markdown",
   "metadata": {},
   "source": [
    "<span style=color:blue><u>Alpha value</u></span> is nothing but a <span style=color:blue>threshold p-value</span>, which the group conducting the test/experiment decides upon before conducting a test of similarity or significance <b>( Z-test or a T-test )</b>."
   ]
  },
  {
   "cell_type": "markdown",
   "metadata": {},
   "source": [
    "This means that if the likeliness of getting the sample score is less than alpha or the threshold p-value, we consider it significantly different from the population, or even belonging to some new sample distribution."
   ]
  },
  {
   "attachments": {
    "pvalue_alpha_sampleDistr_1_small.gif": {
     "image/gif": "[encoded data removed]"
    }
   },
   "cell_type": "markdown",
   "metadata": {},
   "source": [
    "![pvalue_alpha_sampleDistr_1_small.gif](attachment:pvalue_alpha_sampleDistr_1_small.gif)"
   ]
  },
  {
   "cell_type": "markdown",
   "metadata": {},
   "source": [
    "Consider the above normal distribution again. The red point in this distribution represents the alpha value or the threshold p-value. Now, let’s say that the green and orange points represent different sample results obtained after an experiment.   \n",
    "\n",
    "We can see in the plot that the leftmost green point has a p-value greater than the alpha. As a result, these values can be obtained with fairly high probability and the sample results are regarded as lucky.\n",
    "\n",
    "The point on the rightmost side (orange) has a p-value less than the alpha value (red). As a result, the sample results are a rare outcome and very unlikely to be lucky. Therefore, they are significantly different from the population.\n",
    "\n",
    "The alpha value is decided depending on the test being performed. An alpha value of 0.05 is considered a good convention if we are not sure of what value to consider.\n",
    "\n",
    "But this comes with an asterisk – the smaller the value of alpha we consider, the harder it is to consider the results as significant. Keep in mind that the alpha value will vary from experiment to experiment and there is no alpha value which can be considered as a thumb rule.\n",
    "\n",
    "Let’s look at the relationship between the alpha value and the p-value closely."
   ]
  },
  {
   "cell_type": "markdown",
   "metadata": {},
   "source": [
    "#### <span style=color:gray><u>p-value $\\:<\\:$ alpha</u></span>"
   ]
  },
  {
   "cell_type": "markdown",
   "metadata": {},
   "source": [
    "Consider the following population distribution:"
   ]
  },
  {
   "attachments": {
    "pvalue_alpha_sampleDistr_2_small.gif": {
     "image/gif": "[encoded data removed]"
    }
   },
   "cell_type": "markdown",
   "metadata": {},
   "source": [
    "![pvalue_alpha_sampleDistr_2_small.gif](attachment:pvalue_alpha_sampleDistr_2_small.gif)"
   ]
  },
  {
   "cell_type": "markdown",
   "metadata": {},
   "source": [
    "Here, the red point represents the alpha value, or the threshold p-value. We can clearly see that the area under the curve to the right of the threshold is very low.\n",
    "\n",
    "The orange point represents the p-value using the sample population. In this case, we can clearly see that the p-value is less than the alpha value (the area to the right of the red point is larger than the area to the right of the orange point). This can be interpreted as:"
   ]
  },
  {
   "cell_type": "markdown",
   "metadata": {},
   "source": [
    "<i>\" The results obtained from the sample is an extremity of the population distribution (an extremely rare event), and hence there is a good chance it may belong to some other distribution\" (as shown below).</i>"
   ]
  },
  {
   "attachments": {
    "pvalue_alpha_sampleDistr_3_small.gif": {
     "image/gif": "[encoded data removed]"
    }
   },
   "cell_type": "markdown",
   "metadata": {},
   "source": [
    "![pvalue_alpha_sampleDistr_3_small.gif](attachment:pvalue_alpha_sampleDistr_3_small.gif)"
   ]
  },
  {
   "cell_type": "markdown",
   "metadata": {},
   "source": [
    "Considering our definitions of alpha and the p-value, we consider the sample results obtained as significantly different. We can clearly see that the p-value is far less than the alpha value."
   ]
  },
  {
   "cell_type": "markdown",
   "metadata": {},
   "source": [
    "#### <span style=color:gray><u>p-value $\\:>\\:$ alpha</u></span>"
   ]
  },
  {
   "cell_type": "markdown",
   "metadata": {},
   "source": [
    "<span style=color:blue><b><u>p-value greater than the alpha</u></b></span> means that the results are in <b>favor</b> of the <span style=color:blue>Null Hypothesis $\\:H_0\\:$</span> and therefore <b>we fail to reject it</b>. This result is often against the <span style=color:blue>Alternative Hypothesis $\\:H_A\\:$</span> (obtained results are from another distribution) and the results obtained are not significant and simply a matter of chance or luck.\n",
    "\n",
    "Again, consider the same <span style=color:blue>population distribution</span> curve with the red point as <span style=color:blue><b>alpha</b></span> and the orange point as the calculated <span style=color:blue><b>p-value</b></span> from the <span style=color:blue><b>sample</b>:"
   ]
  },
  {
   "attachments": {
    "pvalue_alpha_sampleDistr_4_small.gif": {
     "image/gif": "[encoded data removed]"
    }
   },
   "cell_type": "markdown",
   "metadata": {},
   "source": [
    "![pvalue_alpha_sampleDistr_4_small.gif](attachment:pvalue_alpha_sampleDistr_4_small.gif)"
   ]
  },
  {
   "cell_type": "markdown",
   "metadata": {},
   "source": [
    "So, p-value > alpha (considering the area under the curve to the right-hand side of the red and the orange points) can be interpreted as follows:\n",
    "\n",
    "<i>\" The sample results are just a low probable event of the population distribution and are very likely to be obtained by luck.\"</i>"
   ]
  },
  {
   "attachments": {
    "pvalue_alpha_sampleDistr_5_small.gif": {
     "image/gif": "[encoded data removed]"
    }
   },
   "cell_type": "markdown",
   "metadata": {},
   "source": [
    "![pvalue_alpha_sampleDistr_5_small.gif](attachment:pvalue_alpha_sampleDistr_5_small.gif)"
   ]
  },
  {
   "cell_type": "markdown",
   "metadata": {},
   "source": [
    "We can clearly see that the area under the population curve to the right of the orange point is much larger than the alpha value. This means that the obtained results are more likely to be part of the same population distribution than being a part of some other distribution."
   ]
  },
  {
   "cell_type": "markdown",
   "metadata": {},
   "source": [
    "### <span style=color:darkred>p-value One-sided and two-sided tests</span>"
   ]
  },
  {
   "cell_type": "markdown",
   "metadata": {},
   "source": [
    "<div class=\"alert alert-warning alert-warning\"><b><u>One-sided and two-sided tests</u></b>   \n",
    "<br/><br/>\n",
    "- When you are interested in <b>checking</b> for an <b>increase or a decrease</b>, but <b>not both</b>, use a <b><u>one-sided test</u></b>   \n",
    "<br/><br/>\n",
    "- When you are interested in <b>any difference</b> from the <b><u>null value</u></b> – an increase or decrease – then the test should be <b>two-sided test</b>   \n",
    "<br/><br/>\n",
    "Switching a <b>two-sided test</b> to a <b>one-sided test</b> after observing the data is dangerous because it can inflate the <b>Type 1 Error rate</b>.</div>"
   ]
  },
  {
   "cell_type": "markdown",
   "metadata": {},
   "source": [
    "### <span style=color:darkred>p-value Example</span>"
   ]
  },
  {
   "cell_type": "markdown",
   "metadata": {},
   "source": [
    "This is a classic example of a similarity test (Z-test in this case) where we want to check whether the sample is similar to the population or not.   \n",
    "\n",
    "Difference between <span style=color:blue><b>Z-test and t-test</b></span> : \n",
    "- <span style=color:blue><b>Z-test</b></span> is used when sample size is large (n > 50), or the population variance is known.   \n",
    "- <span style=color:blue><b>t-test</b></span> is used when sample size is small (n < 50) and population variance is unknown."
   ]
  },
  {
   "cell_type": "markdown",
   "metadata": {},
   "source": [
    "In order to solve this, we will follow a step-by-step approach:\n",
    "\n",
    "1. <span style=color:blue>Understand</span> the information given and <b>form</b> the <span style=color:blue>Null $H_0$</span> and <span style=color:blue>the Alternative $H_A$ hypothesis</span>.\n",
    "2. <span style=color:blue>Calculate</span> the <b>Z-score</b> and <span style=color:blue>find and plot the area under the curve</span>.\n",
    "3. <span style=color:blue>Calculate</span> the corresponding <b>p-value</b>\n",
    "4. <span style=color:blue>Compare</span> the <b>p-value</b> and the <b>alpha value ($\\alpha$)</b>\n",
    "5. <span style=color:blue>Interpret</span> the <b>final results</b>."
   ]
  },
  {
   "cell_type": "markdown",
   "metadata": {},
   "source": [
    "#### <span style=color:gray><u>Step 1:</u> Understand the given information</span>"
   ]
  },
  {
   "cell_type": "markdown",
   "metadata": {},
   "source": [
    "- $\\mu$ = 74 (<i>Population Mean</i>)   \n",
    "- $\\sigma$ = 8 (<i>Population Standard Deviation</i>)   \n",
    "- $\\bar{x}$ = 78 (<i>Sample Mean</i>)   \n",
    "- $n$ = 60 (<i>Sample Size</i>) \n",
    "- $alpha$ = 0.05\n",
    "\n",
    "We know the <span style=color:blue>population mean</span>, <span style=color:blue>standard deviation</span> and the <span style=color:blue>sample size</span> is over <b>30</b>, which means we will be using the <span style=color:blue><b>Z-test</b></span>."
   ]
  },
  {
   "cell_type": "markdown",
   "metadata": {},
   "source": [
    "Form the two possible Hypothesis conditions :\n",
    "\n",
    "- $(\\:H_0\\:)\\:$ $=$ 74\n",
    "- $(\\:H_A\\:)\\:$ $\\neq$ 74   \n",
    "$%$    "
   ]
  },
  {
   "cell_type": "markdown",
   "metadata": {},
   "source": [
    "#### <span style=color:gray><u>Step 2:</u> Calculating the Z-Score</span>"
   ]
  },
  {
   "cell_type": "markdown",
   "metadata": {},
   "source": [
    "Calculate the <span style=color:blue>Standard Error $\\:(\\:SE_{\\bar{x}}\\:)$</span> using its equation :   \n",
    "$%$   \n",
    "\n",
    "\\begin{align*}SE_{\\bar{x}}\\hspace{2mm}=\\hspace{2mm}\\frac{\\sigma}{\\sqrt{n}}\\hspace{2mm}=\\hspace{2mm}\\frac{8}{\\sqrt{60}}\\hspace{2mm}=\\hspace{2mm}1.033\\end{align*}   \n",
    "$%$   \n",
    "Calculate the <span style=color:blue>Z-Score</span> using the Z-score equation :   \n",
    "$%$   \n",
    "\\begin{align*}Z\\:=\\: \\frac{Point\\:Estimate\\: - \\:Null\\:Value}{SE_{Point\\:Estimate}}\\:=\\: \\frac{\\:\\bar{x}\\: - \\:Null\\:Value}{SE_{\\bar{x}}}\\:=\\:\\frac{\\:78\\: - \\:74\\:}{1.033}\\:=\\:3.87\\end{align*}   \n",
    "$%$   \n",
    "\n",
    "\n",
    "<span style=color:blue><b>Z-Score</b></span> comes out to be <b>3.87</b>."
   ]
  },
  {
   "cell_type": "code",
   "execution_count": null,
   "metadata": {
    "ExecuteTime": {
     "end_time": "2020-11-09T19:37:11.804375Z",
     "start_time": "2020-11-09T19:37:11.796396Z"
    }
   },
   "outputs": [],
   "source": [
    "x = 78\n",
    "mu = 74\n",
    "sigma = 8\n",
    "n = 60\n",
    "alpha = 0.05\n",
    "SE = (sigma/np.sqrt(n))\n",
    "\n",
    "x_z_score = (x - mu) / SE\n",
    "print('Standard Error (SE) of the Point Estimate = ',  round(SE, 3))\n",
    "print('Z-score = ',  round(x_z_score, 3))\n",
    "print('alpha value = ',  round(alpha, 3))"
   ]
  },
  {
   "cell_type": "code",
   "execution_count": null,
   "metadata": {
    "ExecuteTime": {
     "end_time": "2020-11-09T19:37:43.593879Z",
     "start_time": "2020-11-09T19:37:43.583901Z"
    }
   },
   "outputs": [],
   "source": [
    "from scipy.integrate import quad\n",
    "\n",
    "def normalProbabilityDensity(x):\n",
    "    constant = 1.0 / np.sqrt(2*np.pi)\n",
    "    return(constant * np.exp((-x**2) / 2.0) )\n",
    "\n",
    "x_z_score\n",
    "\n",
    "x_z_score_percentile, _ = quad(normalProbabilityDensity, np.NINF, x_z_score)\n",
    "\n",
    "print('Point Estimate Z-score Probability: ', round(x_z_score_percentile, 4))"
   ]
  },
  {
   "cell_type": "markdown",
   "metadata": {},
   "source": [
    "#### <span style=color:gray><u>Step 3:</u> Referring to the Z-table and finding the p-value:</span>"
   ]
  },
  {
   "cell_type": "markdown",
   "metadata": {},
   "source": [
    "If we get look up the Z-table for <b>3.87</b>, we will get also a value of  <b>~0.999</b>. This is the <span style=color:blue>area under the curve</span> or <span style=color:blue>probability</span> under the <span style=color:blue><b>population distribution</b></span>.    \n",
    "\n",
    "But this is the <span style=color:blue>probability</span> of what?"
   ]
  },
  {
   "attachments": {
    "Find_p_value_graph_small.gif": {
     "image/gif": "[encoded data removed]"
    }
   },
   "cell_type": "markdown",
   "metadata": {},
   "source": [
    "![Find_p_value_graph_small.gif](attachment:Find_p_value_graph_small.gif)"
   ]
  },
  {
   "cell_type": "markdown",
   "metadata": {},
   "source": [
    "The <span style=color:blue>probability</span> obtained is to the left of the <span style=color:blue>Z-score</span> ( <span style=color:red><b><i>Red Dot</i></b></span> ). The value <b>0.999</b> represents the <span style=color:blue><u>“total probability”</u></span> of getting a result <span style=color:blue><i>“less than the <b>sample mean</b>, $\\:\\bar{x}\\:$ = 78”</i></span>, with respect to the population distribution.\n",
    "\n",
    "The <span style=color:red>red dot</span> points where the <span style=color:blue><b>sample mean</b>, $\\:\\bar{x}\\:$ = 78</span> lies with respect to the population distribution. But we have studied earlier that <span style=color:blue><b>p-value</b></span> is to the <b>right-hand side</b> of the <span style=color:red>red dot</span>, so how do we get the <span style=color:blue><b>p-value</b></span> ?\n",
    "\n",
    "We already know, that the total area under the <span style=color:blue><b>Normal distribution</b></span> is <b>1</b>.   \n",
    "\n",
    "Therefore, the area to the right of <span style=color:blue>Z-score</span> is the <span style=color:blue><b><u>p-value</u></b></span>, represented by the unshaded region.\n",
    "\n",
    "So, how do we calculate the <span style=color:blue><b><u>p-value</u></b></span> ? :   \n",
    "$%$   \n",
    "<center><span style=color:blue><b>p-value</b></span> = 1 – 0.999</center>   \n",
    "$%$   \n",
    "<center><span style=color:blue><b>p-value</b></span> = 0.001</center>   \n",
    "\n",
    "<b>0.001</b> (<span style=color:blue><b>p-value</b></span>) is the unshaded area to the right of the <span style=color:red>red dot</span>. \n",
    "\n",
    "The <b>value 0.001</b> represents the <span style=color:blue><u>\"total probability\"</u></span> of getting a result <span style=color:blue><i>\"greater than the <b>sample mean</b>, $\\:\\bar{x}\\:$ = 78\"</i></span>, with respect to the population distribution."
   ]
  },
  {
   "cell_type": "code",
   "execution_count": null,
   "metadata": {
    "ExecuteTime": {
     "end_time": "2020-11-09T19:40:40.101056Z",
     "start_time": "2020-11-09T19:40:40.095089Z"
    }
   },
   "outputs": [],
   "source": [
    "p_value = (1 - x_z_score_percentile)\n",
    "print('p-value = ', round(p_value, 4))"
   ]
  },
  {
   "cell_type": "markdown",
   "metadata": {},
   "source": [
    "#### <span style=color:gray><u>Step 4</u> : <u>Conclusion of the hypothesis test</u> - <i>Comparing p-value and alpha value :</i></span>"
   ]
  },
  {
   "attachments": {
    "p_value_alpha_value_comp_small.gif": {
     "image/gif": "[encoded data removed]"
    }
   },
   "cell_type": "markdown",
   "metadata": {},
   "source": [
    "![p_value_alpha_value_comp_small.gif](attachment:p_value_alpha_value_comp_small.gif)"
   ]
  },
  {
   "cell_type": "markdown",
   "metadata": {},
   "source": [
    "Checking the <span style=color:blue>Hypothesis Test</span> :"
   ]
  },
  {
   "cell_type": "code",
   "execution_count": null,
   "metadata": {
    "ExecuteTime": {
     "end_time": "2020-11-09T19:46:14.226993Z",
     "start_time": "2020-11-09T19:46:14.222007Z"
    }
   },
   "outputs": [],
   "source": [
    "alpha\n",
    "print('p-value ', round(p_value, 4), '<', round(alpha, 4), 'alpha value')"
   ]
  },
  {
   "cell_type": "markdown",
   "metadata": {},
   "source": [
    "We can clearly see in the plot above, that the <span style=color:blue>p-value</span> is far less than the <span style=color:blue>alpha value</span>:   \n",
    "$%$   \n",
    "<center>0.0001 (<span style=color:red>red region</span>) < 0.05 (<span style=color:orange>orange region</span>)</center>   \n",
    "\n",
    "Recal the rule :\n",
    "\n",
    "- A <span style=color:blue><b><u>small p-value$\\:$ ≤$\\:$ 0.05</u></b></span> indicates <b>strong evidence against</b> the <span style=color:blue>null hypothesis $H_0$</span>, so you <u>reject</u> the <span style=color:blue>null hypothesis $H_0$</span>.   \n",
    "$%$   \n",
    "- A <span style=color:blue><b><u>large p-value$\\:$ >$\\:$ 0.05</u></b></span> indicates <b>weak evidence against</b> the <span style=color:blue>null hypothesis $H_0$</span>, so you <u>fail to reject</u> the <span style=color:blue>null hypothesis $H_0$</span>.   \n",
    "$%$   \n",
    "Since the <span style=color:blue>p-value (0.0001)</span> is <b>lower than</b> the <span style=color:blue>standard confidence level, alpha = 0.05</span>, we can <b>reject</b> the <span style=color:blue>Null hypothesis</span> that the <b>Sample mean</b> is equal to <b>74</b>, the <span style=color:blue>Null Hypothesis</span> $\\:H_0\\::$ $\\:\\mu = 74$. \n",
    "\n",
    "There is <b>strong evidence</b> in support for the <span style=color:blue>alternative hypothesis</span> that the <b>Sample mean</b>, in fact, is different from <b>74</b>. <span style=color:blue>Alternative Hypothesis</span> $\\:H_A\\::$ $\\:\\mu \\neq 74$.   "
   ]
  },
  {
   "cell_type": "markdown",
   "metadata": {},
   "source": [
    "<div class=\"alert alert-warning alert-warning\"><b><u>p-value as a tool in hypothesis testing</u></b>   \n",
    "<br/><br/>\n",
    "- The <b>smaller the p-value</b>, the <b><i>stronger the data favor $\\:H_A\\:$ over $\\:H_0\\:$</i></b>.   \n",
    "<br/><br/>\n",
    "- A <b>small p-value</b> (usually <b>$<$ 0.05</b>) corresponds to <i><u>sufficient evidence</u></i> <b>to reject</b> $\\:H_0\\:$ in <b>favor</b> of $\\:H_A\\:$.</div>"
   ]
  },
  {
   "cell_type": "markdown",
   "metadata": {},
   "source": [
    "### <span style=color:darkred>Reviewing the process of evaluating Hypothesis Tests with p-values</span>   \n",
    "$%$   \n",
    "- The <span style=color:blue>null hypothesis</span> represents a skeptic’s position or a position of no difference, <u>equality</u>. We <b>reject</b> this position only if the <b>evidence strongly favors</b> $\\:H_A$.   \n",
    "$%$   \n",
    "- A <span style=color:blue>small p-value</span> means that if the <span style=color:blue><b>null hypothesis is true</b></span>, there is a <span style=color:blue>low probability</span> of seeing a <b>point estimate</b> at least as <b>extreme</b> as the one we saw. We <b>interpret</b> this as <span style=color:blue><b>strong evidence in favor of the alternative</b></span>.   \n",
    "$%$   \n",
    "- We <b>reject</b> the <span style=color:blue>null hypothesis</span> if the <span style=color:blue><b>p-value</b></span> is <b>smaller than</b> the <span style=color:blue><u>significance level</u>, ($\\:\\alpha\\:$)</span>, which is usually <b>0.05</b>. Otherwise, we <b>fail to reject</b> $\\:H_0$.   \n",
    "$%$   \n",
    "- We should always <b>state the conclusion</b> of the <span style=color:blue>hypothesis test</span> in plain language so non-statisticians can also understand the results.   \n",
    "$%$   \n",
    "\n",
    "The <span style=color:blue><b>p-value</b></span> is constructed in such a way that we can directly <b>compare</b> it to the <span style=color:blue><u>significance level</u>, ($\\:\\alpha\\:$)</span> <i>to determine whether or not to</i> <b>reject</b> $\\:H_0$. This method ensures that the <span style=color:blue><b><u>Type 1 Error rate</u></b></span> does not exceed the <span style=color:blue>significance level standard</span>.</span>"
   ]
  },
  {
   "cell_type": "markdown",
   "metadata": {},
   "source": [
    "---"
   ]
  }
 ],
 "metadata": {
  "kernelspec": {
   "display_name": "Python 3",
   "language": "python",
   "name": "python3"
  },
  "language_info": {
   "codemirror_mode": {
    "name": "ipython",
    "version": 3
   },
   "file_extension": ".py",
   "mimetype": "text/x-python",
   "name": "python",
   "nbconvert_exporter": "python",
   "pygments_lexer": "ipython3",
   "version": "3.7.0"
  },
  "toc": {
   "base_numbering": 1,
   "nav_menu": {},
   "number_sections": true,
   "sideBar": true,
   "skip_h1_title": false,
   "title_cell": "Table of Contents",
   "title_sidebar": "Contents",
   "toc_cell": false,
   "toc_position": {
    "height": "calc(100% - 180px)",
    "left": "10px",
    "top": "150px",
    "width": "428.323px"
   },
   "toc_section_display": true,
   "toc_window_display": false
  },
  "varInspector": {
   "cols": {
    "lenName": 16,
    "lenType": 16,
    "lenVar": 40
   },
   "kernels_config": {
    "python": {
     "delete_cmd_postfix": "",
     "delete_cmd_prefix": "del ",
     "library": "var_list.py",
     "varRefreshCmd": "print(var_dic_list())"
    },
    "r": {
     "delete_cmd_postfix": ") ",
     "delete_cmd_prefix": "rm(",
     "library": "var_list.r",
     "varRefreshCmd": "cat(var_dic_list()) "
    }
   },
   "types_to_exclude": [
    "module",
    "function",
    "builtin_function_or_method",
    "instance",
    "_Feature"
   ],
   "window_display": false
  }
 },
 "nbformat": 4,
 "nbformat_minor": 2
}
