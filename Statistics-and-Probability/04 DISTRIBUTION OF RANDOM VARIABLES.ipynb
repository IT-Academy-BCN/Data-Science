{
 "cells": [
  {
   "attachments": {
    "IT%20Logo.png": {
     "image/png": "[encoded data removed]"
    }
   },
   "cell_type": "markdown",
   "metadata": {},
   "source": [
    "![IT%20Logo.png](attachment:IT%20Logo.png)"
   ]
  },
  {
   "cell_type": "markdown",
   "metadata": {},
   "source": [
    "<div class=\"alert alert-block alert-info\"><font size=\"5\"><center><b><u>Statistical Foundations for Data Scientist</u></b></center></font>\n",
    "<br/><br/>\n",
    "\\begin{align*}Alex\\:Kumenius\\end{align*}\n",
    "\\begin{align*}Business\\hspace{2mm}Intelligence\\hspace{2mm}and\\hspace{2mm}Data\\hspace{2mm}Scientist\\hspace{2mm}Project\\hspace{2mm}Integrator\\end{align*}\n",
    "<br/><br/>\n",
    "\\begin{align*}Date : October\\hspace{2mm}26th\\hspace{2mm},2020\\end{align*}</div>"
   ]
  },
  {
   "cell_type": "markdown",
   "metadata": {},
   "source": [
    "# <span style=color:darkblue>DISTRIBUTION OF RANDOM VARIABLES</span>"
   ]
  },
  {
   "cell_type": "markdown",
   "metadata": {},
   "source": [
    "## <span style=color:darkred> NORMAL DISTRIBUTION OR GAUSSIAN DISTRIBUTION</span>"
   ]
  },
  {
   "cell_type": "markdown",
   "metadata": {},
   "source": [
    "<span style=color:blue>Normal Distribution</span>, also known as <span style=color:blue><b><u>Gaussian distribution</u></b></span>, is everywhere in Statistics and Data Science. You will encounter it at many places especially in topics of  <span style=color:blue><b><i>statistical inference</i></b></span>. It is one of the assumptions of many data science algorithms too."
   ]
  },
  {
   "cell_type": "markdown",
   "metadata": {},
   "source": [
    "<div class=\"alert alert-warning alert-warning\"><b><u>Normal Distribution</u></b>   \n",
    "\n",
    "A <span style=color:blue>Normal Distribution</span> always describes a <b>symmetric, unimodal</b>, and <b>bell-shaped density curve</b> described by its <span style=color:blue><b>mean$\\:$ ($\\mu$)</b></span> and <span style=color:blue><b>standard deviation$\\:$ ($\\sigma$)</b></span>. The density curve is <span style=color:blue>symmetrical</span>, centered about its <span style=color:blue>mean</span>, with its spread determined by its <span style=color:blue>standard deviation</span> showing that data near the <span style=color:blue>mean</span> are more frequent in occurrence than data far from the <span style=color:blue>mean</span>.   \n",
    "$%$   \n",
    "If a <span style=color:blue>Normal Distribution</span> has a <span style=color:blue><b>mean$\\:$ ($\\mu$)</b></span> and a <span style=color:blue><b>Standard Deviation$\\:$ ($\\sigma$)</b></span> we will write the distribution as :   \n",
    "$%$   \n",
    "\\begin{align*} N(\\mu,\\hspace{2mm}\\sigma)\\end{align*}   \n",
    "$%$   \n",
    "Because the <span style=color:blue>mean</span> and <span style=color:blue>standard deviation</span> describe a <span style=color:blue>Normal Distribution</span> exactly, they are called the <span style=color:blue><b>Distribution’s Parameters</b></span>.   \n",
    "$%$   \n",
    "The <span style=color:blue>Normal Distribution</span> with <span style=color:blue><b>mean$\\:$ $\\mu$ = 0</b></span> and <span style=color:blue><b>Standard Deviation$\\:$ $\\sigma$ = 1</b></span> is called the <span style=color:blue><b><u>Standard Normal Distribution</u></b></span>, and we will write the distribution as :   \n",
    "$%$   \n",
    "\\begin{align*} N(\\mu = 0,\\hspace{2mm}\\sigma = 1)\\end{align*}</div>"
   ]
  },
  {
   "cell_type": "code",
   "execution_count": 1,
   "metadata": {
    "ExecuteTime": {
     "end_time": "2020-10-26T17:17:34.276591Z",
     "start_time": "2020-10-26T17:17:32.338145Z"
    }
   },
   "outputs": [],
   "source": [
    "# Import all libraries\n",
    "import numpy as np\n",
    "import matplotlib.pyplot as plt\n",
    "from matplotlib.patches import Polygon\n",
    "from matplotlib.mlab import normpdf\n",
    "import warnings\n",
    "import scipy\n",
    "from scipy.integrate import quad\n",
    "import scipy.stats as stats\n",
    "from scipy.stats import norm\n",
    "import pandas as pd\n",
    "import seaborn as sns\n",
    "% matplotlib inline\n",
    "\n",
    "# This is needed for z table formatting\n",
    "pd.options.display.float_format = '{:<.4f}'.format\n",
    "\n",
    "warnings.filterwarnings('ignore')\n",
    "\n",
    "% matplotlib inline"
   ]
  },
  {
   "cell_type": "markdown",
   "metadata": {},
   "source": [
    "<span style=color:blue>Draw samples</span> from the <span style=color:blue>distribution</span>:"
   ]
  },
  {
   "cell_type": "code",
   "execution_count": 2,
   "metadata": {
    "ExecuteTime": {
     "end_time": "2020-11-04T10:06:11.832932Z",
     "start_time": "2020-11-04T10:06:11.823952Z"
    }
   },
   "outputs": [
    {
     "data": {
      "text/plain": [
       "(numpy.ndarray, (1000,), dtype('float64'))"
      ]
     },
     "execution_count": 2,
     "metadata": {},
     "output_type": "execute_result"
    }
   ],
   "source": [
    "mu, sigma = 1500, 300 # mean and standard deviation\n",
    "s = np.random.normal(mu, sigma, 1000)\n",
    "type(s), s.shape, s.dtype"
   ]
  },
  {
   "cell_type": "markdown",
   "metadata": {
    "ExecuteTime": {
     "end_time": "2019-09-08T17:48:23.265716Z",
     "start_time": "2019-09-08T17:48:23.260698Z"
    }
   },
   "source": [
    "<span style=color:red><b><u>EXERCISE - 5.1</u></b></span> \n",
    "\n",
    "Display the <span style=color:blue>histogram of the samples</span>, along with the <span style=color:blue>probability density function</span>:"
   ]
  },
  {
   "cell_type": "code",
   "execution_count": 3,
   "metadata": {
    "ExecuteTime": {
     "end_time": "2020-11-04T10:06:14.675055Z",
     "start_time": "2020-11-04T10:06:14.430672Z"
    }
   },
   "outputs": [
    {
     "data": {
      "image/png": "[encoded data removed]",
      "text/plain": [
       "<Figure size 432x288 with 1 Axes>"
      ]
     },
     "metadata": {},
     "output_type": "display_data"
    }
   ],
   "source": [
    "import matplotlib.pyplot as plt\n",
    "\n",
    "count, bins, ignored = plt.hist(s, 30, density=True)  # switch to True to depict density curve\n",
    "plt.plot(bins, 1/(sigma * np.sqrt(2 * np.pi)) *\n",
    "         np.exp( - (bins - mu)**2 / (2 * sigma**2) ),\n",
    "         linewidth=2, color='r')\n",
    "plt.show()"
   ]
  },
  {
   "cell_type": "code",
   "execution_count": 4,
   "metadata": {
    "ExecuteTime": {
     "end_time": "2020-10-26T15:59:06.171294Z",
     "start_time": "2020-10-26T15:59:06.162319Z"
    }
   },
   "outputs": [
    {
     "data": {
      "text/plain": [
       "[<matplotlib.patches.Rectangle at 0x16d31f30080>,\n",
       " <matplotlib.patches.Rectangle at 0x16d31f23e48>,\n",
       " <matplotlib.patches.Rectangle at 0x16d31f306d8>,\n",
       " <matplotlib.patches.Rectangle at 0x16d31f30a20>,\n",
       " <matplotlib.patches.Rectangle at 0x16d31f30d68>,\n",
       " <matplotlib.patches.Rectangle at 0x16d31f30e80>,\n",
       " <matplotlib.patches.Rectangle at 0x16d31f3f438>,\n",
       " <matplotlib.patches.Rectangle at 0x16d31f3f780>,\n",
       " <matplotlib.patches.Rectangle at 0x16d31f3fac8>,\n",
       " <matplotlib.patches.Rectangle at 0x16d31f3fe10>,\n",
       " <matplotlib.patches.Rectangle at 0x16d31f3ff28>,\n",
       " <matplotlib.patches.Rectangle at 0x16d31f494e0>,\n",
       " <matplotlib.patches.Rectangle at 0x16d31f49828>,\n",
       " <matplotlib.patches.Rectangle at 0x16d31f49b70>,\n",
       " <matplotlib.patches.Rectangle at 0x16d31f49eb8>,\n",
       " <matplotlib.patches.Rectangle at 0x16d31f49e80>,\n",
       " <matplotlib.patches.Rectangle at 0x16d31f55588>,\n",
       " <matplotlib.patches.Rectangle at 0x16d31f558d0>,\n",
       " <matplotlib.patches.Rectangle at 0x16d31f55c18>,\n",
       " <matplotlib.patches.Rectangle at 0x16d31f55f60>,\n",
       " <matplotlib.patches.Rectangle at 0x16d31f55f98>,\n",
       " <matplotlib.patches.Rectangle at 0x16d31f5d630>,\n",
       " <matplotlib.patches.Rectangle at 0x16d31f5d978>,\n",
       " <matplotlib.patches.Rectangle at 0x16d31f5dcc0>,\n",
       " <matplotlib.patches.Rectangle at 0x16d31f5dfd0>,\n",
       " <matplotlib.patches.Rectangle at 0x16d31f68390>,\n",
       " <matplotlib.patches.Rectangle at 0x16d31f686d8>,\n",
       " <matplotlib.patches.Rectangle at 0x16d31f68a20>,\n",
       " <matplotlib.patches.Rectangle at 0x16d31f68d68>,\n",
       " <matplotlib.patches.Rectangle at 0x16d31f68e80>]"
      ]
     },
     "execution_count": 4,
     "metadata": {},
     "output_type": "execute_result"
    }
   ],
   "source": [
    "list(ignored)"
   ]
  },
  {
   "cell_type": "markdown",
   "metadata": {},
   "source": [
    "<span style=color:red><b><u>EXERCISE - 5.2</u></b></span> \n",
    "\n",
    "Let's plot a <span style=color:blue><b>Normal Distribution</b></span> density curve with <span style=color:blue>mean = 0</span> and <span style=color:blue>standard deviation = 1</span> ...\n",
    "\n",
    "\\begin{align*} N(\\mu = 0,\\hspace{1mm}\\sigma = 1)\\end{align*}"
   ]
  },
  {
   "cell_type": "code",
   "execution_count": 5,
   "metadata": {
    "ExecuteTime": {
     "end_time": "2020-10-26T15:59:14.264229Z",
     "start_time": "2020-10-26T15:59:14.075733Z"
    },
    "scrolled": true
   },
   "outputs": [
    {
     "data": {
      "image/png": "[encoded data removed]",
      "text/plain": [
       "<Figure size 432x288 with 1 Axes>"
      ]
     },
     "metadata": {},
     "output_type": "display_data"
    }
   ],
   "source": [
    "import pylab\n",
    "import numpy as np\n",
    "from scipy.stats import norm\n",
    "\n",
    "x = np.linspace(-3,3,1000)\n",
    "mu = 0\n",
    "sd = 1\n",
    "y = norm.pdf(x, loc = mu, scale = sd)    # for example\n",
    "pylab.plot(x, y)\n",
    "pylab.show()"
   ]
  },
  {
   "cell_type": "markdown",
   "metadata": {},
   "source": [
    "<span style=color:red><b><u>EXERCISE - 5.3</u></b></span> \n",
    "\n",
    "... and the <span style=color:blue><b>Normal Distribution</b></span> with  <span style=color:blue>mean = 19</span> and  <span style=color:blue>standard deviation  = 4</span>. \n",
    "\n",
    "\\begin{align*} N(\\mu = 19,\\hspace{1mm}\\sigma = 4)\\end{align*}"
   ]
  },
  {
   "cell_type": "code",
   "execution_count": 6,
   "metadata": {
    "ExecuteTime": {
     "end_time": "2020-10-26T15:59:18.406147Z",
     "start_time": "2020-10-26T15:59:18.236603Z"
    },
    "scrolled": true
   },
   "outputs": [
    {
     "data": {
      "image/png": "[encoded data removed]",
      "text/plain": [
       "<Figure size 432x288 with 1 Axes>"
      ]
     },
     "metadata": {},
     "output_type": "display_data"
    }
   ],
   "source": [
    "import pylab\n",
    "import numpy as np\n",
    "from scipy.stats import norm\n",
    "\n",
    "x = np.linspace(3,35,1000)\n",
    "mu = 19\n",
    "sd = 4\n",
    "y = norm.pdf(x, loc = mu, scale = sd)    # for example\n",
    "pylab.plot(x, y)\n",
    "pylab.show()"
   ]
  },
  {
   "cell_type": "markdown",
   "metadata": {},
   "source": [
    "1.- Changing the  <span style=color:blue><b>mean $\\mu$</b></span> <b><i>shifts</i></b> the bell curve to the  <span style=color:blue><i>left or right</i></span>,   \n",
    "   \n",
    "2.- while changing the  <span style=color:blue><b>standard deviation $\\sigma$</b></span> <b><i>stretches or constricts</i></b> the curve."
   ]
  },
  {
   "cell_type": "markdown",
   "metadata": {},
   "source": [
    "<span style=color:red><b><u>EXERCISE - 5.4</u></b></span> \n",
    "\n",
    "Let's plot together and on the same scale the above plotted curve :\n",
    "\n",
    "The data is the superposition of two  <span style=color:blue>normal samples</span>, the model a sum of  <span style=color:blue><b>Gaussian curves</b></span>. we obtain :\n",
    "\n",
    "\\begin{align*} N(\\mu = 0,\\hspace{1mm}\\sigma = 1)\\hspace{2mm}and\\hspace{2mm}N(\\mu = 19,\\hspace{1mm}\\sigma = 4)\\end{align*}"
   ]
  },
  {
   "cell_type": "code",
   "execution_count": 7,
   "metadata": {
    "ExecuteTime": {
     "end_time": "2020-10-26T15:59:22.974930Z",
     "start_time": "2020-10-26T15:59:22.366553Z"
    },
    "scrolled": true
   },
   "outputs": [
    {
     "data": {
      "text/plain": [
       "<matplotlib.legend.Legend at 0x16d331a1d68>"
      ]
     },
     "execution_count": 7,
     "metadata": {},
     "output_type": "execute_result"
    },
    {
     "data": {
      "image/png": "[encoded data removed]",
      "text/plain": [
       "<Figure size 432x288 with 1 Axes>"
      ]
     },
     "metadata": {},
     "output_type": "display_data"
    }
   ],
   "source": [
    "from pylab import *\n",
    "from scipy.optimize import curve_fit\n",
    "\n",
    "data = concatenate(( normal(0,1,1000), normal(19,4,1000)))\n",
    "y, x, _ = hist(data, 100, alpha = 0.3, label='data')\n",
    "\n",
    "x = (x[1:] + x[:-1]) / 2 # for len(x)==len(y)\n",
    "\n",
    "def gauss(x, mu, sigma, A):\n",
    "    return A*exp(-(x - mu)**2/2/sigma**2)\n",
    "\n",
    "def bimodal(x, mu1, sigma1, A1, mu2, sigma2, A2):\n",
    "    return gauss(x, mu1, sigma1, A1) + gauss(x, mu2, sigma2, A2)\n",
    "\n",
    "expected = (0, 1, 1000, 19, 4, 1000)\n",
    "params, cov = curve_fit(bimodal, x, y, expected)           # cov variabilidad de 2 variables conjuntas\n",
    "sigma = sqrt(diag(cov))\n",
    "plot(x, bimodal(x,*params),color='red',lw=2,label='model')\n",
    "legend()\n",
    "# print(params,'\\n',sigma)"
   ]
  },
  {
   "cell_type": "markdown",
   "metadata": {},
   "source": [
    "And the <span style=color:blue>estimate parameters</span> are :"
   ]
  },
  {
   "cell_type": "code",
   "execution_count": 8,
   "metadata": {
    "ExecuteTime": {
     "end_time": "2020-10-26T15:59:27.384129Z",
     "start_time": "2020-10-26T15:59:27.362190Z"
    },
    "scrolled": true
   },
   "outputs": [
    {
     "data": {
      "text/html": [
       "<div>\n",
       "<style scoped>\n",
       "    .dataframe tbody tr th:only-of-type {\n",
       "        vertical-align: middle;\n",
       "    }\n",
       "\n",
       "    .dataframe tbody tr th {\n",
       "        vertical-align: top;\n",
       "    }\n",
       "\n",
       "    .dataframe thead th {\n",
       "        text-align: right;\n",
       "    }\n",
       "</style>\n",
       "<table border=\"1\" class=\"dataframe\">\n",
       "  <thead>\n",
       "    <tr style=\"text-align: right;\">\n",
       "      <th></th>\n",
       "      <th>params</th>\n",
       "      <th>sigma</th>\n",
       "    </tr>\n",
       "  </thead>\n",
       "  <tbody>\n",
       "    <tr>\n",
       "      <th>mu1</th>\n",
       "      <td>-0.0685</td>\n",
       "      <td>0.0190</td>\n",
       "    </tr>\n",
       "    <tr>\n",
       "      <th>sigma1</th>\n",
       "      <td>1.0085</td>\n",
       "      <td>0.0191</td>\n",
       "    </tr>\n",
       "    <tr>\n",
       "      <th>A1</th>\n",
       "      <td>131.2979</td>\n",
       "      <td>2.1460</td>\n",
       "    </tr>\n",
       "    <tr>\n",
       "      <th>mu2</th>\n",
       "      <td>18.7002</td>\n",
       "      <td>0.1526</td>\n",
       "    </tr>\n",
       "    <tr>\n",
       "      <th>sigma2</th>\n",
       "      <td>4.0736</td>\n",
       "      <td>0.1529</td>\n",
       "    </tr>\n",
       "    <tr>\n",
       "      <th>A2</th>\n",
       "      <td>32.9044</td>\n",
       "      <td>1.0677</td>\n",
       "    </tr>\n",
       "  </tbody>\n",
       "</table>\n",
       "</div>"
      ],
      "text/plain": [
       "         params  sigma\n",
       "mu1     -0.0685 0.0190\n",
       "sigma1   1.0085 0.0191\n",
       "A1     131.2979 2.1460\n",
       "mu2     18.7002 0.1526\n",
       "sigma2   4.0736 0.1529\n",
       "A2      32.9044 1.0677"
      ]
     },
     "execution_count": 8,
     "metadata": {},
     "output_type": "execute_result"
    }
   ],
   "source": [
    "pd.DataFrame(data={'params':params,'sigma':sigma},index = bimodal.__code__.co_varnames[1:])"
   ]
  },
  {
   "cell_type": "code",
   "execution_count": 9,
   "metadata": {
    "ExecuteTime": {
     "end_time": "2020-10-26T15:59:31.021399Z",
     "start_time": "2020-10-26T15:59:31.015416Z"
    }
   },
   "outputs": [
    {
     "data": {
      "text/plain": [
       "('mu1', 'sigma1', 'A1', 'mu2', 'sigma2', 'A2')"
      ]
     },
     "execution_count": 9,
     "metadata": {},
     "output_type": "execute_result"
    }
   ],
   "source": [
    "bimodal.__code__.co_varnames[1:]"
   ]
  },
  {
   "cell_type": "markdown",
   "metadata": {},
   "source": [
    "Both curves represent the <span style=color:blue>Normal Distribution</span>, however, they differ in their center and spread. The <span style=color:blue>Normal Distribution</span> with <span style=color:blue>mean = 0</span> and <span style=color:blue>standard deviation = 1</span> is called the <span style=color:blue><b>Standard Normal Distribution</b></span>."
   ]
  },
  {
   "cell_type": "markdown",
   "metadata": {},
   "source": [
    "Many variables are nearly normal, but <span style=color:red><b>none are exactly normal</b></span>. Thus the normal distribution, <span style=color:red>while <b>not perfect</b> for any single problem</span>, is very useful for a variety of problems. We will use it in data exploration and to solve important problems\n",
    "in statistics."
   ]
  },
  {
   "cell_type": "markdown",
   "metadata": {},
   "source": [
    "# <span style=color:darkblue>NORMAL DISTRIBUTION RULE</span>"
   ]
  },
  {
   "cell_type": "markdown",
   "metadata": {},
   "source": [
    "One reason the <span style=color:blue><b>normal distribution</b></span> is important is that many variables are <span style=color:blue>distributed approximately <b><u>normally</u></b></span>."
   ]
  },
  {
   "cell_type": "markdown",
   "metadata": {},
   "source": [
    "Despite the <span style=color:red><b>different</b> shapes</span>, <span style=color:blue><u>all forms</u></span> of the <span style=color:blue>normal distribution</span> have the following characteristic properties.\n",
    "\n",
    "1. They’re all <span style=color:blue><b>symmetric</b></span>. The <span style=color:blue>normal distribution</span> <span style=color:red><b><u>cannot</u></b> model</span> <span style=color:blue><b>skewed</b> distributions</span>.\n",
    "2. The <span style=color:blue><b>mean, median</b>, and <b>mode</b> are all <u>equal</u></span>.\n",
    "3. <span style=color:blue><b>Half</b></span> of the population <span style=color:red><b>is less than</b></span> the <span style=color:blue><b>mean</b></span> and <span style=color:blue><b>half</b> is greater than</span> the <span style=color:blue><b>mean</b></span>.\n",
    "4. The <span style=color:blue><b>Empirical Rule</b></span> allows you <span style=color:blue>to <u>determine</u> the <b>proportion</b> of <u>values</u></span> that <span style=color:blue><b>fall within</b></span> certain distances from the <span style=color:blue><b>mean</b></span>. "
   ]
  },
  {
   "cell_type": "markdown",
   "metadata": {},
   "source": [
    "## <span style=color:darkred>68-95-99.7 Empirical Rule</span>"
   ]
  },
  {
   "cell_type": "markdown",
   "metadata": {},
   "source": [
    "Here, we present a useful rule of thumb for the <span style=color:blue><b>probability</b> of falling within 1, 2, and 3 <b>standard deviations</b> of the <b>mean</b> in the normal distribution</span>. This will be useful in a wide range of practical settings, especially when trying to make a <span style=color:blue>quick estimate</span> without a calculator or <span style=color:blue><b>Z-table</b></span>."
   ]
  },
  {
   "cell_type": "markdown",
   "metadata": {},
   "source": [
    "<div class=\"alert alert-warning alert-warning\">\n",
    "\n",
    "In a <b>Normal Distribution</b>, there is a <b>standard range of values</b> that generally fall within a certain number of <b>standard deviations</b> from the <b>mean</b>: </div>  \n",
    "\n",
    "| % of total x values | range in distribution | z-scores from mean |\n",
    "| ------------------------ | --------------------- | ------------------ |\n",
    "| 68                       | $$μ±σ$$               |         ±1         |\n",
    "| 95                       | $$μ±1.96σ$$           |       ±1.96        |\n",
    "| 99                       | $$μ±2.58σ$$           |       ±2.58        |\n"
   ]
  },
  {
   "cell_type": "markdown",
   "metadata": {
    "ExecuteTime": {
     "end_time": "2020-10-26T15:14:36.199482Z",
     "start_time": "2020-10-26T15:14:36.193498Z"
    }
   },
   "source": [
    "Let’s graph this function with a range from -3 to 3."
   ]
  },
  {
   "cell_type": "code",
   "execution_count": 7,
   "metadata": {
    "ExecuteTime": {
     "end_time": "2020-10-26T17:31:34.619549Z",
     "start_time": "2020-10-26T17:31:34.613567Z"
    }
   },
   "outputs": [],
   "source": [
    "x = np.linspace(-3, 3, num = 100)\n",
    "\n",
    "constant = 1.0 / np.sqrt(2*np.pi)\n",
    "normal_distribution = constant * np.exp((-x**2) / 2.0)"
   ]
  },
  {
   "cell_type": "code",
   "execution_count": 8,
   "metadata": {
    "ExecuteTime": {
     "end_time": "2020-10-26T17:31:44.733233Z",
     "start_time": "2020-10-26T17:31:44.381735Z"
    }
   },
   "outputs": [
    {
     "data": {
      "image/png": "[encoded data removed]",
      "text/plain": [
       "<Figure size 720x360 with 1 Axes>"
      ]
     },
     "metadata": {},
     "output_type": "display_data"
    }
   ],
   "source": [
    "fig, ax = plt.subplots(figsize=(10,5));\n",
    "ax.set_ylim(0,0.41);\n",
    "ax.set_title('Normal Distribution', size = 20);\n",
    "ax.set_ylabel('Probability Density', size = 15);\n",
    "\n",
    "ax.plot(x, normal_distribution);"
   ]
  },
  {
   "cell_type": "markdown",
   "metadata": {},
   "source": [
    "The graph above <span style=color:red><b>does not</b> show</span> you the <span style=color:blue><b>probability of events</b></span> **but** their <span style=color:blue><b>probability density</b></span>.   \n",
    "   \n",
    "<span style=color:blue>To get the <b>probability of an event</b> within a <b>given <u>range</u></b></span> we will need <span style=color:blue><u>to integrate</u></span>.   "
   ]
  },
  {
   "cell_type": "markdown",
   "metadata": {},
   "source": [
    "### <span style=color:darkgreen>Within 1 Standard Deviation</span>"
   ]
  },
  {
   "cell_type": "markdown",
   "metadata": {},
   "source": [
    "Suppose we are interested in finding the <span style=color:blue><b>probability</b></span> of a random data point <span style=color:blue><b>landing</b> within 1 standard deviation</span> of the <span style=color:blue><b>mean</b></span>, we need to integrate from -1 to 1. This can be done with SciPy."
   ]
  },
  {
   "cell_type": "markdown",
   "metadata": {},
   "source": [
    "Math Expression \n",
    "\n",
    "$$\\int_{1}^{-1} \\frac{1}{\\sqrt{2\\pi}} e^{-x^2}/\\hspace{1mm}2_{dx}$$"
   ]
  },
  {
   "cell_type": "code",
   "execution_count": 9,
   "metadata": {
    "ExecuteTime": {
     "end_time": "2020-10-26T17:33:02.698403Z",
     "start_time": "2020-10-26T17:33:02.692419Z"
    }
   },
   "outputs": [],
   "source": [
    "def normalProbabilityDensity(x):\n",
    "    constant = 1.0 / np.sqrt(2*np.pi)\n",
    "    return(constant * np.exp((-x**2) / 2.0))"
   ]
  },
  {
   "cell_type": "code",
   "execution_count": 12,
   "metadata": {
    "ExecuteTime": {
     "end_time": "2020-10-26T17:34:18.430372Z",
     "start_time": "2020-10-26T17:34:18.423391Z"
    }
   },
   "outputs": [
    {
     "name": "stdout",
     "output_type": "stream",
     "text": [
      "0.6827\n"
     ]
    }
   ],
   "source": [
    "## Integrate PDF from -1 to 1\n",
    "result_n1_1, _ = quad(normalProbabilityDensity, -1, 1, limit = 1000)\n",
    "print(round(result_n1_1,4))"
   ]
  },
  {
   "cell_type": "code",
   "execution_count": 13,
   "metadata": {
    "ExecuteTime": {
     "end_time": "2020-10-26T17:34:21.835435Z",
     "start_time": "2020-10-26T17:34:21.031688Z"
    }
   },
   "outputs": [
    {
     "data": {
      "image/png": "[encoded data removed]",
      "text/plain": [
       "<Figure size 720x360 with 1 Axes>"
      ]
     },
     "metadata": {},
     "output_type": "display_data"
    }
   ],
   "source": [
    "a, b = -1, 1 # integral limits\n",
    "\n",
    "x = np.linspace(-3, 3)\n",
    "y = normalProbabilityDensity(x)\n",
    "\n",
    "fig, ax = plt.subplots(figsize=(10, 5))\n",
    "ax.plot(x, y, 'k', linewidth=.5)\n",
    "ax.set_ylim(bottom=0, top=0.41)\n",
    "\n",
    "# Make the shaded region\n",
    "ix = np.linspace(a, b)\n",
    "iy = normalProbabilityDensity(ix)\n",
    "verts = [(a, 0)] + list(zip(ix, iy)) + [(b, 0)]\n",
    "poly = Polygon(verts, facecolor='red', edgecolor='0.2', alpha = .4)\n",
    "ax.add_patch(poly);\n",
    "\n",
    "ax.text(0, .08, r\"$\\int_{-1}^{1} f(x)\\mathrm{d}x = $\" + \"{0:.1f}%\".format(result_n1_1*100),\n",
    "         horizontalalignment='center', fontsize=14);\n",
    "\n",
    "ax.set_title(r'68% of Values are within 1 STD', fontsize = 22);\n",
    "ax.set_ylabel(r'Probability Density', fontsize = 18);\n",
    "plt.show()\n",
    "#fig.savefig('images/68_1_std.png', dpi = 1200)"
   ]
  },
  {
   "cell_type": "markdown",
   "metadata": {},
   "source": [
    "<span style=color:blue><b>68%</b></span> of the data is <span style=color:blue>within 1 <u>**standard deviation**</u> ($\\sigma$) of the <u>**mean**</u> ($\\mu$)</span>."
   ]
  },
  {
   "cell_type": "markdown",
   "metadata": {},
   "source": [
    "### <span style=color:darkgreen>Within 2 Standard Deviation</span>"
   ]
  },
  {
   "cell_type": "markdown",
   "metadata": {},
   "source": [
    "Suppose we are interested in finding the <span style=color:blue><b>probability</b></span> of a random data point <span style=color:blue><b>landing</b> within 2 standard deviation</span> of the <span style=color:blue><b>mean</b></span>, we need to integrate from -2 to 2."
   ]
  },
  {
   "cell_type": "markdown",
   "metadata": {
    "ExecuteTime": {
     "end_time": "2020-10-26T15:38:09.155769Z",
     "start_time": "2020-10-26T15:38:09.149787Z"
    }
   },
   "source": [
    "Math Expression \n",
    "\n",
    "$$\\int_{2}^{-2} \\frac{1}{\\sqrt{2\\pi}} e^{-x^2}/\\hspace{1mm}2_{dx}$$"
   ]
  },
  {
   "cell_type": "code",
   "execution_count": 14,
   "metadata": {
    "ExecuteTime": {
     "end_time": "2020-10-26T17:35:40.173254Z",
     "start_time": "2020-10-26T17:35:40.166273Z"
    }
   },
   "outputs": [
    {
     "name": "stdout",
     "output_type": "stream",
     "text": [
      "0.954\n"
     ]
    }
   ],
   "source": [
    "# Make the PDF for the normal distribution a function\n",
    "# def normalProbabilityDensity(x):\n",
    "#    constant = 1.0 / np.sqrt(2*np.pi)\n",
    "#    return(constant * np.exp((-x**2) / 2.0) )\n",
    "\n",
    "# Integrate PDF from -2 to 2\n",
    "result_n2_2, _ = quad(normalProbabilityDensity, -2, 2, limit = 1000)\n",
    "print(round(result_n2_2, 3))"
   ]
  },
  {
   "cell_type": "code",
   "execution_count": 15,
   "metadata": {
    "ExecuteTime": {
     "end_time": "2020-10-26T17:35:59.127676Z",
     "start_time": "2020-10-26T17:35:58.727743Z"
    }
   },
   "outputs": [
    {
     "data": {
      "image/png": "[encoded data removed]",
      "text/plain": [
       "<Figure size 720x360 with 1 Axes>"
      ]
     },
     "metadata": {},
     "output_type": "display_data"
    }
   ],
   "source": [
    "a, b = -2, 2 # integral limits\n",
    "\n",
    "x = np.linspace(-3, 3)\n",
    "y = normalProbabilityDensity(x)\n",
    "\n",
    "fig, ax = plt.subplots(figsize=(10, 5))\n",
    "ax.plot(x, y, 'k', linewidth=.5)\n",
    "ax.set_ylim(bottom=0, top=0.41)\n",
    "\n",
    "# Make the shaded region\n",
    "ix = np.linspace(a, b)\n",
    "iy = normalProbabilityDensity(ix)\n",
    "verts = [(a, 0)] + list(zip(ix, iy)) + [(b, 0)]\n",
    "poly = Polygon(verts, facecolor='red', edgecolor='0.2', alpha = .4)\n",
    "ax.add_patch(poly);\n",
    "\n",
    "ax.text(0, .08, r\"$\\int_{-2}^{2} f(x)\\mathrm{d}x = $\" + \"{0:.1f}%\".format(result_n2_2*100),\n",
    "         horizontalalignment='center', fontsize=18);\n",
    "\n",
    "ax.set_title(r'95% of Values are within 2 STD', fontsize = 22);\n",
    "ax.set_ylabel(r'Probability Density', fontsize = 18);\n",
    "plt.show()"
   ]
  },
  {
   "cell_type": "markdown",
   "metadata": {},
   "source": [
    "<span style=color:blue><b>95%</b></span> of the data is <span style=color:blue>within 2 <u>**standard deviation**</u> ($\\sigma$) of the <u>**mean**</u> ($\\mu$)</span>."
   ]
  },
  {
   "cell_type": "markdown",
   "metadata": {},
   "source": [
    "### <span style=color:darkgreen>Within 3 Standard Deviation</span>"
   ]
  },
  {
   "cell_type": "markdown",
   "metadata": {},
   "source": [
    "Suppose we are interested in finding the <span style=color:blue><b>probability</b></span> of a random data point <span style=color:blue><b>landing</b> within 3 standard deviation</span> of the <span style=color:blue><b>mean</b></span>, we need to integrate from -3 to 3."
   ]
  },
  {
   "cell_type": "markdown",
   "metadata": {},
   "source": [
    "Math Expression \n",
    "\n",
    "$$\\int_{3}^{-3} \\frac{1}{\\sqrt{2\\pi}} e^{-x^2}/\\hspace{1mm}2_{dx}$$"
   ]
  },
  {
   "cell_type": "code",
   "execution_count": 16,
   "metadata": {
    "ExecuteTime": {
     "end_time": "2020-10-26T17:36:23.122788Z",
     "start_time": "2020-10-26T17:36:23.117802Z"
    }
   },
   "outputs": [
    {
     "name": "stdout",
     "output_type": "stream",
     "text": [
      "0.997\n"
     ]
    }
   ],
   "source": [
    "# Integrate PDF from -3 to 3\n",
    "result_n3_3, _ = quad(normalProbabilityDensity, -3, 3, limit = 1000)\n",
    "print(round(result_n3_3, 3))"
   ]
  },
  {
   "cell_type": "code",
   "execution_count": 17,
   "metadata": {
    "ExecuteTime": {
     "end_time": "2020-10-26T17:36:37.312160Z",
     "start_time": "2020-10-26T17:36:36.929670Z"
    },
    "scrolled": false
   },
   "outputs": [
    {
     "data": {
      "image/png": "[encoded data removed]",
      "text/plain": [
       "<Figure size 720x360 with 1 Axes>"
      ]
     },
     "metadata": {},
     "output_type": "display_data"
    }
   ],
   "source": [
    "a, b = -3, 3 # integral limits\n",
    "\n",
    "x = np.linspace(-3, 3)\n",
    "y = normalProbabilityDensity(x)\n",
    "\n",
    "fig, ax = plt.subplots(figsize=(10, 5))\n",
    "ax.plot(x, y, 'k', linewidth=.5)\n",
    "ax.set_ylim(bottom=0, top=0.41)\n",
    "\n",
    "# Make the shaded region\n",
    "ix = np.linspace(a, b)\n",
    "iy = normalProbabilityDensity(ix)\n",
    "verts = [(a, 0)] + list(zip(ix, iy)) + [(b, 0)]\n",
    "poly = Polygon(verts, facecolor='red', edgecolor='0.2', alpha = .4)\n",
    "ax.add_patch(poly);\n",
    "\n",
    "ax.text(0, .08, r\"$\\int_{-2}^{2} f(x)\\mathrm{d}x = $\" + \"{0:.1f}%\".format(result_n3_3*100),\n",
    "         horizontalalignment='center', fontsize=18);\n",
    "\n",
    "ax.set_title(r'99.7% of Values are within 3 STD', fontsize = 22);\n",
    "ax.set_ylabel(r'Probability Density', fontsize = 18);\n",
    "plt.show()"
   ]
  },
  {
   "cell_type": "markdown",
   "metadata": {},
   "source": [
    "<span style=color:blue><b>99.7%</b></span> of the data is <span style=color:blue>within 3 <u>**standard deviation**</u> ($\\sigma$) of the <u>**mean**</u> ($\\mu$)</span>."
   ]
  },
  {
   "cell_type": "markdown",
   "metadata": {},
   "source": [
    "### <span style=color:darkgreen>Negative Infinity to Positive Infinity</span>"
   ]
  },
  {
   "cell_type": "markdown",
   "metadata": {},
   "source": [
    "For any <span style=color:blue><b>Probability Density Function - PDF</b></span>, the area under the curve must be **1** (<span style=color:blue><i>the probability of drawing any number from the function's range is always 1</i></span>)."
   ]
  },
  {
   "cell_type": "code",
   "execution_count": 18,
   "metadata": {
    "ExecuteTime": {
     "end_time": "2020-10-26T17:36:58.414329Z",
     "start_time": "2020-10-26T17:36:58.402351Z"
    }
   },
   "outputs": [
    {
     "name": "stdout",
     "output_type": "stream",
     "text": [
      "1.0\n"
     ]
    }
   ],
   "source": [
    "# def normalProbabilityDensity(x):\n",
    "#    constant = 1.0 / np.sqrt(2*np.pi)\n",
    "#    return(constant * np.exp((-x**2) / 2.0) )\n",
    "\n",
    "result_all, _ = quad(normalProbabilityDensity, np.NINF, np.inf)\n",
    "print(round(result_all, 3))"
   ]
  },
  {
   "cell_type": "code",
   "execution_count": 19,
   "metadata": {
    "ExecuteTime": {
     "end_time": "2020-10-26T17:37:23.115042Z",
     "start_time": "2020-10-26T17:37:22.665769Z"
    }
   },
   "outputs": [
    {
     "data": {
      "image/png": "[encoded data removed]",
      "text/plain": [
       "<Figure size 720x360 with 1 Axes>"
      ]
     },
     "metadata": {},
     "output_type": "display_data"
    }
   ],
   "source": [
    "# This should really be -inf to positive inf, but graph can only be so big. \n",
    "# Currently it is plus or minus 4 std deviations \n",
    "a, b = -4, 4 # integral limits\n",
    "\n",
    "x = np.linspace(a, b)\n",
    "y = normalProbabilityDensity(x)\n",
    "\n",
    "fig, ax = plt.subplots(figsize=(10, 5))\n",
    "ax.plot(x, y, 'k', linewidth=.5)\n",
    "ax.set_ylim(bottom=0, top=0.41)\n",
    "\n",
    "# Make the shaded region\n",
    "ix = np.linspace(a, b)\n",
    "iy = normalProbabilityDensity(ix)\n",
    "verts = [(a, 0)] + list(zip(ix, iy)) + [(b, 0)]\n",
    "poly = Polygon(verts, facecolor='red', edgecolor='0.2', alpha = .4)\n",
    "ax.add_patch(poly);\n",
    "\n",
    "ax.text(0, .08, r\"$\\int_{-\\infty}^{\\infty} f(x)\\mathrm{d}x = 1$\",\n",
    "         horizontalalignment='center', fontsize=20);\n",
    "\n",
    "ax.set_title(r'100% of Values are within PDF', fontsize = 20);\n",
    "ax.set_ylabel(r'Probability Density', fontsize = 14);"
   ]
  },
  {
   "cell_type": "markdown",
   "metadata": {},
   "source": [
    "You will also find that it is also <span style=color:red>possible for observations</span> to fall 4, 5 or even more <span style=color:blue><b>standard deviations</b> from the <b>mean</b></span>, but this is <span style=color:red><b>very rare</b></span> if you have a <span style=color:blue>normal or nearly normal distribution</span>."
   ]
  },
  {
   "cell_type": "markdown",
   "metadata": {},
   "source": [
    "### <span style=color:darkgreen>Lets put together the Entire Graph</span>"
   ]
  },
  {
   "cell_type": "code",
   "execution_count": 20,
   "metadata": {
    "ExecuteTime": {
     "end_time": "2020-10-26T17:37:42.419988Z",
     "start_time": "2020-10-26T17:37:42.415001Z"
    }
   },
   "outputs": [],
   "source": [
    "def normalProbabilityDensity(x):\n",
    "    constant = 1.0 / np.sqrt(2*np.pi)\n",
    "    return(constant * np.exp((-x**2) / 2.0) )"
   ]
  },
  {
   "cell_type": "code",
   "execution_count": 21,
   "metadata": {
    "ExecuteTime": {
     "end_time": "2020-10-26T17:37:46.800271Z",
     "start_time": "2020-10-26T17:37:46.785309Z"
    }
   },
   "outputs": [],
   "source": [
    "# Area under curve for entire Graph\n",
    "result, _ = quad(normalProbabilityDensity, np.NINF, np.inf)\n",
    "\n",
    "# Integrate normal distribution from 0 to 1\n",
    "result_0_1, _ = quad(normalProbabilityDensity, 0, 1, limit = 1000)\n",
    "\n",
    "# Integrate normal distribution from -1 to 0\n",
    "result_n1_0, _ = quad(normalProbabilityDensity, -1, 0, limit = 1000)\n",
    "\n",
    "# Integrate normal distribution from 1 to 2\n",
    "result_1_2, _ = quad(normalProbabilityDensity, 1, 2, limit = 1000)\n",
    "\n",
    "# Integrate normal distribution from -2 to -1\n",
    "result_n2_n1, _ = quad(normalProbabilityDensity, -2, -1, limit = 1000)\n",
    "\n",
    "# Integrate normal distribution from 2 to 3\n",
    "result_2_3, _ = quad(normalProbabilityDensity, 2, 3, limit = 1000)\n",
    "\n",
    "# Integrate normal distribution from -3 to -2\n",
    "result_n3_n2, _ = quad(normalProbabilityDensity, -3, -2, limit = 1000)\n",
    "\n",
    "# Integrate normal distribution from 3 to 4\n",
    "result_3_4, _ = quad(normalProbabilityDensity, 3, 4, limit = 1000)\n",
    "\n",
    "# Integrate normal distribution from -4 to -3\n",
    "result_n4_n3, _ = quad(normalProbabilityDensity, -4, -3, limit = 1000)\n",
    "\n",
    "# Integrate normal distribution from 4 to inf\n",
    "result_4_inf, error = quad(normalProbabilityDensity, 4, np.inf, limit = 1000)"
   ]
  },
  {
   "cell_type": "code",
   "execution_count": 22,
   "metadata": {
    "ExecuteTime": {
     "end_time": "2020-10-26T17:37:52.282012Z",
     "start_time": "2020-10-26T17:37:51.604268Z"
    }
   },
   "outputs": [
    {
     "data": {
      "text/plain": [
       "[Text(0, 0, '0.00'),\n",
       " Text(0, 0, '0.05'),\n",
       " Text(0, 0, '0.10'),\n",
       " Text(0, 0, '0.15'),\n",
       " Text(0, 0, '0.20'),\n",
       " Text(0, 0, '0.25'),\n",
       " Text(0, 0, '0.30'),\n",
       " Text(0, 0, '0.35'),\n",
       " Text(0, 0, '0.40')]"
      ]
     },
     "execution_count": 22,
     "metadata": {},
     "output_type": "execute_result"
    },
    {
     "data": {
      "image/png": "[encoded data removed]",
      "text/plain": [
       "<Figure size 720x360 with 1 Axes>"
      ]
     },
     "metadata": {},
     "output_type": "display_data"
    }
   ],
   "source": [
    "# This should really be -inf to positive inf, but graph can only be so big. \n",
    "# Currently it is plus or minus 5 std deviations \n",
    "\n",
    "x = np.linspace(-4, 4)\n",
    "y = normalProbabilityDensity(x)\n",
    "\n",
    "fig, ax = plt.subplots(figsize=(10, 5))\n",
    "ax.plot(x, y, 'k', linewidth=.5)\n",
    "ax.set_ylim(bottom=0,top=0.41)\n",
    "\n",
    "#############################\n",
    "a, b = 0, 1 # integral limits\n",
    "\n",
    "# Make the shaded region\n",
    "ix = np.linspace(0, 1)\n",
    "iy = normalProbabilityDensity(ix)\n",
    "verts = [(a, 0)] + list(zip(ix, iy)) + [(b, 0)]\n",
    "poly = Polygon(verts, facecolor='red', edgecolor='0.2', alpha = .4)\n",
    "ax.add_patch(poly);\n",
    "\n",
    "ax.text(0.5, .04, r'{0:.2f}%'.format(result_0_1*100),\n",
    "         horizontalalignment='center', fontsize=14);\n",
    "\n",
    "##############################\n",
    "a, b = -1, 0 # integral limits\n",
    "\n",
    "# Make the shaded region\n",
    "ix = np.linspace(-1, 0)\n",
    "iy = normalProbabilityDensity(ix)\n",
    "verts = [(a, 0)] + list(zip(ix, iy)) + [(b, 0)]\n",
    "poly = Polygon(verts, facecolor='red', edgecolor='0.2', alpha = .4)\n",
    "ax.add_patch(poly);\n",
    "\n",
    "ax.text(-0.5, .04, r'{0:.2f}%'.format(result_n1_0*100),\n",
    "         horizontalalignment='center', fontsize=14);\n",
    "\n",
    "##############################\n",
    "a, b = 1, 2 # integral limits\n",
    "\n",
    "# Make the shaded region\n",
    "ix = np.linspace(1, 2)\n",
    "iy = normalProbabilityDensity(ix)\n",
    "verts = [(a, 0)] + list(zip(ix, iy)) + [(b, 0)]\n",
    "poly = Polygon(verts, facecolor='blue', edgecolor='0.2', alpha = .4)\n",
    "ax.add_patch(poly);\n",
    "\n",
    "ax.text(1.5, .04, r'{0:.2f}%'.format(result_1_2*100),\n",
    "         horizontalalignment='center', fontsize=14);\n",
    "\n",
    "##############################\n",
    "a, b = -2, -1 # integral limits\n",
    "\n",
    "# Make the shaded region\n",
    "ix = np.linspace(-2, -1)\n",
    "iy = normalProbabilityDensity(ix)\n",
    "verts = [(a, 0)] + list(zip(ix, iy)) + [(b, 0)]\n",
    "poly = Polygon(verts, facecolor='blue', edgecolor='0.2', alpha = .4)\n",
    "ax.add_patch(poly);\n",
    "\n",
    "ax.text(-1.5, .04, r'{0:.2f}%'.format(result_n2_n1*100),\n",
    "         horizontalalignment='center', fontsize=14);\n",
    "\n",
    "##############################\n",
    "a, b = 2, 3 # integral limits\n",
    "\n",
    "# Make the shaded region\n",
    "ix = np.linspace(2, 3)\n",
    "iy = normalProbabilityDensity(ix)\n",
    "verts = [(a, 0)] + list(zip(ix, iy)) + [(b, 0)]\n",
    "poly = Polygon(verts, facecolor='green', edgecolor='0.2', alpha = .4)\n",
    "ax.add_patch(poly);\n",
    "\n",
    "ax.text(2.6, .04, r'{0:.2f}%'.format(result_2_3*100),\n",
    "         horizontalalignment='center', fontsize=14);\n",
    "\n",
    "\n",
    "##############################\n",
    "a, b = -3, -2 # integral limits\n",
    "\n",
    "# Make the shaded region\n",
    "ix = np.linspace(-3, -2)\n",
    "iy = normalProbabilityDensity(ix)\n",
    "verts = [(a, 0)] + list(zip(ix, iy)) + [(b, 0)]\n",
    "poly = Polygon(verts, facecolor='green', edgecolor='0.2', alpha = .4)\n",
    "ax.add_patch(poly);\n",
    "\n",
    "ax.text(-2.6, .04, r'{0:.2f}%'.format(result_2_3*100),\n",
    "         horizontalalignment='center', fontsize=14);\n",
    "\n",
    "##############################\n",
    "a, b = 3, 4 # integral limits\n",
    "\n",
    "# Region from 3 to 4\n",
    "ix = np.linspace(3, 4)\n",
    "iy = normalProbabilityDensity(ix)\n",
    "verts = [(3, 0)] + list(zip(ix, iy)) + [(4, 0)]\n",
    "poly = Polygon(verts, facecolor='orange', edgecolor='.2', alpha = 1)\n",
    "ax.add_patch(poly);\n",
    "\n",
    "ax.text(3.6, .04, r'{0:.2f}%'.format(result_3_4*100),\n",
    "         horizontalalignment='center', fontsize=14);\n",
    "\n",
    "# Region from -4 to -3\n",
    "ix = np.linspace(-4, -3)\n",
    "iy = normalProbabilityDensity(ix)\n",
    "verts = [(-4, 0)] + list(zip(ix, iy)) + [(-3, 0)]\n",
    "poly = Polygon(verts, facecolor='orange', edgecolor='.2', alpha = 1)\n",
    "ax.add_patch(poly);\n",
    "\n",
    "ax.text(-3.6, .040, r'{0:.2f}%'.format(result_n4_n3*100),\n",
    "         horizontalalignment='center', fontsize=14);\n",
    "\n",
    "ax.set_title(r'Normal Distribution', fontsize = 24)\n",
    "ax.set_ylabel(r'Probability Density', fontsize = 14)\n",
    "\n",
    "xTickLabels = ['',\n",
    "               r'$\\mu - 4\\sigma$',\n",
    "               r'$\\mu - 3\\sigma$',\n",
    "               r'$\\mu - 2\\sigma$',\n",
    "               r'$\\mu - \\sigma$',\n",
    "               r'$\\mu$',\n",
    "               r'$\\mu + \\sigma$',\n",
    "               r'$\\mu + 2\\sigma$',\n",
    "               r'$\\mu + 3\\sigma$',\n",
    "               r'$\\mu + 4\\sigma$']\n",
    "\n",
    "yTickLabels = ['0.00',\n",
    "               '0.05',\n",
    "               '0.10',\n",
    "               '0.15',\n",
    "               '0.20',\n",
    "               '0.25',\n",
    "               '0.30',\n",
    "               '0.35',\n",
    "               '0.40']\n",
    "\n",
    "ax.set_xticklabels(xTickLabels, fontsize = 16)\n",
    "\n",
    "ax.set_yticklabels(yTickLabels, fontsize = 16)\n",
    "#fig.savefig('images/Normal Distribution.png', dpi = 1200)"
   ]
  },
  {
   "cell_type": "markdown",
   "metadata": {},
   "source": [
    "# <span style=color:darkblue>Standardizing with Z-scores</span>"
   ]
  },
  {
   "cell_type": "markdown",
   "metadata": {},
   "source": [
    "A <span style=color:blue><i>standardization technique</i></span> called a <span style=color:blue><b>Z-score</b></span>, is a method most commonly employed for <span style=color:blue><b><i>nearly normal observations</i></b></span> but that may be used with any <span style=color:blue><b><i><u>distribution</u></i></b></span>.   \n",
    "$%$   \n",
    "A <span style=color:blue><b>z-score</b></span> is the number of <span style=color:blue><b>Standard Deviations</b></span> away from a <span style=color:blue><u>mean</u></span> for a data point.   \n",
    "   \n",
    "A <span style=color:blue><b>z-score</b></span> helps point out <span style=color:red>how unusual</span> or <span style=color:blue>usual</span> a data point is from the other values. A <span style=color:blue><b>z-score</b></span> must be used with a <span style=color:blue>normal distribution curve</span>."
   ]
  },
  {
   "cell_type": "markdown",
   "metadata": {},
   "source": [
    "<div class=\"alert alert-warning alert-warning\"><b><u>Z-score</u></b>\n",
    "\n",
    "The <b><u>Z-score</u></b> of an <b>observation $x$</b> is defined as the number of <b>standard deviations $\\sigma$</b> it falls above or below the <b>mean $\\mu$</b>.    \n",
    "$%$   \n",
    "We compute the <b><u>Z-score</u></b> for an <b>observation</b> $x$ that follows a distribution with <span style=color:blue>mean <b>$\\mu$</b></span> and <span style=color:blue>standard deviation <b>$\\sigma$</b></span> using :   \n",
    "$%$   \n",
    "\\begin{align*} Z = \\frac{x - \\mu}{\\sigma}\\end{align*}\n",
    "</div>\n",
    "\n",
    "If the observation is one <span style=color:blue>Standard Deviation</span> above the <span style=color:blue>mean</span>, its <span style=color:blue><b>z-score</b></span> is <b>1</b>. If it is <b>1.5</b> <span style=color:blue>standard deviations</span> below the <span style=color:blue>mean</span>, then its <span style=color:blue><b>z-score</b></span> is <b>-1.5</b>. If <span style=color:blue><b>$x$</b></span> is an <span style=color:blue>observation</span> from a <span style=color:blue>distribution</span> <span style=color:blue><b>$N(\\mu, \\sigma)$</b></span>."
   ]
  },
  {
   "cell_type": "markdown",
   "metadata": {},
   "source": [
    "### <span style=color:darkred>SAT Score (numbers are faked)</span>"
   ]
  },
  {
   "cell_type": "markdown",
   "metadata": {},
   "source": [
    "<span style=color:red><b><u>EXERCISE 5.5</u></b> :   \n",
    "\n",
    "The distribution of SAT and ACT scores are both nearly normal.\n",
    "Suppose <b>Ann</b> scored <b>1800</b> on her <b>SAT</b> and <b>Tom</b> scored <b>24</b> on his <b>ACT</b>. \n",
    "\n",
    "<span style=color:blue><b><i><u>Who performed better?</u></i></b></span>\n",
    "\n",
    "\n",
    "$\\mu_{SAT}$ = 1500,     \n",
    "$\\sigma_{SAT}$= 300,   \n",
    "and $x_{Ann}$ = 1800   \n",
    "\n",
    "Find Ann's <b>SAT</b> <b>Z-score</b>:"
   ]
  },
  {
   "cell_type": "markdown",
   "metadata": {},
   "source": [
    "<span style=color:green><b><u>SOLUTION 5.5</u></b> :   \n",
    "\n",
    "\\begin{align*}Z_{Ann} = \\frac{x_{Ann} - \\mu_{SAT}}{\\sigma_{SAT}} = \\frac{1800 - 1500}{300} = 1\\end{align*}"
   ]
  },
  {
   "cell_type": "markdown",
   "metadata": {},
   "source": [
    "<span style=color:red><b><u>EXERCISE 5.6</u></b> :   \n",
    "\n",
    "Check <b>Ann's SAT z-score</b> Math equation with a script :"
   ]
  },
  {
   "cell_type": "code",
   "execution_count": 23,
   "metadata": {
    "ExecuteTime": {
     "end_time": "2020-10-26T17:48:06.411366Z",
     "start_time": "2020-10-26T17:48:06.397402Z"
    }
   },
   "outputs": [
    {
     "data": {
      "text/plain": [
       "1.0"
      ]
     },
     "execution_count": 23,
     "metadata": {},
     "output_type": "execute_result"
    }
   ],
   "source": [
    "mu_SAT = 1500\n",
    "sigma_SAT = 300\n",
    "x_Ann = 1800\n",
    "\n",
    "Ann_z_score = (x_Ann - mu_SAT) / sigma_SAT\n",
    "Ann_z_score"
   ]
  },
  {
   "cell_type": "markdown",
   "metadata": {},
   "source": [
    "<span style=color:red><b><u>EXERCISE 5.7</u></b> :   \n",
    "\n",
    "Implement the distribution code for <b>Ann's data $X_{Ann}$</b> :"
   ]
  },
  {
   "cell_type": "code",
   "execution_count": 24,
   "metadata": {
    "ExecuteTime": {
     "end_time": "2020-10-26T17:49:23.724330Z",
     "start_time": "2020-10-26T17:49:23.705378Z"
    }
   },
   "outputs": [],
   "source": [
    "mu, sigma = 1500, 300 # mean and standard deviation\n",
    "s = np.random.normal(mu, sigma, 10000) # random sample\n",
    "\n",
    "h = sorted(s) # sorting random sample\n",
    "\n",
    "fit = stats.norm.pdf(h, np.mean(h), np.std(h)) # drawing Probability Density curve"
   ]
  },
  {
   "cell_type": "markdown",
   "metadata": {},
   "source": [
    "<span style=color:darkblue><b><u>EXEMPLE 5.1</u></b> :   \n",
    "\n",
    "Plot <b>Ann's data $X_{Ann}$</b> distribution density curve and draw and label a vertical line on the normal distribution curve that shows where exactly $X_{Ann}$ falls in the curve:"
   ]
  },
  {
   "cell_type": "code",
   "execution_count": 25,
   "metadata": {
    "ExecuteTime": {
     "end_time": "2020-10-26T17:49:53.521446Z",
     "start_time": "2020-10-26T17:49:53.269121Z"
    }
   },
   "outputs": [
    {
     "data": {
      "image/png": "[encoded data removed]",
      "text/plain": [
       "<Figure size 720x360 with 1 Axes>"
      ]
     },
     "metadata": {},
     "output_type": "display_data"
    }
   ],
   "source": [
    "fig, ax = plt.subplots(figsize=(10, 5), frameon=False);\n",
    "ax.plot(h, fit, 'k', linewidth=1.2);\n",
    "ax.set_ylim(bottom=0);\n",
    "ax.set_xlim(600, 2400);\n",
    "\n",
    "df = pd.DataFrame(list(zip(h, fit)), columns = ['score', 'integral'])\n",
    "df[(df['score'] >= 1799.90) & (df['score'] <= 1800.10) ].values.tolist()\n",
    "\n",
    "# Make the shaded region\n",
    "verts = [(1799.00, 0)] + df[(df['score'] >= 1799.00) & (df['score'] <= 1800.00) ].values.tolist() + [(1800.0, 0)]\n",
    "poly = Polygon(verts, facecolor='green', edgecolor='r', alpha = 1, linewidth = 1.2, linestyle = '-')\n",
    "ax.add_patch(poly);\n",
    "plt.xticks(fontsize = 16)\n",
    "ax.set_xlabel('SAT Score (Ann)', fontsize = 16, labelpad=10)\n",
    "\n",
    "ax.set_frame_on(False)\n",
    "ax.axhline(0, c = 'k', linewidth = 3)\n",
    "ax.get_yaxis().set_visible(False)\n",
    "ax.text(1800,.0005, '1800', horizontalalignment='center', fontsize=14,\n",
    "            bbox={'facecolor':'white', 'edgecolor':'black', 'pad':5});\n",
    "# plt.tight_layout()\n",
    "#fig.savefig('SAT_Ann.png', dpi = 900)\n",
    "plt.show()"
   ]
  },
  {
   "cell_type": "markdown",
   "metadata": {},
   "source": [
    "### <span style=color:darkred>ACT Score (numbers are faked)</span>"
   ]
  },
  {
   "cell_type": "markdown",
   "metadata": {},
   "source": [
    "<span style=color:red><b><u>EXERCISE 5.8</u></b> :   \n",
    "\n",
    "Using :   \n",
    "\n",
    "$\\mu_{ACT}$ = 21,     \n",
    "$\\sigma_{ACT}$= 5,   \n",
    "and $x_{Tom}$ = 24   \n",
    "\n",
    "Find Tom's **ACT** **``Z-score``**:"
   ]
  },
  {
   "cell_type": "markdown",
   "metadata": {},
   "source": [
    "\\begin{align*}Z_{Tom} = \\frac{x_{Tom} - \\mu_{ACT}}{\\sigma_{ACT}} = \\frac{24 - 21}{5} = 0.60\\end{align*}"
   ]
  },
  {
   "cell_type": "markdown",
   "metadata": {},
   "source": [
    "<span style=color:red><b><u>EXERCISE 5.9</u></b> :   \n",
    "\n",
    "Check <b>Tom's ACT z-score</b> Math equation with a script :"
   ]
  },
  {
   "cell_type": "code",
   "execution_count": 26,
   "metadata": {
    "ExecuteTime": {
     "end_time": "2020-10-26T17:51:13.602344Z",
     "start_time": "2020-10-26T17:51:13.593369Z"
    }
   },
   "outputs": [
    {
     "data": {
      "text/plain": [
       "0.6"
      ]
     },
     "execution_count": 26,
     "metadata": {},
     "output_type": "execute_result"
    }
   ],
   "source": [
    "mu_SAT = 21\n",
    "sigma_SAT = 5\n",
    "x = 24\n",
    "\n",
    "xT_z_score = (x - mu_SAT) / sigma_SAT\n",
    "xT_z_score"
   ]
  },
  {
   "cell_type": "markdown",
   "metadata": {},
   "source": [
    "<span style=color:red><b><u>EXERCISE 5.9</u></b> :   \n",
    "\n",
    "Implement the distribution code for <b>Tom's data $X_{Tom}$</b> :"
   ]
  },
  {
   "cell_type": "code",
   "execution_count": 27,
   "metadata": {
    "ExecuteTime": {
     "end_time": "2020-10-26T17:51:19.181548Z",
     "start_time": "2020-10-26T17:51:19.157612Z"
    }
   },
   "outputs": [],
   "source": [
    "mu, sigma = 21, 5 # mean and standard deviation\n",
    "s = np.random.normal(mu, sigma, 10000)\n",
    "\n",
    "h = sorted(s)\n",
    "\n",
    "fit = stats.norm.pdf(h, np.mean(h), np.std(h))  #this is a fitting indeed"
   ]
  },
  {
   "cell_type": "markdown",
   "metadata": {},
   "source": [
    "<span style=color:red><b><u>EXERCISE 5.10</u></b> :   \n",
    "\n",
    "Plot <b>Tom's data $X_{Tom}$</b> distribution density curve and draw and label a vertical line on the normal distribution curve that shows where exactly $X_{Tom}$ falls in the curve:"
   ]
  },
  {
   "cell_type": "code",
   "execution_count": 28,
   "metadata": {
    "ExecuteTime": {
     "end_time": "2020-10-26T17:51:23.904092Z",
     "start_time": "2020-10-26T17:51:23.675697Z"
    }
   },
   "outputs": [
    {
     "data": {
      "image/png": "[encoded data removed]",
      "text/plain": [
       "<Figure size 720x360 with 1 Axes>"
      ]
     },
     "metadata": {},
     "output_type": "display_data"
    }
   ],
   "source": [
    "fig, ax = plt.subplots(figsize=(10, 5), frameon=False);\n",
    "ax.plot(h, fit, 'k', linewidth=1.2);\n",
    "ax.set_ylim(bottom=0);\n",
    "ax.set_xlim(6, 36);\n",
    "\n",
    "df = pd.DataFrame(list(zip(h, fit)), columns = ['score', 'integral'])\n",
    "df[(df['score'] >= 23.99) & (df['score'] <= 24.00) ].values.tolist()\n",
    "\n",
    "# Make the shaded region\n",
    "ix = np.linspace(25, 25, num = 1)\n",
    "verts = [(23.99, 0)] + df[(df['score'] >= 23.99) & (df['score'] <= 24.00) ].values.tolist() + [(24.00, 0)]\n",
    "poly = Polygon(verts, facecolor='green', edgecolor='b', alpha = 1, linewidth = 1.2, linestyle = '-')\n",
    "ax.add_patch(poly);\n",
    "#ax.set_xticks(list(range(4, 40, 4)))\n",
    "plt.xticks(fontsize = 16)\n",
    "ax.set_xlabel('ACT Score (Tom)', fontsize = 18)\n",
    "\n",
    "ax.set_frame_on(False)\n",
    "ax.axhline(0, c = 'k', linewidth = 3)\n",
    "ax.get_yaxis().set_visible(False)\n",
    "\n",
    "ax.text(24,.015, '24', horizontalalignment='center', fontsize=18,\n",
    "            bbox={'facecolor':'white', 'edgecolor':'black', 'pad':5});\n",
    "# plt.tight_layout()\n",
    "# fig.savefig('ACT_Zoe.png', dpi = 900)\n",
    "plt.show()"
   ]
  },
  {
   "cell_type": "markdown",
   "metadata": {},
   "source": [
    "- <b>Observations</b> above the <span style=color:blue>mean</span> always have positive <span style=color:blue><b>Z-scores</b></span> while those below the <span style=color:blue>mean</span> have negative <span style=color:blue><b>Z-scores</b></span>.   \n",
    "$%$   \n",
    "- If an <b>observation</b> is equal to the <span style=color:blue>mean</span>, then the <span style=color:blue><b>Z-scores</b></span> is <b>0</b>."
   ]
  },
  {
   "cell_type": "markdown",
   "metadata": {},
   "source": [
    "<div class=\"alert alert-warning alert-warning\">\n",
    "\n",
    "We can use <span style=color:blue><b>Z-scores</b></span> to roughly identify which <b>observations</b> are more unusual than others. One observation $x_1$ is said to be more unusual than another observation $x_2$ if the absolute value of its <span style=color:blue><b>Z-scores</b></span> is larger than the absolute value of the other <span style=color:blue><b>observation’s Z-scores</b></span> : $|$Z_{1}$| > |$Z_{2}$|$.   \n",
    "$%$   \n",
    "This technique is especially insightful when a <span style=color:blue>distribution</span> is <span style=color:blue>symmetric</span>.</div>"
   ]
  },
  {
   "cell_type": "markdown",
   "metadata": {},
   "source": [
    "We use the <b>standard deviation</b> as a guide:    \n",
    "\n",
    "- Ann is 1 standard deviation above average on the SAT : 1500 + 1 * 300 = 1800.   \n",
    "- Tom is 0.6 standard deviations above the mean on the ACT : 21 + 0.6 * 5 = 24.  \n",
    "\n",
    "we can observe that <b>Ann</b> tends to do better with respect to everyone else than <b>Tom</b> did, so her score was better."
   ]
  },
  {
   "cell_type": "markdown",
   "metadata": {},
   "source": [
    "# <span style=color:darkblue>Probability Density Function - (PDF)</span>"
   ]
  },
  {
   "cell_type": "markdown",
   "metadata": {},
   "source": [
    "To be able to understand where the percentages come from, it is important to know about the <span style=color:blue><b>Probability Density Function (PDF)</b></span>. A <span style=color:blue><b>PDF</b></span> is used to specify the <span style=color:blue><b><u>probability</u></b></span> of the <span style=color:blue>random variable</span> <span style=color:blue><i>falling within a particular range of values</i></span>, <span style=color:red><b>as opposed</b></span> <span style=color:blue>to taking on <b>any one value</b></span>.   \n",
    "\n",
    "This <span style=color:blue><b><u>probability</u></b></span> is given by the **integral** of this variable’s **``PDF``** over that range — that is, it is given by the area under the **density function** but above the horizontal axis and between the *lowest* and *greatest* values of the range. This definition might not make much sense so let’s clear it up by graphing the probability density function for a normal distribution. The equation below is the probability density function for a normal distribution"
   ]
  },
  {
   "cell_type": "markdown",
   "metadata": {},
   "source": [
    "## <span style=color:darkred>Cummulative Distribution Function -- (CDF)</span>"
   ]
  },
  {
   "cell_type": "markdown",
   "metadata": {},
   "source": [
    "<div class=\"alert alert-warning alert-warning\">\n",
    "\n",
    "<b><u>Cumulative Distribution Function - (CDF)</u></b>   \n",
    "$%$      \n",
    "To find the area, you need to integrate. Integrating the <span style=color:blue><b>Probability Density Funtion (PDF)</b></span>, gives you the <span style=color:blue><b>Cumulative Distribution Function (CDF)</b></span> which is a function that maps values to their percentile rank in a distribution. The values in the table are calculated using the <span style=color:blue><b>Cumulative Distribution Function (CDF)</b></span> of a <span style=color:blue>Standard Normal distribution</span> with a mean of zero ($\\bar{x}$ = 0) and a standard deviation of one ($\\sigma$ = 1).   \n",
    "$%$      \n",
    "This can be denoted with the following equation :   \n",
    "$%$      \n",
    "$$\\int_{-\\infty}^{z} \\frac{1}{\\sqrt{2\\pi}} e^{-x^2}/\\hspace{1mm}2_{dx}$$   \n",
    "$%$   \n",
    "Let’s simplify it by assuming we have a mean (μ) of 0 and a standard deviation (σ) of 1.   \n",
    "$%$   \n",
    "$$f(x) = \\frac{1}{\\sqrt{2\\pi}} e^{-x^2}/\\hspace{1mm}2$$\n",
    "</div>"
   ]
  },
  {
   "cell_type": "markdown",
   "metadata": {},
   "source": [
    "<span style=color:red><b><u>EXERCISE 5.10</u></b> :   \n",
    "\n",
    "While we know that <b>Ann</b> performed better, a <b>z-table</b> can tell you in what <span style=color:blue>percentile</span> the test takers are in. This is the <b>probability</b>."
   ]
  },
  {
   "cell_type": "code",
   "execution_count": 29,
   "metadata": {
    "ExecuteTime": {
     "end_time": "2020-10-26T17:57:10.871568Z",
     "start_time": "2020-10-26T17:57:10.861592Z"
    }
   },
   "outputs": [
    {
     "name": "stdout",
     "output_type": "stream",
     "text": [
      "Ann Percentile:  0.84\n",
      "Tom Percentile :  0.73\n"
     ]
    }
   ],
   "source": [
    "def normalProbabilityDensity(x):\n",
    "    constant = 1.0 / np.sqrt(2*np.pi)\n",
    "    return(constant * np.exp((-x**2) / 2.0) )\n",
    "\n",
    "z_Ann = 1\n",
    "z_Tom = 0.6\n",
    "\n",
    "Ann_percentile, _ = quad(normalProbabilityDensity, np.NINF, z_Ann)\n",
    "Tom_percentile, _ = quad(normalProbabilityDensity, np.NINF, z_Tom)\n",
    "\n",
    "print('Ann Percentile: ', round(Ann_percentile, 2))\n",
    "print('Tom Percentile : ', round(Tom_percentile, 2))"
   ]
  },
  {
   "cell_type": "markdown",
   "metadata": {},
   "source": [
    "<span style=color:red><b><u>EXERCISE 5.11</u></b> :   \n",
    "\n",
    "Implement the normal distribution code for <b>Ann's data $X_{Ann}$</b> :"
   ]
  },
  {
   "cell_type": "code",
   "execution_count": 30,
   "metadata": {
    "ExecuteTime": {
     "end_time": "2020-10-26T17:59:33.343353Z",
     "start_time": "2020-10-26T17:59:33.121945Z"
    }
   },
   "outputs": [],
   "source": [
    "mu, sigma = 1500, 300 # mean and standard deviation\n",
    "s = np.random.normal(mu, sigma, 100000)\n",
    "\n",
    "h = sorted(s)\n",
    "\n",
    "fit = stats.norm.pdf(h, np.mean(h), np.std(h))"
   ]
  },
  {
   "cell_type": "markdown",
   "metadata": {},
   "source": [
    "<span style=color:red><b><u>EXERCISE 5.12</u></b> :   \n",
    "\n",
    "Let's shade  <span style=color:blue>Ann's percentile region</span> and label the normal distribution. We are interested in <span style=color:blue>Ann's percentile rank</span> in the distribution :"
   ]
  },
  {
   "cell_type": "code",
   "execution_count": 31,
   "metadata": {
    "ExecuteTime": {
     "end_time": "2020-10-26T17:59:49.427507Z",
     "start_time": "2020-10-26T17:59:48.674269Z"
    }
   },
   "outputs": [
    {
     "data": {
      "image/png": "[encoded data removed]",
      "text/plain": [
       "<Figure size 720x360 with 1 Axes>"
      ]
     },
     "metadata": {},
     "output_type": "display_data"
    }
   ],
   "source": [
    "fig, ax = plt.subplots(figsize=(10, 5), frameon=False);\n",
    "ax.plot(h, fit, 'k', linewidth=1.2);\n",
    "ax.set_ylim(bottom=0);\n",
    "ax.set_xlim(500, 2500);\n",
    "\n",
    "df = pd.DataFrame(list(zip(h, fit)), columns = ['score', 'integral'])\n",
    "df[(df['score'] >= 1499.90) & (df['score'] <= 1500.10) ].values.tolist()\n",
    "\n",
    "# Make the shaded region\n",
    "verts = [(1199.90, 0)] + df[(df['score'] >= 1199.90) & (df['score'] <= 1800.00) ].values.tolist() + [(1800, 0)]\n",
    "poly = Polygon(verts, facecolor='lightgreen', edgecolor='r', alpha = 1, linewidth = 1.2, linestyle = '-')\n",
    "ax.add_patch(poly);\n",
    "plt.xticks(fontsize = 14)\n",
    "ax.set_xlabel('SAT Score (Ann)', fontsize = 16, labelpad=10)\n",
    "\n",
    "ax.set_frame_on(False)\n",
    "ax.axhline(0, c = 'k', linewidth = 3)\n",
    "ax.get_yaxis().set_visible(False)\n",
    "ax.text(1500,.0005, round(Ann_percentile,3), horizontalalignment='center', fontsize=14,\n",
    "            bbox={'facecolor':'white', 'edgecolor':'black', 'pad':5});\n",
    "plt.tight_layout()\n",
    "#fig.savefig('SAT_Mike.png', dpi = 900)"
   ]
  },
  {
   "cell_type": "markdown",
   "metadata": {
    "ExecuteTime": {
     "end_time": "2019-09-09T16:16:30.019596Z",
     "start_time": "2019-09-09T16:16:30.013614Z"
    }
   },
   "source": [
    "<span style=color:red><b><u>EXERCISE 5.13</u></b> :   \n",
    "\n",
    "Cumulative SAT scores are approximated well by a normal model, N(μ = 1500,$\\hspace{2mm}\\sigma$ = 300).\n",
    "\n",
    "<b>Shannon</b> is a <i>randomly selected SAT taker</i>, and nothing is known about <b>Shannon’s SAT</b> aptitude. \n",
    "\n",
    "What is the <b>probability Shannon scores at least 1630 on her SATs</b>?\n",
    "\n",
    "Applying Maths to the example :   "
   ]
  },
  {
   "cell_type": "markdown",
   "metadata": {},
   "source": [
    "\\begin{align*}Z = \\frac{x - \\mu}{\\sigma} = \\frac{1630 - 1500}{300} = 0.43\\end{align*}"
   ]
  },
  {
   "cell_type": "markdown",
   "metadata": {},
   "source": [
    "<span style=color:red><b><u>EXERCISE 5.14</u></b> :  \n",
    "\n",
    "Implement the distribution code for condition <b>Shannon's scores</b> above <b>1630</b> :"
   ]
  },
  {
   "cell_type": "code",
   "execution_count": 32,
   "metadata": {
    "ExecuteTime": {
     "end_time": "2020-10-26T18:01:35.485476Z",
     "start_time": "2020-10-26T18:01:35.477497Z"
    }
   },
   "outputs": [
    {
     "data": {
      "text/plain": [
       "0.43"
      ]
     },
     "execution_count": 32,
     "metadata": {},
     "output_type": "execute_result"
    }
   ],
   "source": [
    "mu = 1500\n",
    "sigma = 300\n",
    "x = 1630\n",
    "\n",
    "x_z_score = (x - mu) / sigma\n",
    "round(x_z_score, 2)"
   ]
  },
  {
   "cell_type": "markdown",
   "metadata": {},
   "source": [
    "<span style=color:red><b><u>EXERCISE 5.15</u></b> :  \n",
    "\n",
    "We are interested in the chance that <b>Shannon's scores</b> above <b>1630</b>, so we must shade this upper tail:"
   ]
  },
  {
   "cell_type": "code",
   "execution_count": 33,
   "metadata": {
    "ExecuteTime": {
     "end_time": "2020-10-26T18:02:36.027657Z",
     "start_time": "2020-10-26T18:02:35.722886Z"
    }
   },
   "outputs": [
    {
     "data": {
      "image/png": "[encoded data removed]",
      "text/plain": [
       "<Figure size 432x288 with 1 Axes>"
      ]
     },
     "metadata": {},
     "output_type": "display_data"
    }
   ],
   "source": [
    "def draw_z_score(x, cond, mu, sigma, title):\n",
    "    y = norm.pdf(x, mu, sigma)\n",
    "    z = x[cond]\n",
    "    plt.plot(x, y)\n",
    "    plt.fill_between(z, 0, norm.pdf(z, mu, sigma))\n",
    "    plt.title(title)\n",
    "    plt.show()\n",
    "\n",
    "    \n",
    "x = np.arange(-3,3,0.001)\n",
    "z0 = 0.43\n",
    "draw_z_score(x, x > z0, 0, 1, 'z > 0.433')"
   ]
  },
  {
   "cell_type": "code",
   "execution_count": 38,
   "metadata": {
    "ExecuteTime": {
     "end_time": "2020-10-26T18:04:31.468487Z",
     "start_time": "2020-10-26T18:04:31.460508Z"
    }
   },
   "outputs": [
    {
     "name": "stdout",
     "output_type": "stream",
     "text": [
      "Shannon Percentile:  0.666\n"
     ]
    }
   ],
   "source": [
    "def normalProbabilityDensity(x):\n",
    "    constant = 1.0 / np.sqrt(2*np.pi)\n",
    "    return(constant * np.exp((-x**2) / 2.0) )\n",
    "\n",
    "z_Shannon = .43\n",
    "\n",
    "Shannon_percentile, _ = quad(normalProbabilityDensity, np.NINF, z_Shannon)\n",
    "\n",
    "print('Shannon Percentile: ', round(Shannon_percentile, 3))"
   ]
  },
  {
   "cell_type": "markdown",
   "metadata": {},
   "source": [
    "The <span style=color:blue>normal probability table</span> gives the <b>area to the left</b>. If you would like the <b>area to the right</b>, first <i><b>find the area to the left</b></i> and then <b>subtract</b> this amount from <b>one (1)</b>."
   ]
  },
  {
   "cell_type": "markdown",
   "metadata": {},
   "source": [
    "## <span style=color:green>Calculate and append $z-values$ on <i>ybrss_samp</i> Height Variable</span>"
   ]
  },
  {
   "cell_type": "code",
   "execution_count": 40,
   "metadata": {
    "ExecuteTime": {
     "end_time": "2020-10-26T18:11:31.033377Z",
     "start_time": "2020-10-26T18:11:31.020412Z"
    }
   },
   "outputs": [],
   "source": [
    "# Load only ybrss_samp's heights variables, isolating it in new \n",
    "\n",
    "yrbss_s=pd.read_csv('D:\\Documents\\EureCat\\Formacion\\Eurecat 2019\\BTS\\Datasets\\yrbss_samp.csv', sep=',', encoding='utf-8', index_col=0, usecols=[0,6] )"
   ]
  },
  {
   "cell_type": "markdown",
   "metadata": {},
   "source": [
    "Exploring the dataset"
   ]
  },
  {
   "cell_type": "code",
   "execution_count": 41,
   "metadata": {
    "ExecuteTime": {
     "end_time": "2020-10-26T18:11:35.003640Z",
     "start_time": "2020-10-26T18:11:34.997656Z"
    }
   },
   "outputs": [
    {
     "data": {
      "text/plain": [
       "(100, 1)"
      ]
     },
     "execution_count": 41,
     "metadata": {},
     "output_type": "execute_result"
    }
   ],
   "source": [
    "yrbss_s.shape"
   ]
  },
  {
   "cell_type": "code",
   "execution_count": 42,
   "metadata": {
    "ExecuteTime": {
     "end_time": "2020-10-26T18:11:39.476189Z",
     "start_time": "2020-10-26T18:11:39.469209Z"
    }
   },
   "outputs": [
    {
     "data": {
      "text/plain": [
       "Index(['height'], dtype='object')"
      ]
     },
     "execution_count": 42,
     "metadata": {},
     "output_type": "execute_result"
    }
   ],
   "source": [
    "yrbss_s.columns"
   ]
  },
  {
   "cell_type": "code",
   "execution_count": 35,
   "metadata": {
    "ExecuteTime": {
     "end_time": "2020-10-25T18:09:19.012137Z",
     "start_time": "2020-10-25T18:09:19.001166Z"
    }
   },
   "outputs": [
    {
     "data": {
      "text/html": [
       "<div>\n",
       "<style scoped>\n",
       "    .dataframe tbody tr th:only-of-type {\n",
       "        vertical-align: middle;\n",
       "    }\n",
       "\n",
       "    .dataframe tbody tr th {\n",
       "        vertical-align: top;\n",
       "    }\n",
       "\n",
       "    .dataframe thead th {\n",
       "        text-align: right;\n",
       "    }\n",
       "</style>\n",
       "<table border=\"1\" class=\"dataframe\">\n",
       "  <thead>\n",
       "    <tr style=\"text-align: right;\">\n",
       "      <th></th>\n",
       "      <th>height</th>\n",
       "    </tr>\n",
       "  </thead>\n",
       "  <tbody>\n",
       "    <tr>\n",
       "      <th>5653</th>\n",
       "      <td>1.5000</td>\n",
       "    </tr>\n",
       "    <tr>\n",
       "      <th>9437</th>\n",
       "      <td>1.7800</td>\n",
       "    </tr>\n",
       "    <tr>\n",
       "      <th>2021</th>\n",
       "      <td>1.7500</td>\n",
       "    </tr>\n",
       "    <tr>\n",
       "      <th>12187</th>\n",
       "      <td>1.6800</td>\n",
       "    </tr>\n",
       "    <tr>\n",
       "      <th>1690</th>\n",
       "      <td>1.7000</td>\n",
       "    </tr>\n",
       "  </tbody>\n",
       "</table>\n",
       "</div>"
      ],
      "text/plain": [
       "       height\n",
       "5653   1.5000\n",
       "9437   1.7800\n",
       "2021   1.7500\n",
       "12187  1.6800\n",
       "1690   1.7000"
      ]
     },
     "execution_count": 35,
     "metadata": {},
     "output_type": "execute_result"
    }
   ],
   "source": [
    "yrbss_s.head()"
   ]
  },
  {
   "cell_type": "code",
   "execution_count": 43,
   "metadata": {
    "ExecuteTime": {
     "end_time": "2020-10-26T18:12:25.689140Z",
     "start_time": "2020-10-26T18:12:25.666199Z"
    }
   },
   "outputs": [
    {
     "data": {
      "text/html": [
       "<div>\n",
       "<style scoped>\n",
       "    .dataframe tbody tr th:only-of-type {\n",
       "        vertical-align: middle;\n",
       "    }\n",
       "\n",
       "    .dataframe tbody tr th {\n",
       "        vertical-align: top;\n",
       "    }\n",
       "\n",
       "    .dataframe thead th {\n",
       "        text-align: right;\n",
       "    }\n",
       "</style>\n",
       "<table border=\"1\" class=\"dataframe\">\n",
       "  <thead>\n",
       "    <tr style=\"text-align: right;\">\n",
       "      <th></th>\n",
       "      <th>height</th>\n",
       "    </tr>\n",
       "  </thead>\n",
       "  <tbody>\n",
       "    <tr>\n",
       "      <th>count</th>\n",
       "      <td>100.0000</td>\n",
       "    </tr>\n",
       "    <tr>\n",
       "      <th>mean</th>\n",
       "      <td>1.6969</td>\n",
       "    </tr>\n",
       "    <tr>\n",
       "      <th>std</th>\n",
       "      <td>0.0881</td>\n",
       "    </tr>\n",
       "    <tr>\n",
       "      <th>min</th>\n",
       "      <td>1.5000</td>\n",
       "    </tr>\n",
       "    <tr>\n",
       "      <th>25%</th>\n",
       "      <td>1.6300</td>\n",
       "    </tr>\n",
       "    <tr>\n",
       "      <th>50%</th>\n",
       "      <td>1.7000</td>\n",
       "    </tr>\n",
       "    <tr>\n",
       "      <th>75%</th>\n",
       "      <td>1.7500</td>\n",
       "    </tr>\n",
       "    <tr>\n",
       "      <th>max</th>\n",
       "      <td>1.9300</td>\n",
       "    </tr>\n",
       "  </tbody>\n",
       "</table>\n",
       "</div>"
      ],
      "text/plain": [
       "        height\n",
       "count 100.0000\n",
       "mean    1.6969\n",
       "std     0.0881\n",
       "min     1.5000\n",
       "25%     1.6300\n",
       "50%     1.7000\n",
       "75%     1.7500\n",
       "max     1.9300"
      ]
     },
     "execution_count": 43,
     "metadata": {},
     "output_type": "execute_result"
    }
   ],
   "source": [
    "yrbss_s.describe()"
   ]
  },
  {
   "cell_type": "markdown",
   "metadata": {},
   "source": [
    "<span style=color:red><b><u>EXERCISE 5.16</u></b> :  \n",
    "\n",
    "Plot the <b>Height's Normal Distribution</b> :"
   ]
  },
  {
   "cell_type": "code",
   "execution_count": 44,
   "metadata": {
    "ExecuteTime": {
     "end_time": "2020-10-26T18:13:15.794145Z",
     "start_time": "2020-10-26T18:13:15.500931Z"
    }
   },
   "outputs": [
    {
     "data": {
      "image/png": "[encoded data removed]",
      "text/plain": [
       "<Figure size 432x288 with 1 Axes>"
      ]
     },
     "metadata": {},
     "output_type": "display_data"
    }
   ],
   "source": [
    "# Plot the Height's Normal Distribution\n",
    "\n",
    "yrbss_s['height'].hist(color='slategray')\n",
    "plt.title(\"Standard Normal Distribution\", y=1.015, fontsize=16)\n",
    "plt.xlabel(\"z-score\", labelpad=14)\n",
    "plt.ylabel(\"frequency\", labelpad=14);"
   ]
  },
  {
   "cell_type": "markdown",
   "metadata": {},
   "source": [
    "Calculate the <b>sample mean</b> height in <i>yrbss_s</i> using the <b>pandas series mean()</b> method."
   ]
  },
  {
   "cell_type": "code",
   "execution_count": 45,
   "metadata": {
    "ExecuteTime": {
     "end_time": "2020-10-26T18:13:30.833773Z",
     "start_time": "2020-10-26T18:13:30.824798Z"
    }
   },
   "outputs": [
    {
     "data": {
      "text/plain": [
       "1.697"
      ]
     },
     "execution_count": 45,
     "metadata": {},
     "output_type": "execute_result"
    }
   ],
   "source": [
    "yrbss_s_mean_heights = yrbss_s['height'].mean()\n",
    "round(yrbss_s_mean_heights, 3)"
   ]
  },
  {
   "cell_type": "markdown",
   "metadata": {},
   "source": [
    "Calculate the <b>sample standard deviation</b> height in <i>yrbss_s</i> using the <b>pandas series std()</b> method."
   ]
  },
  {
   "cell_type": "code",
   "execution_count": 46,
   "metadata": {
    "ExecuteTime": {
     "end_time": "2020-10-26T18:13:35.468197Z",
     "start_time": "2020-10-26T18:13:35.461216Z"
    }
   },
   "outputs": [
    {
     "data": {
      "text/plain": [
       "0.088"
      ]
     },
     "execution_count": 46,
     "metadata": {},
     "output_type": "execute_result"
    }
   ],
   "source": [
    "yrbss_s_std_heights = yrbss_s['height'].std()\n",
    "round(yrbss_s_std_heights, 3)"
   ]
  },
  {
   "cell_type": "markdown",
   "metadata": {},
   "source": [
    "<span style=color:red><b><u>EXERCISE 5.17</u></b> :  \n",
    "\n",
    "Append <span style=color:blue><b>z-score</b></span> variable and <span style=color:blue><b>z-score values</b></span> into <b>ybrss_s</b> dataframe :"
   ]
  },
  {
   "cell_type": "code",
   "execution_count": 51,
   "metadata": {
    "ExecuteTime": {
     "end_time": "2020-10-26T18:17:05.408707Z",
     "start_time": "2020-10-26T18:17:05.392757Z"
    }
   },
   "outputs": [
    {
     "data": {
      "text/html": [
       "<div>\n",
       "<style scoped>\n",
       "    .dataframe tbody tr th:only-of-type {\n",
       "        vertical-align: middle;\n",
       "    }\n",
       "\n",
       "    .dataframe tbody tr th {\n",
       "        vertical-align: top;\n",
       "    }\n",
       "\n",
       "    .dataframe thead th {\n",
       "        text-align: right;\n",
       "    }\n",
       "</style>\n",
       "<table border=\"1\" class=\"dataframe\">\n",
       "  <thead>\n",
       "    <tr style=\"text-align: right;\">\n",
       "      <th></th>\n",
       "      <th>height</th>\n",
       "      <th>z-score</th>\n",
       "    </tr>\n",
       "  </thead>\n",
       "  <tbody>\n",
       "    <tr>\n",
       "      <th>5653</th>\n",
       "      <td>1.5000</td>\n",
       "      <td>-2.2342</td>\n",
       "    </tr>\n",
       "    <tr>\n",
       "      <th>9437</th>\n",
       "      <td>1.7800</td>\n",
       "      <td>0.9429</td>\n",
       "    </tr>\n",
       "    <tr>\n",
       "      <th>2021</th>\n",
       "      <td>1.7500</td>\n",
       "      <td>0.6025</td>\n",
       "    </tr>\n",
       "    <tr>\n",
       "      <th>12187</th>\n",
       "      <td>1.6800</td>\n",
       "      <td>-0.1918</td>\n",
       "    </tr>\n",
       "    <tr>\n",
       "      <th>1690</th>\n",
       "      <td>1.7000</td>\n",
       "      <td>0.0352</td>\n",
       "    </tr>\n",
       "    <tr>\n",
       "      <th>13376</th>\n",
       "      <td>1.5700</td>\n",
       "      <td>-1.4399</td>\n",
       "    </tr>\n",
       "    <tr>\n",
       "      <th>8501</th>\n",
       "      <td>1.7800</td>\n",
       "      <td>0.9429</td>\n",
       "    </tr>\n",
       "    <tr>\n",
       "      <th>4583</th>\n",
       "      <td>1.6300</td>\n",
       "      <td>-0.7591</td>\n",
       "    </tr>\n",
       "    <tr>\n",
       "      <th>907</th>\n",
       "      <td>1.6300</td>\n",
       "      <td>-0.7591</td>\n",
       "    </tr>\n",
       "    <tr>\n",
       "      <th>3830</th>\n",
       "      <td>1.8300</td>\n",
       "      <td>1.5103</td>\n",
       "    </tr>\n",
       "  </tbody>\n",
       "</table>\n",
       "</div>"
      ],
      "text/plain": [
       "       height  z-score\n",
       "5653   1.5000  -2.2342\n",
       "9437   1.7800   0.9429\n",
       "2021   1.7500   0.6025\n",
       "12187  1.6800  -0.1918\n",
       "1690   1.7000   0.0352\n",
       "13376  1.5700  -1.4399\n",
       "8501   1.7800   0.9429\n",
       "4583   1.6300  -0.7591\n",
       "907    1.6300  -0.7591\n",
       "3830   1.8300   1.5103"
      ]
     },
     "execution_count": 51,
     "metadata": {},
     "output_type": "execute_result"
    }
   ],
   "source": [
    "yrbss_s['z-score'] = (yrbss_s['height'] - yrbss_s_mean_heights) / yrbss_s_std_heights\n",
    "\n",
    "yrbss_s.head(10)"
   ]
  },
  {
   "cell_type": "markdown",
   "metadata": {},
   "source": [
    "<div class=\"alert alert-warning alert-warning\">\n",
    "\n",
    "In a <b>Normal Distribution</b>, there is a <b>standard range of values</b> that generally fall within a certain number of <b>standard deviations</b> from the <b>mean</b>:</div>   \n",
    "\n",
    "| % of total x values | range in distribution | z-scores from mean |\n",
    "| ------------------------ | --------------------- | ------------------ |\n",
    "| 68                       | $$μ±σ$$               |         ±1         |\n",
    "| 95                       | $$μ±1.96σ$$           |       ±1.96        |\n",
    "| 99                       | $$μ±2.58σ$$           |       ±2.58        |"
   ]
  },
  {
   "cell_type": "markdown",
   "metadata": {},
   "source": [
    "There are 100 height values in <b><i>yrbss_s</i></b> dataset. Therefore, it's likely approximately <b>68%</b> of values are within <b>±1 z-scores</b> from the <b>mean</b>. Let's verify this with our dataset."
   ]
  },
  {
   "cell_type": "markdown",
   "metadata": {},
   "source": [
    "<span style=color:red><b><u>EXERCISE 5.18</u></b> :   \n",
    "\n",
    "Verify / check what is the <b>% of total x values</b> within <b>±1 z-scores</b> from the <b>mean</b> ?"
   ]
  },
  {
   "cell_type": "code",
   "execution_count": 55,
   "metadata": {
    "ExecuteTime": {
     "end_time": "2020-10-26T18:21:03.154852Z",
     "start_time": "2020-10-26T18:21:03.138895Z"
    }
   },
   "outputs": [
    {
     "data": {
      "text/plain": [
       "68.0"
      ]
     },
     "execution_count": 55,
     "metadata": {},
     "output_type": "execute_result"
    }
   ],
   "source": [
    "values_plus_minus_one_z_score = len(yrbss_s[yrbss_s['z-score'].between(-1, 1) == True])\n",
    "\n",
    "percent_values_plus_minus_one_z_score = values_plus_minus_one_z_score/len(yrbss_s)*100\n",
    "\n",
    "round(percent_values_plus_minus_one_z_score, 3)"
   ]
  },
  {
   "cell_type": "markdown",
   "metadata": {},
   "source": [
    "<b>68.00%</b> of values fall within <b>±1 z-scores</b> from the mean which equals to <b>68%</b>.   \n",
    "\n",
    "We standardized a <b>distribution</b> by getting every value's <b>z-score</b>. We can now visualize the <b>distribution</b> of <b>z-scores</b> below that correspond to specific <b>height values</b>. The histogram below looks like a normal distribution."
   ]
  },
  {
   "cell_type": "markdown",
   "metadata": {},
   "source": [
    "<span style=color:red><b><u>EXERCISE 5.19</u></b> :   \n",
    "\n",
    "Plot the normal distribution of height's z-scores :\n",
    "\n",
    "Does the histogram looks like a normal distribution ?"
   ]
  },
  {
   "cell_type": "code",
   "execution_count": 56,
   "metadata": {
    "ExecuteTime": {
     "end_time": "2020-10-26T18:21:28.585670Z",
     "start_time": "2020-10-26T18:21:28.259027Z"
    }
   },
   "outputs": [
    {
     "data": {
      "image/png": "[encoded data removed]",
      "text/plain": [
       "<Figure size 432x288 with 1 Axes>"
      ]
     },
     "metadata": {},
     "output_type": "display_data"
    }
   ],
   "source": [
    "yrbss_s['z-score'].hist(color='slategray')\n",
    "plt.title(\"Standard Normal Distribution\", y=1.015, fontsize=18)\n",
    "plt.xlabel(\"height's z-score\", labelpad=14)\n",
    "plt.ylabel(\"frequency\", labelpad=14);"
   ]
  },
  {
   "cell_type": "markdown",
   "metadata": {},
   "source": [
    "Every point in our dataset is now illustrated as the number of standard deviations away from the mean - represented by its z-score.\n",
    "In the distribution above, the standard deviation is 1."
   ]
  },
  {
   "cell_type": "markdown",
   "metadata": {},
   "source": [
    "<span style=color:red><b><u>EXERCISE 5.20</u></b> :   \n",
    "    \n",
    "What's the <b>height's z-score Standard Deviation</b> ?"
   ]
  },
  {
   "cell_type": "code",
   "execution_count": 45,
   "metadata": {
    "ExecuteTime": {
     "end_time": "2020-10-25T18:11:02.515813Z",
     "start_time": "2020-10-25T18:11:02.509827Z"
    }
   },
   "outputs": [
    {
     "data": {
      "text/plain": [
       "1.0"
      ]
     },
     "execution_count": 45,
     "metadata": {},
     "output_type": "execute_result"
    }
   ],
   "source": [
    "z_score_distribution_std_dev = round(yrbss_s['z-score'].std(), 3)\n",
    "z_score_distribution_std_dev"
   ]
  },
  {
   "cell_type": "markdown",
   "metadata": {},
   "source": [
    "---"
   ]
  },
  {
   "attachments": {
    "IT%20Logo.png": {
     "image/png": "[encoded data removed]"
    }
   },
   "cell_type": "markdown",
   "metadata": {},
   "source": [
    "![IT%20Logo.png](attachment:IT%20Logo.png)"
   ]
  },
  {
   "cell_type": "markdown",
   "metadata": {},
   "source": [
    "<div class=\"alert alert-block alert-info\">\\begin{align*}Alex\\:Kumenius - Business\\hspace{2mm}Intelligence\\hspace{2mm}Data\\hspace{2mm}Scientist\\end{align*}\n",
    "\n",
    "\\begin{align*}Date :\\hspace{2mm}October\\hspace{2mm}23^{th}\\hspace{2mm}2019\\end{align*}</div>"
   ]
  },
  {
   "cell_type": "markdown",
   "metadata": {},
   "source": [
    "# <span style=color:darkblue>[GEOMETRIC DISTRIBUTION](https://docs.scipy.org/doc/numpy-1.10.1/reference/generated/numpy.random.geometric.html)</span>"
   ]
  },
  {
   "cell_type": "markdown",
   "metadata": {},
   "source": [
    "- How long should we expect to flip a coin until it turns up heads ? or   \n",
    "$%$   \n",
    "- How many times should we expect to roll a die until we get a 1 ? \n",
    "\n",
    "These questions can be answered using the <span style=color:blue><u>Geometric Distribution</u></span>. \n",
    "\n",
    "1. First we formalize each <span style=color:blue>trial</span> – such as a single coin flip or die toss – using <span style=color:blue><b>Bernoulli Distribution</b></span>, and then   \n",
    "2. we combine these with our tools from <span style=color:blue>Probability</span> to construct the <span style=color:blue><u>Geometric Distribution</u></span>."
   ]
  },
  {
   "cell_type": "markdown",
   "metadata": {},
   "source": [
    "## <span style=color:darkred>Bernoulli Distribution</span>"
   ]
  },
  {
   "cell_type": "markdown",
   "metadata": {
    "ExecuteTime": {
     "end_time": "2019-09-12T17:34:27.778456Z",
     "start_time": "2019-09-12T17:34:27.772473Z"
    }
   },
   "source": [
    "<div class=\"alert alert-warning alert-warning\"><b><u>Bernoulli Random Variable</u></b>\n",
    "$%$   \n",
    "\n",
    "A <b>Bernoulli Random Variable</b> has exactly <b><i>two possible outcomes</i></b>.   \n",
    "$%$   \n",
    "We typically label one of these outcomes a <b>“success”</b> and the other outcome a <b>“failure”</b>.   \n",
    "We may also denote a <b>success</b> by <b>1</b> and a <b>failure</b> by <b>0</b>.   \n",
    "$%$   \n",
    "\n",
    "Very convenient in entering data and also mathematically very handy. Suppose we observe ten trials:   \n",
    "$%$   \n",
    "\n",
    "$$0111101100$$\n",
    "</div>"
   ]
  },
  {
   "cell_type": "markdown",
   "metadata": {},
   "source": [
    "Then, the <span style=color:blue>sample proportion, $\\hat{p}$</span>, is the <span style=color:blue>sample mean</span> of these observations :\n",
    "\n",
    "\\begin{align*}\\hat{p} = \\frac{nº\\hspace{2mm}of\\hspace{2mm}successes}{nº\\hspace{2mm}of\\hspace{2mm}trials}\\hspace{2mm}=\\hspace{2mm}\\frac{0+1+1+1+1+0+1+1+0+0}{10}\\hspace{2mm}=\\hspace{2mm}0.6\\end{align*}"
   ]
  },
  {
   "cell_type": "markdown",
   "metadata": {},
   "source": [
    "<span style=color:blue><b>“success”</b></span> need <span style=color:blue><b><i>not be something positive</i></b>   \n",
    "\n",
    "The mathematical framework we will build does not depend on which outcome is labeled a <span style=color:blue><b><i>success</i></b></span> and which a <span style=color:blue><b><i>failure</i></b></span>, as long as we are <b><u>consistent</u></b>."
   ]
  },
  {
   "cell_type": "markdown",
   "metadata": {},
   "source": [
    "### <span style=color:darkgreen>Bernoulli Random Variable, Mathematical</span>"
   ]
  },
  {
   "cell_type": "markdown",
   "metadata": {
    "ExecuteTime": {
     "end_time": "2019-09-12T17:34:27.778456Z",
     "start_time": "2019-09-12T17:34:27.772473Z"
    }
   },
   "source": [
    "<div class=\"alert alert-warning alert-warning\"><b><u>Bernoulli Random Variable</u></b>    \n",
    "$%$   \n",
    "\n",
    "Because <b>0 and 1</b> are numerical outcomes, we can define the <b>mean</b> and <b>standard deviation</b> of a <b><u>Bernoulli random variable.</u></b>   \n",
    "$%$   \n",
    "If $X$ is a <b>random variable</b> that takes value $1$ with <b>probability of success</b> $p$ and <b>0</b> with probability $1 − p$, then $X$ is a <b><u>Bernoulli random variable</u></b> with <b>mean</b> and <b>standard deviation</b>   \n",
    "$%$   \n",
    "\\begin{align*}\\mu\\:=\\:p\\hspace{4cm} \\sigma\\:=\\sqrt{p(1 - p)}\\end{align*}\n",
    "</div>"
   ]
  },
  {
   "cell_type": "markdown",
   "metadata": {},
   "source": [
    "It is useful to think about a <span style=color:blue><b>Bernoulli random variable</b></span> as a <span style=color:blue>random process</span> with <b>only two outcomes</b>: a <span style=color:blue>success</span> or <span style=color:blue>failure</span>. Then we <b>build</b> our <b>mathematical framework</b> using the numerical labels <b>1 and 0</b> for successes and failures, respectively."
   ]
  },
  {
   "cell_type": "markdown",
   "metadata": {},
   "source": [
    "## <span style=color:darkred>Geometric Distribution</span>"
   ]
  },
  {
   "cell_type": "markdown",
   "metadata": {},
   "source": [
    "<span style=color:darkblue><b><u>EXEMPLE 5.2</u></b> :   \n",
    "\n",
    "<i>Dr. Smith wants to repeat <b>Milgram’s experiments</b> but she <b>only</b> wants to <b>sample people until</b> she finds <b><u>someone who will not inflict the worst shock</u></b>. If the probability a person will <b>not give</b> the most severe shock is <b>0.35</b> and the subjects are <b><u>independent</u></b>,</i>\n",
    "\n",
    "1. what are the chances that she will stop the study after the first person? \n",
    "2. The second person? \n",
    "3. The third? \n",
    "4. What about if it takes her <b>n − 1</b> individuals who will administer the worst shock before finding her first success, <i>i.e. the first success is on the <b>$n^{th}$</b> person? (If the first success is the <b>fifth person</b>, then we say <b>n = 5</b>.)"
   ]
  },
  {
   "cell_type": "markdown",
   "metadata": {
    "ExecuteTime": {
     "end_time": "2019-10-22T17:06:21.334763Z",
     "start_time": "2019-10-22T17:06:21.328779Z"
    }
   },
   "source": [
    "<span style=color:green><b><u>SOLUTION 5.2.1</u></b> :   \n",
    "$%$   \n",
    "1. The probability of stopping after the <b>first person</b>, is just the chance the <b>first person</b> will <b>not administer the worst shock</b> : "
   ]
  },
  {
   "cell_type": "markdown",
   "metadata": {},
   "source": [
    "<b>$$1 − 0.65 = 0.35$$</b>"
   ]
  },
  {
   "cell_type": "markdown",
   "metadata": {},
   "source": [
    "<span style=color:green><b><u>SOLUTION 5.2.2</u></b> :   \n",
    "$%$   \n",
    "2. The probability it will be the <b>second person</b> is :"
   ]
  },
  {
   "cell_type": "markdown",
   "metadata": {},
   "source": [
    "$$P(second\\:person\\:is\\:the\\:first\\:to\\:not\\:administer\\:the\\:worst\\:shock)$$\n",
    "\n",
    "$$=\\:P(the\\:first\\:will,\\hspace{2mm}the\\:second\\:won’t) = (0.65)(0.35) = 0.228$$"
   ]
  },
  {
   "cell_type": "markdown",
   "metadata": {},
   "source": [
    "<span style=color:green><b><u>SOLUTION 5.2.3</u></b> :   \n",
    "\n",
    "3. Likewise, the probability it will be the <b>third person</b> is :   "
   ]
  },
  {
   "cell_type": "markdown",
   "metadata": {},
   "source": [
    "<b>$$(0.65)(0.65)(0.35) = 0.148$$</b>"
   ]
  },
  {
   "cell_type": "markdown",
   "metadata": {},
   "source": [
    "<span style=color:green><b><u>SOLUTION 5.2.4</u></b> :   \n",
    "\n",
    "4. What about if it takes her <b>n − 1</b> individuals who will administer the worst shock before finding her first success."
   ]
  },
  {
   "cell_type": "markdown",
   "metadata": {},
   "source": [
    "- If the <b>first success</b> is on the <b>$n^{th}$</b> person, then there are <b>$n − 1$ failures</b> and finally <b>1 success</b>, which corresponds to the probability $(0.65)^{n−1}(0.35)$. \n",
    "\n",
    "- This is the same as $(1 − 0.35)^{n−1}(0.35)$."
   ]
  },
  {
   "cell_type": "markdown",
   "metadata": {
    "ExecuteTime": {
     "end_time": "2019-09-12T17:34:27.778456Z",
     "start_time": "2019-09-12T17:34:27.772473Z"
    }
   },
   "source": [
    "<div class=\"alert alert-warning alert-warning\"><b><u>Geometric Distribution</u></b>   \n",
    "$%$   \n",
    "\n",
    "<b>Geometric distribution</b> describes the waiting time until a success for <b><u>independent and identically distributed (iid)</u></b> <b>Bernoulli random variables</b> occurs.    \n",
    "$%$   \n",
    "- the <b><u>independence</u></b> aspect just means the <i><u>individuals in the example don’t affect each other</u></i>, and \n",
    "- <b><u>identical</u></b> means they <i><u>each have the same probability of success</u></i>.   \n",
    "$%$   \n",
    "If the probability of a <b>success in one trial</b> is $p$, and the probability of a <b>failure</b> is $1 − p$, then the probability of finding the <b>first success</b> in the $n^{th}$ <b>trial</b> is given by   \n",
    "$%$   \n",
    "\\begin{align*}(1 - p)^{n-1_p}\\end{align*}   \n",
    "$%$   \n",
    "The <b>mean</b> (i.e. <em>expected value<em>), <b>variance</b>, and <b>standard deviation</b> of this wait time are given by   \n",
    "$%$   \n",
    "\\begin{align*}\\mu = \\frac{1}{p}\\hspace{3cm} \\sigma^2 = \\frac{1 - p}{p^2}\\hspace{3cm} \\sigma = \\sqrt\\frac{1-p}{p^2}\\end{align*}   \n",
    "$%$   \n",
    "The probabilities for a <b>Geometric distribution decrease exponentially fast</b>.\n",
    "</div>"
   ]
  },
  {
   "cell_type": "markdown",
   "metadata": {},
   "source": [
    "The left side of equation says that, on <span style=color:blue><b>average</b></span>, it takes <span style=color:blue>$1/p$ trials</span> to get a <b>success</b>.   \n",
    "    \n",
    "- If the probability of a <b>success is high</b> (e.g. 0.8), then <span style=color:blue><i>we don’t usually wait very long for a success</i></span>: 1/0.8 = 1.25 trials on average. \n",
    "\n",
    "- If the probability of a <b>success is low</b> (e.g. 0.1), then <span style=color:blue><i>we would expect to view many trials before we see a success</i></span>: 1/0.1 = 10 trials."
   ]
  },
  {
   "cell_type": "markdown",
   "metadata": {},
   "source": [
    "It is **<u>no accident</u>** that we use the symbol $\\mu$ for both the **mean** and **expected value**. The **mean** and the **expected value** are one and the same."
   ]
  },
  {
   "cell_type": "markdown",
   "metadata": {},
   "source": [
    "<span style=color:red><b><u>EXERCISE 5.21</u></b> :   \n",
    "\n",
    "Draw ten thousand values from the <span style=color:blue><b>geometric distribution</b></span>, with the probability of an individual success equal to <b>0.35</b>:\n",
    "\n",
    "<i>TIP: check <b>geometric()</b> method</i>"
   ]
  },
  {
   "cell_type": "code",
   "execution_count": 25,
   "metadata": {
    "ExecuteTime": {
     "end_time": "2020-10-24T23:48:16.532057Z",
     "start_time": "2020-10-24T23:48:16.295691Z"
    }
   },
   "outputs": [
    {
     "data": {
      "text/plain": [
       "(array([7.315e+03, 1.567e+03, 6.360e+02, 2.980e+02, 1.080e+02, 4.200e+01,\n",
       "        1.600e+01, 1.100e+01, 4.000e+00, 3.000e+00]),\n",
       " array([ 1. ,  3.1,  5.2,  7.3,  9.4, 11.5, 13.6, 15.7, 17.8, 19.9, 22. ]),\n",
       " <a list of 10 Patch objects>)"
      ]
     },
     "execution_count": 25,
     "metadata": {},
     "output_type": "execute_result"
    },
    {
     "data": {
      "image/png": "[encoded data removed]",
      "text/plain": [
       "<Figure size 432x288 with 1 Axes>"
      ]
     },
     "metadata": {},
     "output_type": "display_data"
    }
   ],
   "source": [
    "z = np.random.geometric(p=0.35, size=10000)\n",
    "\n",
    "plt.hist(z)"
   ]
  },
  {
   "cell_type": "markdown",
   "metadata": {},
   "source": [
    "<span style=color:red><b><u>EXERCISE 5.22</u></b> :   \n",
    "\n",
    "How many <b>trials succeeded</b> after a <b>single run</b>?"
   ]
  },
  {
   "cell_type": "code",
   "execution_count": 27,
   "metadata": {
    "ExecuteTime": {
     "end_time": "2020-10-24T23:48:39.933582Z",
     "start_time": "2020-10-24T23:48:39.926602Z"
    }
   },
   "outputs": [
    {
     "data": {
      "text/plain": [
       "array([ True,  True, False, ..., False, False, False])"
      ]
     },
     "execution_count": 27,
     "metadata": {},
     "output_type": "execute_result"
    }
   ],
   "source": [
    "(z == 1)"
   ]
  },
  {
   "cell_type": "code",
   "execution_count": 28,
   "metadata": {
    "ExecuteTime": {
     "end_time": "2020-10-24T23:49:29.910681Z",
     "start_time": "2020-10-24T23:49:29.904701Z"
    }
   },
   "outputs": [
    {
     "data": {
      "text/plain": [
       "3519"
      ]
     },
     "execution_count": 28,
     "metadata": {},
     "output_type": "execute_result"
    }
   ],
   "source": [
    "(z == 1).sum()"
   ]
  },
  {
   "cell_type": "code",
   "execution_count": 26,
   "metadata": {
    "ExecuteTime": {
     "end_time": "2020-10-24T23:48:29.640118Z",
     "start_time": "2020-10-24T23:48:29.634134Z"
    }
   },
   "outputs": [
    {
     "data": {
      "text/plain": [
       "0.3519"
      ]
     },
     "execution_count": 26,
     "metadata": {},
     "output_type": "execute_result"
    }
   ],
   "source": [
    "(z == 1).sum() / 10000"
   ]
  },
  {
   "cell_type": "markdown",
   "metadata": {},
   "source": [
    "<span style=color:darkblue><b><u>EXEMPLE 5.3</u></b> :   \n",
    "    \n",
    "Another method for <b>Geometric Distribution</b> from scipy.stat, <b>geom.ppf()</b> method."
   ]
  },
  {
   "cell_type": "code",
   "execution_count": 29,
   "metadata": {
    "ExecuteTime": {
     "end_time": "2020-10-24T23:49:48.776932Z",
     "start_time": "2020-10-24T23:49:48.770950Z"
    }
   },
   "outputs": [],
   "source": [
    "from scipy.stats import geom\n",
    "\n",
    "p = 0.5\n",
    "mean, var, skew, kurt = geom.stats(p, moments='mvsk')   "
   ]
  },
  {
   "cell_type": "code",
   "execution_count": 30,
   "metadata": {
    "ExecuteTime": {
     "end_time": "2020-10-24T23:49:52.995647Z",
     "start_time": "2020-10-24T23:49:52.821114Z"
    }
   },
   "outputs": [
    {
     "data": {
      "text/plain": [
       "<matplotlib.collections.LineCollection at 0x294959e0940>"
      ]
     },
     "execution_count": 30,
     "metadata": {},
     "output_type": "execute_result"
    },
    {
     "data": {
      "image/png": "[encoded data removed]",
      "text/plain": [
       "<Figure size 432x288 with 1 Axes>"
      ]
     },
     "metadata": {},
     "output_type": "display_data"
    }
   ],
   "source": [
    "fig, ax = plt.subplots(1, 1)\n",
    "\n",
    "x = np.arange(geom.ppf(0.01, p),\n",
    "              geom.ppf(0.99, p))\n",
    "ax.plot(x, geom.pmf(x, p), 'bo', ms=8, label='geom pmf')\n",
    "ax.vlines(x, 0, geom.pmf(x, p), colors='b', lw=5, alpha=0.5)"
   ]
  },
  {
   "cell_type": "markdown",
   "metadata": {},
   "source": [
    "# <span style=color:darkblue>BINOMIAL DISTRIBUTION</span>"
   ]
  },
  {
   "cell_type": "markdown",
   "metadata": {},
   "source": [
    "<span style=color:red><b><u>EXERCISE 5.23</u></b> :   \n",
    "\n",
    "Suppose we randomly selected four individuals to participate in the “shock” study. What is the chance exactly one of them will be a success? Let’s call the four people Allen (A), Brittany (B), Caroline (C), and Damian (D) for convenience.\n",
    "\n",
    "Also, suppose 35% of people are successes as in the previous version of this example.\n",
    "\n",
    "<em><u>Let’s consider a scenario where one person refuses:</u></em>"
   ]
  },
  {
   "cell_type": "markdown",
   "metadata": {},
   "source": [
    "\\begin{align*}P(A = refuse, B = shock, C = shock, D = shock)\\end{align*}\n",
    "$%$   \n",
    "\\begin{align*}= P(A = refuse) \\hspace{2mm} P(B = shock) \\hspace{2mm} P(C = shock) \\hspace{2mm} P(D = shock)\\end{align*}\n",
    "$%$   \n",
    "\\begin{align*}= (0.35)(0.65)(0.65)(0.65) = (0.35)^1(0.65)^3 = 0.096\\end{align*}"
   ]
  },
  {
   "cell_type": "markdown",
   "metadata": {},
   "source": [
    "<span style=color:red><b><u>EXERCISE 5.24</u></b> :   \n",
    "\n",
    "\n",
    "<em><u>But there are three other scenarios</u></em>:$\\:$ Brittany,$\\:$ Caroline, or Damian$\\:$ could have been the one to refuse.   \n",
    "\n",
    "In each of these cases, the probability is again "
   ]
  },
  {
   "cell_type": "markdown",
   "metadata": {},
   "source": [
    "$$(0.35)^1(0.65)^3$$\n",
    "\n",
    "These four scenarios exhaust all the possible ways that exactly one of these four people could refuse to administer the most severe shock, so the total probability is \n",
    "\n",
    "$$4\\: x\\: (0.35)^1(0.65)^3 = 0.38$$"
   ]
  },
  {
   "cell_type": "markdown",
   "metadata": {},
   "source": [
    "The scenario outlined above is a special case of what is called the <span style=color:blue><b><u> \n",
    "Binomial Distribution.</u></b>"
   ]
  },
  {
   "cell_type": "markdown",
   "metadata": {},
   "source": [
    "<div class=\"alert alert-warning alert-warning\"><b><u>Binomial Distribution</u></b>   \n",
    "$%$   \n",
    "\n",
    "The <b>Binomial Distribution</b> describes the probability of having exactly $k$ successes in $n\\hspace{3mm}$<b><u>independent Bernoulli</u></b> trials with <b>probability</b> of a success $p$.\n",
    "\n",
    "in our example $$n = 4,\\hspace{1cm} k = 1,\\hspace{1cm} p = 0.35$$   \n",
    "$%$   \n",
    "A <b>Binomial Distribution</b> must satisfy <u>four conditions</u> :    \n",
    "\n",
    "1. The outcomes must be Binary (Success / Failure)\n",
    "2. Outcomes must be independent, one outcome doesn't affect another\n",
    "3. The number of trials is set in advance.\n",
    "4. Success on each trial (Probability of sucess must be the same)\n",
    "</div>"
   ]
  },
  {
   "cell_type": "markdown",
   "metadata": {},
   "source": [
    "However, we would like to determine the probabilities associated with the <span style=color:blue><b><u>Binomial Distribution</u></b></span> more generally, we want a formula where we can use $n$, $k$, and $p$ to obtain the probability.\n",
    "\n",
    "To do this, let's reexamine each part of the example."
   ]
  },
  {
   "cell_type": "markdown",
   "metadata": {},
   "source": [
    "There were *four individuals* who could have been the <b>one to refuse</b>, and each of these four scenarios had the same <b>probability</b>. Thus, we could identify the <b>final probability</b> as   \n",
    "$%$   \n",
    "<center>[# of scenarios] x $P(single\\:scenario)$</center>"
   ]
  },
  {
   "cell_type": "markdown",
   "metadata": {},
   "source": [
    "- The first component of this equation ( <b>[# of scenarios]</b> ) is the number of <b>ways to arrange</b> the $k = 1$ <b>successes</b> among the $n = 4$ <b>trials</b>.   \n",
    "\n",
    "- The second component ( $P(single\\:scenario)$ )is the <b>probability</b> of any of the four (equally probable) scenarios."
   ]
  },
  {
   "cell_type": "markdown",
   "metadata": {
    "ExecuteTime": {
     "end_time": "2019-09-12T17:34:27.778456Z",
     "start_time": "2019-09-12T17:34:27.772473Z"
    }
   },
   "source": [
    "<div class=\"alert alert-warning alert-warning\"><b><u>Bernoulli Random Variable</u></b>\n",
    "\n",
    "If $X$ is a <b>random variable</b> that takes value $1$ with <b>probability of success</b> $p$ and <b>0</b> with probability $1 − p$, then $X$ is a <b><u>Bernoulli random variable</u></b> with <b>mean</b> and <b>standard deviation</b>   \n",
    "$%$   \n",
    "\\begin{align*}\\mu\\:=\\:p\\hspace{4cm} \\sigma\\:=\\sqrt{p(1 - p)}\\end{align*}\n",
    "</div>"
   ]
  },
  {
   "cell_type": "markdown",
   "metadata": {},
   "source": [
    "## <span style=color:darkred>Mean and Standard Deviation of Binomial Random Variable</span>"
   ]
  },
  {
   "cell_type": "markdown",
   "metadata": {},
   "source": [
    "If a count $X$ has the <span style=color:blue><b>Binomial Distribution</b></span> with number of observations <span style=color:blue><b>$n$</b></span> and the probability of success <span style=color:blue><b>$p$</b></span>.\n",
    "\n",
    "then mean and Standard Deviation of $X$  are :\n",
    "\n"
   ]
  },
  {
   "cell_type": "markdown",
   "metadata": {
    "ExecuteTime": {
     "end_time": "2019-09-12T17:34:27.778456Z",
     "start_time": "2019-09-12T17:34:27.772473Z"
    }
   },
   "source": [
    "<div class=\"alert alert-warning alert-warning\"><b><u>Binomial Distribution</u></b>\n",
    "\n",
    "Suppose the <b>probability</b> of a single trial being a <b>success</b> is <b>$\\:p$</b>. Then the <b>probability</b> of observing exactly <b>$\\:k$</b> <b>successes</b> in <b>$\\:n$</b> <b>independent</b> trials is given by   \n",
    "$%$   \n",
    "\\begin{align*}\\:{n \\choose k}p^{k}(1 - p)^{n-k}\\hspace{2mm}=\\hspace{2mm}\\frac{n!}{k!(n-k)!}\\hspace{2mm}p^{k}(1 - p)^{n-k}\\end{align*}   \n",
    "$%$    \n",
    "- The <b>quantity</b> ${n \\choose k}\\hspace{2mm}$ is read <b>n choose k.</b>   \n",
    "$%$   \n",
    "- The <b>exclamation point</b> notation (e.g. $k!$) denotes a <b>factorial expression</b>.   \n",
    "$%$   \n",
    "Additionally, the <b>mean</b> and <b>standard deviation</b> of the number of observed\n",
    "successes are:   \n",
    "$%$   \n",
    "\\begin{align*}\\mu\\:=\\:np\\hspace{4cm} \\sigma\\:=\\sqrt{np(1 - p)}\\end{align*}   \n",
    "$%$   \n",
    "- <b><u>Binomial Distribution Parameters</u></b> \"$n$\" and \"$p$\"   \n",
    "$%$   \n",
    "    - $n$ = number of trials\n",
    "    - $p$ = is the Probability of success of anyone trial.   \n",
    "\n",
    "        $X$ is defined ...\n",
    "\n",
    "        $$X\\hspace{2mm}=\\hspace{2mm}B(n,\\:p)$$   \n",
    "\n",
    "Posible values of $X$ are <b>whole numbers</b> from $0$ ($zero$) to $n$.   \n",
    "$%$   \n",
    "- <b><u>Binomial Coefficient</u></b> where:    \n",
    "$%$   \n",
    "    - $n$  = is the number of trials and\n",
    "    - $k$  = is the number of successes.\n",
    "\n",
    "\\begin{align*}\\:{n \\choose k}\\hspace{2mm}=\\hspace{2mm}\\frac{n!}{k!(n-k)!}\\end{align*}   \n",
    "$%$   \n",
    "\n",
    "<b>Is it Binomial ?</b> <u>four conditions</u> to check :    \n",
    "$%$   \n",
    "1. The trials are <b>independent</b>.\n",
    "2. The number of trials, <b><i>n</i></b>, is <b>fixed</b>.\n",
    "3. Each trial <b>outcome</b> can be classified as a <b><i>success</i></b> or <b><i>failure</i></b>.\n",
    "4. The probability of a success, <b><i>p</i></b>, is the <b>same for each trial</b>.\n",
    "</div>"
   ]
  },
  {
   "cell_type": "markdown",
   "metadata": {},
   "source": [
    "<span style=color:red><b><u>EXERCISE 5.25</u></b> :   \n",
    "$%$   \n",
    "<center>[# of scenarios] x $P(single\\:scenario)$</center>\n",
    "\n",
    "Using the formula, from <b>Binomial Coefficient</b> we can compute the first component of this equation ( <b>[# of scenarios]</b> ) the number of ways to <b>choose k = 1</b> successes in <b>n = 4</b> trials :"
   ]
  },
  {
   "cell_type": "markdown",
   "metadata": {},
   "source": [
    "\\begin{align*}\\:{4\\choose 1}\\hspace{2mm}=\\hspace{2mm}\\frac{4!}{1!(4-1)!}\\hspace{2mm}=\\hspace{2mm}\\frac{4!}{1!3!}\\hspace{2mm}=\\hspace{2mm}\\frac{4\\:x\\:3\\:x\\:2\\:x\\:1}{(1)(3\\:x\\:2\\:x\\:1)}=\\hspace{2mm}4\\end{align*}  "
   ]
  },
  {
   "cell_type": "markdown",
   "metadata": {},
   "source": [
    "<center>[# of scenarios] x $P(single\\:scenario)$</center>\n",
    "\n",
    "Substituting <b>n choose k</b> for the <b>number of scenarios</b> and <b>$p^{k}(1 − p)^{n−k}$</b> for the single scenario <b>probability</b>, yields the <b>General Binomial formula</b>. \n",
    "\n",
    "\\begin{align*}\\:{n \\choose k}p^{k}(1 - p)^{n-k}\\hspace{2mm}=\\hspace{2mm}\\frac{n!}{k!(n-k)!}\\hspace{2mm}p^{k}(1 - p)^{n-k}\\end{align*}   \n",
    "\n",
    "Consider <b>P(single scenario)</b> under the general case of $k$ <b>successes</b> and $n−k$ <b>failures</b> in the $n$ <b>trials</b>. In any such scenario, we apply the <i>Multiplication Rule for independent events</i> :\n",
    "\n",
    "$$p^{k}(1 - p)^{n-k}$$"
   ]
  },
  {
   "cell_type": "markdown",
   "metadata": {
    "ExecuteTime": {
     "end_time": "2019-10-22T20:48:40.719527Z",
     "start_time": "2019-10-22T20:48:40.713543Z"
    }
   },
   "source": [
    "\\begin{align*}\\:{4 \\choose 1}\\hspace{2mm}=\\hspace{2mm}\\frac{4!}{1!(4-1)!}\\hspace{2mm}=\\hspace{2mm}\\frac{4!}{1!3!}\\:=\\hspace{2mm}\\frac{4!\\:x\\:3!\\:x\\:2!\\:x\\:1!}{(1!)(3!\\:x\\:2!\\:x\\:1!)}\\:=\\hspace{2mm}4\\end{align*}   "
   ]
  },
  {
   "cell_type": "markdown",
   "metadata": {},
   "source": [
    "<span style=color:darkblue><b><u>SUMMARY :</u></b>\n",
    "\n",
    "- The first step in using the <b>binomial model</b> is to check that the model is appropriate.   \n",
    "\n",
    "- The second step is to identify <b>$n$, $p$, and $k$</b>.   \n",
    "\n",
    "- The final step is to <b>apply the formulas</b> and <b>interpret</b> the results."
   ]
  },
  {
   "cell_type": "markdown",
   "metadata": {},
   "source": [
    "<span style=color:red><b><u>EXERCISE 5.26</u></b> :   \n",
    "\n",
    "What is the probability that 3 of 8 randomly selected students will refuse to administer the worst shock, i.e. 5 of 8 will?"
   ]
  },
  {
   "cell_type": "markdown",
   "metadata": {},
   "source": [
    "We would like to apply the <b>Binomial model</b>, so we <b>check</b> our <b>conditions</b> : \n",
    "\n",
    "- The number of trials is fixed (n = 8) (condition 2) and \n",
    "- each trial outcome can be classified as a success or failure (condition 3). \n",
    "- Because the sample is random, the trials are independent (condition 1) and \n",
    "- the probability of a success is the same for each trial (condition 4).   \n",
    "\n",
    "In the outcome of interest, there are <b>$k$ = 3 successes</b> in <b>$n$ = 8 trials</b>, and the <b>probability</b> of a success is <b>$p$ = 0.35</b>.   \n",
    "\n",
    "So the <b>probability</b> that <b>3 of 8</b> will refuse is given by\n",
    "\n",
    "\\begin{align*}\\:{8\\choose 3}(0.35)^{3}(1 - 0.35)^{8-3}\\hspace{2mm}=\\hspace{2mm}\\frac{8!}{3!(8-3)!}\\hspace{2mm}(0.35)^{3}(1 - 0.35)^{8-3}\\end{align*}  \n",
    "\\begin{align*}=\\hspace{2mm}\\frac{8!}{3!5!}\\hspace{2mm}(0.35)^{3}(1 - 0.35)^{5}\\end{align*}  \n",
    "\n",
    "Now lets deal with the <b>factorial part</b>:   \n",
    "\n",
    "\\begin{align*}\\:=\\hspace{2mm}\\frac{8!}{3!5!}\\hspace{2mm}=\\hspace{2mm}\\frac{8\\:x\\:7\\:x\\:6}{3\\:x\\:2\\:x\\:1}=\\hspace{2mm}56\\end{align*}  \n",
    "\n",
    "Finally lets resolve the <b>final probability</b>, solving for the remaining expression $(0.35)^{3}(1 - 0.35)^{5}\\:\\approx 0.005$.   \n",
    "\n",
    "Then the <b>final probability</b> is about <b>56 * 0.005 = 0.28</b>."
   ]
  },
  {
   "cell_type": "markdown",
   "metadata": {},
   "source": [
    "### <span style=color:darkred>Probability Distribution Function - PDF vs Cumulative Distribution - CDF</span>"
   ]
  },
  {
   "cell_type": "markdown",
   "metadata": {},
   "source": [
    "What is the difference between a <span style=color:blue><b>Probability Distribution Function - (PDF)</b></span> and a <span style=color:blue><b>Cumulative Distribution Function - (CDF)</b></span>?\n",
    "- <span style=color:blue><i><u>PDF assigns probability to each value of $X$ for 0,1,2, ... up to the value of $X$</u></i></span>.   \n",
    "$%$   \n",
    "  <i>Use PDF when given the exact value of $X$.</i>  Ex.: $p(x = 3)$   \n",
    "$%$  \n",
    "- <span style=color:blue><i><u>CDF is the Cumulative sum that adds up to (x = 0) + (x = 1) + ... + (x = k)</u></i></span>   \n",
    "$%$   \n",
    "  <i>Use CDF when given key words such as</i> :   \n",
    "  - at most $X$ and\n",
    "  - at least $X$"
   ]
  },
  {
   "cell_type": "markdown",
   "metadata": {},
   "source": [
    "# <span style=color:darkblue>NEGATIVE BINOMIAL DISTRIBUTION</span>"
   ]
  },
  {
   "cell_type": "markdown",
   "metadata": {},
   "source": [
    "The <span style=color:blue>Geometric distribution</span> describes the <b>probability</b> of observing the <b><i>first success</i></b> on the $n^{th}$ <b>trial</b>. \n",
    "\n",
    "The <span style=color:blue>Negative binomial distribution</span> describes the <b>probability</b> of observing the $k^{th}$ success on the $n^{th}$ <b>trial</b>."
   ]
  },
  {
   "cell_type": "markdown",
   "metadata": {
    "ExecuteTime": {
     "end_time": "2019-09-12T17:34:27.778456Z",
     "start_time": "2019-09-12T17:34:27.772473Z"
    }
   },
   "source": [
    "<div class=\"alert alert-warning alert-warning\"><b><u>Negative Binomial Distribution</u></b>   \n",
    "\n",
    "The <b>Negative binomial distribution</b> describes the <b>probability</b> of observing the <b><i>$k^{th}$</i></b> success on the <b><i>$n^{th}$</i></b> trial:\n",
    "    \n",
    "$%$   \n",
    "\\begin{align*}P(the\\:k^{th}\\:success\\:on\\:the\\: n^{th}\\: trial)\\hspace{2mm}=\\hspace{2mm}{n-1 \\choose k - 1}\\hspace{2mm}p^{k}(1 - p)^{n-k}\\end{align*}   \n",
    "$%$    \n",
    "where <b><i>p</i></b> is the <b>probability</b> an individual trial is a <b>success</b>. All <b>trials</b> are assumed to be <b>independent</b>.   \n",
    "$%$   \n",
    "To identify a <span style=color:blue>Negative binomial</span> case, we <b><u>check 4 conditions</u></b>. The first three are common to the <span style=color:blue>Binomial distribution</span>.   \n",
    "$%$   \n",
    "\n",
    "1. The trials are <b>independent</b>.   \n",
    "\n",
    "2. Each trial <b>outcome</b> can be classified as a <i><b>success</b></i> or <i><b>failure</b></i>.   \n",
    "\n",
    "3. The probability of a success <b><i>(p)</i></b> is the <b>same for each trial</b>.   \n",
    "\n",
    "4. <b><u>The last trial must be a success</u></b>.\n",
    "</div>"
   ]
  },
  {
   "cell_type": "markdown",
   "metadata": {},
   "source": [
    "- In the <span style=color:blue>Binomial case</span>, we typically have a <b>fixed number of trials</b> and instead consider the <b>number of successes</b>.   \n",
    "$%$   \n",
    "- In the <span style=color:blue>Negative Binomial case</span>, we examine how many <b>trials it takes to observe a fixed number of successes</b> and require that the <b>last observation be a success</b>."
   ]
  },
  {
   "cell_type": "markdown",
   "metadata": {},
   "source": [
    "# <span style=color:darkblue>POISSON DISTRIBUTION</span>"
   ]
  },
  {
   "cell_type": "markdown",
   "metadata": {},
   "source": [
    "The <span style=color:blue>Poisson distribution</span> is often useful for estimating the <b>number of events in a large population</b> over a <b>unit of time</b>. For instance, consider each of the following events:   \n",
    "\n",
    "* having a heart attack,\n",
    "* getting married, and\n",
    "* getting struck by lightning.\n",
    "\n",
    "The <span style=color:blue>Poisson distribution</span> helps us describe the number of such events that will occur in a day for a fixed population if the individuals within the population are independent.   \n",
    "\n",
    "The <span style=color:blue>Poisson distribution</span> could also be used over another unit of time, such as an hour or a week."
   ]
  },
  {
   "cell_type": "markdown",
   "metadata": {
    "ExecuteTime": {
     "end_time": "2019-09-12T17:34:27.778456Z",
     "start_time": "2019-09-12T17:34:27.772473Z"
    }
   },
   "source": [
    "<div class=\"alert alert-warning alert-warning\"><b><u>Poisson Distribution</u></b>\n",
    "\n",
    "Suppose we are watching for events and the number of observed events follows a <b>Poisson distribution</b> with <b>rate $\\lambda$</b>. Then   \n",
    "$%$   \n",
    "\\begin{align*}P(observe\\hspace{2mm} k\\hspace{2mm} events) =\\frac{\\lambda^{k}e^{−\\lambda}}{k!}\\end{align*}   \n",
    "$%$   \n",
    "The <b><u>rate</u></b> for a <b>Poisson distribution</b> is the <b>average number of occurrences</b> in a mostly fixed population per <b><i>unit of time</i></b>.   \n",
    "$%$   \n",
    "The <b><u>parameter</u></b> in the <b>Poisson distribution</b> is the <b>rate or how many events we expect to observe</b>. it is typically denoted by <b>$\\lambda$</b> (the Greek letter <b>lambda</b>) or $\\mu$.   \n",
    "$%$   \n",
    "Using the rate, we can describe the probability of observing exactly k events in a single unit of time.   \n",
    "$%$   \n",
    "where : \n",
    "- $k$ may take a value $0, 1, 2$, and so on, and   \n",
    "- $k!$ represents <b>k-factorial</b>.   \n",
    "- The letter $e \\approx$ 2.718 is the base of the natural logarithm.   \n",
    "- The <b>mean</b> and <b>standard deviation</b> of this distribution are $\\lambda$ and $\\sqrt{\\lambda}$, respectively.</b>\n",
    "</div>"
   ]
  },
  {
   "cell_type": "markdown",
   "metadata": {},
   "source": [
    "Let's see few simple guidelines that can be used for an initial evaluation of whether the **``Poisson model``** would be appropriate."
   ]
  },
  {
   "cell_type": "markdown",
   "metadata": {},
   "source": [
    "<b><u>Is it Poisson?</u></b>\n",
    "\n",
    "A random variable may follow a Poisson distribution if we are looking for the **number of events**, the population that generates such events **is large**, and the **events** occur **independently** of each other."
   ]
  }
 ],
 "metadata": {
  "kernelspec": {
   "display_name": "Python 3",
   "language": "python",
   "name": "python3"
  },
  "language_info": {
   "codemirror_mode": {
    "name": "ipython",
    "version": 3
   },
   "file_extension": ".py",
   "mimetype": "text/x-python",
   "name": "python",
   "nbconvert_exporter": "python",
   "pygments_lexer": "ipython3",
   "version": "3.7.0"
  },
  "toc": {
   "base_numbering": 1,
   "nav_menu": {},
   "number_sections": true,
   "sideBar": true,
   "skip_h1_title": false,
   "title_cell": "Table of Contents",
   "title_sidebar": "Contents",
   "toc_cell": false,
   "toc_position": {
    "height": "calc(100% - 180px)",
    "left": "10px",
    "top": "150px",
    "width": "325px"
   },
   "toc_section_display": true,
   "toc_window_display": false
  },
  "varInspector": {
   "cols": {
    "lenName": 16,
    "lenType": 16,
    "lenVar": 40
   },
   "kernels_config": {
    "python": {
     "delete_cmd_postfix": "",
     "delete_cmd_prefix": "del ",
     "library": "var_list.py",
     "varRefreshCmd": "print(var_dic_list())"
    },
    "r": {
     "delete_cmd_postfix": ") ",
     "delete_cmd_prefix": "rm(",
     "library": "var_list.r",
     "varRefreshCmd": "cat(var_dic_list()) "
    }
   },
   "types_to_exclude": [
    "module",
    "function",
    "builtin_function_or_method",
    "instance",
    "_Feature"
   ],
   "window_display": false
  }
 },
 "nbformat": 4,
 "nbformat_minor": 2
}
