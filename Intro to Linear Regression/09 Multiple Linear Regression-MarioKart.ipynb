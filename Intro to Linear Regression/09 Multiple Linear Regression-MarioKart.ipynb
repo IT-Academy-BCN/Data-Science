{
 "cells": [
  {
   "attachments": {
    "IT%20Logo.png": {
     "image/png": "[encoded data removed]"
    }
   },
   "cell_type": "markdown",
   "metadata": {},
   "source": [
    "![IT%20Logo.png](attachment:IT%20Logo.png)"
   ]
  },
  {
   "cell_type": "markdown",
   "metadata": {},
   "source": [
    "<div class=\"alert alert-block alert-info\">\\begin{align*}Alex\\:Kumenius - Business\\hspace{2mm}Intelligence\\hspace{2mm}Data\\hspace{2mm}Scientist\\end{align*}\n",
    "\n",
    "\\begin{align*}Date : Abril\\hspace{2mm}21^{th}\\hspace{2mm}2021\\end{align*}</div>"
   ]
  },
  {
   "cell_type": "markdown",
   "metadata": {},
   "source": [
    "# <span style=color:darkblue>Multiple regression</span>"
   ]
  },
  {
   "cell_type": "markdown",
   "metadata": {},
   "source": [
    "The principles of <span style=color:blue>simple linear regression</span> lay the foundation for more sophisticated <span style=color:blue>regression methods</span> used in a wide range of challenging settings. We explore <span style=color:blue>multiple regression</span>, which introduces the <b>possibility of more than <u>one predictor</u></b>, and <span style=color:blue>logistic regression</span>, a technique for <b>predicting</b> <span style=color:blue>categorical outcomes</span> with <b>two possible</b> <span style=color:blue><b>categories</b></span>."
   ]
  },
  {
   "cell_type": "markdown",
   "metadata": {},
   "source": [
    "## <span style=color:darkgreen>Introduction to multiple regression</span>"
   ]
  },
  {
   "cell_type": "markdown",
   "metadata": {},
   "source": [
    "<span style=color:blue>Multiple or multivariate linear regression</span> is a case of <span style=color:blue>linear regression</span> with <b>two or more <u>independent</u></b> variables.\n",
    "\n",
    "- If there are just <b><u>two independent variables</u></b>, the estimated <span style=color:blue>regression function is : $\\:f(x_1,\\:x_2)\\:=\\:b_{0}\\:+\\:b_1x_1\\:+\\:b_2x_2$ </span>.   \n",
    "\n",
    "    It represents a regression plane in a three-dimensional space. The goal of regression is to determine the values of the weights <span style=color:blue>$\\:b_0,\\:b_1\\:$</span>, and <span style=color:blue>$\\:b_2\\:$</span> such that this plane is as close as possible to the <b>actual <u>responses</u></b> and <span style=color:blue><b>yield the minimal SSR</b></span>.   \n",
    "$%$   \n",
    "- The case of <b><u>more than two independent variables</u></b> is similar, but more general. The estimated regression function is <span style=color:blue>$\\:f(x_1,\\:...,x_k)\\:=\\:b_{0}\\:+\\:b_1x_1\\:+\\:...\\:+\\:b_rx_k,\\:$</span> and there are <span style=color:blue>$\\:k\\:$ + 1</span> weights to be determined when the number of inputs is <span style=color:blue>$\\:k\\:$</span>."
   ]
  },
  {
   "cell_type": "markdown",
   "metadata": {},
   "source": [
    "<span style=color:blue><b>Multiple regression</b></span> extends <span style=color:blue>simple two-variable regression</span> to the case that still has <b>one response</b> but <b>many predictors (denoted <span style=color:blue>$\\:x_1\\:$, $\\:x_2\\:$, $\\:x_3\\:$, ...</span>)</b>.   \n",
    "\n",
    "The method is used in scenarios where many variables may be simultaneously connected to an output."
   ]
  },
  {
   "cell_type": "code",
   "execution_count": 1,
   "metadata": {
    "ExecuteTime": {
     "end_time": "2021-04-21T15:14:16.376248Z",
     "start_time": "2021-04-21T15:14:14.836361Z"
    }
   },
   "outputs": [],
   "source": [
    "# import libraries needed\n",
    "import os\n",
    "import pandas as pd\n",
    "import numpy as np\n",
    "import scipy.stats as stats\n",
    "import statsmodels.api as sm\n",
    "import statsmodels.formula.api as smf\n",
    "import researchpy as rp\n",
    "import statsmodels.api as sm\n",
    "import seaborn as sns\n",
    "\n",
    "from statsmodels.formula.api import ols\n",
    "    \n",
    "import matplotlib.pyplot as plt"
   ]
  },
  {
   "cell_type": "code",
   "execution_count": 2,
   "metadata": {
    "ExecuteTime": {
     "end_time": "2021-04-21T15:14:19.212267Z",
     "start_time": "2021-04-21T15:14:19.174367Z"
    }
   },
   "outputs": [
    {
     "data": {
      "text/html": [
       "<div>\n",
       "<style scoped>\n",
       "    .dataframe tbody tr th:only-of-type {\n",
       "        vertical-align: middle;\n",
       "    }\n",
       "\n",
       "    .dataframe tbody tr th {\n",
       "        vertical-align: top;\n",
       "    }\n",
       "\n",
       "    .dataframe thead th {\n",
       "        text-align: right;\n",
       "    }\n",
       "</style>\n",
       "<table border=\"1\" class=\"dataframe\">\n",
       "  <thead>\n",
       "    <tr style=\"text-align: right;\">\n",
       "      <th></th>\n",
       "      <th>duration</th>\n",
       "      <th>cond</th>\n",
       "      <th>totalPr</th>\n",
       "      <th>stockPhoto</th>\n",
       "      <th>wheels</th>\n",
       "    </tr>\n",
       "  </thead>\n",
       "  <tbody>\n",
       "    <tr>\n",
       "      <th>0</th>\n",
       "      <td>3</td>\n",
       "      <td>new</td>\n",
       "      <td>51.55</td>\n",
       "      <td>yes</td>\n",
       "      <td>1</td>\n",
       "    </tr>\n",
       "    <tr>\n",
       "      <th>1</th>\n",
       "      <td>7</td>\n",
       "      <td>used</td>\n",
       "      <td>37.04</td>\n",
       "      <td>yes</td>\n",
       "      <td>1</td>\n",
       "    </tr>\n",
       "    <tr>\n",
       "      <th>2</th>\n",
       "      <td>3</td>\n",
       "      <td>new</td>\n",
       "      <td>45.50</td>\n",
       "      <td>no</td>\n",
       "      <td>1</td>\n",
       "    </tr>\n",
       "    <tr>\n",
       "      <th>3</th>\n",
       "      <td>3</td>\n",
       "      <td>new</td>\n",
       "      <td>44.00</td>\n",
       "      <td>yes</td>\n",
       "      <td>1</td>\n",
       "    </tr>\n",
       "    <tr>\n",
       "      <th>4</th>\n",
       "      <td>1</td>\n",
       "      <td>new</td>\n",
       "      <td>71.00</td>\n",
       "      <td>yes</td>\n",
       "      <td>2</td>\n",
       "    </tr>\n",
       "  </tbody>\n",
       "</table>\n",
       "</div>"
      ],
      "text/plain": [
       "   duration  cond  totalPr stockPhoto  wheels\n",
       "0         3   new    51.55        yes       1\n",
       "1         7  used    37.04        yes       1\n",
       "2         3   new    45.50         no       1\n",
       "3         3   new    44.00        yes       1\n",
       "4         1   new    71.00        yes       2"
      ]
     },
     "execution_count": 2,
     "metadata": {},
     "output_type": "execute_result"
    }
   ],
   "source": [
    "# Open the choosen file\n",
    "marioKart = pd.read_csv('D:\\\\Documents\\\\00 BIDDLS\\\\01 BIDDLS Project PORTFOLIO\\\\01 BIDDLS_Projects DONE\\\\01 Formacion Eurecat\\\\BIDDLS Eurecat 2019\\\\BTS\\\\Datasets\\\\marioKart.txt', sep='\\t', \n",
    "                        encoding='utf-8', usecols=[6,3,9,1,10])\n",
    "\n",
    "#marioKart = pd.read_csv('D:\\\\Documents\\\\EureCat\\\\Eurecat 2019\\\\BTS\\\\Datasets\\\\marioKart.txt', sep='\\t', encoding='utf-8')\n",
    "\n",
    "marioKart.head()"
   ]
  },
  {
   "cell_type": "code",
   "execution_count": 3,
   "metadata": {
    "ExecuteTime": {
     "end_time": "2021-04-21T15:15:43.470979Z",
     "start_time": "2021-04-21T15:15:43.454024Z"
    }
   },
   "outputs": [
    {
     "data": {
      "text/plain": [
       "(143, 5)"
      ]
     },
     "execution_count": 3,
     "metadata": {},
     "output_type": "execute_result"
    }
   ],
   "source": [
    "marioKart.shape"
   ]
  },
  {
   "cell_type": "code",
   "execution_count": 4,
   "metadata": {
    "ExecuteTime": {
     "end_time": "2021-04-21T15:15:46.133258Z",
     "start_time": "2021-04-21T15:15:46.096318Z"
    }
   },
   "outputs": [
    {
     "data": {
      "text/html": [
       "<div>\n",
       "<style scoped>\n",
       "    .dataframe tbody tr th:only-of-type {\n",
       "        vertical-align: middle;\n",
       "    }\n",
       "\n",
       "    .dataframe tbody tr th {\n",
       "        vertical-align: top;\n",
       "    }\n",
       "\n",
       "    .dataframe thead th {\n",
       "        text-align: right;\n",
       "    }\n",
       "</style>\n",
       "<table border=\"1\" class=\"dataframe\">\n",
       "  <thead>\n",
       "    <tr style=\"text-align: right;\">\n",
       "      <th></th>\n",
       "      <th>duration</th>\n",
       "      <th>totalPr</th>\n",
       "      <th>wheels</th>\n",
       "    </tr>\n",
       "  </thead>\n",
       "  <tbody>\n",
       "    <tr>\n",
       "      <th>count</th>\n",
       "      <td>143.000000</td>\n",
       "      <td>143.00000</td>\n",
       "      <td>143.000000</td>\n",
       "    </tr>\n",
       "    <tr>\n",
       "      <th>mean</th>\n",
       "      <td>3.769231</td>\n",
       "      <td>49.88049</td>\n",
       "      <td>1.146853</td>\n",
       "    </tr>\n",
       "    <tr>\n",
       "      <th>std</th>\n",
       "      <td>2.585693</td>\n",
       "      <td>25.68856</td>\n",
       "      <td>0.847183</td>\n",
       "    </tr>\n",
       "    <tr>\n",
       "      <th>min</th>\n",
       "      <td>1.000000</td>\n",
       "      <td>28.98000</td>\n",
       "      <td>0.000000</td>\n",
       "    </tr>\n",
       "    <tr>\n",
       "      <th>25%</th>\n",
       "      <td>1.000000</td>\n",
       "      <td>41.17500</td>\n",
       "      <td>0.000000</td>\n",
       "    </tr>\n",
       "    <tr>\n",
       "      <th>50%</th>\n",
       "      <td>3.000000</td>\n",
       "      <td>46.50000</td>\n",
       "      <td>1.000000</td>\n",
       "    </tr>\n",
       "    <tr>\n",
       "      <th>75%</th>\n",
       "      <td>7.000000</td>\n",
       "      <td>53.99000</td>\n",
       "      <td>2.000000</td>\n",
       "    </tr>\n",
       "    <tr>\n",
       "      <th>max</th>\n",
       "      <td>10.000000</td>\n",
       "      <td>326.51000</td>\n",
       "      <td>4.000000</td>\n",
       "    </tr>\n",
       "  </tbody>\n",
       "</table>\n",
       "</div>"
      ],
      "text/plain": [
       "         duration    totalPr      wheels\n",
       "count  143.000000  143.00000  143.000000\n",
       "mean     3.769231   49.88049    1.146853\n",
       "std      2.585693   25.68856    0.847183\n",
       "min      1.000000   28.98000    0.000000\n",
       "25%      1.000000   41.17500    0.000000\n",
       "50%      3.000000   46.50000    1.000000\n",
       "75%      7.000000   53.99000    2.000000\n",
       "max     10.000000  326.51000    4.000000"
      ]
     },
     "execution_count": 4,
     "metadata": {},
     "output_type": "execute_result"
    }
   ],
   "source": [
    "marioKart.describe()"
   ]
  },
  {
   "cell_type": "code",
   "execution_count": 5,
   "metadata": {
    "ExecuteTime": {
     "end_time": "2021-04-21T15:16:15.661989Z",
     "start_time": "2021-04-21T15:16:15.636060Z"
    }
   },
   "outputs": [
    {
     "data": {
      "text/html": [
       "<div>\n",
       "<style scoped>\n",
       "    .dataframe tbody tr th:only-of-type {\n",
       "        vertical-align: middle;\n",
       "    }\n",
       "\n",
       "    .dataframe tbody tr th {\n",
       "        vertical-align: top;\n",
       "    }\n",
       "\n",
       "    .dataframe thead th {\n",
       "        text-align: right;\n",
       "    }\n",
       "</style>\n",
       "<table border=\"1\" class=\"dataframe\">\n",
       "  <thead>\n",
       "    <tr style=\"text-align: right;\">\n",
       "      <th></th>\n",
       "      <th>duration</th>\n",
       "      <th>totalPr</th>\n",
       "      <th>wheels</th>\n",
       "    </tr>\n",
       "  </thead>\n",
       "  <tbody>\n",
       "    <tr>\n",
       "      <th>duration</th>\n",
       "      <td>1.000000</td>\n",
       "      <td>-0.041235</td>\n",
       "      <td>-0.299473</td>\n",
       "    </tr>\n",
       "    <tr>\n",
       "      <th>totalPr</th>\n",
       "      <td>-0.041235</td>\n",
       "      <td>1.000000</td>\n",
       "      <td>0.329984</td>\n",
       "    </tr>\n",
       "    <tr>\n",
       "      <th>wheels</th>\n",
       "      <td>-0.299473</td>\n",
       "      <td>0.329984</td>\n",
       "      <td>1.000000</td>\n",
       "    </tr>\n",
       "  </tbody>\n",
       "</table>\n",
       "</div>"
      ],
      "text/plain": [
       "          duration   totalPr    wheels\n",
       "duration  1.000000 -0.041235 -0.299473\n",
       "totalPr  -0.041235  1.000000  0.329984\n",
       "wheels   -0.299473  0.329984  1.000000"
      ]
     },
     "execution_count": 5,
     "metadata": {},
     "output_type": "execute_result"
    }
   ],
   "source": [
    "marioKart.corr()"
   ]
  },
  {
   "cell_type": "code",
   "execution_count": 6,
   "metadata": {
    "ExecuteTime": {
     "end_time": "2021-04-21T15:16:30.647506Z",
     "start_time": "2021-04-21T15:16:30.639529Z"
    }
   },
   "outputs": [
    {
     "data": {
      "text/plain": [
       "array(['yes', 'no'], dtype=object)"
      ]
     },
     "execution_count": 6,
     "metadata": {},
     "output_type": "execute_result"
    }
   ],
   "source": [
    "marioKart.stockPhoto.unique()"
   ]
  },
  {
   "cell_type": "code",
   "execution_count": 7,
   "metadata": {
    "ExecuteTime": {
     "end_time": "2021-04-21T15:16:35.420045Z",
     "start_time": "2021-04-21T15:16:35.400109Z"
    }
   },
   "outputs": [
    {
     "data": {
      "text/plain": [
       "array(['new', 'used'], dtype=object)"
      ]
     },
     "execution_count": 7,
     "metadata": {},
     "output_type": "execute_result"
    }
   ],
   "source": [
    "marioKart.cond.unique()"
   ]
  },
  {
   "cell_type": "code",
   "execution_count": 8,
   "metadata": {
    "ExecuteTime": {
     "end_time": "2021-04-21T15:16:49.627524Z",
     "start_time": "2021-04-21T15:16:47.922678Z"
    }
   },
   "outputs": [
    {
     "data": {
      "text/plain": [
       "<seaborn.axisgrid.PairGrid at 0x2fd7c4534e0>"
      ]
     },
     "execution_count": 8,
     "metadata": {},
     "output_type": "execute_result"
    },
    {
     "data": {
      "image/png": "[encoded data removed]",
      "text/plain": [
       "<Figure size 540x540 with 12 Axes>"
      ]
     },
     "metadata": {},
     "output_type": "display_data"
    }
   ],
   "source": [
    "sns.pairplot(marioKart)"
   ]
  },
  {
   "cell_type": "code",
   "execution_count": 9,
   "metadata": {
    "ExecuteTime": {
     "end_time": "2021-04-21T15:19:29.270317Z",
     "start_time": "2021-04-21T15:19:29.238638Z"
    }
   },
   "outputs": [
    {
     "data": {
      "text/html": [
       "<div>\n",
       "<style scoped>\n",
       "    .dataframe tbody tr th:only-of-type {\n",
       "        vertical-align: middle;\n",
       "    }\n",
       "\n",
       "    .dataframe tbody tr th {\n",
       "        vertical-align: top;\n",
       "    }\n",
       "\n",
       "    .dataframe thead th {\n",
       "        text-align: right;\n",
       "    }\n",
       "</style>\n",
       "<table border=\"1\" class=\"dataframe\">\n",
       "  <thead>\n",
       "    <tr style=\"text-align: right;\">\n",
       "      <th></th>\n",
       "      <th>duration</th>\n",
       "      <th>cond</th>\n",
       "      <th>totalPr</th>\n",
       "      <th>stockPhoto</th>\n",
       "      <th>wheels</th>\n",
       "    </tr>\n",
       "  </thead>\n",
       "  <tbody>\n",
       "    <tr>\n",
       "      <th>0</th>\n",
       "      <td>3</td>\n",
       "      <td>1</td>\n",
       "      <td>51.55</td>\n",
       "      <td>yes</td>\n",
       "      <td>1</td>\n",
       "    </tr>\n",
       "    <tr>\n",
       "      <th>1</th>\n",
       "      <td>7</td>\n",
       "      <td>0</td>\n",
       "      <td>37.04</td>\n",
       "      <td>yes</td>\n",
       "      <td>1</td>\n",
       "    </tr>\n",
       "    <tr>\n",
       "      <th>2</th>\n",
       "      <td>3</td>\n",
       "      <td>1</td>\n",
       "      <td>45.50</td>\n",
       "      <td>no</td>\n",
       "      <td>1</td>\n",
       "    </tr>\n",
       "    <tr>\n",
       "      <th>3</th>\n",
       "      <td>3</td>\n",
       "      <td>1</td>\n",
       "      <td>44.00</td>\n",
       "      <td>yes</td>\n",
       "      <td>1</td>\n",
       "    </tr>\n",
       "    <tr>\n",
       "      <th>4</th>\n",
       "      <td>1</td>\n",
       "      <td>1</td>\n",
       "      <td>71.00</td>\n",
       "      <td>yes</td>\n",
       "      <td>2</td>\n",
       "    </tr>\n",
       "  </tbody>\n",
       "</table>\n",
       "</div>"
      ],
      "text/plain": [
       "   duration  cond  totalPr stockPhoto  wheels\n",
       "0         3     1    51.55        yes       1\n",
       "1         7     0    37.04        yes       1\n",
       "2         3     1    45.50         no       1\n",
       "3         3     1    44.00        yes       1\n",
       "4         1     1    71.00        yes       2"
      ]
     },
     "execution_count": 9,
     "metadata": {},
     "output_type": "execute_result"
    }
   ],
   "source": [
    "# convert categorical variable into binary values\n",
    "\n",
    "marioKart.cond.replace(['new', 'used'], [1, 0], inplace=True)\n",
    "marioKart.head()"
   ]
  },
  {
   "cell_type": "code",
   "execution_count": 10,
   "metadata": {
    "ExecuteTime": {
     "end_time": "2021-04-21T15:19:46.828666Z",
     "start_time": "2021-04-21T15:19:46.811711Z"
    }
   },
   "outputs": [
    {
     "data": {
      "text/html": [
       "<div>\n",
       "<style scoped>\n",
       "    .dataframe tbody tr th:only-of-type {\n",
       "        vertical-align: middle;\n",
       "    }\n",
       "\n",
       "    .dataframe tbody tr th {\n",
       "        vertical-align: top;\n",
       "    }\n",
       "\n",
       "    .dataframe thead th {\n",
       "        text-align: right;\n",
       "    }\n",
       "</style>\n",
       "<table border=\"1\" class=\"dataframe\">\n",
       "  <thead>\n",
       "    <tr style=\"text-align: right;\">\n",
       "      <th></th>\n",
       "      <th>duration</th>\n",
       "      <th>cond</th>\n",
       "      <th>totalPr</th>\n",
       "      <th>stockPhoto</th>\n",
       "      <th>wheels</th>\n",
       "    </tr>\n",
       "  </thead>\n",
       "  <tbody>\n",
       "    <tr>\n",
       "      <th>0</th>\n",
       "      <td>3</td>\n",
       "      <td>1</td>\n",
       "      <td>51.55</td>\n",
       "      <td>1</td>\n",
       "      <td>1</td>\n",
       "    </tr>\n",
       "    <tr>\n",
       "      <th>1</th>\n",
       "      <td>7</td>\n",
       "      <td>0</td>\n",
       "      <td>37.04</td>\n",
       "      <td>1</td>\n",
       "      <td>1</td>\n",
       "    </tr>\n",
       "    <tr>\n",
       "      <th>2</th>\n",
       "      <td>3</td>\n",
       "      <td>1</td>\n",
       "      <td>45.50</td>\n",
       "      <td>0</td>\n",
       "      <td>1</td>\n",
       "    </tr>\n",
       "    <tr>\n",
       "      <th>3</th>\n",
       "      <td>3</td>\n",
       "      <td>1</td>\n",
       "      <td>44.00</td>\n",
       "      <td>1</td>\n",
       "      <td>1</td>\n",
       "    </tr>\n",
       "    <tr>\n",
       "      <th>4</th>\n",
       "      <td>1</td>\n",
       "      <td>1</td>\n",
       "      <td>71.00</td>\n",
       "      <td>1</td>\n",
       "      <td>2</td>\n",
       "    </tr>\n",
       "  </tbody>\n",
       "</table>\n",
       "</div>"
      ],
      "text/plain": [
       "   duration  cond  totalPr  stockPhoto  wheels\n",
       "0         3     1    51.55           1       1\n",
       "1         7     0    37.04           1       1\n",
       "2         3     1    45.50           0       1\n",
       "3         3     1    44.00           1       1\n",
       "4         1     1    71.00           1       2"
      ]
     },
     "execution_count": 10,
     "metadata": {},
     "output_type": "execute_result"
    }
   ],
   "source": [
    "# convert categorical variable into binary values\n",
    "\n",
    "marioKart.stockPhoto.replace(['yes', 'no'], [1, 0], inplace=True)\n",
    "marioKart.head()"
   ]
  },
  {
   "cell_type": "code",
   "execution_count": 14,
   "metadata": {
    "ExecuteTime": {
     "end_time": "2021-04-21T14:08:50.432436Z",
     "start_time": "2021-04-21T14:08:50.379579Z"
    },
    "scrolled": true
   },
   "outputs": [
    {
     "data": {
      "text/html": [
       "<div>\n",
       "<style scoped>\n",
       "    .dataframe tbody tr th:only-of-type {\n",
       "        vertical-align: middle;\n",
       "    }\n",
       "\n",
       "    .dataframe tbody tr th {\n",
       "        vertical-align: top;\n",
       "    }\n",
       "\n",
       "    .dataframe thead th {\n",
       "        text-align: right;\n",
       "    }\n",
       "</style>\n",
       "<table border=\"1\" class=\"dataframe\">\n",
       "  <thead>\n",
       "    <tr style=\"text-align: right;\">\n",
       "      <th></th>\n",
       "      <th>duration</th>\n",
       "      <th>cond</th>\n",
       "      <th>totalPr</th>\n",
       "      <th>stockPhoto</th>\n",
       "      <th>wheels</th>\n",
       "    </tr>\n",
       "  </thead>\n",
       "  <tbody>\n",
       "    <tr>\n",
       "      <th>count</th>\n",
       "      <td>143.000</td>\n",
       "      <td>143.000</td>\n",
       "      <td>143.000</td>\n",
       "      <td>143.000</td>\n",
       "      <td>143.000</td>\n",
       "    </tr>\n",
       "    <tr>\n",
       "      <th>mean</th>\n",
       "      <td>3.769</td>\n",
       "      <td>0.413</td>\n",
       "      <td>49.880</td>\n",
       "      <td>0.734</td>\n",
       "      <td>1.147</td>\n",
       "    </tr>\n",
       "    <tr>\n",
       "      <th>std</th>\n",
       "      <td>2.586</td>\n",
       "      <td>0.494</td>\n",
       "      <td>25.689</td>\n",
       "      <td>0.443</td>\n",
       "      <td>0.847</td>\n",
       "    </tr>\n",
       "    <tr>\n",
       "      <th>min</th>\n",
       "      <td>1.000</td>\n",
       "      <td>0.000</td>\n",
       "      <td>28.980</td>\n",
       "      <td>0.000</td>\n",
       "      <td>0.000</td>\n",
       "    </tr>\n",
       "    <tr>\n",
       "      <th>25%</th>\n",
       "      <td>1.000</td>\n",
       "      <td>0.000</td>\n",
       "      <td>41.175</td>\n",
       "      <td>0.000</td>\n",
       "      <td>0.000</td>\n",
       "    </tr>\n",
       "    <tr>\n",
       "      <th>50%</th>\n",
       "      <td>3.000</td>\n",
       "      <td>0.000</td>\n",
       "      <td>46.500</td>\n",
       "      <td>1.000</td>\n",
       "      <td>1.000</td>\n",
       "    </tr>\n",
       "    <tr>\n",
       "      <th>75%</th>\n",
       "      <td>7.000</td>\n",
       "      <td>1.000</td>\n",
       "      <td>53.990</td>\n",
       "      <td>1.000</td>\n",
       "      <td>2.000</td>\n",
       "    </tr>\n",
       "    <tr>\n",
       "      <th>max</th>\n",
       "      <td>10.000</td>\n",
       "      <td>1.000</td>\n",
       "      <td>326.510</td>\n",
       "      <td>1.000</td>\n",
       "      <td>4.000</td>\n",
       "    </tr>\n",
       "  </tbody>\n",
       "</table>\n",
       "</div>"
      ],
      "text/plain": [
       "       duration     cond  totalPr  stockPhoto   wheels\n",
       "count   143.000  143.000  143.000     143.000  143.000\n",
       "mean      3.769    0.413   49.880       0.734    1.147\n",
       "std       2.586    0.494   25.689       0.443    0.847\n",
       "min       1.000    0.000   28.980       0.000    0.000\n",
       "25%       1.000    0.000   41.175       0.000    0.000\n",
       "50%       3.000    0.000   46.500       1.000    1.000\n",
       "75%       7.000    1.000   53.990       1.000    2.000\n",
       "max      10.000    1.000  326.510       1.000    4.000"
      ]
     },
     "execution_count": 14,
     "metadata": {},
     "output_type": "execute_result"
    }
   ],
   "source": [
    "marioKart.describe().round(3)"
   ]
  },
  {
   "attachments": {
    "marioKart_Var.gif": {
     "image/gif": "[encoded data removed]"
    }
   },
   "cell_type": "markdown",
   "metadata": {},
   "source": [
    "![marioKart_Var.gif](attachment:marioKart_Var.gif)"
   ]
  },
  {
   "cell_type": "markdown",
   "metadata": {},
   "source": [
    "### <span style=color:darkred>A single-variable model</span>"
   ]
  },
  {
   "cell_type": "code",
   "execution_count": 11,
   "metadata": {
    "ExecuteTime": {
     "end_time": "2021-04-21T15:20:19.586692Z",
     "start_time": "2021-04-21T15:20:19.568229Z"
    }
   },
   "outputs": [
    {
     "data": {
      "text/html": [
       "<div>\n",
       "<style scoped>\n",
       "    .dataframe tbody tr th:only-of-type {\n",
       "        vertical-align: middle;\n",
       "    }\n",
       "\n",
       "    .dataframe tbody tr th {\n",
       "        vertical-align: top;\n",
       "    }\n",
       "\n",
       "    .dataframe thead th {\n",
       "        text-align: right;\n",
       "    }\n",
       "</style>\n",
       "<table border=\"1\" class=\"dataframe\">\n",
       "  <thead>\n",
       "    <tr style=\"text-align: right;\">\n",
       "      <th></th>\n",
       "      <th>duration</th>\n",
       "      <th>cond</th>\n",
       "      <th>totalPr</th>\n",
       "      <th>stockPhoto</th>\n",
       "      <th>wheels</th>\n",
       "    </tr>\n",
       "  </thead>\n",
       "  <tbody>\n",
       "    <tr>\n",
       "      <th>duration</th>\n",
       "      <td>1.000000</td>\n",
       "      <td>-0.481744</td>\n",
       "      <td>-0.041235</td>\n",
       "      <td>-0.367230</td>\n",
       "      <td>-0.299473</td>\n",
       "    </tr>\n",
       "    <tr>\n",
       "      <th>cond</th>\n",
       "      <td>-0.481744</td>\n",
       "      <td>1.000000</td>\n",
       "      <td>0.127362</td>\n",
       "      <td>0.375547</td>\n",
       "      <td>0.426298</td>\n",
       "    </tr>\n",
       "    <tr>\n",
       "      <th>totalPr</th>\n",
       "      <td>-0.041235</td>\n",
       "      <td>0.127362</td>\n",
       "      <td>1.000000</td>\n",
       "      <td>-0.089879</td>\n",
       "      <td>0.329984</td>\n",
       "    </tr>\n",
       "    <tr>\n",
       "      <th>stockPhoto</th>\n",
       "      <td>-0.367230</td>\n",
       "      <td>0.375547</td>\n",
       "      <td>-0.089879</td>\n",
       "      <td>1.000000</td>\n",
       "      <td>0.067142</td>\n",
       "    </tr>\n",
       "    <tr>\n",
       "      <th>wheels</th>\n",
       "      <td>-0.299473</td>\n",
       "      <td>0.426298</td>\n",
       "      <td>0.329984</td>\n",
       "      <td>0.067142</td>\n",
       "      <td>1.000000</td>\n",
       "    </tr>\n",
       "  </tbody>\n",
       "</table>\n",
       "</div>"
      ],
      "text/plain": [
       "            duration      cond   totalPr  stockPhoto    wheels\n",
       "duration    1.000000 -0.481744 -0.041235   -0.367230 -0.299473\n",
       "cond       -0.481744  1.000000  0.127362    0.375547  0.426298\n",
       "totalPr    -0.041235  0.127362  1.000000   -0.089879  0.329984\n",
       "stockPhoto -0.367230  0.375547 -0.089879    1.000000  0.067142\n",
       "wheels     -0.299473  0.426298  0.329984    0.067142  1.000000"
      ]
     },
     "execution_count": 11,
     "metadata": {},
     "output_type": "execute_result"
    }
   ],
   "source": [
    "marioKart.corr()"
   ]
  },
  {
   "cell_type": "code",
   "execution_count": 16,
   "metadata": {
    "ExecuteTime": {
     "end_time": "2021-04-21T14:09:32.005427Z",
     "start_time": "2021-04-21T14:09:28.817185Z"
    }
   },
   "outputs": [
    {
     "data": {
      "text/plain": [
       "<seaborn.axisgrid.PairGrid at 0x1920b6d96a0>"
      ]
     },
     "execution_count": 16,
     "metadata": {},
     "output_type": "execute_result"
    },
    {
     "data": {
      "image/png": "[encoded data removed]",
      "text/plain": [
       "<Figure size 900x900 with 30 Axes>"
      ]
     },
     "metadata": {},
     "output_type": "display_data"
    }
   ],
   "source": [
    "sns.pairplot(marioKart)"
   ]
  },
  {
   "cell_type": "markdown",
   "metadata": {},
   "source": [
    "Let’s fit a linear regression model with the game’s condition as a predictor of auction price.   \n",
    "\n",
    "The model may be written as   \n",
    "$%$   \n",
    "\\begin{align*}\\hat{price} = 47.15 + 6.62 * cond\\_new\\end{align*}"
   ]
  },
  {
   "cell_type": "markdown",
   "metadata": {},
   "source": [
    "Perform the linear regression:"
   ]
  },
  {
   "cell_type": "code",
   "execution_count": 17,
   "metadata": {
    "ExecuteTime": {
     "end_time": "2021-04-21T14:09:41.945427Z",
     "start_time": "2021-04-21T14:09:41.922452Z"
    }
   },
   "outputs": [
    {
     "name": "stdout",
     "output_type": "stream",
     "text": [
      "intercept: 47.150000    slope: 6.620000\n"
     ]
    }
   ],
   "source": [
    "x = marioKart['cond']\n",
    "y = marioKart['totalPr']\n",
    "\n",
    "slope, intercept, r_value, p_value, std_err = stats.linregress(x, y)\n",
    "print(\"intercept: %f    slope: %f\" % (intercept.round(2), slope.round(2)))"
   ]
  },
  {
   "cell_type": "markdown",
   "metadata": {},
   "source": [
    "To get coefficient of determination (R-squared):"
   ]
  },
  {
   "cell_type": "code",
   "execution_count": 18,
   "metadata": {
    "ExecuteTime": {
     "end_time": "2021-04-21T14:09:54.233535Z",
     "start_time": "2021-04-21T14:09:54.214551Z"
    }
   },
   "outputs": [
    {
     "name": "stdout",
     "output_type": "stream",
     "text": [
      "R-squared: 0.016221\n"
     ]
    }
   ],
   "source": [
    "print(\"R-squared: %f\" % r_value**2)"
   ]
  },
  {
   "cell_type": "code",
   "execution_count": 19,
   "metadata": {
    "ExecuteTime": {
     "end_time": "2021-04-21T14:09:58.019762Z",
     "start_time": "2021-04-21T14:09:57.811772Z"
    }
   },
   "outputs": [
    {
     "data": {
      "image/png": "[encoded data removed]",
      "text/plain": [
       "<Figure size 432x288 with 1 Axes>"
      ]
     },
     "metadata": {},
     "output_type": "display_data"
    }
   ],
   "source": [
    "plt.plot(x, y, 'o', label='original data', color='darkblue')\n",
    "plt.plot(x, intercept + slope*x, 'r', label='fitted line')\n",
    "plt.legend()\n",
    "plt.show()"
   ]
  },
  {
   "cell_type": "code",
   "execution_count": 12,
   "metadata": {
    "ExecuteTime": {
     "end_time": "2021-04-21T15:24:35.440122Z",
     "start_time": "2021-04-21T15:24:35.398235Z"
    }
   },
   "outputs": [
    {
     "name": "stdout",
     "output_type": "stream",
     "text": [
      "                            OLS Regression Results                            \n",
      "==============================================================================\n",
      "Dep. Variable:                totalPr   R-squared:                       0.016\n",
      "Model:                            OLS   Adj. R-squared:                  0.009\n",
      "Method:                 Least Squares   F-statistic:                     2.325\n",
      "Date:                Wed, 21 Apr 2021   Prob (F-statistic):              0.130\n",
      "Time:                        17:24:35   Log-Likelihood:                -665.42\n",
      "No. Observations:                 143   AIC:                             1335.\n",
      "Df Residuals:                     141   BIC:                             1341.\n",
      "Df Model:                           1                                         \n",
      "Covariance Type:            nonrobust                                         \n",
      "==============================================================================\n",
      "                 coef    std err          t      P>|t|      [0.025      0.975]\n",
      "------------------------------------------------------------------------------\n",
      "Intercept     47.1481      2.790     16.900      0.000      41.633      52.663\n",
      "cond           6.6226      4.343      1.525      0.130      -1.964      15.209\n",
      "==============================================================================\n",
      "Omnibus:                      276.592   Durbin-Watson:                   2.065\n",
      "Prob(Omnibus):                  0.000   Jarque-Bera (JB):            61656.616\n",
      "Skew:                           9.458   Prob(JB):                         0.00\n",
      "Kurtosis:                     102.951   Cond. No.                         2.46\n",
      "==============================================================================\n",
      "\n",
      "Warnings:\n",
      "[1] Standard Errors assume that the covariance matrix of the errors is correctly specified.\n"
     ]
    }
   ],
   "source": [
    "# Fit regression model\n",
    "\n",
    "results = smf.ols('totalPr ~ cond', data=marioKart).fit()\n",
    "\n",
    "print(results.summary())"
   ]
  },
  {
   "cell_type": "markdown",
   "metadata": {},
   "source": [
    "<div class=\"alert alert-warning alert-warning\"><b><u>What is a good p-Value ?</u></b>   \n",
    "$%$   \n",
    "\n",
    "- A <span style=color:blue><b><u>small p-value$\\:$ ≤$\\:$ 0.05</u></b></span> indicates <b>strong evidence against</b> the <span style=color:blue>null hypothesis $H_0$</span>, so you <u>reject</u> the <span style=color:blue>null hypothesis $H_0$</span>.   \n",
    "$%$   \n",
    "- A <span style=color:blue><b><u>large p-value$\\:$ >$\\:$ 0.05</u></b></span> indicates <b>weak evidence against</b> the <span style=color:blue>null hypothesis $H_0$</span>, so you <u>fail to reject</u> the <span style=color:blue>null hypothesis $H_0$</span>.</div>"
   ]
  },
  {
   "cell_type": "markdown",
   "metadata": {},
   "source": [
    "Note that $cond$ is a two-level categorical variable that takes value 1 when the game is new and value 0 when the game is used. So 6.62 means that the model predicts an extra $\\:\\$6.62$ for those games that are new versus those that are used.   \n",
    "$%$  \n",
    "\n",
    "Examining the regression output in above table, we can see that the <span style=color:blue>p-value</span> for <span style=color:blue><b>cond</b></span> is greater than the <span style=color:blue>significance value $\\:\\alpha\\:=\\:0.05\\:$</span>, indicating there is <span style=color:blue><b>weak evidence</b></span> that the <b>coefficient</b> is different from <b>zero</b> when using this <span style=color:blue>simple one-variable model</span>."
   ]
  },
  {
   "cell_type": "markdown",
   "metadata": {},
   "source": [
    "### <span style=color:darkred>Including and assessing many variables in a model</span>"
   ]
  },
  {
   "cell_type": "markdown",
   "metadata": {},
   "source": [
    "Sometimes there are <b>underlying structures</b> or <b>relationships</b> between <span style=color:blue><b>predictor variables</b></span>.   \n",
    "\n",
    "For instance, new games sold on Ebay tend to come with more Wii <span style=color:blue>wheels</span>, which may have led to higher prices for those auctions. We would like to fit a model that includes all potentially important variables simultaneously. This would help us evaluate the relationship between a predictor variable and the outcome while controlling for the potential influence of other variables. This is the strategy used in multiple regression. While we remain cautious about making any causal interpretations using multiple regression, such models are a common first step in providing evidence of a causal connection."
   ]
  },
  {
   "cell_type": "markdown",
   "metadata": {},
   "source": [
    "We want to construct a model that accounts for not only the game condition, but simultaneously accounts for three other variables: <b>stock photo, duration</b>, and <b>wheels</b>.   \n",
    "$%$   \n",
    "\\begin{align*}\\hat{price} = \\:\\beta_0\\:+\\:\\beta_1\\:*\\:cond\\_new\\:+\\:\\beta_2\\:*\\:stock\\_photo\\:+\\:\\beta_3\\:*\\:duration\\:+\\:\\beta_4\\:*\\:wheels\\end{align*}   \n",
    "$%$   \n",
    "\n",
    "\\begin{align*}\\hat{y} = \\beta_0 + \\beta_{1x_1} + \\beta_{2x_2} + \\beta_{3x_3} + \\beta_{4x_4}\\end{align*}"
   ]
  },
  {
   "cell_type": "code",
   "execution_count": 22,
   "metadata": {
    "ExecuteTime": {
     "end_time": "2021-04-21T14:12:07.541572Z",
     "start_time": "2021-04-21T14:12:07.491821Z"
    }
   },
   "outputs": [
    {
     "name": "stdout",
     "output_type": "stream",
     "text": [
      "                            OLS Regression Results                            \n",
      "==============================================================================\n",
      "Dep. Variable:                totalPr   R-squared:                       0.123\n",
      "Model:                            OLS   Adj. R-squared:                  0.098\n",
      "Method:                 Least Squares   F-statistic:                     4.860\n",
      "Date:                Wed, 21 Apr 2021   Prob (F-statistic):            0.00107\n",
      "Time:                        16:12:07   Log-Likelihood:                -657.17\n",
      "No. Observations:                 143   AIC:                             1324.\n",
      "Df Residuals:                     138   BIC:                             1339.\n",
      "Df Model:                           4                                         \n",
      "Covariance Type:            nonrobust                                         \n",
      "==============================================================================\n",
      "                 coef    std err          t      P>|t|      [0.025      0.975]\n",
      "------------------------------------------------------------------------------\n",
      "Intercept     40.9385      7.361      5.562      0.000      26.384      55.493\n",
      "cond           2.5816      5.227      0.494      0.622      -7.754      12.917\n",
      "stockPhoto    -6.7542      5.173     -1.306      0.194     -16.983       3.474\n",
      "duration       0.3788      0.939      0.403      0.687      -1.477       2.235\n",
      "wheels         9.9476      2.718      3.659      0.000       4.572      15.323\n",
      "==============================================================================\n",
      "Omnibus:                      276.313   Durbin-Watson:                   1.994\n",
      "Prob(Omnibus):                  0.000   Jarque-Bera (JB):            60758.374\n",
      "Skew:                           9.447   Prob(JB):                         0.00\n",
      "Kurtosis:                     102.198   Cond. No.                         19.4\n",
      "==============================================================================\n",
      "\n",
      "Warnings:\n",
      "[1] Standard Errors assume that the covariance matrix of the errors is correctly specified.\n"
     ]
    }
   ],
   "source": [
    "# Fit regression model (using the natural log of one of the regressors)\n",
    "\n",
    "results = smf.ols('totalPr ~ cond + stockPhoto + duration + wheels', data=marioKart).fit()\n",
    "\n",
    "print(results.summary())"
   ]
  },
  {
   "cell_type": "markdown",
   "metadata": {},
   "source": [
    "If we examined the data carefully, we would see that some predictors are correlated. For instance, when we estimated the connection of the <b><u>outcome price</u></b> and <b>predictor <u>cond</u></b> using <u><i>simple linear regression</i></u>, we were <b>unable to control for other variables</b> like the number of Wii wheels included in the auction.   \n",
    "\n",
    "That model was biased by the confounding variable wheels. When we use both variables, this particular underlying and unintentional bias is reduced or eliminated (though bias from other confounding variables may still remain).   \n",
    "\n",
    "we just described a <b><u>common issue in multiple regression</u></b>: <span style=color:blue>correlation among predictor variables</span>. We say the two predictor variables are <span style=color:blue><b>collinear</b> (pronounced as <u>co-linear</u> )</span> when they are <b>correlated</b>, and this <span style=color:red><b>collinearity complicates model estimation</b></span>. While it is impossible to prevent collinearity from arising in observational data, experiments are usually designed to prevent predictors from being collinear."
   ]
  },
  {
   "cell_type": "markdown",
   "metadata": {},
   "source": [
    "### <span style=color:darkred>Adjusted $\\:R^2\\:$ as a better estimate of explained variance</span>"
   ]
  },
  {
   "cell_type": "markdown",
   "metadata": {},
   "source": [
    "We first used <span style=color:blue>$\\:R^2\\:$</span> to determine the <span style=color:blue><b>amount of variability</b></span> in the <b>response</b> that was <b>explained</b> by the model :   \n",
    "$%$   \n",
    "\n",
    "\\begin{align*}R^2 = 1 − \\frac{variability\\:in\\:residuals}{variablity\\:in\\:the\\:outcome}= 1 − \\frac{Var(e_i)}{Var(y_i)}\\end{align*}   \n",
    "$%$   \n",
    "where $\\:e_i\\:$ represents the <b><u>residuals</u></b> of the model and $\\:y_i\\:$ the <b><u>outcomes</u></b>. This equation remains valid in the multiple regression framework, but a small enhancement can often be even more informative."
   ]
  },
  {
   "cell_type": "markdown",
   "metadata": {},
   "source": [
    "<div class=\"alert alert-block alert-danger\">\n",
    "\n",
    "This strategy for estimating $\\:R^2\\:$ is <b>acceptable</b> when there is <b>just a single variable</b>.\n",
    "However, it becomes <b><u>less helpful</u></b> when there are <b>many variables</b>.   \n",
    "$%$   \n",
    "The regular $\\:R^2\\:$ is a <b>less estimate</b> of the <b>amount of variability</b> explained by the model. To get a <b>better estimate</b>, we use the <b>Adjusted $\\:R^2\\:$</b>."
   ]
  },
  {
   "cell_type": "markdown",
   "metadata": {},
   "source": [
    "<div class=\"alert alert-block alert-warning\"><b><u>Adjusted $\\:R^2\\:$</u></b><u> as a tool for model assessment</u>   \n",
    "\n",
    "The adjusted $\\:R^2\\:$ is computed as   \n",
    "$%$   \n",
    "\\begin{align*}R^2_{adj} = 1 − \\frac{variability\\:in\\:residuals}{variablity\\:in\\:the\\:outcome}= 1 − \\frac{Var(e_i)\\:/\\:(n - k - 1)}{Var(y_i)\\:/\\:(n - 1)}\\:=\\:1 - \\frac{Var(e_i)}{Var(y_i)}\\:x\\:\\frac{(n\\:-\\:1)}{(n\\:-\\:k\\:-\\:1)}\\end{align*}   \n",
    "$%$   \n",
    "- where $\\:n\\:$ is the <b>number of cases</b> used to fit the model and   \n",
    "- $\\:k\\:$ is the <b>number of predictor variables</b> in the model.   \n",
    "\n",
    "Because $\\:k\\:$ is <b><u>never</u> negative</b>, the <b>adjusted $\\:R^2\\:$</b> will be <b>smaller</b> than the <b><u>unadjusted</u> $\\:R^2\\:$</b>. The reasoning behind the <b><u>adjusted</u> $\\:R^2\\:$</b> lies in the <b>degrees of freedom</b> associated with each <b>variance</b>.\n",
    "</div>"
   ]
  },
  {
   "cell_type": "markdown",
   "metadata": {},
   "source": [
    "<span style=color:blue><b>Adjusted $\\:R^2\\:$</b></span> could have been used in <span style=color:blue>Simple Linear Regression</span>. However, when there is only <span style=color:blue>k = 1 <b>predictors</b></span>, <span style=color:blue><b>Adjusted $\\:R^2\\:$</b></span> is very close to <span style=color:blue><b>regular $\\:R^2\\:$</b></span>."
   ]
  },
  {
   "cell_type": "markdown",
   "metadata": {},
   "source": [
    "## <span style=color:darkgreen>Model selection</span>"
   ]
  },
  {
   "cell_type": "markdown",
   "metadata": {},
   "source": [
    "The best model is not always the most complicated. Sometimes including variables that are not evidently important can actually reduce the accuracy of predictions. In this section we discuss model selection strategies, which will help us eliminate variables from the model that are found to be less important.   \n",
    "\n",
    "In practice, the model that includes all available explanatory variables is often referred to as the <span style=color:blue><b>full model</b></span>. The <span style=color:blue><b>full model</b></span> may not be the best model, and if it isn’t, we want to identify a smaller model that is preferable."
   ]
  },
  {
   "cell_type": "markdown",
   "metadata": {},
   "source": [
    "### <span style=color:darkred>Identifying variables in the model that may not be helpful</span>"
   ]
  },
  {
   "cell_type": "markdown",
   "metadata": {},
   "source": [
    "<span style=color:blue><b>Adjusted $\\:R^2\\:$</b></span> describes the <span style=color:blue>strength of a model fit</span>, and it is a <b>useful tool for evaluating</b> which <b>predictors</b> are <span style=color:blue>adding value to the model</span>, where <span style=color:blue>adding value</span> means they <span style=color:blue><b>improve the accuracy in predicting future outcomes</b></span>.   \n",
    "\n",
    "Let’s consider two models :   \n",
    "\n",
    "1. The first table summarizes the full model since it includes all predictors, while the second does not include the <b>duration</b> variable."
   ]
  },
  {
   "cell_type": "code",
   "execution_count": 23,
   "metadata": {
    "ExecuteTime": {
     "end_time": "2021-04-21T14:23:22.811237Z",
     "start_time": "2021-04-21T14:23:22.762405Z"
    }
   },
   "outputs": [
    {
     "name": "stdout",
     "output_type": "stream",
     "text": [
      "                            OLS Regression Results                            \n",
      "==============================================================================\n",
      "Dep. Variable:                totalPr   R-squared:                       0.123\n",
      "Model:                            OLS   Adj. R-squared:                  0.098\n",
      "Method:                 Least Squares   F-statistic:                     4.860\n",
      "Date:                Wed, 21 Apr 2021   Prob (F-statistic):            0.00107\n",
      "Time:                        16:23:22   Log-Likelihood:                -657.17\n",
      "No. Observations:                 143   AIC:                             1324.\n",
      "Df Residuals:                     138   BIC:                             1339.\n",
      "Df Model:                           4                                         \n",
      "Covariance Type:            nonrobust                                         \n",
      "==============================================================================\n",
      "                 coef    std err          t      P>|t|      [0.025      0.975]\n",
      "------------------------------------------------------------------------------\n",
      "Intercept     40.9385      7.361      5.562      0.000      26.384      55.493\n",
      "cond           2.5816      5.227      0.494      0.622      -7.754      12.917\n",
      "stockPhoto    -6.7542      5.173     -1.306      0.194     -16.983       3.474\n",
      "duration       0.3788      0.939      0.403      0.687      -1.477       2.235\n",
      "wheels         9.9476      2.718      3.659      0.000       4.572      15.323\n",
      "==============================================================================\n",
      "Omnibus:                      276.313   Durbin-Watson:                   1.994\n",
      "Prob(Omnibus):                  0.000   Jarque-Bera (JB):            60758.374\n",
      "Skew:                           9.447   Prob(JB):                         0.00\n",
      "Kurtosis:                     102.198   Cond. No.                         19.4\n",
      "==============================================================================\n",
      "\n",
      "Warnings:\n",
      "[1] Standard Errors assume that the covariance matrix of the errors is correctly specified.\n"
     ]
    }
   ],
   "source": [
    "# Fit regression model\n",
    "\n",
    "results = smf.ols('totalPr ~ cond + stockPhoto + duration + wheels', data=marioKart).fit()\n",
    "\n",
    "print(results.summary())"
   ]
  },
  {
   "cell_type": "code",
   "execution_count": 14,
   "metadata": {
    "ExecuteTime": {
     "end_time": "2021-04-21T15:34:22.757007Z",
     "start_time": "2021-04-21T15:34:22.715121Z"
    }
   },
   "outputs": [
    {
     "name": "stdout",
     "output_type": "stream",
     "text": [
      "                            OLS Regression Results                            \n",
      "==============================================================================\n",
      "Dep. Variable:                totalPr   R-squared:                       0.122\n",
      "Model:                            OLS   Adj. R-squared:                  0.104\n",
      "Method:                 Least Squares   F-statistic:                     6.465\n",
      "Date:                Wed, 21 Apr 2021   Prob (F-statistic):           0.000396\n",
      "Time:                        17:34:22   Log-Likelihood:                -657.25\n",
      "No. Observations:                 143   AIC:                             1323.\n",
      "Df Residuals:                     139   BIC:                             1334.\n",
      "Df Model:                           3                                         \n",
      "Covariance Type:            nonrobust                                         \n",
      "==============================================================================\n",
      "                 coef    std err          t      P>|t|      [0.025      0.975]\n",
      "------------------------------------------------------------------------------\n",
      "Intercept     43.2039      4.746      9.103      0.000      33.820      52.587\n",
      "cond           1.9188      4.947      0.388      0.699      -7.863      11.701\n",
      "stockPhoto    -7.2673      4.999     -1.454      0.148     -17.151       2.617\n",
      "wheels         9.7842      2.680      3.651      0.000       4.485      15.083\n",
      "==============================================================================\n",
      "Omnibus:                      277.109   Durbin-Watson:                   2.000\n",
      "Prob(Omnibus):                  0.000   Jarque-Bera (JB):            61752.710\n",
      "Skew:                           9.496   Prob(JB):                         0.00\n",
      "Kurtosis:                     103.017   Cond. No.                         6.24\n",
      "==============================================================================\n",
      "\n",
      "Warnings:\n",
      "[1] Standard Errors assume that the covariance matrix of the errors is correctly specified.\n"
     ]
    }
   ],
   "source": [
    "# Fit regression model EXCLUDING \" 'duration' variable, because it's p-value\"\n",
    "\n",
    "results1 = smf.ols('totalPr ~ cond + stockPhoto + wheels', data=marioKart).fit()\n",
    "\n",
    "print(results1.summary())"
   ]
  },
  {
   "cell_type": "code",
   "execution_count": 15,
   "metadata": {
    "ExecuteTime": {
     "end_time": "2021-04-21T15:36:47.652988Z",
     "start_time": "2021-04-21T15:36:47.620078Z"
    }
   },
   "outputs": [
    {
     "name": "stdout",
     "output_type": "stream",
     "text": [
      "                            OLS Regression Results                            \n",
      "==============================================================================\n",
      "Dep. Variable:                totalPr   R-squared:                       0.109\n",
      "Model:                            OLS   Adj. R-squared:                  0.103\n",
      "Method:                 Least Squares   F-statistic:                     17.23\n",
      "Date:                Wed, 21 Apr 2021   Prob (F-statistic):           5.70e-05\n",
      "Time:                        17:36:47   Log-Likelihood:                -658.35\n",
      "No. Observations:                 143   AIC:                             1321.\n",
      "Df Residuals:                     141   BIC:                             1327.\n",
      "Df Model:                           1                                         \n",
      "Covariance Type:            nonrobust                                         \n",
      "==============================================================================\n",
      "                 coef    std err          t      P>|t|      [0.025      0.975]\n",
      "------------------------------------------------------------------------------\n",
      "Intercept     38.4052      3.433     11.188      0.000      31.619      45.192\n",
      "wheels        10.0059      2.411      4.151      0.000       5.240      14.771\n",
      "==============================================================================\n",
      "Omnibus:                      281.585   Durbin-Watson:                   2.026\n",
      "Prob(Omnibus):                  0.000   Jarque-Bera (JB):            66481.291\n",
      "Skew:                           9.792   Prob(JB):                         0.00\n",
      "Kurtosis:                     106.799   Cond. No.                         3.28\n",
      "==============================================================================\n",
      "\n",
      "Warnings:\n",
      "[1] Standard Errors assume that the covariance matrix of the errors is correctly specified.\n"
     ]
    }
   ],
   "source": [
    "# Fit regression model EXCLUDING \" 'stockPhoto' variable, because it's p-value\"\n",
    "\n",
    "results2 = smf.ols('totalPr ~ wheels', data=marioKart).fit()\n",
    "\n",
    "print(results2.summary())"
   ]
  },
  {
   "cell_type": "markdown",
   "metadata": {},
   "source": [
    "<span style=color:blue><b><u>Which of the two models is better ?</u></b>   \n",
    "\n",
    "We compare the <span style=color:blue><b>adjusted $\\:R^2\\:$</b></span> of <b>each model</b> to determine which <b>to choose</b>. Since the first model has an <span style=color:blue><b>Adj $\\:R^2\\:$</b></span> smaller than the <span style=color:blue><b>Adj $\\:R^2\\:$</b></span> of the second model, we prefer the second model to the first.   \n",
    "   \n",
    "Will the model without duration be better than the model with duration? We cannot know for sure, but based on the adjusted R2, this is our best assessment."
   ]
  },
  {
   "cell_type": "markdown",
   "metadata": {},
   "source": [
    "here are many different ways to compute <span style=color:blue><b>$\\:R^2\\:$</b></span> and the <span style=color:blue><b>Adj. $\\:R^2\\:$</b></span>, the following are few of them (computed with the data you provided):"
   ]
  },
  {
   "cell_type": "markdown",
   "metadata": {},
   "source": [
    "you can calculate the <span style=color:blue><b>Adj. $\\:R^2\\:$</b></span> from <span style=color:blue><b>$\\:R^2\\:$</b></span> with a simple formula given :"
   ]
  },
  {
   "cell_type": "code",
   "execution_count": 22,
   "metadata": {
    "ExecuteTime": {
     "end_time": "2019-11-13T12:02:57.819590Z",
     "start_time": "2019-11-13T12:02:57.812150Z"
    }
   },
   "outputs": [
    {
     "data": {
      "text/plain": [
       "0.10456"
      ]
     },
     "execution_count": 22,
     "metadata": {},
     "output_type": "execute_result"
    }
   ],
   "source": [
    "# results.rsquared\n",
    "\n",
    "R2 = results.rsquared\n",
    "n = marioKart.shape[0]\n",
    "k = marioKart.shape[1]-2\n",
    "\n",
    "Adj_r2 = 1-(1-R2)*(n-1)/(n-k-1)\n",
    "Adj_r2.round(5)"
   ]
  },
  {
   "cell_type": "markdown",
   "metadata": {},
   "source": [
    "### <span style=color:darkred>The p-value approach, an alternative to adjusted $\\:R^2$</span>"
   ]
  },
  {
   "cell_type": "markdown",
   "metadata": {},
   "source": [
    "The <span style=color:blue>p-value</span> may be used as an alternative to <span style=color.blue>adjusted $\\:R^2\\:$</span> for model selection.   \n",
    "\n",
    "We would identify the <b>predictor</b> corresponding to the <b>largest</b> <span style=color:blue>p-value</span>. If the <span style=color:blue>p-value</span> is <b><u>above</u></b> the <span style=color:blue>significance level</span>, usually <span style=color:blue>$\\:\\alpha\\:$ = 0.05</span>, then we would <b>drop</b> that variable, refit the model, and repeat the process.   \n",
    "\n",
    "If the largest <span style=color:blue>p-value</span> is <b><u>less than</u></b> <span style=color:blue>significance level</span> $\\:\\alpha\\:$ = 0.05, then we would <b><u>not</u> eliminate</b> any <b>predictors</b> and the current model would be our <span style=color:blue><b>best-fitting model</b></span>."
   ]
  },
  {
   "cell_type": "code",
   "execution_count": 14,
   "metadata": {
    "ExecuteTime": {
     "end_time": "2019-11-21T19:51:52.705701Z",
     "start_time": "2019-11-21T19:51:52.672472Z"
    }
   },
   "outputs": [
    {
     "name": "stdout",
     "output_type": "stream",
     "text": [
      "                            OLS Regression Results                            \n",
      "==============================================================================\n",
      "Dep. Variable:                totalPr   R-squared:                       0.121\n",
      "Model:                            OLS   Adj. R-squared:                  0.109\n",
      "Method:                 Least Squares   F-statistic:                     9.681\n",
      "Date:                Thu, 21 Nov 2019   Prob (F-statistic):           0.000115\n",
      "Time:                        20:51:52   Log-Likelihood:                -657.33\n",
      "No. Observations:                 143   AIC:                             1321.\n",
      "Df Residuals:                     140   BIC:                             1330.\n",
      "Df Model:                           2                                         \n",
      "Covariance Type:            nonrobust                                         \n",
      "==============================================================================\n",
      "                 coef    std err          t      P>|t|      [0.025      0.975]\n",
      "------------------------------------------------------------------------------\n",
      "Intercept     42.9313      4.679      9.175      0.000      33.680      52.183\n",
      "stockPhoto    -6.5220      4.601     -1.418      0.159     -15.618       2.574\n",
      "wheels        10.2350      2.407      4.251      0.000       5.475      14.995\n",
      "==============================================================================\n",
      "Omnibus:                      275.841   Durbin-Watson:                   2.002\n",
      "Prob(Omnibus):                  0.000   Jarque-Bera (JB):            60317.834\n",
      "Skew:                           9.416   Prob(JB):                         0.00\n",
      "Kurtosis:                     101.836   Cond. No.                         5.41\n",
      "==============================================================================\n",
      "\n",
      "Warnings:\n",
      "[1] Standard Errors assume that the covariance matrix of the errors is correctly specified.\n"
     ]
    }
   ],
   "source": [
    "# Fit regression model\n",
    "\n",
    "results1 = smf.ols('totalPr ~ stockPhoto + wheels', data=marioKart).fit()\n",
    "\n",
    "print(results1.summary())"
   ]
  },
  {
   "cell_type": "markdown",
   "metadata": {},
   "source": [
    "<div class=\"alert alert-block alert-success\"><u>When to use the <b>adjusted $\\:R^2$</b> and when to use the <b>p-value</b> approach</u>\n",
    "\n",
    "When the <b>sole goal</b> is to <b>improve prediction accuracy</b>, use <b>adjusted $\\:R^2$</b>. This is commonly the case in machine learning applications.   \n",
    "$%$   \n",
    "When we care about understanding which <b>variables</b> are statistically <b>significant predictors of the <u>response</u></b>, or if there is interest in producing a <b>simpler model</b> at the potential <b><u>cost</u></b> of a little <b>prediction accuracy</b>, then the <b>p-value</b> approach is preferred."
   ]
  },
  {
   "cell_type": "markdown",
   "metadata": {},
   "source": [
    "Regardless of whether you use <span style=color:blue>adjusted $\\:R^2$</span> or the <span style=color:blue>p-value approach</span>, our job is not done after variable selection. We must still verify the model conditions are reasonable."
   ]
  },
  {
   "cell_type": "markdown",
   "metadata": {},
   "source": [
    "# <span style=color:darkblue>Introduction to logistic regression</span>"
   ]
  },
  {
   "cell_type": "markdown",
   "metadata": {},
   "source": [
    "In this section we introduce logistic regression as a tool for building models when there is a categorical response variable with two levels. Logistic regression is a type of generalized linear model (GLM) for response variables where regular multiple regression does not work very well. In particular, the response variable in these settings often takes a form\n",
    "where residuals look completely di↵erent from the normal distribution.   \n",
    "\n",
    "GLMs can be thought of as a two-stage modeling approach. We first model the response variable using a probability distribution, such as the binomial or Poisson distribution.   \n",
    "\n",
    "Second, we model the parameter of the distribution using a collection of predictors and a special form of multiple regression."
   ]
  },
  {
   "cell_type": "markdown",
   "metadata": {},
   "source": [
    "we will use the $\\:email\\:$ dataset. These emails were collected from a single email account, and we <b>will work on developing a basic spam filter</b> using these data.   \n",
    "\n",
    "The <b>response</b> variable, <b>$\\:spam\\:$</b>, has been encoded to take value <b>0</b> when a message is $\\:not\\: spam\\:$ and <b>1</b> when it is <b>$\\:spam\\:$</b>.   \n",
    "\n",
    "Our task will be to build an appropriate model that classifies messages as <b>$\\:spam\\:$</b> or <b>$\\:not\\:spam\\:$</b> using $\\:email\\:$ characteristics coded as <b>predictor</b> variables. While this model will not be the same as those used in large-scale spam filters, it shares many of the same features."
   ]
  },
  {
   "cell_type": "markdown",
   "metadata": {},
   "source": [
    "## <span style=color:darkgreen>Modeling the probability of an event</span>"
   ]
  },
  {
   "cell_type": "markdown",
   "metadata": {},
   "source": [
    "<div class=\"alert alert-block alert-warning\"><b><u>Notation for a logistic regression model</u></b>\n",
    "\n",
    "The <b>outcome variable</b> for a <b>GLM</b> is denoted by $\\:Y_i\\:$, where the index $\\:i\\:$ is used to represent observation $\\:i\\:$. In the email application, $\\:Y_i\\:$ will be used to represent whether $\\:email\\:$ $\\:i\\:$ is <b><u>spam</u></b> ($\\:Y_i\\:$ = 1) or <b><u>not</u></b> ($\\:Y_i\\:$ = 0).   \n",
    "$%$   \n",
    "The <b>predictor variables</b> are represented as follows: $\\:x_{1, i}\\:$ is the value of variable <b>1</b> for observation $\\:i\\:$, $\\:x_{2, i}\\:$ is the value of variable <b>2</b> for observation $\\:i\\:$, and so on.   \n",
    "</div>"
   ]
  },
  {
   "cell_type": "markdown",
   "metadata": {},
   "source": [
    "<span style=color:blue><b><u>Logistic regression</u></b></span> is a generalized <b>linear model</b> where the outcome is a two-level categorical variable. The outcome, $\\:Y_i\\:$, takes the value <b>1</b> (in our application, this represents a spam message) with <span style=color:blue><b><u>probability</u>$\\:p_i\\:$</b></span> and the value <b>0</b> with <span style=color:blue><b><u>probability</u> 1 − $\\:p_i\\:$</b></span>. It is the <span style=color:blue><b><u>probability</u>$\\:p_i\\:$</b></span> that we model in relation to the <b>predictor variables</b>."
   ]
  }
 ],
 "metadata": {
  "kernelspec": {
   "display_name": "Python 3",
   "language": "python",
   "name": "python3"
  },
  "language_info": {
   "codemirror_mode": {
    "name": "ipython",
    "version": 3
   },
   "file_extension": ".py",
   "mimetype": "text/x-python",
   "name": "python",
   "nbconvert_exporter": "python",
   "pygments_lexer": "ipython3",
   "version": "3.7.0"
  },
  "toc": {
   "base_numbering": 1,
   "nav_menu": {},
   "number_sections": true,
   "sideBar": true,
   "skip_h1_title": false,
   "title_cell": "Table of Contents",
   "title_sidebar": "Contents",
   "toc_cell": false,
   "toc_position": {},
   "toc_section_display": true,
   "toc_window_display": false
  },
  "varInspector": {
   "cols": {
    "lenName": 16,
    "lenType": 16,
    "lenVar": 40
   },
   "kernels_config": {
    "python": {
     "delete_cmd_postfix": "",
     "delete_cmd_prefix": "del ",
     "library": "var_list.py",
     "varRefreshCmd": "print(var_dic_list())"
    },
    "r": {
     "delete_cmd_postfix": ") ",
     "delete_cmd_prefix": "rm(",
     "library": "var_list.r",
     "varRefreshCmd": "cat(var_dic_list()) "
    }
   },
   "types_to_exclude": [
    "module",
    "function",
    "builtin_function_or_method",
    "instance",
    "_Feature"
   ],
   "window_display": false
  }
 },
 "nbformat": 4,
 "nbformat_minor": 2
}
