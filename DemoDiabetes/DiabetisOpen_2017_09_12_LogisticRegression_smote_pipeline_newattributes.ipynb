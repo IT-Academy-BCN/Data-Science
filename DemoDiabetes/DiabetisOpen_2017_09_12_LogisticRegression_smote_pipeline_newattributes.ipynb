{
 "cells": [
  {
   "cell_type": "code",
   "execution_count": 6,
   "metadata": {
    "ExecuteTime": {
     "end_time": "2021-05-24T14:41:34.213110Z",
     "start_time": "2021-05-24T14:41:33.711520Z"
    }
   },
   "outputs": [
    {
     "name": "stdout",
     "output_type": "stream",
     "text": [
      "Using matplotlib backend: Qt5Agg\n",
      "Shape grouped:  (17167, 49)\n",
      "df.shape (13687, 50)\n",
      "df_test.shape (3480, 50)\n",
      "Columns:  Index(['patient_nbr', 'encounter_id', 'race', 'gender', 'age', 'weight',\n",
      "       'admission_type_id', 'discharge_disposition_id', 'admission_source_id',\n",
      "       'time_in_hospital', 'payer_code', 'medical_specialty',\n",
      "       'num_lab_procedures', 'num_procedures', 'num_medications',\n",
      "       'number_outpatient', 'number_emergency', 'number_inpatient', 'diag_1',\n",
      "       'diag_2', 'diag_3', 'number_diagnoses', 'max_glu_serum', 'A1Cresult',\n",
      "       'metformin', 'repaglinide', 'nateglinide', 'chlorpropamide',\n",
      "       'glimepiride', 'acetohexamide', 'glipizide', 'glyburide', 'tolbutamide',\n",
      "       'pioglitazone', 'rosiglitazone', 'acarbose', 'miglitol', 'troglitazone',\n",
      "       'tolazamide', 'examide', 'citoglipton', 'insulin',\n",
      "       'glyburide-metformin', 'glipizide-metformin',\n",
      "       'glimepiride-pioglitazone', 'metformin-rosiglitazone',\n",
      "       'metformin-pioglitazone', 'change', 'diabetesMed', 'readmitted'],\n",
      "      dtype='object')\n",
      "Test {29, 31}\n",
      "['admission_source_id', 'encounter_id', 'patient_nbr', 'medical_specialty', 'payer_code', 'index', 'admission_type_id', 'discharge_disposition_id', 'nateglinide', 'chlorpropamide', 'acetohexamide', 'tolbutamide', 'acarbose', 'miglitol', 'troglitazone', 'tolazamide', 'examide', 'citoglipton', 'glyburide-metformin', 'glipizide-metformin', 'glimepiride-pioglitazone', 'metformin-rosiglitazone', 'metformin-pioglitazone']\n",
      "df_2 (13687, 28)\n",
      "df_3 (13687, 28)\n",
      "Index(['race', 'gender', 'age', 'weight', 'time_in_hospital',\n",
      "       'num_lab_procedures', 'num_procedures', 'num_medications',\n",
      "       'number_outpatient', 'number_emergency', 'number_inpatient', 'diag_1',\n",
      "       'diag_2', 'diag_3', 'number_diagnoses', 'max_glu_serum', 'A1Cresult',\n",
      "       'metformin', 'repaglinide', 'glimepiride', 'glipizide', 'glyburide',\n",
      "       'pioglitazone', 'rosiglitazone', 'insulin', 'change', 'diabetesMed',\n",
      "       'readmitted'],\n",
      "      dtype='object')\n",
      "{29, 31}\n",
      "{29, 31}\n",
      "(13687, 27)\n",
      "(3480, 27)\n",
      "(13687,)\n",
      "(3480,)\n"
     ]
    }
   ],
   "source": [
    "# coding: utf-8\n",
    "\n",
    "from sklearn import preprocessing\n",
    "from time import time\n",
    "from sklearn.feature_extraction import DictVectorizer\n",
    "import numpy as np\n",
    "import csv\n",
    "import matplotlib.pyplot as plt\n",
    "from mpl_toolkits.mplot3d import Axes3D\n",
    "from sklearn import metrics\n",
    "from sklearn.cluster import KMeans\n",
    "from sklearn.datasets import load_diabetes\n",
    "from sklearn.decomposition import PCA\n",
    "from sklearn.preprocessing import scale\n",
    "from sklearn.feature_selection import VarianceThreshold\n",
    "from sklearn.metrics import silhouette_samples, silhouette_score\n",
    "from operator import truediv\n",
    "from sklearn.metrics import pairwise_distances\n",
    "import pandas as pd\n",
    "\n",
    "get_ipython().magic('matplotlib')\n",
    "\n",
    "df_all=pd.read_csv('diabetic_data_processed_withweight.csv',';')\n",
    "\n",
    "df_grouped=df_all.groupby(['patient_nbr'], sort=True).last()\n",
    "df_grouped = df_grouped[df_grouped['readmitted']>0]\n",
    "\n",
    "print(\"Shape grouped: \",df_grouped.shape)\n",
    "\n",
    "#print(df_grouped)\n",
    "\n",
    "msk = np.random.rand(len(df_grouped)) < 0.8\n",
    "df, df_test = df_grouped[msk].copy(deep = True), df_grouped[~msk].copy(deep = True)\n",
    "df = df.reset_index()\n",
    "df_test = df_test.reset_index()\n",
    "print(\"df.shape\",df.shape)\n",
    "print(\"df_test.shape\",df_test.shape)\n",
    "\n",
    "print(\"Columns: \",df.columns)\n",
    "y_train=df['readmitted']\n",
    "y_test=df_test['readmitted']\n",
    "\n",
    "print(\"Test\", set(y_test))\n",
    "\n",
    "# In[112]:\n",
    "\n",
    "to_del = ['admission_source_id','encounter_id', 'patient_nbr','medical_specialty','payer_code','index','admission_type_id','discharge_disposition_id',\n",
    "          'nateglinide','chlorpropamide','acetohexamide','tolbutamide','acarbose','miglitol','troglitazone','tolazamide','examide','citoglipton','glyburide-metformin','glipizide-metformin','glimepiride-pioglitazone','metformin-rosiglitazone','metformin-pioglitazone']        \n",
    "print (to_del)\n",
    "\n",
    "#Filter_selected cols\n",
    "filtered_cols = [c for c in df.columns if (c not in to_del) ]#and ('ENF' not in c)\n",
    "df_2 = df[filtered_cols]\n",
    "df_2_test = df_test[filtered_cols]\n",
    "print (\"df_2\",df_2.shape)\n",
    "\n",
    "from sklearn.model_selection import train_test_split\n",
    "import numpy as np\n",
    "df_3 = df_2.fillna(value=np.mean(df_2,axis=0),inplace=False,axis=0).values\n",
    "df_3_test = df_2_test.fillna(value=np.mean(df_2,axis=0),inplace=False,axis=0).values\n",
    "print (\"df_3\",df_3.shape)\n",
    "print(df_2.columns)\n",
    "x_train=df_3[:,0:-1]\n",
    "x_test=df_3_test[:,0:-1]\n",
    "\n",
    "print(set(y_train))\n",
    "print(set(y_test))\n",
    "print(x_train.shape)\n",
    "print(x_test.shape)\n",
    "print(y_train.shape)\n",
    "print(y_test.shape)"
   ]
  },
  {
   "cell_type": "code",
   "execution_count": 10,
   "metadata": {
    "ExecuteTime": {
     "end_time": "2021-05-24T14:44:58.408201Z",
     "start_time": "2021-05-24T14:44:57.015328Z"
    }
   },
   "outputs": [
    {
     "name": "stdout",
     "output_type": "stream",
     "text": [
      "# Tuning hyper-parameters for roc_auc\n",
      "\n",
      "Best parameters set found on development set:\n",
      "\n",
      "{}\n",
      "0.577618873325987\n",
      "\n",
      "Grid scores on development set:\n",
      "\n",
      "0.578 (+/-0.037) for {}\n",
      "\n",
      "Detailed classification report:\n",
      "\n",
      "The model is trained on the full development set.\n",
      "The scores are computed on the full evaluation set.\n",
      "\n",
      "              precision    recall  f1-score   support\n",
      "\n",
      "          29       0.23      0.56      0.32       635\n",
      "          31       0.85      0.57      0.68      2845\n",
      "\n",
      "    accuracy                           0.57      3480\n",
      "   macro avg       0.54      0.57      0.50      3480\n",
      "weighted avg       0.74      0.57      0.62      3480\n",
      "\n",
      "Accuracy score:  0.5683908045977012\n",
      "\n"
     ]
    }
   ],
   "source": [
    "from sklearn.tree import DecisionTreeClassifier, export_graphviz\n",
    "from sklearn.model_selection import train_test_split\n",
    "from sklearn.metrics import confusion_matrix\n",
    "import itertools\n",
    "from sklearn import tree\n",
    "from sklearn.model_selection import GridSearchCV\n",
    "from sklearn.svm import SVC\n",
    "from sklearn.metrics import classification_report\n",
    "from sklearn.ensemble import RandomForestClassifier as RF\n",
    "from sklearn.metrics import accuracy_score\n",
    "from imblearn.over_sampling import SMOTE\n",
    "from imblearn.pipeline import Pipeline\n",
    "from sklearn import linear_model\n",
    "\n",
    "rf_pipeline = Pipeline([\n",
    "                        ('std', preprocessing.StandardScaler(copy=True, with_mean=True, with_std=True)), \n",
    "                        ('smt', SMOTE(n_jobs=-1, random_state=42)),\n",
    "                        ('classifier', linear_model.LogisticRegression(C=1e5))\n",
    "                       ])\n",
    "\n",
    "tuned_parameters = {  \n",
    "}  \n",
    "\n",
    "#scores = ['precision', 'recall', 'f1']\n",
    "#scores = [ 'f1_weighted','f1_micro','f1_macro','accuracy','roc_auc']\n",
    "scores=['roc_auc']\n",
    "\n",
    "for score in scores:\n",
    "    print(\"# Tuning hyper-parameters for %s\" % score)\n",
    "    print()\n",
    "    clf = GridSearchCV(estimator=rf_pipeline , param_grid=tuned_parameters, cv=10,scoring='%s' % score,n_jobs= -1)\n",
    "    clf.fit(x_train, y_train)\n",
    "    print(\"Best parameters set found on development set:\")\n",
    "    print()\n",
    "    #print(clf.best_params_)\n",
    "    print(clf.best_params_)\n",
    "    print (clf.best_score_)\n",
    "    print()\n",
    "    print(\"Grid scores on development set:\")\n",
    "    print()\n",
    "    means = clf.cv_results_['mean_test_score']\n",
    "    stds = clf.cv_results_['std_test_score']\n",
    "    for mean, std, params in zip(means, stds, clf.cv_results_['params']):\n",
    "        print(\"%0.3f (+/-%0.03f) for %r\"\n",
    "              % (mean, std * 2, params))\n",
    "    print()\n",
    "\n",
    "    print(\"Detailed classification report:\")\n",
    "    print()\n",
    "    print(\"The model is trained on the full development set.\")\n",
    "    print(\"The scores are computed on the full evaluation set.\")\n",
    "    print()\n",
    "    #y_train, y_pred = y_test, clf.predict(x_test)\n",
    "    y_train2, y_pred = y_test, clf.predict(x_test)\n",
    "    print(classification_report(y_train2, y_pred))\n",
    "    print(\"Accuracy score: \", accuracy_score(y_test, y_pred))\n",
    "    print()"
   ]
  },
  {
   "cell_type": "code",
   "execution_count": 13,
   "metadata": {
    "ExecuteTime": {
     "end_time": "2021-05-24T14:46:08.544473Z",
     "start_time": "2021-05-24T14:46:08.532960Z"
    }
   },
   "outputs": [
    {
     "name": "stdout",
     "output_type": "stream",
     "text": [
      "[[ 356  279]\n",
      " [1223 1622]]\n"
     ]
    }
   ],
   "source": [
    "print(metrics.confusion_matrix(y_test,y_pred))"
   ]
  },
  {
   "cell_type": "code",
   "execution_count": null,
   "metadata": {
    "collapsed": true
   },
   "outputs": [],
   "source": []
  }
 ],
 "metadata": {
  "anaconda-cloud": {},
  "kernelspec": {
   "display_name": "Python 3",
   "language": "python",
   "name": "python3"
  },
  "language_info": {
   "codemirror_mode": {
    "name": "ipython",
    "version": 3
   },
   "file_extension": ".py",
   "mimetype": "text/x-python",
   "name": "python",
   "nbconvert_exporter": "python",
   "pygments_lexer": "ipython3",
   "version": "3.8.3"
  }
 },
 "nbformat": 4,
 "nbformat_minor": 2
}
