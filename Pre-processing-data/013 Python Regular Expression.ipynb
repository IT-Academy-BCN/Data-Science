{
 "cells": [
  {
   "attachments": {
    "IT%20Logo.png": {
     "image/png": "[encoded data removed]"
    }
   },
   "cell_type": "markdown",
   "metadata": {},
   "source": [
    "![IT%20Logo.png](attachment:IT%20Logo.png)"
   ]
  },
  {
   "cell_type": "markdown",
   "metadata": {},
   "source": [
    "<div class=\"alert alert-block alert-info\"><font size=\"5\"><center><b><u>Expresiones Regulares Python</u></b></center></font>\n",
    "    \n",
    "$%$       \n",
    "\\begin{align*}Alex\\:Kumenius - Business\\hspace{2mm}Intelligence\\hspace{2mm}Data\\hspace{2mm}Scientist\\end{align*}\n",
    "\n",
    "\\begin{align*}Date : Febrer\\hspace{2mm}2021\\end{align*}</div>"
   ]
  },
  {
   "cell_type": "markdown",
   "metadata": {},
   "source": [
    "# <span style=color:purple>[Regular Expression](https://docs.python.org/3/library/re.html)</span>"
   ]
  },
  {
   "cell_type": "markdown",
   "metadata": {},
   "source": [
    "Un ``RegEx``, o ``Expresión Regular``, es una *secuencia de caracteres* que forma **``un patrón de búsqueda``**.\n",
    "\n",
    "``RegEx`` se puede usar para verificar si un ``string`` contiene el patrón de búsqueda especificado."
   ]
  },
  {
   "cell_type": "markdown",
   "metadata": {},
   "source": [
    " ## <span style=color:green><ins>Metacharacters</ins></span>"
   ]
  },
  {
   "cell_type": "markdown",
   "metadata": {},
   "source": [
    "Los ``metacaracteres`` son caracteres con un significado especial:"
   ]
  },
  {
   "cell_type": "markdown",
   "metadata": {},
   "source": [
    "- ``[]`` -- Un conjunto de caracteres\t\"[a-m]\"\t\n",
    "- ``\\``\tSeñala una secuencia especial (*también puede usarse para escapar de caracteres especiales*)\t\"\\d\"\t\n",
    "- ``.``\tCualquier caracter (*excepto el carácter de nueva línea*)\t\"Bu...s\"\t\n",
    "- ``^``\tEmpieza con\t\"^Buenos\"\t\n",
    "- ``$``\tTermina con \"dias$\"\t\n",
    "- ``*``\tCero o más occurrencias\t\"aix*\"\t\n",
    "- ``+``\tUna o más occurrencias\t\"aix+\"\t\n",
    "- ``{}``\tExactamente el número de ocurrencias especificadas\t\"al{2}\"\t\n",
    "- ``|``\tCualquiera o\t\"falls|stays\"\t\n",
    "- ``()``\tCaptura y agrupa"
   ]
  },
  {
   "cell_type": "markdown",
   "metadata": {},
   "source": [
    " ## <span style=color:green><ins>Secuencias Especiales</ins></span>"
   ]
  },
  {
   "cell_type": "markdown",
   "metadata": {},
   "source": [
    "Una secuencia especial es una **``\\``** contra-barra seguida por uno de los caracteres de la siguiente lista, y cada una tiene un significado especial:"
   ]
  },
  {
   "cell_type": "markdown",
   "metadata": {},
   "source": [
    "- ``\\A``\tReturns a match if the specified characters are at the beginning of the string\t\"\\AThe\"\t\n",
    "            Devuelve una coincidencia si los caracteres especificados están al principio de la cadena\n",
    "- ``\\b``\tReturns a match where the specified characters are at the beginning or at the end of a word\tr\"\\bain\"\n",
    "r\"ain\\b\"\t\n",
    "- ``\\B``\tReturns a match where the specified characters are present, but NOT at the beginning (or at the end) of a word\tr\"\\Bain\"\n",
    "r\"ain\\B\"\t\n",
    "- ``\\d``\tReturns a match where the string contains digits (numbers from 0-9)\t\"\\d\"\t\n",
    "- ``\\D``\tReturns a match where the string DOES NOT contain digits\t\"\\D\"\t\n",
    "- ``\\s``\tReturns a match where the string contains a white space character\t\"\\s\"\t\n",
    "- ``\\S``\tReturns a match where the string DOES NOT contain a white space character\t\"\\S\"\t\n",
    "- ``\\w``\tReturns a match where the string contains any word characters (characters from a to Z, digits from 0-9, and the underscore _ character)\t\"\\w\"\t\n",
    "- ``\\W``\tReturns a match where the string DOES NOT contain any word characters\t\"\\W\"\t\n",
    "- ``\\Z``\tReturns a match if the specified characters are at the end of the string\t\"Spain\\Z\""
   ]
  },
  {
   "cell_type": "markdown",
   "metadata": {},
   "source": [
    "Python tiene un paquete incorporado llamado **``re``**, que se puede usar para trabajar con **``expresiones regulares``**.\n",
    "\n",
    "Importar el módulo de **``re``**:"
   ]
  },
  {
   "cell_type": "code",
   "execution_count": null,
   "metadata": {
    "ExecuteTime": {
     "end_time": "2020-03-02T22:19:52.892149Z",
     "start_time": "2020-03-02T22:19:52.888162Z"
    }
   },
   "outputs": [],
   "source": [
    "import re"
   ]
  },
  {
   "cell_type": "markdown",
   "metadata": {},
   "source": [
    "Busque la cadena para ver si comienza con ``\"La\"`` y termina con ``\"España\"``:"
   ]
  },
  {
   "cell_type": "code",
   "execution_count": null,
   "metadata": {
    "ExecuteTime": {
     "end_time": "2020-03-02T22:20:05.037107Z",
     "start_time": "2020-03-02T22:20:05.022147Z"
    }
   },
   "outputs": [],
   "source": [
    "txt = \"La lluvia en España\"\n",
    "x = re.search(\"^La.*España$\", txt)\n",
    "x"
   ]
  },
  {
   "cell_type": "markdown",
   "metadata": {},
   "source": [
    "Podemos *mejorar* el resultado de salida."
   ]
  },
  {
   "cell_type": "code",
   "execution_count": null,
   "metadata": {
    "ExecuteTime": {
     "end_time": "2020-03-02T22:20:21.839614Z",
     "start_time": "2020-03-02T22:20:21.833627Z"
    }
   },
   "outputs": [],
   "source": [
    "if (x):\n",
    "  print(\"SI! Existe una Coincidencia!\")\n",
    "else:\n",
    "  print(\"No Existe Coincidencia\")"
   ]
  },
  {
   "cell_type": "markdown",
   "metadata": {},
   "source": [
    "## <span style=color:green><ins>Funciones RegEx</ins></span>"
   ]
  },
  {
   "cell_type": "markdown",
   "metadata": {},
   "source": [
    "El módulo **``re``** ofrece un conjunto de funciones que nos permiten utilizar un ``string (cadena literal)`` para buscar un **coincidencia**:\n",
    "\n",
    "- **``findall()``**\tDevuelve una lista que contiene todas las coincidencias.\n"
   ]
  },
  {
   "cell_type": "code",
   "execution_count": null,
   "metadata": {
    "ExecuteTime": {
     "end_time": "2020-03-02T22:20:26.830147Z",
     "start_time": "2020-03-02T22:20:26.825161Z"
    }
   },
   "outputs": [],
   "source": [
    "str = \"La lluvia en España\"\n",
    "x = re.findall(\"ia\", str)\n",
    "print(x)"
   ]
  },
  {
   "cell_type": "markdown",
   "metadata": {},
   "source": [
    "La lista contiene las coincidencias en el ``orden`` en que se encuentran.\n",
    "\n",
    "Si **no** se encuentran coincidencias, se devuelve una lista vacía **``[]``**."
   ]
  },
  {
   "cell_type": "markdown",
   "metadata": {},
   "source": [
    "- **``search()``**\tDevuelve un objeto coincidente, si hay una coincidencia en cualquier parte del ``string``.\n",
    "\n",
    "Si hay *``más``* de una coincidencia, solo se devolverá la **``primera``** aparición de la coincidencia:"
   ]
  },
  {
   "cell_type": "code",
   "execution_count": null,
   "metadata": {
    "ExecuteTime": {
     "end_time": "2020-03-02T22:20:37.293085Z",
     "start_time": "2020-03-02T22:20:37.288098Z"
    }
   },
   "outputs": [],
   "source": [
    "# Busca el primer carácter de espacio en blanco en la cadena:\n",
    "\n",
    "str = \"La lluvia en España\"\n",
    "x = re.search(\"\\s\", str)\n",
    "\n",
    "print(\"El primer caracter de espacio en blanco se encuentra en la posicion:\", x.start()) "
   ]
  },
  {
   "cell_type": "markdown",
   "metadata": {},
   "source": [
    "- **``split()``**\tDevuelve una lista donde el ``string`` se ha dividido en cada coincidencia."
   ]
  },
  {
   "cell_type": "code",
   "execution_count": null,
   "metadata": {
    "ExecuteTime": {
     "end_time": "2020-03-02T22:20:51.499420Z",
     "start_time": "2020-03-02T22:20:51.493440Z"
    }
   },
   "outputs": [],
   "source": [
    "# Dividir el string, en cada carácter de espacio en blanco:\n",
    "\n",
    "#Split the string at every white-space character:\n",
    "\n",
    "str = \"La lluvia en España\"\n",
    "x = re.split(\"\\s\", str)\n",
    "print(x)"
   ]
  },
  {
   "cell_type": "markdown",
   "metadata": {},
   "source": [
    "Podemos controlar el número de ocurrencias especificando el parámetro ``maxsplit``:"
   ]
  },
  {
   "cell_type": "code",
   "execution_count": null,
   "metadata": {},
   "outputs": [],
   "source": [
    "#Split the string at the first white-space character:\n",
    "\n",
    "str = \"La lluvia en España\"\n",
    "x = re.split(\"\\s\", str, 2)\n",
    "print(x)"
   ]
  },
  {
   "cell_type": "markdown",
   "metadata": {},
   "source": [
    "- **``sub()``**\tReemplaza una o varias coincidencias con un ``string``."
   ]
  },
  {
   "cell_type": "code",
   "execution_count": null,
   "metadata": {},
   "outputs": [],
   "source": [
    "#Replace all white-space characters with the digit \"-\":\n",
    "\n",
    "str = \"La lluvia en España\"\n",
    "x = re.sub(\"\\s\", \"-\", str)\n",
    "print(x)"
   ]
  },
  {
   "cell_type": "markdown",
   "metadata": {},
   "source": [
    "Podemos controlar el número de reemplazos especificando el parámetro de conteo **``count:``**"
   ]
  },
  {
   "cell_type": "code",
   "execution_count": null,
   "metadata": {},
   "outputs": [],
   "source": [
    "#Replace the first two occurrences of a white-space character with the digit 9:\n",
    "\n",
    "str = \"La lluvia en España\"\n",
    "x = re.sub(\"\\s\", \"9\", str, 2)\n",
    "print(x)"
   ]
  },
  {
   "cell_type": "code",
   "execution_count": null,
   "metadata": {
    "ExecuteTime": {
     "end_time": "2020-03-02T23:18:54.415597Z",
     "start_time": "2020-03-02T23:18:54.409597Z"
    }
   },
   "outputs": [],
   "source": [
    "# Encuentra todos los caracteres en minúsculas en orden alfabético entre \"a\" y \"m\" :\n",
    "txt = \"La lluvia en España\"\n",
    "\n",
    "x = re.findall(\"[a-m]\", txt)\n",
    "print(x)"
   ]
  },
  {
   "cell_type": "code",
   "execution_count": null,
   "metadata": {
    "ExecuteTime": {
     "end_time": "2020-03-02T23:19:02.083013Z",
     "start_time": "2020-03-02T23:19:02.077029Z"
    }
   },
   "outputs": [],
   "source": [
    "str = \"Cuesta 23 Euros\"\n",
    "\n",
    "# Encuentra todos los caracteres de dígitos :\n",
    "\n",
    "x = re.findall(\"\\d\", str)\n",
    "print(x)\n"
   ]
  },
  {
   "cell_type": "code",
   "execution_count": null,
   "metadata": {},
   "outputs": [],
   "source": [
    "str = \"Buenos dias\"\n",
    "\n",
    "# Buscamos una secuencia que comience con \"Bu\", seguido de dos (cualquier) caracteres y una \"s\":\n",
    "\n",
    "x = re.findall(\"Bu...s\", str)\n",
    "print(x)\n"
   ]
  },
  {
   "cell_type": "code",
   "execution_count": null,
   "metadata": {},
   "outputs": [],
   "source": [
    "str = \"Buenos dias\"\n",
    "\n",
    "# Comprobamos si el 'string' empieza con 'Buenos':\n",
    "\n",
    "x = re.findall(\"^Buenos\", str)\n",
    "if (x):\n",
    "  print(\"SI! Existe una Coincidencia!\", x)\n",
    "else:\n",
    "  print(\"No Existe Coincidencia\")"
   ]
  },
  {
   "cell_type": "code",
   "execution_count": null,
   "metadata": {},
   "outputs": [],
   "source": [
    "str = \"Buenos dias\"\n",
    "\n",
    "# Comprobamos si el 'string' termina con 'dias':\n",
    "\n",
    "x = re.findall(\"dias$\", str)\n",
    "\n",
    "if (x):\n",
    "  print(\"SI! Existe una Coincidencia!\", x)\n",
    "else:\n",
    "  print(\"No Existe Coincidencia\")\n"
   ]
  },
  {
   "cell_type": "code",
   "execution_count": null,
   "metadata": {},
   "outputs": [],
   "source": [
    "str = \"The rain in Spain falls mainly in the plain!\"\n",
    "\n",
    "# Comprobamos si el 'string' contiene \"ai\" seguido por 0 o más \"x\" caracteres:\n",
    "\n",
    "x = re.findall(\"aix*\", str)\n",
    "\n",
    "print(x)\n",
    "\n",
    "if (x):\n",
    "  print(\"SI! Existe una Coincidencia!\")\n",
    "else:\n",
    "  print(\"No Existe Coincidencia\")"
   ]
  },
  {
   "cell_type": "code",
   "execution_count": null,
   "metadata": {},
   "outputs": [],
   "source": [
    "str = \"The rain in Spain falls mainly in the plain!\"\n",
    "\n",
    "# Comprobamos si el 'string' contiene \"ai\" seguido por 1 o más \"x\" caracteres:\n",
    "\n",
    "x = re.findall(\"aix+\", str)\n",
    "\n",
    "print(x)\n",
    "\n",
    "if (x):\n",
    "  print(\"SI! Existe una Coincidencia!\")\n",
    "else:\n",
    "  print(\"No Existe Coincidencia\")"
   ]
  },
  {
   "cell_type": "code",
   "execution_count": null,
   "metadata": {},
   "outputs": [],
   "source": [
    "tr = \"The rain in Spain falls mainly in the plain!\"\n",
    "\n",
    "# Comprobamos si el 'string' contiene \"a\" seguido exactamente de 2 (dos) \"l\":\n",
    "\n",
    "x = re.findall(\"al{2}\", str)\n",
    "\n",
    "print(x)\n",
    "\n",
    "if (x):\n",
    "  print(\"SI! Existe una Coincidencia!\")\n",
    "else:\n",
    "  print(\"No Existe Coincidencia\")"
   ]
  },
  {
   "cell_type": "code",
   "execution_count": null,
   "metadata": {
    "ExecuteTime": {
     "end_time": "2020-03-02T23:22:05.971927Z",
     "start_time": "2020-03-02T23:22:05.965978Z"
    }
   },
   "outputs": [],
   "source": [
    "str = \"The rain in Spain falls mainly in the plain!\"\n",
    "\n",
    "# Comprobamos si el 'string' contiene cualesquiera de los siguientes 'strings', \"falls\" o \"stays\":\n",
    "\n",
    "x = re.findall(\"falls|stays\", str)\n",
    "\n",
    "print(x)\n",
    "\n",
    "if (x):\n",
    "  print(\"SI! Existe una Coincidencia!\")\n",
    "else:\n",
    "  print(\"No Existe Coincidencia\")"
   ]
  },
  {
   "cell_type": "code",
   "execution_count": null,
   "metadata": {},
   "outputs": [],
   "source": [
    "str = \"The rain in Spain\"\n",
    "\n",
    "# Comprobamos si el 'string' empieza con \"The\":\n",
    "\n",
    "x = re.findall(\"\\AThe\", str)\n",
    "\n",
    "print(x)\n",
    "\n",
    "if (x):\n",
    "  print(\"SI! Existe una Coincidencia!\")\n",
    "else:\n",
    "  print(\"No Existe Coincidencia\")"
   ]
  },
  {
   "cell_type": "code",
   "execution_count": null,
   "metadata": {},
   "outputs": [],
   "source": [
    "str = \"The rain in Spain\"\n",
    "\n",
    "# Comprobamos si \"ain\" esta presente al principio de una PALABRA:\n",
    "\n",
    "x = re.findall(r\"\\bain\", str)\n",
    "\n",
    "print(x)\n",
    "\n",
    "if (x):\n",
    "  print(\"SI! Existe una Coincidencia!\")\n",
    "else:\n",
    "  print(\"No Existe Coincidencia\")"
   ]
  },
  {
   "cell_type": "code",
   "execution_count": null,
   "metadata": {},
   "outputs": [],
   "source": [
    "str = \"The rain in Spain\"\n",
    "\n",
    "# Comprobamos si \"ain\" esta presente al FINAL de una PALABRA:\n",
    "\n",
    "x = re.findall(r\"ain\\b\", str)\n",
    "\n",
    "print(x)\n",
    "\n",
    "if (x):\n",
    "  print(\"SI! Existe una Coincidencia!\")\n",
    "else:\n",
    "  print(\"No Existe Coincidencia\")"
   ]
  },
  {
   "cell_type": "code",
   "execution_count": null,
   "metadata": {},
   "outputs": [],
   "source": [
    "str = \"The rain in Spain\"\n",
    "\n",
    "# Comprobamos si \"ain\" esta presente, pero NO al principio de una PALABRA:\n",
    "\n",
    "x = re.findall(r\"\\Bain\", str)\n",
    "\n",
    "print(x)\n",
    "\n",
    "if (x):\n",
    "  print(\"SI! Existe una Coincidencia!\")\n",
    "else:\n",
    "  print(\"No Existe Coincidencia\")"
   ]
  },
  {
   "cell_type": "code",
   "execution_count": null,
   "metadata": {},
   "outputs": [],
   "source": [
    "str = \"The rain in Spain\"\n",
    "\n",
    "# Comprobamos si \"ain\" esta presente, pero NO al final de una PALABRA:\n",
    "\n",
    "x = re.findall(r\"ain\\B\", str)\n",
    "\n",
    "print(x)\n",
    "\n",
    "if (x):\n",
    "  print(\"SI! Existe una Coincidencia!\")\n",
    "else:\n",
    "  print(\"No Existe Coincidencia\")"
   ]
  },
  {
   "cell_type": "code",
   "execution_count": null,
   "metadata": {
    "ExecuteTime": {
     "end_time": "2020-03-02T23:22:39.378034Z",
     "start_time": "2020-03-02T23:22:39.373047Z"
    }
   },
   "outputs": [],
   "source": [
    "str = \"The rain in Spain\"\n",
    "\n",
    "#Comprobamos si el 'string' contiene cualquier digito (numeros 0-9):\n",
    "\n",
    "x = re.findall(\"\\d\", str)\n",
    "\n",
    "print(x)\n",
    "\n",
    "if (x):\n",
    "  print(\"SI! Existe una Coincidencia!\")\n",
    "else:\n",
    "  print(\"No Existe Coincidencia\")"
   ]
  },
  {
   "cell_type": "code",
   "execution_count": null,
   "metadata": {
    "ExecuteTime": {
     "end_time": "2020-03-02T23:23:06.615056Z",
     "start_time": "2020-03-02T23:23:06.608076Z"
    }
   },
   "outputs": [],
   "source": [
    "str = \"The rain in Spain\"\n",
    "\n",
    "# Devuelve una coincidencia a cada caracteres NO-Digitos:\n",
    "\n",
    "x = re.findall(\"\\D\", str)\n",
    "\n",
    "print(x)\n",
    "\n",
    "if (x):\n",
    "  print(\"SI! Existe una Coincidencia!\")\n",
    "else:\n",
    "  print(\"No Existe Coincidencia\")"
   ]
  },
  {
   "cell_type": "code",
   "execution_count": null,
   "metadata": {},
   "outputs": [],
   "source": [
    "str = \"The rain in Spain\"\n",
    "\n",
    "# Devuelve una coincidencia en cada espacio en blanco:\n",
    "\n",
    "x = re.findall(\"\\s\", str)\n",
    "\n",
    "print(x)\n",
    "\n",
    "if (x):\n",
    "  print(\"SI! Existe una Coincidencia!\")\n",
    "else:\n",
    "  print(\"No Existe Coincidencia\")"
   ]
  },
  {
   "cell_type": "code",
   "execution_count": null,
   "metadata": {},
   "outputs": [],
   "source": [
    "str = \"The rain in Spain\"\n",
    "\n",
    "# Devuelve una coincidencia a cada caracter que NO sea un espacio en blanco:\n",
    "\n",
    "x = re.findall(\"\\S\", str)\n",
    "\n",
    "print(x)\n",
    "\n",
    "if (x):\n",
    "  print(\"SI! Existe una Coincidencia!\")\n",
    "else:\n",
    "  print(\"No Existe Coincidencia\")"
   ]
  },
  {
   "cell_type": "code",
   "execution_count": null,
   "metadata": {
    "ExecuteTime": {
     "end_time": "2020-03-02T23:23:30.042052Z",
     "start_time": "2020-03-02T23:23:30.037069Z"
    }
   },
   "outputs": [],
   "source": [
    "str = \"The rain in Spain\"\n",
    "\n",
    "#Return a match at every word character (characters from a to Z, digits from 0-9, and the underscore _ character):\n",
    "\n",
    "x = re.findall(\"\\w\", str)\n",
    "\n",
    "print(x)\n",
    "\n",
    "if (x):\n",
    "  print(\"SI! Existe una Coincidencia!\")\n",
    "else:\n",
    "  print(\"No Existe Coincidencia\")"
   ]
  },
  {
   "cell_type": "code",
   "execution_count": null,
   "metadata": {},
   "outputs": [],
   "source": [
    "str = \"The rain in Spain\"\n",
    "\n",
    "#Return a match at every NON word character (characters NOT between a and Z. Like \"!\", \"?\" white-space etc.):\n",
    "\n",
    "x = re.findall(\"\\W\", str)\n",
    "\n",
    "print(x)\n",
    "\n",
    "if (x):\n",
    "  print(\"SI! Existe una Coincidencia!\")\n",
    "else:\n",
    "  print(\"No Existe Coincidencia\")"
   ]
  },
  {
   "cell_type": "code",
   "execution_count": null,
   "metadata": {},
   "outputs": [],
   "source": [
    "str = \"The rain in Spain\"\n",
    "\n",
    "#Check if the string ends with \"Spain\":\n",
    "\n",
    "x = re.findall(\"Spain\\Z\", str)\n",
    "\n",
    "print(x)\n",
    "\n",
    "if (x):\n",
    "  print(\"SI! Existe una Coincidencia!\")\n",
    "else:\n",
    "  print(\"No Existe Coincidencia\")"
   ]
  },
  {
   "cell_type": "markdown",
   "metadata": {},
   "source": [
    " ## <span style=color:green><ins>Sets</ins></span>"
   ]
  },
  {
   "cell_type": "markdown",
   "metadata": {},
   "source": [
    "Un **``Set``** es un ``conjunto de caracteres`` dentro de un par de corchetes **``[]``** con un significado especial:"
   ]
  },
  {
   "cell_type": "markdown",
   "metadata": {},
   "source": [
    "- **``[arn]``** Devuelve una coincidencia donde uno de los caracteres especificados (``a``, ``r``, o ``n``) está presente"
   ]
  },
  {
   "cell_type": "code",
   "execution_count": null,
   "metadata": {
    "ExecuteTime": {
     "end_time": "2020-03-02T23:23:53.504052Z",
     "start_time": "2020-03-02T23:23:53.499069Z"
    }
   },
   "outputs": [],
   "source": [
    "str = \"The rain in Spain\"\n",
    "\n",
    "#Check if the string has any a, r, or n characters:\n",
    "\n",
    "x = re.findall(\"[arn]\", str)\n",
    "\n",
    "print(x)\n",
    "\n",
    "if (x):\n",
    "  print(\"SI! Existe una Coincidencia!\")\n",
    "else:\n",
    "  print(\"No Existe Coincidencia\")"
   ]
  },
  {
   "cell_type": "markdown",
   "metadata": {},
   "source": [
    "- **``[a-n]``**\tDevuelve una coincidencia para cualquier carácter en minúscula, alfabéticamente entre **``a``** y **``n``**."
   ]
  },
  {
   "cell_type": "code",
   "execution_count": null,
   "metadata": {},
   "outputs": [],
   "source": [
    "#Check if the string has any characters between a and n:\n",
    "\n",
    "x = re.findall(\"[a-n]\", str)\n",
    "\n",
    "print(x)\n",
    "\n",
    "if (x):\n",
    "  print(\"SI! Existe una Coincidencia!\")\n",
    "else:\n",
    "  print(\"No Existe Coincidencia\")"
   ]
  },
  {
   "cell_type": "markdown",
   "metadata": {},
   "source": [
    "- **``[^arn]``**\tDevuelve una coincidencia para cualquier carácter EXCEPTO ``a``, ``r`` y ``n``."
   ]
  },
  {
   "cell_type": "code",
   "execution_count": null,
   "metadata": {
    "ExecuteTime": {
     "end_time": "2020-03-02T23:24:30.011793Z",
     "start_time": "2020-03-02T23:24:30.005809Z"
    }
   },
   "outputs": [],
   "source": [
    "#Check if the string has other characters than a, r, or n:\n",
    "\n",
    "x = re.findall(\"[^arn]\", str)\n",
    "\n",
    "print(x)\n",
    "\n",
    "if (x):\n",
    "  print(\"SI! Existe una Coincidencia!\")\n",
    "else:\n",
    "  print(\"No Existe Coincidencia\")"
   ]
  },
  {
   "cell_type": "markdown",
   "metadata": {},
   "source": [
    "- **``[0123]``** Devuelve una coincidencia donde cualquiera de los dígitos especificados (``0``, ``1``, ``2`` o ``3``) están presente. "
   ]
  },
  {
   "cell_type": "code",
   "execution_count": null,
   "metadata": {},
   "outputs": [],
   "source": [
    "#Check if the string has any 0, 1, 2, or 3 digits:\n",
    "\n",
    "x = re.findall(\"[0123]\", str)\n",
    "\n",
    "print(x)\n",
    "\n",
    "if (x):\n",
    "  print(\"SI! Existe una Coincidencia!\")\n",
    "else:\n",
    "  print(\"No Existe Coincidencia\")"
   ]
  },
  {
   "cell_type": "markdown",
   "metadata": {},
   "source": [
    "- **``[0-9]``**\tDevuelve una coincidencia para cualquier dígito entre 0 y 9."
   ]
  },
  {
   "cell_type": "code",
   "execution_count": null,
   "metadata": {},
   "outputs": [],
   "source": [
    "#Check if the string has any digits:\n",
    "\n",
    "str = \"8 times before 11:45 AM\"\n",
    "\n",
    "x = re.findall(\"[0-9]\", str)\n",
    "\n",
    "print(x)\n",
    "\n",
    "if (x):\n",
    "  print(\"SI! Existe una Coincidencia!\")\n",
    "else:\n",
    "  print(\"No Existe Coincidencia\")"
   ]
  },
  {
   "cell_type": "markdown",
   "metadata": {},
   "source": [
    "- **``[0-5][0-9]``** Devuelve una coincidencia para cualquier número de dos dígitos de ``00`` y ``59``."
   ]
  },
  {
   "cell_type": "code",
   "execution_count": null,
   "metadata": {},
   "outputs": [],
   "source": [
    "str = \"8 times before 11:45 AM\"\n",
    "\n",
    "#Check if the string has any two-digit numbers, from 00 to 59:\n",
    "\n",
    "x = re.findall(\"[0-5][0-9]\", str)\n",
    "\n",
    "print(x)\n",
    "\n",
    "if (x):\n",
    "  print(\"SI! Existe una Coincidencia!\")\n",
    "else:\n",
    "  print(\"No Existe Coincidencia\")"
   ]
  },
  {
   "cell_type": "markdown",
   "metadata": {},
   "source": [
    "- **``[a-zA-Z]``** Devuelve una coincidencia para cualquier carácter alfabéticamente entre ``a`` y ``z``, tanto en minúsculas O mayúsculas"
   ]
  },
  {
   "cell_type": "code",
   "execution_count": null,
   "metadata": {},
   "outputs": [],
   "source": [
    "str = \"8 times before 11:45 AM\"\n",
    "\n",
    "#Check if the string has any characters from a to z lower case, and A to Z upper case:\n",
    "\n",
    "x = re.findall(\"[a-zA-Z]\", str)\n",
    "\n",
    "print(x)\n",
    "\n",
    "if (x):\n",
    "  print(\"SI! Existe una Coincidencia!\")\n",
    "else:\n",
    "  print(\"No Existe Coincidencia\")"
   ]
  },
  {
   "cell_type": "markdown",
   "metadata": {},
   "source": [
    "- **``[+]``** En conjuntos, ``+``, ``*``,``.``, ``|``, ``()``, ``$``, ``{}`` No tienen ningun significado especial, por lo que **``[+]``** significa: devolver una coincidencia para cualquier carácter **``+``** en la cadena"
   ]
  },
  {
   "cell_type": "code",
   "execution_count": null,
   "metadata": {},
   "outputs": [],
   "source": [
    "#Check if the string has any + characters:\n",
    "\n",
    "x = re.findall(\"[+]\", str)\n",
    "\n",
    "print(x)\n",
    "\n",
    "if (x):\n",
    "  print(\"SI! Existe una Coincidencia!\")\n",
    "else:\n",
    "  print(\"No Existe Coincidencia\")"
   ]
  },
  {
   "cell_type": "markdown",
   "metadata": {},
   "source": [
    " ## <span style=color:green><ins>Objeto Coincidente (Match Object)</ins></span>"
   ]
  },
  {
   "cell_type": "markdown",
   "metadata": {},
   "source": [
    "Un **``objeto coincidente``** es un objeto que contiene información sobre la búsqueda y el resultado.\n",
    "\n",
    "<span style=color:red><ins>Nota:</ins></span> Si no hay coincidencia, se devolverá el valor **``None``** - ``Ninguno``, en lugar del objeto coincidente."
   ]
  },
  {
   "cell_type": "code",
   "execution_count": null,
   "metadata": {
    "ExecuteTime": {
     "end_time": "2020-03-02T23:28:29.765745Z",
     "start_time": "2020-03-02T23:28:29.759761Z"
    }
   },
   "outputs": [],
   "source": [
    "#The search() function returns a Match object:\n",
    "\n",
    "str = \"The rain in Spain\"\n",
    "x = re.search(\"ai\", str)\n",
    "print(x)"
   ]
  },
  {
   "cell_type": "markdown",
   "metadata": {},
   "source": [
    "El objeto Match tiene propiedades y métodos utilizados para recuperar información sobre la búsqueda y el resultado:\n",
    "\n",
    "- **``.span()``** devuelve una tupla que contiene las posiciones inicial y final de la coincidencia.\n",
    "- **``.string``** devuelve la cadena pasada a la función\n",
    "- **``.group()``** devuelve la parte de la cadena donde hubo una coincidencia"
   ]
  },
  {
   "cell_type": "markdown",
   "metadata": {},
   "source": [
    "Imprimiremos la posición (posición inicial y final) de la primera aparición de coincidencia.\n",
    "\n",
    "La expresión regular busca cualquier palabra que empiece con una **``\"S\"``** mayúscula:"
   ]
  },
  {
   "cell_type": "code",
   "execution_count": null,
   "metadata": {
    "ExecuteTime": {
     "end_time": "2020-03-02T23:29:27.668989Z",
     "start_time": "2020-03-02T23:29:27.664000Z"
    }
   },
   "outputs": [],
   "source": [
    "#Search for an upper case \"S\" character in the beginning of a word, and print its position:\n",
    "\n",
    "str = \"The rain in Spain\"\n",
    "x = re.search(r\"\\bS\\w+\", str)\n",
    "print(x.span())"
   ]
  },
  {
   "cell_type": "code",
   "execution_count": null,
   "metadata": {},
   "outputs": [],
   "source": [
    "x"
   ]
  },
  {
   "cell_type": "markdown",
   "metadata": {},
   "source": [
    "Imprimimos la cadena de literales pasada en la función:"
   ]
  },
  {
   "cell_type": "code",
   "execution_count": null,
   "metadata": {
    "ExecuteTime": {
     "end_time": "2020-03-02T23:29:58.445730Z",
     "start_time": "2020-03-02T23:29:58.440745Z"
    }
   },
   "outputs": [],
   "source": [
    "#The string property returns the search string:\n",
    "\n",
    "str = \"The rain in Spain\"\n",
    "x = re.search(r\"\\bS\\w+\", str)\n",
    "print(x.string)"
   ]
  },
  {
   "cell_type": "markdown",
   "metadata": {},
   "source": [
    "Imprime la parte de la cadena donde existía una coincidencia.\n",
    "\n",
    "La expresión regular busca cualquier palabra que comience con una **``\"S\"``** mayúscula:"
   ]
  },
  {
   "cell_type": "code",
   "execution_count": null,
   "metadata": {
    "ExecuteTime": {
     "end_time": "2020-03-02T23:30:21.412426Z",
     "start_time": "2020-03-02T23:30:21.407440Z"
    }
   },
   "outputs": [],
   "source": [
    "#Search for an upper case \"S\" character in the beginning of a word, and print the word:\n",
    "\n",
    "str = \"The rain in Spain\"\n",
    "x = re.search(r\"\\bS\\w+\", str)\n",
    "print(x.group())"
   ]
  },
  {
   "cell_type": "code",
   "execution_count": null,
   "metadata": {},
   "outputs": [],
   "source": [
    "'tea for too'.replace('too', 'two')\n",
    "'tea for two'"
   ]
  },
  {
   "cell_type": "markdown",
   "metadata": {},
   "source": [
    "---"
   ]
  }
 ],
 "metadata": {
  "kernelspec": {
   "display_name": "Python 3",
   "language": "python",
   "name": "python3"
  },
  "language_info": {
   "codemirror_mode": {
    "name": "ipython",
    "version": 3
   },
   "file_extension": ".py",
   "mimetype": "text/x-python",
   "name": "python",
   "nbconvert_exporter": "python",
   "pygments_lexer": "ipython3",
   "version": "3.7.0"
  },
  "toc": {
   "base_numbering": 1,
   "nav_menu": {},
   "number_sections": true,
   "sideBar": true,
   "skip_h1_title": false,
   "title_cell": "Table of Contents",
   "title_sidebar": "Contents",
   "toc_cell": false,
   "toc_position": {},
   "toc_section_display": true,
   "toc_window_display": false
  },
  "varInspector": {
   "cols": {
    "lenName": 16,
    "lenType": 16,
    "lenVar": 40
   },
   "kernels_config": {
    "python": {
     "delete_cmd_postfix": "",
     "delete_cmd_prefix": "del ",
     "library": "var_list.py",
     "varRefreshCmd": "print(var_dic_list())"
    },
    "r": {
     "delete_cmd_postfix": ") ",
     "delete_cmd_prefix": "rm(",
     "library": "var_list.r",
     "varRefreshCmd": "cat(var_dic_list()) "
    }
   },
   "types_to_exclude": [
    "module",
    "function",
    "builtin_function_or_method",
    "instance",
    "_Feature"
   ],
   "window_display": false
  }
 },
 "nbformat": 4,
 "nbformat_minor": 2
}
