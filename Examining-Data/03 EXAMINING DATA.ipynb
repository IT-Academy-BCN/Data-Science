{
 "cells": [
  {
   "cell_type": "markdown",
   "metadata": {},
   "source": [
    "<div class=\"alert alert-block alert-info\"><font size=\"5\"><center><b><u>Statistical Foundations for Data Scientist</u></b></center></font>\n",
    "\n",
    "\\begin{align*}Alex\\:Kumenius\\end{align*}\n",
    "\\begin{align*}Business\\hspace{2mm}Intelligence\\hspace{2mm}and\\hspace{2mm}Data\\hspace{2mm}Scientist\\hspace{2mm}Project\\hspace{2mm}Integrator\\end{align*}\n",
    "$%$       \n",
    "\\begin{align*}Date : Gener\\hspace{2mm}2021\\end{align*}</div>"
   ]
  },
  {
   "cell_type": "markdown",
   "metadata": {},
   "source": [
    "# <SPAN style=color:darkblue>RELATIONSHIPS BETWEEN VARIABLES</SPAN>"
   ]
  },
  {
   "cell_type": "markdown",
   "metadata": {},
   "source": [
    "<span style=color:darkred><b><u>To answer research questions, data must be collected</u></b></span>. \n",
    "\n",
    "Analyses are motivated by <span style=color:blue><b><i>looking</i></b></span> for a <span style=color:blue><b><i>relationship between two or more variables</i></b></span>.\n",
    "\n",
    "Examining <span style=color:blue><b>summary statistics</b></span> could provide insights for each of the research questions about the study.   \n",
    "\n",
    "A <span style=color:blue><b>summary statistics</b></span> is a <b><i>single number summarizing a large amount of data</i></b>. In other words, a <span style=color:blue><b>summary statistics</b></span> is a <b>value</b> computed from the <b>data</b>."
   ]
  },
  {
   "cell_type": "markdown",
   "metadata": {},
   "source": [
    "# <span style=color:darkblue>EXAMINING NUMERICAL DATA</span>"
   ]
  },
  {
   "cell_type": "markdown",
   "metadata": {},
   "source": [
    "We will be introduced to techniques for <span style=color:blue>exploring</span> and <span style=color:blue>summarizing numerical</span> variables, working with two datasets : '$email50$', '$county$' and '$cars$'."
   ]
  },
  {
   "cell_type": "code",
   "execution_count": null,
   "metadata": {
    "ExecuteTime": {
     "end_time": "2021-02-03T09:47:03.963305Z",
     "start_time": "2021-02-03T09:46:57.616640Z"
    }
   },
   "outputs": [],
   "source": [
    "# importing libraries\n",
    "import numpy as np\n",
    "import pandas as pd\n",
    "import matplotlib.pyplot as plt\n",
    "import seaborn as sns\n",
    "import warnings\n",
    "\n",
    "warnings.filterwarnings('ignore')"
   ]
  },
  {
   "cell_type": "markdown",
   "metadata": {},
   "source": [
    "## <span style=color:darkgreen>EXPLORING BIVARIATE VARIABLES WITH SCATTERPLOTS</span>"
   ]
  },
  {
   "cell_type": "markdown",
   "metadata": {},
   "source": [
    "A <span style=color:blue>Scatterplot</span> provides a case-by-case view of data for <span style=color:blue>two <b>(bivariate)</b> numerical variables</span>. "
   ]
  },
  {
   "cell_type": "markdown",
   "metadata": {},
   "source": [
    "<span style=color:blue>Scatterplots</span> are helpful in quickly <span style=color:blue><b>spotting associations relating variables</b></span>, whether those associations come in the form of <b>simple trends</b> or whether those relationships are more <b>complex</b>."
   ]
  },
  {
   "cell_type": "markdown",
   "metadata": {},
   "source": [
    "We will use a <span style=color:blue>Scatterplot</span> to examine how $federal$ $spending$ and $poverty$ are related in the $county$ dataset."
   ]
  },
  {
   "cell_type": "code",
   "execution_count": null,
   "metadata": {
    "ExecuteTime": {
     "end_time": "2021-01-20T16:37:07.533413Z",
     "start_time": "2021-01-20T16:37:07.504490Z"
    }
   },
   "outputs": [],
   "source": [
    "# Open the choosen file\n",
    "county = pd.read_csv('D:\\\\Documents\\\\EureCat\\\\Formacion\\\\Eurecat 2019\\\\BTS\\\\Datasets\\\\county.txt', sep='\\t', encoding='utf-8')"
   ]
  },
  {
   "cell_type": "code",
   "execution_count": null,
   "metadata": {},
   "outputs": [],
   "source": [
    "county = pd.read_csv('https://raw.githubusercontent.com/BIDDL3/Examining-Data/main/county.txt', sep='\\t', encoding='utf-8')"
   ]
  },
  {
   "cell_type": "code",
   "execution_count": null,
   "metadata": {
    "ExecuteTime": {
     "end_time": "2021-01-20T16:37:27.845980Z",
     "start_time": "2021-01-20T16:37:27.839999Z"
    }
   },
   "outputs": [],
   "source": [
    "county.shape"
   ]
  },
  {
   "cell_type": "code",
   "execution_count": null,
   "metadata": {
    "ExecuteTime": {
     "end_time": "2021-01-20T16:38:12.851359Z",
     "start_time": "2021-01-20T16:38:12.842383Z"
    }
   },
   "outputs": [],
   "source": [
    "county.columns"
   ]
  },
  {
   "cell_type": "code",
   "execution_count": null,
   "metadata": {
    "ExecuteTime": {
     "end_time": "2021-01-20T16:38:30.788682Z",
     "start_time": "2021-01-20T16:38:30.780704Z"
    }
   },
   "outputs": [],
   "source": [
    "county.state.unique()"
   ]
  },
  {
   "cell_type": "code",
   "execution_count": null,
   "metadata": {
    "ExecuteTime": {
     "end_time": "2021-01-20T16:38:46.211796Z",
     "start_time": "2021-01-20T16:38:46.205812Z"
    }
   },
   "outputs": [],
   "source": [
    "county.state.nunique()"
   ]
  },
  {
   "cell_type": "code",
   "execution_count": null,
   "metadata": {
    "ExecuteTime": {
     "end_time": "2021-01-20T16:39:19.158373Z",
     "start_time": "2021-01-20T16:39:19.085568Z"
    }
   },
   "outputs": [],
   "source": [
    "county.describe().round(3)"
   ]
  },
  {
   "cell_type": "code",
   "execution_count": null,
   "metadata": {
    "ExecuteTime": {
     "end_time": "2021-01-20T16:40:28.616138Z",
     "start_time": "2021-01-20T16:40:28.609159Z"
    }
   },
   "outputs": [],
   "source": [
    "county.pop2000.mean()"
   ]
  },
  {
   "cell_type": "code",
   "execution_count": null,
   "metadata": {
    "ExecuteTime": {
     "end_time": "2021-01-20T16:52:45.550614Z",
     "start_time": "2021-01-20T16:52:45.280824Z"
    }
   },
   "outputs": [],
   "source": [
    "# Create data\n",
    "x = county.fed_spend\n",
    "y = county.poverty\n",
    "colors = 'Blue'\n",
    "area = np.pi*5\n",
    "\n",
    "plt.axis([-10, 100, 0, 60])\n",
    "\n",
    "# Plot\n",
    "plt.scatter(x, y, s=area, c=colors, alpha=0.4, edgecolors='black')\n",
    "\n",
    "plt.title('Federal Spending vs Poverty by County')\n",
    "plt.ylabel('Federal Spending per Capita')\n",
    "plt.xlabel('Poverty Rate (Percent)')\n",
    "plt.show()"
   ]
  },
  {
   "cell_type": "markdown",
   "metadata": {},
   "source": [
    "In any <span style=color:blue>Scatterplot</span>, each point represents a single <b><i>case/observation</i></b>. Since there are <b>3.143</b> cases in $county$, there are <b>3.143</b> points"
   ]
  },
  {
   "cell_type": "markdown",
   "metadata": {},
   "source": [
    "Now, We will compare the <span style=color:blue>number of line breaks <b>(line_breaks)</b></span> and <span style=color:blue>number of characters <b>(num_char)</b></span> in emails for the $email50$ dataset. "
   ]
  },
  {
   "cell_type": "code",
   "execution_count": null,
   "metadata": {
    "ExecuteTime": {
     "end_time": "2021-01-20T16:54:03.195279Z",
     "start_time": "2021-01-20T16:54:03.181318Z"
    }
   },
   "outputs": [],
   "source": [
    "dbe = pd.read_csv('D:\\\\Documents\\\\EureCat\\\\Formacion\\\\Eurecat 2019\\\\BTS\\\\Datasets\\\\email50.txt',\n",
    "                encoding='utf-8', sep='\\t')"
   ]
  },
  {
   "cell_type": "code",
   "execution_count": null,
   "metadata": {
    "ExecuteTime": {
     "end_time": "2021-01-20T16:54:05.071324Z",
     "start_time": "2021-01-20T16:54:05.066338Z"
    }
   },
   "outputs": [],
   "source": [
    "dbe.shape"
   ]
  },
  {
   "cell_type": "code",
   "execution_count": null,
   "metadata": {
    "ExecuteTime": {
     "end_time": "2021-01-20T16:55:11.060992Z",
     "start_time": "2021-01-20T16:55:11.028081Z"
    }
   },
   "outputs": [],
   "source": [
    "dbe.head()"
   ]
  },
  {
   "cell_type": "code",
   "execution_count": null,
   "metadata": {
    "ExecuteTime": {
     "end_time": "2021-01-20T16:55:38.509494Z",
     "start_time": "2021-01-20T16:55:38.291078Z"
    },
    "scrolled": true
   },
   "outputs": [],
   "source": [
    "# Create data\n",
    "x = dbe.num_char\n",
    "y = dbe.line_breaks\n",
    "\n",
    "colors = \"Blue\"\n",
    "area = np.pi*20\n",
    "plt.axis([0, 70, 0, 1200])\n",
    "\n",
    "# Plot\n",
    "plt.scatter(x, y, s=area, c=colors, alpha=0.4, edgecolors='black')\n",
    "plt.title('Spam email - # Lines vs # Characters')\n",
    "plt.ylabel('Number of Lines')\n",
    "plt.xlabel('Number of Characters (in thousands)')\n",
    "plt.show()"
   ]
  },
  {
   "cell_type": "markdown",
   "metadata": {},
   "source": [
    "To put the <span style=color:blue>number of characters</span> in perspective, this paragraph has <b>363</b> characters. Looking at <span style=color:blue>scatterplot</span>, it seems that some emails are incredibly verbose!. Upon further investigation, we would actually find that most of the long emails use the <b>HTML format</b>, which means most of the characters in those emails are used to <b>format the email</b> rather than <b>provide text</b>."
   ]
  },
  {
   "cell_type": "code",
   "execution_count": null,
   "metadata": {
    "ExecuteTime": {
     "end_time": "2021-01-20T17:00:26.119429Z",
     "start_time": "2021-01-20T17:00:26.106466Z"
    }
   },
   "outputs": [],
   "source": [
    "dbcars = pd.read_csv('D:\\\\Documents\\\\EureCat\\\\Formacion\\\\Eurecat 2019\\\\BTS\\\\Datasets\\\\cars.txt',\n",
    "                encoding='utf-8', sep='\\t')"
   ]
  },
  {
   "cell_type": "markdown",
   "metadata": {},
   "source": [
    "Let's consider a new dataset $cars$ of 54 $cars$ with 6 variables. Create scatterplot to examine how $vehicle$ $price$ and $weight$ are related.  \n",
    "\n",
    "What can be said about the relationship between these variables?"
   ]
  },
  {
   "cell_type": "code",
   "execution_count": null,
   "metadata": {
    "ExecuteTime": {
     "end_time": "2021-01-20T17:00:30.396943Z",
     "start_time": "2021-01-20T17:00:30.390959Z"
    }
   },
   "outputs": [],
   "source": [
    "dbcars.shape"
   ]
  },
  {
   "cell_type": "code",
   "execution_count": null,
   "metadata": {
    "ExecuteTime": {
     "end_time": "2021-01-20T17:00:33.918931Z",
     "start_time": "2021-01-20T17:00:33.902973Z"
    }
   },
   "outputs": [],
   "source": [
    "dbcars.head()"
   ]
  },
  {
   "cell_type": "code",
   "execution_count": null,
   "metadata": {
    "ExecuteTime": {
     "end_time": "2021-01-20T17:01:07.012738Z",
     "start_time": "2021-01-20T17:01:07.003761Z"
    }
   },
   "outputs": [],
   "source": [
    "# Checking dataset variables\n",
    "dbcars.dtypes"
   ]
  },
  {
   "cell_type": "code",
   "execution_count": null,
   "metadata": {
    "ExecuteTime": {
     "end_time": "2021-01-20T17:02:10.747449Z",
     "start_time": "2021-01-20T17:02:10.711033Z"
    }
   },
   "outputs": [],
   "source": [
    "dbcars.describe()"
   ]
  },
  {
   "cell_type": "code",
   "execution_count": null,
   "metadata": {},
   "outputs": [],
   "source": []
  },
  {
   "cell_type": "code",
   "execution_count": null,
   "metadata": {
    "ExecuteTime": {
     "end_time": "2021-01-20T17:03:40.008163Z",
     "start_time": "2021-01-20T17:03:40.002179Z"
    }
   },
   "outputs": [],
   "source": [
    "# Categorical Variables\n",
    "dbcars.type.unique()"
   ]
  },
  {
   "cell_type": "code",
   "execution_count": null,
   "metadata": {
    "ExecuteTime": {
     "end_time": "2021-01-20T17:04:20.810857Z",
     "start_time": "2021-01-20T17:04:20.803365Z"
    }
   },
   "outputs": [],
   "source": [
    "# Categorical Variables\n",
    "dbcars.driveTrain.unique()"
   ]
  },
  {
   "cell_type": "code",
   "execution_count": null,
   "metadata": {
    "ExecuteTime": {
     "end_time": "2021-01-20T17:06:02.798275Z",
     "start_time": "2021-01-20T17:06:02.555923Z"
    },
    "scrolled": true
   },
   "outputs": [],
   "source": [
    "# Create data\n",
    "x = dbcars.weight\n",
    "y = dbcars.price\n",
    "\n",
    "colors = \"Blue\"\n",
    "area = np.pi*15\n",
    "\n",
    "# Plot\n",
    "plt.scatter(x, y, s=area, c=colors, alpha=0.4, edgecolors='black')\n",
    "plt.title('Cars - Price vs Weight')\n",
    "plt.ylabel('Price ($1000s)')\n",
    "plt.xlabel('Weight (Pounds)')"
   ]
  },
  {
   "cell_type": "markdown",
   "metadata": {},
   "source": [
    "The relationship is <span style=color:blue>evidently nonlinear</span>."
   ]
  },
  {
   "cell_type": "code",
   "execution_count": null,
   "metadata": {
    "ExecuteTime": {
     "end_time": "2021-01-20T17:07:17.270252Z",
     "start_time": "2021-01-20T17:07:16.532708Z"
    }
   },
   "outputs": [],
   "source": [
    "fig = plt.figure(figsize=(15,4))\n",
    "\n",
    "ax1 = fig.add_subplot(1, 3, 1)\n",
    "\n",
    "# Create data\n",
    "x = county.fed_spend\n",
    "y = county.poverty\n",
    "colors = 'Blue'\n",
    "area = np.pi*5\n",
    "\n",
    "plt.axis([0, 100, 0, 60])\n",
    "\n",
    "# Plot\n",
    "ax1.scatter(x, y, s=area, c=colors, alpha=0.4, edgecolors='black')\n",
    "\n",
    "plt.title('County Dataset')\n",
    "plt.ylabel('Federal Spending per Capita')\n",
    "plt.xlabel('Poverty Rate (Percent)')\n",
    "\n",
    "ax2 = fig.add_subplot(1, 3, 2)\n",
    "# Create data\n",
    "x = dbe.num_char\n",
    "y = dbe.line_breaks\n",
    "\n",
    "colors = \"Red\"\n",
    "area = np.pi*20\n",
    "plt.axis([0, 70, 0, 1200])\n",
    "\n",
    "# Plot\n",
    "ax2.scatter(x, y, s=area, c=colors, alpha=0.4, edgecolors='black')\n",
    "plt.title('Spam email Dataset')\n",
    "plt.ylabel('# of Lines')\n",
    "plt.xlabel('# of Characters (in thousands)')\n",
    "\n",
    "ax3 = fig.add_subplot(1, 3, 3)\n",
    "# Create data\n",
    "x = dbcars.weight\n",
    "y = dbcars.price\n",
    "\n",
    "colors = \"Orange\"\n",
    "area = np.pi*30\n",
    "plt.axis([1500, 4300, 0, 65])\n",
    "\n",
    "# Plot\n",
    "ax3.scatter(x, y, s=area, c=colors, alpha=0.4, edgecolors='black')\n",
    "plt.title('Cars Dataset')\n",
    "plt.ylabel('Price ($1000s)')\n",
    "plt.xlabel('Weight (Pounds)')\n",
    "\n",
    "# plt.tight_layout(pad=0.4, w_pad=0.5, h_pad=1.0)\n",
    "plt.tight_layout()"
   ]
  },
  {
   "cell_type": "markdown",
   "metadata": {},
   "source": [
    "### <span style=color:darkblue>MATRIX PLOTS</span>"
   ]
  },
  {
   "cell_type": "code",
   "execution_count": null,
   "metadata": {
    "ExecuteTime": {
     "end_time": "2021-01-20T17:22:39.511793Z",
     "start_time": "2021-01-20T17:22:26.306937Z"
    }
   },
   "outputs": [],
   "source": [
    "# Matrix Plot\n",
    "sns.pairplot(county, diag_kind='hist', plot_kws={'alpha': 0.2})"
   ]
  },
  {
   "cell_type": "markdown",
   "metadata": {},
   "source": [
    "## <span style=color:darkgreen>HISTOGRAMS</span>"
   ]
  },
  {
   "cell_type": "markdown",
   "metadata": {},
   "source": [
    "Dot plots, like in <span style=color:blue>scatterplot</span>, show the <span style=color:blue><b>exact value for each observation</b></span>. This is useful for <b><i>small datasets</i></b>, but they can become hard to read with <b>larger samples</b>. \n",
    "\n",
    "Rather than showing the <span style=color:blue><i>value of each observation</i></span>, we prefer to think of the value as belonging to a <span style=color:blue><b>bin</b></span>.   \n",
    "\n",
    "These <span style=color:blue><b>bins</span> - ***(counts)*** are plotted as <span style=color:blue><u>bars</u></span> into what is called a <span style=color:blue><b><u>Histogram</u></b></span>."
   ]
  },
  {
   "cell_type": "markdown",
   "metadata": {},
   "source": [
    "<span style=color:blue><b><u>Histogram</u></b></span> provide a view of the <span style=color:blue>data density</span>. Higher bars represent where the data are relatively more common.\n",
    "\n",
    "<span style=color:blue><b><u>Histogram</u></b></span> are especially convenient for describing the <span style=color:blue><i>shape of the data distribution</i></span>.\n",
    "\n",
    "- When data <b>trail off</b> to the right and have a longer right tail, the shape is said to be\n",
    "<span style=color:blue><b><u>Right Skewed</u></b></span> or also called <span style=color:blue><b><u>Skewed to the Positive End</u></b></span>.   \n",
    "$%$   \n",
    "- Contrary, data with the <b>reverse</b> characteristic – <i>a long, thin tail to the left</i> – are said to be <span style=color:blue><b><u>Left Skewed</u></b></span>. We also say that such a distribution has a <span style=color:blue>long left tail</span>.   \n",
    "$%$   \n",
    "- Data that show roughly <b>equal</b> trailing off in both directions are called <span style=color:blue><b><u>Symmetric</u></b></span>."
   ]
  },
  {
   "cell_type": "code",
   "execution_count": null,
   "metadata": {
    "ExecuteTime": {
     "end_time": "2021-01-20T17:25:49.287023Z",
     "start_time": "2021-01-20T17:25:49.160361Z"
    }
   },
   "outputs": [],
   "source": [
    "dbe.describe()"
   ]
  },
  {
   "cell_type": "code",
   "execution_count": null,
   "metadata": {
    "ExecuteTime": {
     "end_time": "2021-01-20T17:25:00.214525Z",
     "start_time": "2021-01-20T17:24:59.868449Z"
    }
   },
   "outputs": [],
   "source": [
    "dbe.hist(['num_char'], bins=14)\n",
    "plt.title('Spam email - # Characters')\n",
    "plt.ylabel('Frequency')\n",
    "plt.xlabel('# Characters (in thousands)')"
   ]
  },
  {
   "cell_type": "markdown",
   "metadata": {},
   "source": [
    "<div class=\"alert alert-warning alert-warning\"><b><u>Long tails to identify skew</u></b>\n",
    "\n",
    "When data trail off in one direction, the distribution has a <b>long tail</b>. If a distribution has a long left tail, it is <b>Left Skewed</b>. If a distribution has a long right tail, it is <b>Right Skewed</b>.\n",
    "</div>"
   ]
  },
  {
   "cell_type": "markdown",
   "metadata": {},
   "source": [
    "### <span style=color:darkred>Modal Distribution</span>"
   ]
  },
  {
   "cell_type": "markdown",
   "metadata": {},
   "source": [
    "In addition to looking at whether a distribution is <span style=color:blue>Skewed</span> or <span style=color:blue>Symmetric</span>, histograms can be used to identify <span style=color:blue><b>Modes</b></span>.   \n",
    "$%$   \n",
    "A <span style=color:blue><b>mode</b></span> is the <span style=color:blue><i>value with the <b>most occurrences</b></i></span>.   \n",
    "$%$   \n",
    "However, It is common to have <span style=color:red><b>no</b> observations</span> with the same value in a dataset, which makes, <span style=color:blue><b>mode</b></span>, <span style=color:red>useless</span> for many real datasets.\n",
    "\n",
    "A <span style=color:blue><b>mode</b></span> is represented by a prominent peak in the <span style=color:blue>distribution</span>. There is only one prominent peak in the histogram of <b>num_char</b>."
   ]
  },
  {
   "cell_type": "markdown",
   "metadata": {},
   "source": [
    "<span style=color:blue>Histogram</span> that have one, two, or three prominent peaks are called <span style=color:blue><b><u>Unimodal,$\\:$ Bimodal,$\\:$ and $\\:$ Multimodal,</u></b></span> respectively. \n",
    "\n",
    "Any <span style=color:blue>distribution</span> with more than 2 prominent peaks is called <span style=color:blue>Multimodal</span>. \n",
    "\n",
    "Notice that there was <b>one prominent peak</b> in the <span style=color:blue>Unimodal</span> distribution with a <b>second less prominent peak</b> that was <b><u>not counted</u></b> since it only differs from its neighboring <span style=color:blue><b>bins</b></span> by a few <span style=color:blue>observations</span>."
   ]
  },
  {
   "attachments": {
    "Modal%20Distribution_small.jpg": {
     "image/jpeg": "[encoded data removed]"
    }
   },
   "cell_type": "markdown",
   "metadata": {},
   "source": [
    "![Modal%20Distribution_small.jpg](attachment:Modal%20Distribution_small.jpg)"
   ]
  },
  {
   "cell_type": "markdown",
   "metadata": {},
   "source": [
    "<div class=\"alert alert-warning alert-warning\"><b><u>Looking for modes</u></b>\n",
    "\n",
    "Looking for <b>modes</b> isn’t about finding a clear and correct answer about the number of <b>modes</b> in a <b>distribution</b>. \n",
    "\n",
    "The important part of this examination is to better understand your data and how it might be structured.</div>"
   ]
  },
  {
   "cell_type": "markdown",
   "metadata": {},
   "source": [
    "<div class=\"alert alert-block alert-info\"><font size=\"5\"><center><b><u>Statistical Foundations for Data Scientist</u></b></center></font>\n",
    "\n",
    "\\begin{align*}Alex\\:Kumenius\\end{align*}\n",
    "\\begin{align*}Business\\hspace{2mm}Intelligence\\hspace{2mm}and\\hspace{2mm}Data\\hspace{2mm}Scientist\\hspace{2mm}Project\\hspace{2mm}Integrator\\end{align*}\n",
    "$%$       \n",
    "\\begin{align*}Date : Gener\\hspace{2mm}2021\\end{align*}</div>"
   ]
  },
  {
   "cell_type": "markdown",
   "metadata": {},
   "source": [
    "# <span style=color:darkblue>SUMMARY STATISTICS</span>"
   ]
  },
  {
   "cell_type": "markdown",
   "metadata": {},
   "source": [
    "## <span style=color:darkgreen>Mean - Average</span>"
   ]
  },
  {
   "cell_type": "markdown",
   "metadata": {},
   "source": [
    "The <span style=color:blue><b>mean</b></span>, sometimes called the <span style=color:blue><b>average</b></span>, is a common way to measure the <span style=color:blue><b>center of a distribution of data</b></span>. \n",
    "\n",
    "To find the <span style=color:blue><b>mean</b></span> <span style=color:blue>number of characters <b>(num_char)</b></span> in the <b>50</b> emails, we <b>add up</b> all the character counts and <b>divide</b> by the number of emails. \n",
    "\n",
    "For <b>computational convenience</b>, the number of characters is listed in the <b>thousands</b> and <b>rounded</b> to the first decimal."
   ]
  },
  {
   "cell_type": "markdown",
   "metadata": {},
   "source": [
    "\\begin{align*}\\bar{x}\\:=\\:\\frac{21.7+7.0\\:+\\:...\\:+\\:15.80}{50}\\:=\\: 11.6\\end{align*}"
   ]
  },
  {
   "cell_type": "code",
   "execution_count": null,
   "metadata": {
    "ExecuteTime": {
     "end_time": "2020-10-21T15:39:20.479123Z",
     "start_time": "2020-10-21T15:39:20.467156Z"
    }
   },
   "outputs": [],
   "source": [
    "dbe.num_char.mean().round(3)"
   ]
  },
  {
   "cell_type": "markdown",
   "metadata": {},
   "source": [
    "The <span style=color:blue><b>sample mean</b></span> is often labeled <span style=color:blue><b>$\\bar{x}$</b></span>. The letter <span style=color:blue><b>$x$</b></span> is being used as a <b>generic placeholder</b> for the variable of interest, $num$_$char$, and the <b><i>bar over on the x</i></b> communicates that the <b>average</b> number of characters in the <b>50</b> emails is <b>11,6</b>. "
   ]
  },
  {
   "cell_type": "markdown",
   "metadata": {},
   "source": [
    "<div class=\"alert alert-warning alert-warning\"><b><u>Mean</u></b>\n",
    "\n",
    "The <b><u>sample mean</u></b> <span style=color:blue><b>$\\bar{x}$</b></span> of a <em>numerical variable</em> is computed as the <b>sum</b> of all of the <em>observations</em> <b>divided</b> by the number of <em>observations</em>:   \n",
    "$%$   \n",
    "\\begin{align*}\\bar{x}\\:=\\:\\frac{x_1\\:+\\:x_2\\:+\\:· · ·\\:+\\:x_n}{n}\\end{align*}   \n",
    "$%$   \n",
    "where <b>$x_1$, $x_2$, . . . ,$x_n$</b> represent the <b>$n$</b> observed values.   \n",
    "$%$   \n",
    "<span style=color:darkred>It is useful to think of the <b>mean</b> as the <u>balancing point</u> of the <b>distribution</b>.</span>\n",
    "</div>"
   ]
  },
  {
   "cell_type": "markdown",
   "metadata": {
    "solution2": "hidden",
    "solution2_first": true
   },
   "source": [
    "<span style=color:red><b><u>EXERCISE - 3.1</u></b></span> \n",
    "\n",
    "Compare both Equations above. \n",
    "\n",
    "* What does $x_1$ correspond to ?,   \n",
    "* and **$x_2$** ?   \n",
    "* Can you infer a general meaning to what $x_i$ might represent?\n",
    "* What was $n$ in this sample of emails?"
   ]
  },
  {
   "cell_type": "markdown",
   "metadata": {
    "solution2": "hidden"
   },
   "source": [
    "<span style=color:green><b><u>SOLUTION - 3.1</u></b></span> \n",
    "\n",
    "\n",
    "* $x_1$ corresponds to the number of characters in the first email in the sample (21.7, in thousands), \n",
    "* $x_2$ to the number of characters in the second email (7.0, in thousands), and \n",
    "* $x_i$ corresponds to the number of characters in the $i^{th}$ email in the dataset.\n",
    "* The sample size was $n$ = <b>50</b>."
   ]
  },
  {
   "cell_type": "markdown",
   "metadata": {},
   "source": [
    "<div class=\"alert alert-warning alert-warning\"><b><u>Population Mean</u></b>\n",
    "\n",
    "The <span style=color:blue><b><u>Population mean</u></b></span> has a special label :  <span style=color:blue>$\\mu$</span>. The symbol <span style=color:blue>$\\mu$</span> is the $Greek$ letter <span style=color:blue>$mu$</span> and represents the <span style=color:blue>average/mean of all observations in the <b>Population</b></span>.   \n",
    "$%$   \n",
    "Sometimes a subscript, such as <span style=color:blue><b>$_x$</b></span>, is used to represent which variable the <span style=color:blue><b>population mean</b></span> refers to, e.g. <span style=color:blue><b>$\\mu_x$</b></span>\n",
    "</div>"
   ]
  },
  {
   "cell_type": "markdown",
   "metadata": {
    "solution2": "hidden",
    "solution2_first": true
   },
   "source": [
    "<span style=color:red><b><u>EXERCISE - 3.2</u></b></span>\n",
    "\n",
    "The <span style=color:blue>average</span> number of characters across all emails (<span style=color:blue><b>population</b></span>) can be estimated using the <span style=color:blue><b>sample data</b></span>.   \n",
    "\n",
    "Based on the <span style=color:blue>sample</span> of <b>50</b> $emails$, what would be a reasonable estimate of <span style=color:blue><b>$\\mu_x$</b></span>, the <span style=color:blue><b>mean</b></span> number of characters in all emails in the email dataset? (Recall that $email50$ is a sample from $email$.)"
   ]
  },
  {
   "cell_type": "markdown",
   "metadata": {
    "solution2": "hidden"
   },
   "source": [
    "<span style=color:green><b><u>SOLUTION - 3.2</u></b></span>\n",
    "\n",
    "\n",
    "The <span style=color:blue>sample mean</span>, <b>11,6</b>, may provide a reasonable estimate of <span style=color:blue>$\\mu_x$</span>.   \n",
    "\n",
    "While this number will not be perfect, it provides a <span style=color:blue><em><b>point estimate</b></em></span> of the <span style=color:blue>population mean</span>."
   ]
  },
  {
   "cell_type": "markdown",
   "metadata": {},
   "source": [
    "## <span style=color:darkgreen>Variance and Standard Deviation</span>"
   ]
  },
  {
   "cell_type": "code",
   "execution_count": null,
   "metadata": {
    "ExecuteTime": {
     "end_time": "2020-10-21T15:39:20.490094Z",
     "start_time": "2020-10-21T15:39:20.482114Z"
    }
   },
   "outputs": [],
   "source": [
    "dbe.num_char.mean()- dbe.num_char.std()"
   ]
  },
  {
   "cell_type": "markdown",
   "metadata": {},
   "source": [
    "### <span style=color:darkred>Variance</span>"
   ]
  },
  {
   "cell_type": "markdown",
   "metadata": {},
   "source": [
    "The <span style=color:blue><b>mean</b></span> was introduced as a method to describe the <span style=color:blue>center of a data set</span>, but the <span style=color:blue><b><u>variability in the data</u></b></span> is also <b>important</b>.   \n",
    "\n",
    "We introduce <span style=color:blue><b><u>two measures of variability</u></b></span>: the <span style=color:blue><b><u>Variance</u></b></span> and the <span style=color:blue><b><u>Standard Deviation</u></b></span>. Both are very useful in data analysis.   \n",
    "\n",
    "The <span style=color:blue><b>Standard Deviation</b></span> describes <b>how far away</b> the typical <b>observation</b> is from the <span style=color:blue>mean</span>."
   ]
  },
  {
   "cell_type": "markdown",
   "metadata": {},
   "source": [
    "We call the <span style=color:blue><em>distance of an observation from its mean</em></span> its <span style=color:blue><b><u>Deviation</u></b></span>. \n",
    "\n",
    "Below are the <b>deviations</b> for the 1st, 2nd, 3rd, and 50th observations in the <b>num_char</b> variable. For computational convenience, the number of characters is listed in the thousands and rounded to the first decimal."
   ]
  },
  {
   "cell_type": "code",
   "execution_count": null,
   "metadata": {
    "ExecuteTime": {
     "end_time": "2020-10-21T15:39:20.501064Z",
     "start_time": "2020-10-21T15:39:20.493086Z"
    }
   },
   "outputs": [],
   "source": [
    "dbe.num_char.iloc[[1], ]"
   ]
  },
  {
   "cell_type": "markdown",
   "metadata": {},
   "source": [
    "\\begin{align*}x_1\\:−\\:\\bar{x} = 21.7 − 11.6 = 10.1\\end{align*}\n",
    "\\begin{align*}x_2\\:−\\:\\bar{x} =\\hspace{2.5mm}7.0 − 11.6 = −4.6\\end{align*}\n",
    "\\begin{align*}x_3\\:−\\:\\bar{x} =\\hspace{2.5mm}0.6 − 11.6 = −11.0\\end{align*}\n",
    "\\begin{align*}.\\end{align*}\n",
    "\\begin{align*}.\\end{align*}\n",
    "\\begin{align*}.\\end{align*}\n",
    "\\begin{align*}x_{50} − \\bar{x} = 15.8 − 11.6 = 4.2\\end{align*}"
   ]
  },
  {
   "cell_type": "markdown",
   "metadata": {},
   "source": [
    "If we **square** these <span style=color:blue><b>deviation</b></span> and then take an **average**, the result is about equal to the <span style=color:blue><b>sample variance</b></span>, denoted by <span style=color:blue><b>$s^2$</b></span>:"
   ]
  },
  {
   "cell_type": "markdown",
   "metadata": {},
   "source": [
    "\\begin{align*}s^2\\:=\\:\\frac{10.1^2 + (−4.6)^2 + (−11.0)^2 + · · · + 4.2^2}{50 − 1} = 172,44\\end{align*}"
   ]
  },
  {
   "cell_type": "markdown",
   "metadata": {},
   "source": [
    "<div class=\"alert alert-warning alert-warning\"><b><u>Sample Variance $s^2$</u></b>   \n",
    "\n",
    "We divide by $n\\:−\\:1$, rather than dividing by $n$, when computing the <span style=color:blue><b>Variance</b></span>.   \n",
    "$%$   \n",
    "<span style=color:blue>squaring the deviations</span> does two things: \n",
    "\n",
    "- First, it <span style=color:blue>makes large values much larger</span>, seen by comparing $10.1^2$, $(−4.6)^2$, $(−11.0)^2$, and $4.2^2$. \n",
    "- Second, it <span style=color:blue>gets rid of any negative signs</span>.   \n",
    "$%$   \n",
    "The <b>variance</b> is roughly the <span style=color:blue>average squared distance</span> from the <b>mean</b>.\n",
    "</div>"
   ]
  },
  {
   "cell_type": "markdown",
   "metadata": {},
   "source": [
    "### <span style=color:darkred>Standard Deviation</span>"
   ]
  },
  {
   "cell_type": "markdown",
   "metadata": {},
   "source": [
    "<div class=\"alert alert-warning alert-warning\"><b><u>Standard Deviation</u></b>   \n",
    "\n",
    "The <b>Standard Deviation</b> is defined as the <b>square root</b> of the <span style=color:blue><b>Variance</b></span> :   \n",
    "$%$   \n",
    "\\begin{align*}s = \\sqrt{172.44} = 13.13\\end{align*}   \n",
    "$%$   \n",
    "The <b>Standard Deviation</b> is useful when considering how close the data are to the <b>Mean</b>.   \n",
    "$%$   \n",
    "Formulas and methods used to compute the <b>Variance</b> and <b>Standard Deviation</b> for a <b>Population</b> are similar to those used for a <b>sample</b><i> (The only difference is that the <b>Population Variance</b> has a division by $n$ instead of $n - 1$ )</i>.   \n",
    "$%$   \n",
    "However, like the <b>Mean</b>, the <b>Population</b> values have special symbols : \n",
    "- $\\sigma^2$ for the <b>Variance</b> and \n",
    "- $\\sigma$ for the <b>Standard Deviation</b>. \n",
    "\n",
    "The symbol $\\sigma$ is the $Greek$ letter $sigma$.\n",
    "</div>"
   ]
  },
  {
   "cell_type": "code",
   "execution_count": null,
   "metadata": {
    "ExecuteTime": {
     "end_time": "2021-01-20T17:27:42.268974Z",
     "start_time": "2021-01-20T17:27:42.261994Z"
    }
   },
   "outputs": [],
   "source": [
    "dbe.num_char.std().round(3)"
   ]
  },
  {
   "cell_type": "markdown",
   "metadata": {},
   "source": [
    "<span style=color:blue>Standard Deviation</span> describes <span style=color:blue>Variability</span>, so focus on the conceptual meaning of the <span style=color:blue>Standard Deviation</span> as a descriptor of <span style=color:blue>Variability</span> rather than the formulas. \n",
    "\n",
    "Usually <b>70%</b> of the data will be within <span style=color:blue>one standard deviation of the mean</span> and about <b>95%</b> will be within <span style=color:blue>two standard deviations</span> two standard deviations. However, these <b>percentages are not strict rules</b>."
   ]
  },
  {
   "attachments": {
    "Std.jpg": {
     "image/jpeg": "[encoded data removed]"
    }
   },
   "cell_type": "markdown",
   "metadata": {
    "solution2": "hidden",
    "solution2_first": true
   },
   "source": [
    "<span style=color:red><b><u>EXERCISE - 3.6</u></b></span> \n",
    "\n",
    "A good <span style=color:blue>description of the shape of a distribution</span> should include <span style=color:blue>modality</span> and whether the <span style=color:blue>distribution</span> is <span style=color:blue>symmetric or skewed</span> to one side. \n",
    "\n",
    "Explore the figure as an example, explain why such a description is important :\n",
    "\n",
    "![Std.jpg](attachment:Std.jpg)"
   ]
  },
  {
   "cell_type": "markdown",
   "metadata": {
    "solution2": "hidden"
   },
   "source": [
    "<span style=color:green><b><u>SOLUTION - 3.6</u></b></span> \n",
    "\n",
    "Figure shows three distributions that look quite different, but all have the same <b>Mean, Variance</b>, and <b>Standard Deviation</b>. \n",
    "\n",
    "Using <b>Modality</b>, we can distinguish between the first plot (<b>bimodal</b>) and the last two (<b>unimodal</b>). \n",
    "\n",
    "Using <b>Skewness</b>, we can distinguish between the last plot (<b>right skewed</b>) and the first two. \n",
    "\n",
    "While a picture, like a <b>histogram</b>, tells a more <b>complete</b> story, we can use <b>Modality</b> and shape (<b>Symmetry/Skew</b>) to characterize basic information about a <b>distribution</b>."
   ]
  },
  {
   "cell_type": "code",
   "execution_count": null,
   "metadata": {
    "ExecuteTime": {
     "end_time": "2020-10-21T15:39:20.817218Z",
     "start_time": "2020-10-21T15:39:20.515032Z"
    }
   },
   "outputs": [],
   "source": [
    "dbe.hist(['num_char'], bins=15)\n",
    "plt.title('Spam email - # Characters')\n",
    "plt.ylabel('Frequency')\n",
    "plt.xlabel('# Characters (in thousands)')"
   ]
  },
  {
   "cell_type": "markdown",
   "metadata": {
    "solution2": "hidden",
    "solution2_first": true
   },
   "source": [
    "<span style=color:red><b><u>EXERCISE - 3.7</u></b></span> \n",
    "\n",
    "Describe the <b>distribution</b> of the <b>num_char</b> variable using the histogram display above. \n",
    "\n",
    "The description should incorporate the center, variability, and shape of the distribution, and it should also be placed in context: the <b>number of characters</b> in emails. Also note any especially <b>unusual cases</b>."
   ]
  },
  {
   "cell_type": "markdown",
   "metadata": {
    "solution2": "hidden"
   },
   "source": [
    "<span style=color:green><b><u>SOLUTION - 3.7</u></b></span> \n",
    "\n",
    "The distribution of email character counts is <b>unimodal</b> and very <b>strongly skewed to the high end</b>. Many of the counts fall near the <b>Mean at 11,6</b>, and most fall within <b>one Standard Deviation (13,130)</b> of the <b>mean</b>. There is <b>one exceptionally long email</b> with about 65,000 characters."
   ]
  },
  {
   "cell_type": "code",
   "execution_count": null,
   "metadata": {
    "ExecuteTime": {
     "end_time": "2020-10-21T15:39:20.827192Z",
     "start_time": "2020-10-21T15:39:20.820211Z"
    }
   },
   "outputs": [],
   "source": [
    "dbe.num_char.std().round(2)"
   ]
  },
  {
   "cell_type": "markdown",
   "metadata": {},
   "source": [
    "We will use the <span style=color:blue><b>Variance</b></span> and <span style=color:blue><b>Standard Deviation</b></span> to <b>assess how close</b> the <span style=color:blue>Sample Mean ($\\bar{x}$)</span> is to the <span style=color:blue>Population Mean ($\\mu$)</span>."
   ]
  },
  {
   "attachments": {
    "County%20codebook.gif": {
     "image/gif": "[encoded data removed]"
    }
   },
   "cell_type": "markdown",
   "metadata": {},
   "source": [
    "![County%20codebook.gif](attachment:County%20codebook.gif)"
   ]
  },
  {
   "cell_type": "code",
   "execution_count": null,
   "metadata": {
    "ExecuteTime": {
     "end_time": "2020-10-21T15:39:22.386022Z",
     "start_time": "2020-10-21T15:39:20.830185Z"
    }
   },
   "outputs": [],
   "source": [
    "fig = plt.figure(figsize=(10,8))\n",
    "\n",
    "ax1 = fig.add_subplot(2, 2, 1)\n",
    "\n",
    "ax1.hist(county['multiunit'], bins=25)\n",
    "plt.title('County - 2010 Population')\n",
    "plt.ylabel('Frequency')\n",
    "plt.xlabel('multi unit (%)')\n",
    "\n",
    "ax2 = fig.add_subplot(2, 2, 2)\n",
    "\n",
    "ax2.hist(county['income'], bins=25)\n",
    "\n",
    "plt.title('2010 County Population')\n",
    "plt.ylabel('Frequency')\n",
    "plt.xlabel('Per Capita Income')\n",
    "\n",
    "ax3 = fig.add_subplot(2, 2, 3)\n",
    "\n",
    "ax3.hist(county['homeownership'], bins=25)\n",
    "plt.title('2010 County Population')\n",
    "plt.ylabel('Frequency')\n",
    "plt.xlabel('Homeownership (%)')\n",
    "\n",
    "ax4 = fig.add_subplot(2, 2, 4)\n",
    "\n",
    "ax4.hist(county['med_income'], bins=25)\n",
    "\n",
    "plt.title('2010 County Population')\n",
    "plt.ylabel('Frequency')\n",
    "plt.xlabel('Median Household Imcome')\n",
    "\n",
    "plt.tight_layout()"
   ]
  },
  {
   "cell_type": "code",
   "execution_count": null,
   "metadata": {
    "ExecuteTime": {
     "end_time": "2020-10-21T15:39:24.384675Z",
     "start_time": "2020-10-21T15:39:22.389014Z"
    }
   },
   "outputs": [],
   "source": [
    "fig = plt.figure(figsize=(20,5))\n",
    "\n",
    "ax1 = fig.add_subplot(1, 4, 1)\n",
    "\n",
    "ax1.hist(county['multiunit'], bins=25)\n",
    "plt.title('2010 County Population')\n",
    "plt.ylabel('Frequency')\n",
    "plt.xlabel('multi unit (%)')\n",
    "\n",
    "ax2 = fig.add_subplot(1, 4, 2)\n",
    "\n",
    "ax2.hist(county['income'], bins=25)\n",
    "\n",
    "plt.title('2010 County Population')\n",
    "plt.ylabel('Frequency')\n",
    "plt.xlabel('Per Capita Income')\n",
    "\n",
    "ax3 = fig.add_subplot(1, 4, 3)\n",
    "\n",
    "ax3.hist(county['homeownership'], bins=25)\n",
    "plt.title('2010 County Population')\n",
    "plt.ylabel('Frequency')\n",
    "plt.xlabel('Homeownership (%)')\n",
    "\n",
    "ax4 = fig.add_subplot(1, 4, 4)\n",
    "\n",
    "ax4.hist(county['med_income'], bins=25)\n",
    "\n",
    "plt.title('2010 County Population')\n",
    "plt.ylabel('Frequency')\n",
    "plt.xlabel('Median Household Imcome')\n",
    "\n",
    "# plt.tight_layout(pad=0.4, w_pad=0.5, h_pad=1.0)\n",
    "plt.tight_layout()"
   ]
  },
  {
   "cell_type": "code",
   "execution_count": null,
   "metadata": {
    "ExecuteTime": {
     "end_time": "2020-10-21T15:39:24.573171Z",
     "start_time": "2020-10-21T15:39:24.388664Z"
    }
   },
   "outputs": [],
   "source": [
    "dbe.describe().round(3)"
   ]
  },
  {
   "cell_type": "markdown",
   "metadata": {},
   "source": [
    "## <span style=color:darkgreen>BOX PLOTS</span>"
   ]
  },
  {
   "cell_type": "markdown",
   "metadata": {},
   "source": [
    "A <span style=color:blue>Box Plot</span> summarizes a dataset using <span style=color:blue><b><i>five statistics</i></b></span> while also plotting <span style=color:blue>unusual observations - <b>Anomalies or Outliers</b></span>."
   ]
  },
  {
   "cell_type": "markdown",
   "metadata": {},
   "source": [
    "### <span style=color:darkred>Quartiles, and the Median</span>"
   ]
  },
  {
   "cell_type": "code",
   "execution_count": null,
   "metadata": {
    "ExecuteTime": {
     "end_time": "2021-01-20T17:46:13.044511Z",
     "start_time": "2021-01-20T17:46:13.038527Z"
    }
   },
   "outputs": [],
   "source": [
    "dbe.shape"
   ]
  },
  {
   "cell_type": "code",
   "execution_count": null,
   "metadata": {
    "ExecuteTime": {
     "end_time": "2021-01-20T17:46:14.189209Z",
     "start_time": "2021-01-20T17:46:14.100447Z"
    }
   },
   "outputs": [],
   "source": [
    "dbe.describe()"
   ]
  },
  {
   "cell_type": "code",
   "execution_count": null,
   "metadata": {
    "ExecuteTime": {
     "end_time": "2021-01-20T17:46:22.370118Z",
     "start_time": "2021-01-20T17:46:22.357153Z"
    }
   },
   "outputs": [],
   "source": [
    "(dbe['num_char']).describe()"
   ]
  },
  {
   "cell_type": "markdown",
   "metadata": {},
   "source": [
    "The median (6,890), splits the data into the bottom 50% and the top 50%, marked in the dot plot by horizontal dashes and open circles, respectively."
   ]
  },
  {
   "cell_type": "code",
   "execution_count": null,
   "metadata": {
    "ExecuteTime": {
     "end_time": "2021-01-20T17:46:30.071818Z",
     "start_time": "2021-01-20T17:46:30.065834Z"
    }
   },
   "outputs": [],
   "source": [
    "(dbe['num_char']).median().round(3)"
   ]
  },
  {
   "cell_type": "markdown",
   "metadata": {},
   "source": [
    "The first step in building a <span style=color:blue><b>box plot</b></span> is drawing a dark line denoting the <span style=color:blue><b>median</b></span>, which <b>splits</b> the data in half. <b>50%</b> of the data falling below the <span style=color:blue><b>median</b></span> and other <b>50%</b> falling above the <span style=color:blue><b>median</b></span>.\n",
    "\n",
    "There are $50$ character counts in the **dataset** (an even number) so the data are perfectly split into two groups of $25$.\n",
    "We take the <span style=color:blue><b>median</b></span> in this case to be the <span style=color:blue><b>average</b></span> of the two observations closest to the 50th percentile:   \n",
    "\n",
    "$(6,768+7,012)/2 = 6,890$. \n",
    "\n",
    "When there are an odd number of observations, there will be exactly one observation that splits the data into two halves, and in such a case that observation is the <span style=color:blue><b>median</b></span> (no average needed)."
   ]
  },
  {
   "cell_type": "code",
   "execution_count": null,
   "metadata": {
    "ExecuteTime": {
     "end_time": "2021-01-20T17:46:35.025472Z",
     "start_time": "2021-01-20T17:46:34.881855Z"
    },
    "scrolled": true
   },
   "outputs": [],
   "source": [
    "sns.set(style=\"whitegrid\")\n",
    "ax = sns.boxplot(x=dbe[\"num_char\"], color='lightblue', fliersize=5,  orient='v', linewidth=1 , width=0.3)"
   ]
  },
  {
   "cell_type": "markdown",
   "metadata": {},
   "source": [
    "<div class=\"alert alert-warning alert-warning\"><b><u>Median</u></b>\n",
    "\n",
    "If the data are <b>ordered from smallest to largest</b>, the <b>median</b> is the <b><u>observation</u></b> right in the <b>middle</b>.\n",
    "\n",
    "If there are an even number of observations, there will be two values in the middle, and the <b>median</b> is taken as their average.</div>"
   ]
  },
  {
   "cell_type": "markdown",
   "metadata": {},
   "source": [
    "The second step in building a box plot is drawing a rectangle to represent the middle $50%$ of the data. The total length of the box, is called the <span style=color:blue><b>interquartile range (IQR)</b></span>. It, like the <span style=color:blue><b>Standard Deviation</b></span>, is a measure of <b>Variability</b> in data. The <span style=color:red>more variable the data</span>, the larger the <span style=color:blue><b>Standard Deviation</b></span> and <span style=color:blue><b>IQR</b></span>.\n",
    "\n",
    "The <b>two boundaries</b> of the box are called the <span style=color:blue><b>first quartile</b></span> (the $25^{th}$ percentile),  i.e. $25%$ of the data fall below this value and the <span style=color:blue><b>third quartile</b></span> (the $75^{th}$ percentile), and these are often labeled $Q1$ and $Q3$, respectively."
   ]
  },
  {
   "cell_type": "markdown",
   "metadata": {},
   "source": [
    "<div class=\"alert alert-warning alert-warning\"><b><u>Interquartile range (IQR)</u></b>\n",
    "\n",
    "The IQR is the length of the box in a box plot. It is computed as\n",
    "\n",
    "$$IQR = Q3 − Q1$$\n",
    "\n",
    "where $Q1$ and $Q3$ are the $25^{th}$ and $75^{th}$ percentiles.</div>"
   ]
  },
  {
   "cell_type": "code",
   "execution_count": null,
   "metadata": {
    "ExecuteTime": {
     "end_time": "2021-01-20T17:46:40.918128Z",
     "start_time": "2021-01-20T17:46:40.772515Z"
    }
   },
   "outputs": [],
   "source": [
    "sns.stripplot(x=dbe[\"num_char\"], orient='v', color='darkblue')"
   ]
  },
  {
   "cell_type": "code",
   "execution_count": null,
   "metadata": {
    "ExecuteTime": {
     "end_time": "2021-01-20T17:46:44.546946Z",
     "start_time": "2021-01-20T17:46:44.402325Z"
    }
   },
   "outputs": [],
   "source": [
    "ax = sns.boxplot(y=\"num_char\", data=dbe,  color='lightblue', fliersize=5,  orient='v', linewidth=1 , width=0.3)\n",
    "ax = sns.stripplot(y=dbe[\"num_char\"], orient='v', color='darkblue')"
   ]
  },
  {
   "cell_type": "code",
   "execution_count": null,
   "metadata": {
    "ExecuteTime": {
     "end_time": "2021-01-20T17:46:47.738552Z",
     "start_time": "2021-01-20T17:46:47.729609Z"
    }
   },
   "outputs": [],
   "source": [
    "dbe.num_char"
   ]
  },
  {
   "cell_type": "code",
   "execution_count": null,
   "metadata": {
    "ExecuteTime": {
     "end_time": "2021-01-20T17:46:53.036905Z",
     "start_time": "2021-01-20T17:46:52.813505Z"
    }
   },
   "outputs": [],
   "source": [
    "sns.set(style=\"whitegrid\")\n",
    "ax = sns.boxplot(x=dbe[\"num_char\"], color='lightblue', fliersize=5,  orient='v', linewidth=1 , width=0.3)"
   ]
  },
  {
   "cell_type": "code",
   "execution_count": null,
   "metadata": {
    "ExecuteTime": {
     "end_time": "2021-01-20T17:46:54.877950Z",
     "start_time": "2021-01-20T17:46:54.720373Z"
    }
   },
   "outputs": [],
   "source": [
    "sns.swarmplot(x=dbe[\"num_char\"], orient='v', color='darkblue')"
   ]
  },
  {
   "cell_type": "code",
   "execution_count": null,
   "metadata": {
    "ExecuteTime": {
     "end_time": "2021-01-20T17:46:59.304305Z",
     "start_time": "2021-01-20T17:46:59.152711Z"
    }
   },
   "outputs": [],
   "source": [
    "ax = sns.boxplot(y=\"num_char\", data=dbe,  color='lightblue', fliersize=5,  orient='v', linewidth=1 , width=0.3)\n",
    "ax = sns.swarmplot(y=\"num_char\", data=dbe, color=\"darkblue\", orient=\"v\", size=4)"
   ]
  },
  {
   "cell_type": "markdown",
   "metadata": {
    "solution2": "hidden",
    "solution2_first": true
   },
   "source": [
    "<span style=color:red><b><u>EXERCISE - 3.8</u></b></span> \n",
    "\n",
    "1. What percent of the data fall between Q1 and the median?\n",
    "2. What percent is between the median and Q3?"
   ]
  },
  {
   "cell_type": "markdown",
   "metadata": {
    "solution2": "hidden"
   },
   "source": [
    "<span style=color:green><b><u>SOLUTION - 3.8</u></b></span> \n",
    "\n",
    "1. Since $Q1$ and $Q3$ capture the middle **50%** of the data and the <span style=color:blue>\n",
    "median</span> splits the data in the <span style=color:blue>middle</span>,\n",
    "2. **25%** of the data fall between $Q1$ and the <span style=color:blue>\n",
    "median</span>, and another **25%** falls between the <span style=color:blue>\n",
    "median</span> and $Q3$."
   ]
  },
  {
   "cell_type": "markdown",
   "metadata": {},
   "source": [
    "Extending out from the box, the <span style=color:blue>whiskers</span> attempt to capture the data outside of the box, however, their reach is never allowed to be more than <span style=color:blue><b>$1.5\\hspace{2mm}x\\hspace{2mm}IQR$</b></span>"
   ]
  },
  {
   "cell_type": "markdown",
   "metadata": {},
   "source": [
    "They capture everything within this reach. The <span style=color:blue><b><u>upper whisker</u></b></span> does not extend to the last three points, which is beyond $Q3\\hspace{2mm}+\\hspace{2mm}1.5\\hspace{2mm}x\\hspace{2mm}IQR$, and so it extends only to the last point below this limit. \n",
    "\n",
    "The <span style=color:blue><b><u>lower whisker</u></b></span> stops at the lowest value, **33**, since there is no additional data to reach; the <span style=color:blue><b><u>lower whisker’s limit</u></b></span> is not shown in the figure because the plot does not extend down to $Q1\\hspace{2mm}-\\hspace{2mm}1.5\\hspace{2mm}x\\hspace{2mm}IQR$. In a sense, the box is like the body of the box plot and the <span style=color:blue>whiskers</span> are like its arms trying to reach the rest of the data."
   ]
  },
  {
   "cell_type": "markdown",
   "metadata": {},
   "source": [
    "Any observation that lies beyond the <span style=color:blue>whiskers</span> is labeled with a <span style=color:blue>dot</span>. The purpose of labeling these points – instead of just extending the whiskers to the minimum and maximum observed values – is to help identify any observations that appear to be <span style=color:blue>unusually</span> distant from the rest of the data. <span style=color:blue>Unusually</span> distant observations are called <span style=color:blue><b><u>Outliers</u></b></span>. \n",
    "\n",
    "In this case, it would be reasonable to classify the emails with character counts of 41,623, 42,793, and 64,401 as <span style=color:blue>outliers</span> since they are numerically distant from most of the data."
   ]
  },
  {
   "cell_type": "markdown",
   "metadata": {},
   "source": [
    "<div class=\"alert alert-warning alert-warning\"><b><u>Outlier</u></b>\n",
    "\n",
    "An **outlier** is an *observation* that appears **extreme** relative to the rest of the **data**.   \n",
    "\n",
    "$%$\n",
    "\n",
    "<b><u>Why it is important to look for outliers</u></b>\n",
    "\n",
    "Examination of data for possible **outliers** serves many useful purposes, including :\n",
    "\n",
    "1. Identifying strong **skew** in the distribution.\n",
    "2. Identifying data collection or **entry errors**. For instance, we re-examined the \n",
    "    email purported to have 64,401 characters to ensure this value was accurate.\n",
    "3. Providing **insight** into interesting **properties** of the **data**.\n",
    "</div>"
   ]
  },
  {
   "cell_type": "markdown",
   "metadata": {
    "solution2": "hidden",
    "solution2_first": true
   },
   "source": [
    "<span style=color:red><b><u>EXERCISE - 3.9</u></b></span> \n",
    "\n",
    "estimate the following values for **num_char** in the $email50$ dataset: \n",
    "\n",
    "a).- $Q1$,   \n",
    "b).- $Q3$, and    \n",
    "c).- $IQR$"
   ]
  },
  {
   "cell_type": "markdown",
   "metadata": {
    "solution2": "hidden"
   },
   "source": [
    "<span style=color:green><b><u>SOLUTION - 3.9</u></b></span> \n",
    "\n",
    "These visual estimates will vary a little from one person to the next: Q1 = 3,000, Q3 = 15,000, IQR = Q3 - Q1 = 12,000. \n",
    "\n",
    "(The true values: Q1 = 2,536, Q3 = 15,411, IQR = 12,875.)"
   ]
  },
  {
   "cell_type": "markdown",
   "metadata": {
    "ExecuteTime": {
     "end_time": "2021-02-03T09:41:38.793827Z",
     "start_time": "2021-02-03T09:41:38.790832Z"
    }
   },
   "source": [
    "## <span style=color:red>Ejercicio Practico -- Scatter Plots</span>"
   ]
  },
  {
   "cell_type": "markdown",
   "metadata": {},
   "source": [
    "<span style=color:blue>Scatter Plots o Gráficos de Puntos</span> pueden ser muy utiles para examinar las relationes existentes entre dos series de datos uni-dimensionales. \n",
    "\n",
    "Usaremos el dataset <span style=color:darkred>tips</span>, selecionaremos unas cuantas variables. "
   ]
  },
  {
   "cell_type": "code",
   "execution_count": null,
   "metadata": {
    "ExecuteTime": {
     "end_time": "2021-02-03T10:44:23.026751Z",
     "start_time": "2021-02-03T10:44:22.986904Z"
    }
   },
   "outputs": [],
   "source": [
    "tips = pd.read_csv('C:\\\\Users\\INTEL\\\\seaborn-data\\\\tips.csv', sep = ',', encoding = 'utf-8')\n",
    "tips.head()"
   ]
  },
  {
   "cell_type": "code",
   "execution_count": null,
   "metadata": {
    "ExecuteTime": {
     "end_time": "2021-02-03T11:03:20.033469Z",
     "start_time": "2021-02-03T11:03:20.026519Z"
    }
   },
   "outputs": [],
   "source": [
    "tips.shape"
   ]
  },
  {
   "cell_type": "code",
   "execution_count": null,
   "metadata": {
    "ExecuteTime": {
     "end_time": "2021-02-03T13:44:38.408684Z",
     "start_time": "2021-02-03T13:44:38.403719Z"
    }
   },
   "outputs": [],
   "source": [
    "tips.ndim"
   ]
  },
  {
   "cell_type": "code",
   "execution_count": null,
   "metadata": {
    "ExecuteTime": {
     "end_time": "2021-02-03T11:03:56.442591Z",
     "start_time": "2021-02-03T11:03:56.436940Z"
    }
   },
   "outputs": [],
   "source": [
    "tips.columns"
   ]
  },
  {
   "cell_type": "code",
   "execution_count": null,
   "metadata": {
    "ExecuteTime": {
     "end_time": "2021-02-03T13:43:40.448957Z",
     "start_time": "2021-02-03T13:43:40.439982Z"
    }
   },
   "outputs": [],
   "source": [
    "tips.dtypes"
   ]
  },
  {
   "cell_type": "code",
   "execution_count": null,
   "metadata": {
    "ExecuteTime": {
     "end_time": "2021-02-03T11:05:04.066575Z",
     "start_time": "2021-02-03T11:05:04.037650Z"
    }
   },
   "outputs": [],
   "source": [
    "tips['tip_pct'] = round((tips['tip'] / (tips['total_bill'] - tips['tip']))*100, 2)\n",
    "tips.head()"
   ]
  },
  {
   "cell_type": "code",
   "execution_count": null,
   "metadata": {
    "ExecuteTime": {
     "end_time": "2021-02-03T11:07:34.619112Z",
     "start_time": "2021-02-03T11:07:34.048334Z"
    }
   },
   "outputs": [],
   "source": [
    "sns.barplot(x='tip_pct', y='day', data=tips, orient=\"h\")\n",
    "plt.show()"
   ]
  },
  {
   "cell_type": "code",
   "execution_count": null,
   "metadata": {
    "ExecuteTime": {
     "end_time": "2021-02-03T11:08:24.788942Z",
     "start_time": "2021-02-03T11:08:24.084824Z"
    }
   },
   "outputs": [],
   "source": [
    "sns.barplot(x='tip_pct', y='day', hue='time', data=tips, orient='h')\n",
    "plt.show()\n",
    "sns.set(style=\"darkgrid\")"
   ]
  },
  {
   "cell_type": "code",
   "execution_count": null,
   "metadata": {
    "ExecuteTime": {
     "end_time": "2021-02-03T11:10:00.119625Z",
     "start_time": "2021-02-03T11:10:00.078734Z"
    }
   },
   "outputs": [],
   "source": [
    "tips.describe()"
   ]
  },
  {
   "cell_type": "code",
   "execution_count": null,
   "metadata": {
    "ExecuteTime": {
     "end_time": "2021-02-03T11:13:07.182194Z",
     "start_time": "2021-02-03T11:13:07.129549Z"
    }
   },
   "outputs": [],
   "source": [
    "round(tips.describe(include='all'), 3)"
   ]
  },
  {
   "cell_type": "code",
   "execution_count": null,
   "metadata": {
    "ExecuteTime": {
     "end_time": "2021-02-03T11:26:48.896016Z",
     "start_time": "2021-02-03T11:26:48.886044Z"
    }
   },
   "outputs": [],
   "source": [
    "tips.isnull().sum()/len(tips)"
   ]
  },
  {
   "cell_type": "code",
   "execution_count": null,
   "metadata": {
    "ExecuteTime": {
     "end_time": "2021-02-03T11:30:50.558099Z",
     "start_time": "2021-02-03T11:30:50.546131Z"
    }
   },
   "outputs": [],
   "source": [
    "round((tips['tip']).describe(), 3)"
   ]
  },
  {
   "cell_type": "code",
   "execution_count": null,
   "metadata": {
    "ExecuteTime": {
     "end_time": "2021-02-03T11:32:52.326345Z",
     "start_time": "2021-02-03T11:32:52.319364Z"
    }
   },
   "outputs": [],
   "source": [
    "(tips['tip']).median().round(3)"
   ]
  },
  {
   "cell_type": "code",
   "execution_count": null,
   "metadata": {
    "ExecuteTime": {
     "end_time": "2021-02-03T11:34:05.261753Z",
     "start_time": "2021-02-03T11:34:05.120092Z"
    }
   },
   "outputs": [],
   "source": [
    "sns.set(style=\"whitegrid\")\n",
    "ax = sns.boxplot(x = tips['tip'], color='lightblue', fliersize=5, orient='v', linewidth=1, width=0.3)"
   ]
  },
  {
   "cell_type": "code",
   "execution_count": null,
   "metadata": {
    "ExecuteTime": {
     "end_time": "2021-02-03T11:34:43.003031Z",
     "start_time": "2021-02-03T11:34:42.855459Z"
    }
   },
   "outputs": [],
   "source": [
    "ax = sns.boxplot(y=\"tip\", data=tips,  color='lightblue', fliersize=5,  orient='v', linewidth=1 , width=0.3)\n",
    "ax = sns.stripplot(y=tips[\"tip\"], orient='v', color='darkblue', alpha= 0.5)"
   ]
  },
  {
   "cell_type": "markdown",
   "metadata": {
    "ExecuteTime": {
     "end_time": "2021-02-03T11:36:21.844979Z",
     "start_time": "2021-02-03T11:36:21.838998Z"
    }
   },
   "source": [
    "<span style=color:blue><font size=4><b><u>Una Variable</u></b>: 1 Numérica = 'tip_pct'</font></span>"
   ]
  },
  {
   "cell_type": "code",
   "execution_count": null,
   "metadata": {
    "ExecuteTime": {
     "end_time": "2021-02-03T11:37:07.635732Z",
     "start_time": "2021-02-03T11:37:07.628753Z"
    }
   },
   "outputs": [],
   "source": [
    "tips.dtypes"
   ]
  },
  {
   "cell_type": "code",
   "execution_count": null,
   "metadata": {
    "ExecuteTime": {
     "end_time": "2021-02-03T13:31:23.246526Z",
     "start_time": "2021-02-03T13:31:23.029107Z"
    }
   },
   "outputs": [],
   "source": [
    "sns.boxplot(y=\"tip_pct\", data=tips[tips.tip < 10],  color='lightblue', fliersize=5,  orient='v', linewidth=1 , width=0.3);"
   ]
  },
  {
   "cell_type": "markdown",
   "metadata": {},
   "source": [
    "<span style=color:blue><font size=4><b><u>Dos Variables</u></b>: 1 Categórica = 'day', 1 Numérica = 'tip_pct'</font></span>"
   ]
  },
  {
   "cell_type": "code",
   "execution_count": null,
   "metadata": {
    "ExecuteTime": {
     "end_time": "2021-02-03T11:48:08.920490Z",
     "start_time": "2021-02-03T11:48:08.663179Z"
    },
    "scrolled": true
   },
   "outputs": [],
   "source": [
    "## añadimos variable categorica 'day' en x:\n",
    "ax = sns.catplot(x='day', y='tip_pct', kind='box',\n",
    "                 data=tips[tips.tip_pct < 245]);"
   ]
  },
  {
   "cell_type": "code",
   "execution_count": null,
   "metadata": {
    "ExecuteTime": {
     "end_time": "2021-02-03T11:55:30.412466Z",
     "start_time": "2021-02-03T11:55:30.104291Z"
    }
   },
   "outputs": [],
   "source": [
    "## añadimos variable categorica 'day' en x:\n",
    "ax = sns.catplot(x='day', y='tip_pct', kind='box',\n",
    "                 data=tips[tips.tip_pct < 245]);\n",
    "\n",
    "ax = sns.stripplot(x='day', y='tip_pct', data=tips[tips.tip_pct < 245], orient='v', color='darkblue', alpha= 0.4);"
   ]
  },
  {
   "cell_type": "markdown",
   "metadata": {},
   "source": [
    "<span style=color:blue><font size=4><b><u>Tres Variables</u></b> : 2 Categóricas = ('day', 'time'), 1 Numérica = 'tip_pct'</font></span>"
   ]
  },
  {
   "cell_type": "code",
   "execution_count": null,
   "metadata": {
    "ExecuteTime": {
     "end_time": "2021-02-03T11:57:08.291854Z",
     "start_time": "2021-02-03T11:57:07.974702Z"
    }
   },
   "outputs": [],
   "source": [
    "sns.boxplot(x='day', y='tip_pct', hue='time', \n",
    "               data=tips[tips.tip_pct < 245]);"
   ]
  },
  {
   "cell_type": "code",
   "execution_count": null,
   "metadata": {
    "ExecuteTime": {
     "end_time": "2021-02-03T13:20:04.417518Z",
     "start_time": "2021-02-03T13:20:03.625602Z"
    },
    "scrolled": true
   },
   "outputs": [],
   "source": [
    "sns.boxplot(x='day', y='tip_pct', hue = 'time',\n",
    "               data=tips[tips.tip_pct < 245]);\n",
    "ax = sns.stripplot(x='day', y='tip_pct', hue='time', data=tips[tips.tip_pct < 245], orient='v', color='darkblue', alpha= 0.4);"
   ]
  },
  {
   "cell_type": "markdown",
   "metadata": {},
   "source": [
    "## <span style=color:blue>Facet Grids y Categorical DataFrame</span>"
   ]
  },
  {
   "cell_type": "markdown",
   "metadata": {},
   "source": [
    "Nos permite profundizar todavía más en el analysis, añadiendo una variable categórica adicional. \n",
    "\n",
    "Usando el método <span style=color:darkred><b>factorplot( )</b></span> de <span style=color:darkred>\"Facet Grid\"</span> :"
   ]
  },
  {
   "cell_type": "markdown",
   "metadata": {
    "ExecuteTime": {
     "end_time": "2021-02-03T13:24:29.112841Z",
     "start_time": "2021-02-03T13:24:29.106102Z"
    }
   },
   "source": [
    "<span style=color:blue><font size=4><b><u>Cuatro Variables</u></b> : 3 Categoricas = ('day', 'time', 'smoker'), 1 Numérica = 'tip_pct'</font></span>"
   ]
  },
  {
   "cell_type": "code",
   "execution_count": null,
   "metadata": {
    "ExecuteTime": {
     "end_time": "2021-02-03T13:25:50.898847Z",
     "start_time": "2021-02-03T13:25:49.608813Z"
    }
   },
   "outputs": [],
   "source": [
    "sns.catplot(x='day', y='tip_pct', hue='time', col='smoker',\n",
    "               kind='box', data=tips[tips.tip_pct < 245]);"
   ]
  },
  {
   "cell_type": "code",
   "execution_count": null,
   "metadata": {
    "ExecuteTime": {
     "end_time": "2021-02-03T13:30:27.750908Z",
     "start_time": "2021-02-03T13:30:26.415011Z"
    }
   },
   "outputs": [],
   "source": [
    "sns.catplot(x='day', y='tip_pct', hue='time', col='smoker',\n",
    "               kind='box', data=tips[tips.tip_pct < 245]);"
   ]
  },
  {
   "cell_type": "code",
   "execution_count": null,
   "metadata": {},
   "outputs": [],
   "source": []
  }
 ],
 "metadata": {
  "kernelspec": {
   "display_name": "Python 3",
   "language": "python",
   "name": "python3"
  },
  "language_info": {
   "codemirror_mode": {
    "name": "ipython",
    "version": 3
   },
   "file_extension": ".py",
   "mimetype": "text/x-python",
   "name": "python",
   "nbconvert_exporter": "python",
   "pygments_lexer": "ipython3",
   "version": "3.7.0"
  },
  "toc": {
   "base_numbering": 1,
   "nav_menu": {},
   "number_sections": true,
   "sideBar": true,
   "skip_h1_title": false,
   "title_cell": "Table of Contents",
   "title_sidebar": "Contents",
   "toc_cell": false,
   "toc_position": {
    "height": "calc(100% - 180px)",
    "left": "10px",
    "top": "150px",
    "width": "417.458px"
   },
   "toc_section_display": true,
   "toc_window_display": false
  },
  "varInspector": {
   "cols": {
    "lenName": 16,
    "lenType": 16,
    "lenVar": 40
   },
   "kernels_config": {
    "python": {
     "delete_cmd_postfix": "",
     "delete_cmd_prefix": "del ",
     "library": "var_list.py",
     "varRefreshCmd": "print(var_dic_list())"
    },
    "r": {
     "delete_cmd_postfix": ") ",
     "delete_cmd_prefix": "rm(",
     "library": "var_list.r",
     "varRefreshCmd": "cat(var_dic_list()) "
    }
   },
   "types_to_exclude": [
    "module",
    "function",
    "builtin_function_or_method",
    "instance",
    "_Feature"
   ],
   "window_display": false
  }
 },
 "nbformat": 4,
 "nbformat_minor": 2
}
